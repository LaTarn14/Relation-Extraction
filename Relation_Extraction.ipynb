{
  "cells": [
    {
      "cell_type": "markdown",
      "metadata": {
        "id": "view-in-github",
        "colab_type": "text"
      },
      "source": [
        "<a href=\"https://colab.research.google.com/github/LaTarn14/Relation-Extraction/blob/main/Relation_Extraction.ipynb\" target=\"_parent\"><img src=\"https://colab.research.google.com/assets/colab-badge.svg\" alt=\"Open In Colab\"/></a>"
      ]
    },
    {
      "cell_type": "markdown",
      "metadata": {
        "id": "04_UNuegaRTV"
      },
      "source": [
        "# **Install thai-nner**"
      ]
    },
    {
      "cell_type": "code",
      "execution_count": null,
      "metadata": {
        "colab": {
          "base_uri": "https://localhost:8080/"
        },
        "id": "NCYZpoysKkIj",
        "outputId": "47c2a32f-c67d-4284-d796-b1132780ac8c"
      },
      "outputs": [
        {
          "output_type": "stream",
          "name": "stdout",
          "text": [
            "Looking in indexes: https://pypi.org/simple, https://us-python.pkg.dev/colab-wheels/public/simple/\n",
            "Requirement already satisfied: thai-nner==0.3 in /usr/local/lib/python3.7/dist-packages (0.3)\n",
            "Requirement already satisfied: torch>=1.1 in /usr/local/lib/python3.7/dist-packages (from thai-nner==0.3) (1.12.1+cu113)\n",
            "Requirement already satisfied: tensorboard>=1.14 in /usr/local/lib/python3.7/dist-packages (from thai-nner==0.3) (2.8.0)\n",
            "Requirement already satisfied: sentencepiece in /usr/local/lib/python3.7/dist-packages (from thai-nner==0.3) (0.1.97)\n",
            "Requirement already satisfied: transformers in /usr/local/lib/python3.7/dist-packages (from thai-nner==0.3) (4.22.2)\n",
            "Requirement already satisfied: pythainlp in /usr/local/lib/python3.7/dist-packages (from thai-nner==0.3) (3.1.0)\n",
            "Requirement already satisfied: tqdm in /usr/local/lib/python3.7/dist-packages (from thai-nner==0.3) (4.64.1)\n",
            "Requirement already satisfied: numpy in /usr/local/lib/python3.7/dist-packages (from thai-nner==0.3) (1.21.6)\n",
            "Requirement already satisfied: torchvision in /usr/local/lib/python3.7/dist-packages (from thai-nner==0.3) (0.13.1+cu113)\n",
            "Requirement already satisfied: tensorboard-plugin-wit>=1.6.0 in /usr/local/lib/python3.7/dist-packages (from tensorboard>=1.14->thai-nner==0.3) (1.8.1)\n",
            "Requirement already satisfied: google-auth<3,>=1.6.3 in /usr/local/lib/python3.7/dist-packages (from tensorboard>=1.14->thai-nner==0.3) (1.35.0)\n",
            "Requirement already satisfied: grpcio>=1.24.3 in /usr/local/lib/python3.7/dist-packages (from tensorboard>=1.14->thai-nner==0.3) (1.48.1)\n",
            "Requirement already satisfied: tensorboard-data-server<0.7.0,>=0.6.0 in /usr/local/lib/python3.7/dist-packages (from tensorboard>=1.14->thai-nner==0.3) (0.6.1)\n",
            "Requirement already satisfied: setuptools>=41.0.0 in /usr/local/lib/python3.7/dist-packages (from tensorboard>=1.14->thai-nner==0.3) (57.4.0)\n",
            "Requirement already satisfied: markdown>=2.6.8 in /usr/local/lib/python3.7/dist-packages (from tensorboard>=1.14->thai-nner==0.3) (3.4.1)\n",
            "Requirement already satisfied: google-auth-oauthlib<0.5,>=0.4.1 in /usr/local/lib/python3.7/dist-packages (from tensorboard>=1.14->thai-nner==0.3) (0.4.6)\n",
            "Requirement already satisfied: wheel>=0.26 in /usr/local/lib/python3.7/dist-packages (from tensorboard>=1.14->thai-nner==0.3) (0.37.1)\n",
            "Requirement already satisfied: requests<3,>=2.21.0 in /usr/local/lib/python3.7/dist-packages (from tensorboard>=1.14->thai-nner==0.3) (2.23.0)\n",
            "Requirement already satisfied: absl-py>=0.4 in /usr/local/lib/python3.7/dist-packages (from tensorboard>=1.14->thai-nner==0.3) (1.2.0)\n",
            "Requirement already satisfied: werkzeug>=0.11.15 in /usr/local/lib/python3.7/dist-packages (from tensorboard>=1.14->thai-nner==0.3) (1.0.1)\n",
            "Requirement already satisfied: protobuf>=3.6.0 in /usr/local/lib/python3.7/dist-packages (from tensorboard>=1.14->thai-nner==0.3) (3.17.3)\n",
            "Requirement already satisfied: cachetools<5.0,>=2.0.0 in /usr/local/lib/python3.7/dist-packages (from google-auth<3,>=1.6.3->tensorboard>=1.14->thai-nner==0.3) (4.2.4)\n",
            "Requirement already satisfied: rsa<5,>=3.1.4 in /usr/local/lib/python3.7/dist-packages (from google-auth<3,>=1.6.3->tensorboard>=1.14->thai-nner==0.3) (4.9)\n",
            "Requirement already satisfied: six>=1.9.0 in /usr/local/lib/python3.7/dist-packages (from google-auth<3,>=1.6.3->tensorboard>=1.14->thai-nner==0.3) (1.15.0)\n",
            "Requirement already satisfied: pyasn1-modules>=0.2.1 in /usr/local/lib/python3.7/dist-packages (from google-auth<3,>=1.6.3->tensorboard>=1.14->thai-nner==0.3) (0.2.8)\n",
            "Requirement already satisfied: requests-oauthlib>=0.7.0 in /usr/local/lib/python3.7/dist-packages (from google-auth-oauthlib<0.5,>=0.4.1->tensorboard>=1.14->thai-nner==0.3) (1.3.1)\n",
            "Requirement already satisfied: importlib-metadata>=4.4 in /usr/local/lib/python3.7/dist-packages (from markdown>=2.6.8->tensorboard>=1.14->thai-nner==0.3) (4.12.0)\n",
            "Requirement already satisfied: zipp>=0.5 in /usr/local/lib/python3.7/dist-packages (from importlib-metadata>=4.4->markdown>=2.6.8->tensorboard>=1.14->thai-nner==0.3) (3.8.1)\n",
            "Requirement already satisfied: typing-extensions>=3.6.4 in /usr/local/lib/python3.7/dist-packages (from importlib-metadata>=4.4->markdown>=2.6.8->tensorboard>=1.14->thai-nner==0.3) (4.1.1)\n",
            "Requirement already satisfied: pyasn1<0.5.0,>=0.4.6 in /usr/local/lib/python3.7/dist-packages (from pyasn1-modules>=0.2.1->google-auth<3,>=1.6.3->tensorboard>=1.14->thai-nner==0.3) (0.4.8)\n",
            "Requirement already satisfied: urllib3!=1.25.0,!=1.25.1,<1.26,>=1.21.1 in /usr/local/lib/python3.7/dist-packages (from requests<3,>=2.21.0->tensorboard>=1.14->thai-nner==0.3) (1.24.3)\n",
            "Requirement already satisfied: chardet<4,>=3.0.2 in /usr/local/lib/python3.7/dist-packages (from requests<3,>=2.21.0->tensorboard>=1.14->thai-nner==0.3) (3.0.4)\n",
            "Requirement already satisfied: idna<3,>=2.5 in /usr/local/lib/python3.7/dist-packages (from requests<3,>=2.21.0->tensorboard>=1.14->thai-nner==0.3) (2.10)\n",
            "Requirement already satisfied: certifi>=2017.4.17 in /usr/local/lib/python3.7/dist-packages (from requests<3,>=2.21.0->tensorboard>=1.14->thai-nner==0.3) (2022.6.15)\n",
            "Requirement already satisfied: oauthlib>=3.0.0 in /usr/local/lib/python3.7/dist-packages (from requests-oauthlib>=0.7.0->google-auth-oauthlib<0.5,>=0.4.1->tensorboard>=1.14->thai-nner==0.3) (3.2.0)\n",
            "Requirement already satisfied: pillow!=8.3.*,>=5.3.0 in /usr/local/lib/python3.7/dist-packages (from torchvision->thai-nner==0.3) (7.1.2)\n",
            "Requirement already satisfied: pyyaml>=5.1 in /usr/local/lib/python3.7/dist-packages (from transformers->thai-nner==0.3) (6.0)\n",
            "Requirement already satisfied: regex!=2019.12.17 in /usr/local/lib/python3.7/dist-packages (from transformers->thai-nner==0.3) (2022.6.2)\n",
            "Requirement already satisfied: packaging>=20.0 in /usr/local/lib/python3.7/dist-packages (from transformers->thai-nner==0.3) (21.3)\n",
            "Requirement already satisfied: tokenizers!=0.11.3,<0.13,>=0.11.1 in /usr/local/lib/python3.7/dist-packages (from transformers->thai-nner==0.3) (0.12.1)\n",
            "Requirement already satisfied: filelock in /usr/local/lib/python3.7/dist-packages (from transformers->thai-nner==0.3) (3.8.0)\n",
            "Requirement already satisfied: huggingface-hub<1.0,>=0.9.0 in /usr/local/lib/python3.7/dist-packages (from transformers->thai-nner==0.3) (0.10.0)\n",
            "Requirement already satisfied: pyparsing!=3.0.5,>=2.0.2 in /usr/local/lib/python3.7/dist-packages (from packaging>=20.0->transformers->thai-nner==0.3) (3.0.9)\n"
          ]
        }
      ],
      "source": [
        "import re\n",
        "!pip install thai-nner==0.3"
      ]
    },
    {
      "cell_type": "markdown",
      "metadata": {
        "id": "_KeB1c0uaUof"
      },
      "source": [
        "**convert model**"
      ]
    },
    {
      "cell_type": "code",
      "execution_count": null,
      "metadata": {
        "colab": {
          "base_uri": "https://localhost:8080/"
        },
        "id": "l1rBIugxRTPC",
        "outputId": "84d54ae0-ac34-4780-b641-3d5ac0b5928a"
      },
      "outputs": [
        {
          "output_type": "stream",
          "name": "stdout",
          "text": [
            "Cloning into 'Thai-NNER'...\n",
            "remote: Enumerating objects: 254, done.\u001b[K\n",
            "remote: Counting objects:   6% (1/15)\u001b[K\rremote: Counting objects:  13% (2/15)\u001b[K\rremote: Counting objects:  20% (3/15)\u001b[K\rremote: Counting objects:  26% (4/15)\u001b[K\rremote: Counting objects:  33% (5/15)\u001b[K\rremote: Counting objects:  40% (6/15)\u001b[K\rremote: Counting objects:  46% (7/15)\u001b[K\rremote: Counting objects:  53% (8/15)\u001b[K\rremote: Counting objects:  60% (9/15)\u001b[K\rremote: Counting objects:  66% (10/15)\u001b[K\rremote: Counting objects:  73% (11/15)\u001b[K\rremote: Counting objects:  80% (12/15)\u001b[K\rremote: Counting objects:  86% (13/15)\u001b[K\rremote: Counting objects:  93% (14/15)\u001b[K\rremote: Counting objects: 100% (15/15)\u001b[K\rremote: Counting objects: 100% (15/15), done.\u001b[K\n",
            "remote: Compressing objects: 100% (13/13), done.\u001b[K\n",
            "remote: Total 254 (delta 6), reused 5 (delta 2), pack-reused 239\u001b[K\n",
            "Receiving objects: 100% (254/254), 2.73 MiB | 15.62 MiB/s, done.\n",
            "Resolving deltas: 100% (124/124), done.\n"
          ]
        }
      ],
      "source": [
        "!git clone https://github.com/vistec-AI/Thai-NNER.git"
      ]
    },
    {
      "cell_type": "code",
      "execution_count": null,
      "metadata": {
        "colab": {
          "base_uri": "https://localhost:8080/"
        },
        "id": "Zg8RPutfRWm_",
        "outputId": "64e7bb1b-ef83-47dd-e7d8-70692d19d571"
      },
      "outputs": [
        {
          "output_type": "stream",
          "name": "stdout",
          "text": [
            "/content/Thai-NNER\n"
          ]
        }
      ],
      "source": [
        "cd Thai-NNER"
      ]
    },
    {
      "cell_type": "code",
      "source": [
        "# !gdown 1OAnDe5ZxbS-09S5zT5jFucwdknk1iAu1"
      ],
      "metadata": {
        "colab": {
          "base_uri": "https://localhost:8080/"
        },
        "id": "QG4MUAY_OhME",
        "outputId": "848d646c-0f07-48d6-94f5-e07a5399d7d6"
      },
      "execution_count": null,
      "outputs": [
        {
          "output_type": "stream",
          "name": "stdout",
          "text": [
            "Downloading...\n",
            "From: https://drive.google.com/uc?id=1OAnDe5ZxbS-09S5zT5jFucwdknk1iAu1\n",
            "To: /content/Thai-NNER/checkpoint.pth\n",
            "100% 1.29G/1.29G [00:05<00:00, 225MB/s]\n"
          ]
        }
      ]
    },
    {
      "cell_type": "code",
      "execution_count": null,
      "metadata": {
        "id": "s9IbdLGGHlem"
      },
      "outputs": [],
      "source": [
        "!gdown 1tHkx4ZsQNlGqPE8c7TCSHnpKPNaGtHEK"
      ]
    },
    {
      "cell_type": "code",
      "execution_count": null,
      "metadata": {
        "id": "KEIKWoeRQWqj"
      },
      "outputs": [],
      "source": [
        "!python convert_model2use.py -i checkpoint.pth -o model.pth"
      ]
    },
    {
      "cell_type": "code",
      "execution_count": null,
      "metadata": {
        "id": "Q3__EazlRdNH"
      },
      "outputs": [],
      "source": [
        "!cp model.pth ../model.pth"
      ]
    },
    {
      "cell_type": "code",
      "execution_count": null,
      "metadata": {
        "colab": {
          "base_uri": "https://localhost:8080/"
        },
        "id": "C3Nfl5iZR9vq",
        "outputId": "3aa8fff1-9fd3-4b11-e252-7683eca8c5b5"
      },
      "outputs": [
        {
          "output_type": "stream",
          "name": "stdout",
          "text": [
            "/content\n"
          ]
        }
      ],
      "source": [
        "cd .."
      ]
    },
    {
      "cell_type": "code",
      "execution_count": null,
      "metadata": {
        "id": "DwqjjKcBR0MC"
      },
      "outputs": [],
      "source": [
        "!rm -rf Thai-NNER"
      ]
    },
    {
      "cell_type": "markdown",
      "metadata": {
        "id": "5ulIJ-P-aZ2_"
      },
      "source": [
        "**Usage**"
      ]
    },
    {
      "cell_type": "code",
      "execution_count": null,
      "metadata": {
        "id": "NPh4FoiKa6_d"
      },
      "outputs": [],
      "source": [
        "import os\n",
        "os.environ['CUDA_VISIBLE_DEVICES'] = \"0\" # for non-gpu: os.environ['CUDA_VISIBLE_DEVICES'] = \"\""
      ]
    },
    {
      "cell_type": "code",
      "execution_count": null,
      "metadata": {
        "id": "pWjjK3dUKpu1"
      },
      "outputs": [],
      "source": [
        "from thai_nner import NNER"
      ]
    },
    {
      "cell_type": "code",
      "execution_count": null,
      "metadata": {
        "colab": {
          "base_uri": "https://localhost:8080/"
        },
        "id": "thri_UEFKsHJ",
        "outputId": "fe2ec40b-0b00-45e5-d5f7-a17aa5f1f4b4"
      },
      "outputs": [
        {
          "output_type": "stream",
          "name": "stderr",
          "text": [
            "Some weights of the model checkpoint at airesearch/wangchanberta-base-att-spm-uncased were not used when initializing CamembertModel: ['lm_head.decoder.bias', 'lm_head.layer_norm.weight', 'lm_head.bias', 'lm_head.dense.bias', 'lm_head.layer_norm.bias', 'lm_head.dense.weight', 'lm_head.decoder.weight']\n",
            "- This IS expected if you are initializing CamembertModel from the checkpoint of a model trained on another task or with another architecture (e.g. initializing a BertForSequenceClassification model from a BertForPreTraining model).\n",
            "- This IS NOT expected if you are initializing CamembertModel from the checkpoint of a model that you expect to be exactly identical (initializing a BertForSequenceClassification model from a BertForSequenceClassification model).\n"
          ]
        }
      ],
      "source": [
        "nner = NNER(path_model=\"model.pth\",max_sent_length=512)"
      ]
    },
    {
      "cell_type": "markdown",
      "metadata": {
        "id": "TTnu4m79Ir1t"
      },
      "source": [
        "# Experiment"
      ]
    },
    {
      "cell_type": "code",
      "execution_count": null,
      "metadata": {
        "id": "SxvCDPIYaOjc"
      },
      "outputs": [],
      "source": [
        "def get_ner(sent):\n",
        "    try:\n",
        "      return nner.get_tag(sent, show_result = False)\n",
        "    except:\n",
        "      try:\n",
        "        return nner.get_tag(sent[:1250], show_result = False)\n",
        "      except:\n",
        "        try: \n",
        "          return nner.get_tag(sent[:1200], show_result = False)\n",
        "        except:\n",
        "          try:\n",
        "            return nner.get_tag(sent[:1150], show_result = False)\n",
        "          except:\n",
        "            try:\n",
        "              return nner.get_tag(sent[:1100], show_result = False)\n",
        "            except:\n",
        "              try:\n",
        "                return nner.get_tag(sent[:1050], show_result = False)\n",
        "              except:\n",
        "                try:\n",
        "                  return nner.get_tag(sent[:1000], show_result = False)\n",
        "                except:\n",
        "                  return None"
      ]
    },
    {
      "cell_type": "markdown",
      "metadata": {
        "id": "MPAQGb0lMN0i"
      },
      "source": [
        "function for extract **entities (tuples)** from **pattern (regex)**"
      ]
    },
    {
      "cell_type": "code",
      "execution_count": null,
      "metadata": {
        "id": "GWUXkG0ZLYVv"
      },
      "outputs": [],
      "source": [
        "def find_tuples(ner, keyword, n1, n2):\n",
        "  pat_index = 0\n",
        "  if keyword in ner[0]:\n",
        "    pat_index = ner[0].index(keyword)\n",
        "  nearest_left = -1000000\n",
        "  nearest_left_entity = ''\n",
        "  nearest_right_entity = ''\n",
        "  if len(ner) != 1 and pat_index != 0:\n",
        "   for i in range(len(ner[1])):\n",
        "    if type(n1) == list:\n",
        "     for d in n1:\n",
        "      if ner[1][i]['entity_type'] == d:\n",
        "        different_left = ner[1][i]['span'][0] - pat_index\n",
        "        if 0 > different_left and different_left > nearest_left:\n",
        "          nearest_left = different_left\n",
        "          nearest_left_entity = ''.join(ner[1][i]['text'])\n",
        "    else:\n",
        "     if ner[1][i]['entity_type'] == n1:\n",
        "       different_left = ner[1][i]['span'][0] - pat_index\n",
        "       if 0 > different_left and different_left > nearest_left:\n",
        "         nearest_left = different_left\n",
        "         nearest_left_entity = ''.join(ner[1][i]['text'])\n",
        "    if type(n2) == list:\n",
        "     for f in n2:\n",
        "      if re.search(f,ner[1][i]['entity_type']) and nearest_right_entity == '':\n",
        "        different_right = ner[1][i]['span'][0] - pat_index\n",
        "        if different_right > 0:\n",
        "          nearest_right_entity = ''.join(ner[1][i]['text'])\n",
        "    else:\n",
        "     if re.search(n2,ner[1][i]['entity_type']) and nearest_right_entity == '':\n",
        "      different_right = ner[1][i]['span'][0] - pat_index\n",
        "      if different_right > 0:\n",
        "        nearest_right_entity = ''.join(ner[1][i]['text'])\n",
        "  if nearest_left_entity != '' and nearest_right_entity != '':\n",
        "    return (nearest_left_entity,nearest_right_entity)\n",
        "  else:\n",
        "    return None"
      ]
    },
    {
      "cell_type": "markdown",
      "metadata": {
        "id": "XbpdfIxzMWqR"
      },
      "source": [
        "function for extract **pattern** from **entities (seed tuples)**"
      ]
    },
    {
      "cell_type": "code",
      "execution_count": null,
      "metadata": {
        "id": "UTWojfDqMiZ1"
      },
      "outputs": [],
      "source": [
        "def find_pattern(ner, tuples, n1, n2):\n",
        "  start = 0\n",
        "  stop = 0\n",
        "  for i in range(len(ner[1])):\n",
        "    if type(n1) == list:\n",
        "     if re.search(tuples[0].replace(' ',''),''.join(ner[1][i]['text'])) and start == 0 and ner[1][i]['entity_type'] in n1:\n",
        "      start = ner[1][i]['span'][1]\n",
        "    else:\n",
        "     if re.search(tuples[0].replace(' ',''),''.join(ner[1][i]['text'])) and start == 0 and ner[1][i]['entity_type'] == n1:\n",
        "      start = ner[1][i]['span'][1]\n",
        "\n",
        "    if type(n2) == list:\n",
        "     if re.search(tuples[1].replace(' ',''),''.join(ner[1][i]['text'])) and stop == 0 and start != 0 and ner[1][i]['entity_type'] in n2:\n",
        "      stop = ner[1][i]['span'][0]\n",
        "    else:\n",
        "     if re.search(tuples[1].replace(' ',''),''.join(ner[1][i]['text'])) and stop == 0 and start != 0 and ner[1][i]['entity_type'] == n2:\n",
        "      stop = ner[1][i]['span'][0]\n",
        "      \n",
        "  if stop - start > 0 and stop != 0 and start != 0:\n",
        "    return ''.join(ner[0][start:stop])\n",
        "  else:\n",
        "    return None"
      ]
    },
    {
      "cell_type": "markdown",
      "metadata": {
        "id": "flRv6UO6NbQp"
      },
      "source": [
        "ex"
      ]
    },
    {
      "cell_type": "code",
      "execution_count": null,
      "metadata": {
        "colab": {
          "base_uri": "https://localhost:8080/"
        },
        "id": "Hi2NLd-kNZ5r",
        "outputId": "d2fcc8d3-8dd7-4dfb-f0f5-1199fcfac361"
      },
      "outputs": [
        {
          "output_type": "execute_result",
          "data": {
            "text/plain": [
              "(['<s>',\n",
              "  '',\n",
              "  'เนวิน',\n",
              "  '',\n",
              "  '',\n",
              "  'ชิด',\n",
              "  'ชอบ',\n",
              "  '',\n",
              "  '(',\n",
              "  ')',\n",
              "  '',\n",
              "  'ปัจจุบัน',\n",
              "  '',\n",
              "  'เป็น',\n",
              "  'ประธาน',\n",
              "  '',\n",
              "  'บริหาร',\n",
              "  '',\n",
              "  '',\n",
              "  'สโมสร',\n",
              "  '',\n",
              "  'ฟุตบอล',\n",
              "  '',\n",
              "  'บุรีรัมย์',\n",
              "  '',\n",
              "  '',\n",
              "  'ยูไนเต็ด',\n",
              "  '',\n",
              "  'อดีต',\n",
              "  'เคย',\n",
              "  '',\n",
              "  'เป็น',\n",
              "  '',\n",
              "  'สมาชิกสภาผ',\n",
              "  'ู้แทนราษฎร',\n",
              "  'และ',\n",
              "  '',\n",
              "  'รัฐมนตรี',\n",
              "  '',\n",
              "  'หลาย',\n",
              "  '',\n",
              "  'สมัย',\n",
              "  '',\n",
              "  'และ',\n",
              "  'เคย',\n",
              "  '',\n",
              "  'เป็นหนึ่ง',\n",
              "  '',\n",
              "  'ใน',\n",
              "  '',\n",
              "  'บุคคล',\n",
              "  '',\n",
              "  'ใกล้ชิด',\n",
              "  '',\n",
              "  'คนสําคัญ',\n",
              "  '',\n",
              "  'ของ',\n",
              "  'อดีต',\n",
              "  'นาย',\n",
              "  'กรัฐมนตรี',\n",
              "  '',\n",
              "  '',\n",
              "  'ทักษิณ',\n",
              "  '',\n",
              "  '',\n",
              "  'ชินวัตร',\n",
              "  '',\n",
              "  'และ',\n",
              "  '',\n",
              "  'เป็น',\n",
              "  '',\n",
              "  'บุคคล',\n",
              "  '',\n",
              "  'สําคัญ',\n",
              "  '',\n",
              "  'ที่',\n",
              "  'ทําให้',\n",
              "  'นาย',\n",
              "  '',\n",
              "  '',\n",
              "  'อภิสิทธิ์',\n",
              "  '',\n",
              "  '',\n",
              "  'เวช',\n",
              "  '',\n",
              "  'ช',\n",
              "  'า',\n",
              "  '',\n",
              "  'ชีวะ',\n",
              "  '',\n",
              "  '',\n",
              "  'ได้',\n",
              "  '',\n",
              "  'ดํารง',\n",
              "  'ตําแหน่ง',\n",
              "  'นาย',\n",
              "  'กรัฐมนตรี',\n",
              "  '',\n",
              "  '',\n",
              "  'ใน',\n",
              "  '',\n",
              "  'ปี',\n",
              "  '',\n",
              "  '',\n",
              "  'พ',\n",
              "  '.',\n",
              "  'ศ',\n",
              "  '.',\n",
              "  '',\n",
              "  '',\n",
              "  '2551',\n",
              "  '</s>'],\n",
              " [{'text': ['', 'เนวิน'], 'span': [1, 3], 'entity_type': 'firstname'},\n",
              "  {'text': ['', 'เนวิน', '', '', 'ชิด', 'ชอบ'],\n",
              "   'span': [1, 7],\n",
              "   'entity_type': 'person'},\n",
              "  {'text': ['', 'ชิด', 'ชอบ'], 'span': [4, 7], 'entity_type': 'last'},\n",
              "  {'text': ['ปัจจุบัน'], 'span': [11, 12], 'entity_type': 'rel'},\n",
              "  {'text': ['ประธาน',\n",
              "    '',\n",
              "    'บริหาร',\n",
              "    '',\n",
              "    '',\n",
              "    'สโมสร',\n",
              "    '',\n",
              "    'ฟุตบอล',\n",
              "    '',\n",
              "    'บุรีรัมย์',\n",
              "    '',\n",
              "    '',\n",
              "    'ยูไนเต็ด'],\n",
              "   'span': [14, 27],\n",
              "   'entity_type': 'role'},\n",
              "  {'text': ['', 'ทักษิณ'], 'span': [61, 63], 'entity_type': 'firstname'},\n",
              "  {'text': ['', 'ทักษิณ', '', '', 'ชินวัตร'],\n",
              "   'span': [61, 66],\n",
              "   'entity_type': 'person'},\n",
              "  {'text': ['', 'ชินวัตร'], 'span': [64, 66], 'entity_type': 'last'},\n",
              "  {'text': ['นาย'], 'span': [77, 78], 'entity_type': 'title'},\n",
              "  {'text': ['นาย',\n",
              "    '',\n",
              "    '',\n",
              "    'อภิสิทธิ์',\n",
              "    '',\n",
              "    '',\n",
              "    'เวช',\n",
              "    '',\n",
              "    'ช',\n",
              "    'า',\n",
              "    '',\n",
              "    'ชีวะ'],\n",
              "   'span': [77, 89],\n",
              "   'entity_type': 'person'},\n",
              "  {'text': ['', 'อภิสิทธิ์'], 'span': [79, 81], 'entity_type': 'firstname'},\n",
              "  {'text': ['', 'เวช', '', 'ช', 'า', '', 'ชีวะ'],\n",
              "   'span': [82, 89],\n",
              "   'entity_type': 'last'},\n",
              "  {'text': ['นาย', 'กรัฐมนตรี'], 'span': [95, 97], 'entity_type': 'role'},\n",
              "  {'text': ['', 'ปี', '', '', 'พ', '.', 'ศ', '.', '', '', '2551'],\n",
              "   'span': [100, 111],\n",
              "   'entity_type': 'year'},\n",
              "  {'text': ['', '2551'], 'span': [109, 111], 'entity_type': 'cardinal'}])"
            ]
          },
          "metadata": {},
          "execution_count": 27
        }
      ],
      "source": [
        "#EXPERIMENT tag NER\n",
        "ex =\"เนวิน ชิดชอบ  () ปัจจุบันเป็นประธานบริหาร สโมสรฟุตบอลบุรีรัมย์ ยูไนเต็ด  อดีตเคยเป็นสมาชิกสภาผู้แทนราษฎรและรัฐมนตรีหลายสมัย และเคยเป็นหนึ่งในบุคคลใกล้ชิดคนสำคัญของอดีตนายกรัฐมนตรี  ทักษิณ ชินวัตร  และเป็นบุคคลสำคัญที่ทำให้นาย อภิสิทธิ์ เวชชาชีวะ  ได้ดำรงตำแหน่งนายกรัฐมนตรี ในปี พ.ศ. 2551\"\n",
        "try:\n",
        "  ner = nner.get_tag(ex)\n",
        "except:\n",
        "  try:\n",
        "    ner= nner.get_tag(ex[:1250],show_result = False)\n",
        "  except:\n",
        "      try:\n",
        "        ner= nner.get_tag(ex[:1200])\n",
        "      except:\n",
        "        try:\n",
        "          ner= nner.get_tag(ex[:1150])\n",
        "        except:\n",
        "          try:\n",
        "            ner= nner.get_tag(ex[:1100])\n",
        "          except:\n",
        "            ner= nner.get_tag(ex[:1050])\n",
        "ner"
      ]
    },
    {
      "cell_type": "code",
      "execution_count": null,
      "metadata": {
        "id": "9tAPkPb4NeVi"
      },
      "outputs": [],
      "source": [
        "#ทดลอง\n",
        "find_tuples(ner,'ประธาน',['person','orgcorp'],['org_political','orgcorp'])"
      ]
    },
    {
      "cell_type": "code",
      "execution_count": null,
      "metadata": {
        "id": "5VN6ajnsNfZf"
      },
      "outputs": [],
      "source": [
        "#ทดลอง\n",
        "find_pattern(ner,('เจฟฟรีย์','วอลต์ดิสนีย์'),['person','orgcorp'],['org_political','orgcorp'])"
      ]
    },
    {
      "cell_type": "markdown",
      "metadata": {
        "id": "FFAOaQYHABQE"
      },
      "source": [
        "# **Rule-based Bootstrap**\n"
      ]
    },
    {
      "cell_type": "code",
      "execution_count": null,
      "metadata": {
        "colab": {
          "base_uri": "https://localhost:8080/"
        },
        "id": "qBhtatG1fnoK",
        "outputId": "ac08d257-cb56-4e19-d408-df819e1126ce"
      },
      "outputs": [
        {
          "output_type": "stream",
          "name": "stdout",
          "text": [
            "Downloading...\n",
            "From: https://drive.google.com/uc?id=1aHF_Q-l6wxaDZwzbUkdDXSapMiPRbkaM\n",
            "To: /content/th_wiki.zip\n",
            "100% 138M/138M [00:00<00:00, 234MB/s]\n",
            "Archive:  th_wiki.zip\n",
            "  inflating: th_wiki.txt             \n",
            "  inflating: __MACOSX/._th_wiki.txt  \n"
          ]
        }
      ],
      "source": [
        "!gdown 1aHF_Q-l6wxaDZwzbUkdDXSapMiPRbkaM\n",
        "!unzip th_wiki.zip\n",
        "!rm th_wiki.zip"
      ]
    },
    {
      "cell_type": "markdown",
      "metadata": {
        "id": "tFKx0PlqYUpS"
      },
      "source": [
        "pat_role1 = '[person].*ทำงานเป็น.*[role]'\n",
        "\n",
        "pat_role2 = '[person].*ดำรงตำแหน่งเป็น.*[role]'\n",
        "\n",
        "pat_role3 = '[person].*มีอาชีพเป็น.*[role]'\n",
        "\n",
        "pat_city_of_birth1 = '[person].*(เกิด|กำเนิด|ประสูติ)(ใน|ที่).*[city]'\n",
        "\n",
        "pat_city_of_birth2 = '[person].*เป็นชาวเมือง.*[city]'\n",
        "\n",
        "pat_city_of_birth3 = '[person].*บ้านเกิดอยู่ที่เมือง.*[city]'\n",
        "\n",
        "pat_child_of1 = '[person].*มีบุตรธิดา \\d คน ดังนี้ .*[person]'\n",
        "\n",
        "pat_child_of2 = '[person].*เป็น(บุตร|ลูก)(ชาย|สาว)?ของ.*[person]'\n",
        "\n",
        "pat_child_of3 = '[person].*เป็นทายาทของ.*[person]'"
      ]
    },
    {
      "cell_type": "code",
      "execution_count": null,
      "metadata": {
        "id": "RSjbjS7Ox0NV"
      },
      "outputs": [],
      "source": [
        "pat_role1_set = set()\n",
        "pat_role2_set = set()\n",
        "pat_role3_set = set()\n",
        "pat_work_at1_set = set()\n",
        "pat_work_at2_set = set()\n",
        "pat_work_at3_set = set()\n",
        "pat_child_of1_set = set()\n",
        "pat_child_of2_set = set()\n",
        "pat_child_of3_set = set()"
      ]
    },
    {
      "cell_type": "code",
      "execution_count": null,
      "metadata": {
        "id": "bgemXMBMt38m"
      },
      "outputs": [],
      "source": [
        "#role\n",
        "# pat_role1 = 'ทำงานเป็น'\n",
        "# pat_role2 = 'ดำรงตำแหน่งเป็น'\n",
        "# pat_role3 = 'มีอาชีพเป็น'\n",
        "pat_role1 = 'ปัจจุบันเป็น'\n",
        "pat_role2 = 'เป็น'\n",
        "pat_role3 = 'จึงกลายเป็น'\n",
        "#management\n",
        "pat_work_at1 = 'เป็นเจ้าของ'\n",
        "pat_work_at2 = 'พัฒนาโดย'\n",
        "pat_work_at3 = 'เป็นผู้ร่วมก่อตั้ง'\n",
        "#child of\n",
        "pat_child_of1 = 'เจ้าของ'\n",
        "pat_child_of2 = 'เป็นบุตรชายของ'\n",
        "pat_child_of3 = 'เป็นทายาทของ'"
      ]
    },
    {
      "cell_type": "markdown",
      "metadata": {
        "id": "-NEwn_vvqyEm"
      },
      "source": [
        "# Role"
      ]
    },
    {
      "cell_type": "code",
      "source": [
        "with open('th_wiki.txt') as text:\n",
        " for sent in text:\n",
        "  #  if re.search(pat_role1,sent) and len(pat_role1_set) < 15:\n",
        "  #   ner_list = get_ner(sent)\n",
        "  #   if ner_list is not None:\n",
        "  #    tuples = find_tuples(ner_list,'ปัจจุบัน','person','role')\n",
        "  #    if tuples is not None and tuples not in pat_role1_set and tuples[0] != tuples[1] and tuples[0] != '<unk>' and tuples[1] != '<unk>':\n",
        "  #      pat_role1_set.add(tuples)\n",
        "  #      print('{relation}:{tuples}'.format(relation=pat_role1, tuples=tuples))\n",
        "  #      print(sent)\n",
        "\n",
        "   if re.search(pat_role2,sent) and len(pat_role2_set) < 15:\n",
        "    ner_list = get_ner(sent)\n",
        "    if ner_list is not None:\n",
        "     tuples = find_tuples(ner_list,'เป็น','person','role')\n",
        "     if tuples is not None and tuples not in pat_role2_set and tuples[0] != tuples[1] and tuples[0] != '<unk>' and tuples[1] != '<unk>':\n",
        "       pat_role2_set.add(tuples)\n",
        "       print('{relation}:{tuples}'.format(relation=pat_role2, tuples=tuples))\n",
        "       print(sent)\n",
        "\n",
        "  #  if re.search(pat_role3,sent) and len(pat_role3_set) < 15:\n",
        "  #   ner_list = get_ner(sent)   \n",
        "  #   if ner_list is not None:\n",
        "  #    tuples = find_tuples(ner_list,'กลายเป็น','person','role')\n",
        "  #    if tuples is not None and tuples not in pat_role3_set and tuples[0] != tuples[1] and tuples[0] != '<unk>' and tuples[1] != '<unk>':\n",
        "  #      pat_role3_set.add(tuples)\n",
        "  #      print('{relation}:{tuples}'.format(relation=pat_role3, tuples=tuples))\n",
        "  #      print(sent)"
      ],
      "metadata": {
        "id": "hneUSgcwPRLp"
      },
      "execution_count": null,
      "outputs": []
    },
    {
      "cell_type": "code",
      "execution_count": null,
      "metadata": {
        "colab": {
          "base_uri": "https://localhost:8080/"
        },
        "id": "m2A0IL2SkfWn",
        "outputId": "7b9e48bf-9411-44c9-d5b9-3a7a2e85c930"
      },
      "outputs": [
        {
          "name": "stdout",
          "output_type": "stream",
          "text": [
            "ดำรงตำแหน่งเป็น:('พระเจ้าวิลเฮล์ม', 'จักรพรรดิเยอรมัน')\n",
            "ในปี 1864 ความขัดแย้งระหว่างออสเตรียกับปรัสเซียขึ้นอีกครั้ง และบานปลายเป็นสงครามออสเตรีย-ปรัสเซีย หรือที่เรียกว่า \"สงครามพี่น้อง\" สงครามครั้งนี้จบลงด้วยชัยชนะอย่างงดงามของปรัสเซีย ออสเตรียสูญเสียอิทธิพลเหนือรัฐเยอรมันตอนใต้ทั้งหมดและจำยอมยุบสมาพันธรัฐเยอรมันในวันที่ 23 สิงหาคม 1866 และนำไปสู่การสถาปนา \"สมาพันธรัฐเยอรมันเหนือ\" ที่มีกษัตริย์แห่งปรัสเซียเป็นองค์ประธาน และภายหลังปรัสเซียมีชัยในสงครามฝรั่งเศส-ปรัสเซียในปี 1871 รัฐสภาแห่งสมาพันธรัฐเยอรมันเหนือได้มีมติให้เปลี่ยนชื่อสมาพันธรัฐเป็นจักรวรรดิ และมีมติให้พระเจ้าวิลเฮล์มที่ 1 แห่งปรัสเซีย ดำรงตำแหน่งเป็นจักรพรรดิเยอรมัน ถือเป็นการสถาปนาจักรวรรดิเยอรมันอย่างเป็นทางการ \n",
            "\n",
            "ดำรงตำแหน่งเป็น:('โจไบเดิน', 'ประธานาธิบดีสหรัฐ')\n",
            "โจ ไบเดินจากพรรคเดโมแครต ผู้ชนะการเลือกตั้งประธานาธิบดีปี 2020 ปัจจุบันดำรงตำแหน่งเป็นประธานาธิบดีสหรัฐคนที่ 46 ผู้นำปัจจุบันในวุฒิสภา ได้แก่ รองประธานาธิบดีกมลา แฮร์ริสจากพรรคเดโมแครต ประธานชั่วคราวแพทริก ลีฮี (Patrick Leahy) จากพรรคเดโมแครต หัวหน้าฝ่ายข้างมาก ชัก ชูเมอร์ (Chuck Schumer) และหัวหน้าฝ่ายข้างน้อย มิตช์ แม็กคอนเนล (Mitch McConnell) ผู้นำในสภาผู้แทนราษฎร ได้แก่ ประธานสภาผู้แทนราษฎรแนนซี เพโลซี หัวหน้าฝ่ายข้างมาก สเตนี ฮอยเยอร์ (Steny Hoyer) และหัวหน้าฝ่ายข้างน้อย เควิน แม็กคาธี (Kevin McCarthy)\n",
            "\n",
            "ดำรงตำแหน่งเป็น:('<unk>arrister<unk>uhammad<unk>amiruddin<unk>ircar', 'รักษาการประธานาธิบดี')\n",
            "บังกลาเทศมีเพียงสภาเดียว คือ Jatiya Sangsad หรือสภาแห่งชาติ ประกอบด้วยสมาชิก 300 คน มาจากการเลือกตั้งทั่วไปทุก 5 ปี โดยมี Barrister Muhammad Jamiruddin Sircar เป็นประธานสภาแห่งชาติคนปัจจุบัน (โดยประธานสภาจะดำรงตำแหน่งเป็นรักษาการประธานาธิบดี หากประธานาธิบดีไม่สามารถดำรงตำแหน่งได้)\n",
            "\n",
            "ดำรงตำแหน่งเป็น:('อภิสิทธิ์', 'รัฐมนตรีประจําสํานักนายกรัฐมนตรี')\n",
            "อภิสิทธิ์ เวชชาชีวะ มีผลงานทางการเมืองที่สำคัญ คือการจัดทำพระราชบัญญัติการศึกษาแห่งชาติ พ.ศ. 2542 ซึ่งเป็นพระราชบัญญัติการศึกษาแห่งชาติฉบับแรกของไทย ที่ดำเนินการจัดทำจนสำเร็จในช่วงเวลาที่อภิสิทธิ์ดำรงตำแหน่งเป็นรัฐมนตรีประจำสำนักนายกรัฐมนตรี ที่กำกับดูแลสำนักงานคณะกรรมการการศึกษาแห่งชาติ เพื่อมอบสิทธิแก่เยาวชนไทยในการได้รับการศึกษาขั้นพื้นฐานไม่น้อยกว่าสิบสองปี ที่รัฐจะต้องจัดให้ทั่วถึงและมีคุณภาพโดยไม่เก็บค่าใช้จ่าย ตามบทบัญญัติแห่งรัฐธรรมนูญ พ.ศ. 2540 มาตรา 43 โดยอภิสิทธิ์มีบทบาทดูแลทั้งด้านนโยบาย หลักการและรายละเอียด รวมทั้งผลักดันให้ผ่านคณะรัฐมนตรีและรัฐสภา เป็นประธานกรรมาธิการวิสามัญ พิจารณาร่างพระราชบัญญัติการศึกษา ของสภาผู้แทนราษฎร ตลอดจนได้จัดตั้งคณะกรรมการบริหารสำนักงานปฏิรูปการศึกษา และได้ดูแลจนกระทั่งพระราชกฤษฎีกาจัดตั้งสำนักงานรับรองและประเมินคุณภาพการศึกษาประกาศใช้\n",
            "\n",
            "ดำรงตำแหน่งเป็น:('พลเอกสุรยุทธ์จุลานนท์', 'นายกรัฐมนตรี')\n",
            "เมื่อมีการย้ายเที่ยวบินพาณิชย์ทั้งหมดไปสู่ท่าอากาศยานสุวรรณภูมิ จังหวัดสมุทรปราการ เมื่อวันที่ 28 กันยายน พ.ศ. 2549 จึงเป็นเหตุให้การบริการสำหรับเที่ยวบินเพื่อการพาณิชย์ทั้งหมดในท่าอากาศยานดอนเมืองต้องหยุดตัวลงในวันเดียวกัน แต่อย่างไรก็ตาม ในเดือนกุมภาพันธ์ พ.ศ. 2550 มติของคณะรัฐมนตรีในสมัยพลเอก สุรยุทธ์ จุลานนท์ ดำรงตำแหน่งเป็นนายกรัฐมนตรีในขณะนั้น ก็ได้มีความต้องการที่จะให้มีการเปิดบริการที่ท่าอากาศยานดอนเมืองอีกรอบหนึ่ง เนื่องมาจากพบปัญหาหลายประการของท่าอากาศยานสุวรรณภูมิ และเพื่อการขยายและพัฒนาประสิทธิภาพของดอนเมืองให้มีความคล่องตัว รองรับในระบบการอากาศยาน นอกเหนือจากการบินพาณิชย์แล้ว ทำให้มีการกลับมาเปิดให้บริการอีกรอบหนึ่งและกลับมาใช้ชื่อว่า \"ท่าอากาศยานดอนเมือง\" เหมือนเช่นเดิม ตั้งแต่วันที่ 25 มีนาคม พ.ศ. 2550 เป็นต้นมา โดยมีการบินไทย นกแอร์ วัน-ทู-โก และพีบีแอร์ มาเปิดให้บริการในลำดับแรก\n",
            "\n",
            "ดำรงตำแหน่งเป็น:('บรรหาร', 'นายกรัฐมนตรี')\n",
            "ในการเลือกตั้งสมาชิกสภาผู้แทนราษฎรไทยเป็นการทั่วไป พ.ศ. 2538 บรรหาร ศิลปอาชา ในฐานะหัวหน้าพรรคชาติไทย ซึ่งเป็นพรรคการเมืองที่มีสมาชิกของพรรคได้รับเลือกตั้งมากที่สุด ได้เป็นแกนนำจัดตั้งรัฐบาล ทำให้บรรหาร ได้ดำรงตำแหน่งเป็น นายกรัฐมนตรี คนที่ 21 ของประเทศไทย พร้อมควบตำแหน่ง รัฐมนตรีว่าการกระทรวงมหาดไทย อีกตำแหน่งหนึ่งระหว่างเดือนกรกฎาคม พ.ศ. 2538 ถึง พฤศจิกายน พ.ศ. 2539\n",
            "\n",
            "ดำรงตำแหน่งเป็น:('ฯพณฯพลเอกเปรมติณสูลานนท์', 'นายกรัฐมนตรี')\n",
            "นอกจากด้านดนตรีไทยแล้ว พระองค์ยังประกอบพระราชกรณียกิจมากมายเพื่อการอนุรักษ์และพัฒนาศิลปวัฒนธรรมไทยทั้งในด้าน การช่างไทย นาฏศิลป์ไทย งานพิพิธภัณฑ์ ประวัติศาสตร์และโบราณสถาน ภาษาและวรรณกรรมไทย พระองค์ได้รับการทูลเกล้าฯ ถวายพระสมัญญาว่า “ เอกอัครราชูปถัมภกมรดกวัฒนธรรมไทย ” เมื่อ พ.ศ. 2531 และ “วิศิษฏศิลปิน” เมื่อวันที่ 24 กุมภาพันธ์ พ.ศ. 2546 เพื่อเทิดพระเกียรติที่พระองค์ทรงพระปรีชาสามารถในศิลปะหลายสาขา รวมทั้ง ทรงมีคุณูปการต่อเหล่าศิลปินและศิลปวัฒนธรรมของชาติ นอกจากนี้ คณะรัฐมนตรีซึ่งมีฯพณฯ พลเอกเปรม ติณสูลานนท์ ดำรงตำแหน่งเป็นนายกรัฐมนตรีในขณะนั้น ได้มีมติให้วันที่ 2 เมษายน ซึ่งเป็นวันคล้ายวันพระราชสมภพของพระองค์เป็น \"วันอนุรักษ์มรดกของชาติ\" เพื่อเป็นการเทิดพระเกียรติที่พระองค์ทรงปฏิบัติพระราชกรณียกิจในด้านการอนุรักษ์มรดกของชาติในสาขาต่าง ๆ เป็นจำนวนมาก พระองค์ทรงรับเป็นประธานที่ปรึกษาการจัดงานพระราชพิธีพระราชทานเพลิงพระศพ สมเด็จพระเจ้าภคินีเธอ เจ้าฟ้าเพชรรัตนราชสุดา สิริโสภาพัณณวดีอีกด้วย ทรงเป็นประธานคณะกรรมการอำนวยการบูรณปฏิสังขรณ์วัดพระศรีรัตนศาสดารามวัดพระศรีรัตนศาสดาราม และพระบรมมหาราชวัง ตั้งแต่ปลายปี พ.ศ. 2523\n",
            "\n",
            "ดำรงตำแหน่งเป็น:('เจ้าธรรมเทโว', 'ตากะจะเจ้าเมืองขุขันธ์')\n",
            "พ.ศ. 2280 สมเด็จพระเจ้าสร้อยศรีสมุทรพุทธางกูรเสด็จสวรรคต พระชนม์ได้ 50 พรรษา ครองราชย์สมบัติได้ 25 ปี เจ้ามหาอุปราชไชยกุมาร จึงขึ้นเสวยราชสมบัติ ทรงพระนามว่า สมเด็จพระพุทธเจ้าองค์หลวง และมีพระราชโองการให้เจ้าธรรมเทโวผู้เป็นพระราชอนุชา(น้องชาย)เป็นเจ้ามหาอุปราช พ.ศ. 2306 เจ้าผู้ครองเมืองทุ่งศรีภูมิ (เจ้ามืดดำโดน) สิ้นพระชนม์ มีโอรส 3 องค์ คือ เจ้าเชียง เจ้าสูน เจ้าอุ่น(ปลัดเมืองขุขันธ์ซึ่งต่อมาได้ดำรงตำแหน่งเป็นเจ้าเมืองศีรษะเกษท่านแรก นามว่า พระยารัตนวงศา อีกทั้งยังเป็นลูกเขยของพระยาไกรภักดีศรีนครลำดวนหรือตากะจะเจ้าเมืองขุขันธ์ท่านแรกและเป็นบิดาของพระประจันตประเทศหรือเจ้าเมืองชลบถวิบูลย์ท่านแรก) สมเด็จพระพุทธเจ้าองค์หลวง พระเจ้ามหาชีวิตจึงมีพระราชโองการให้เจ้าสุทนต์มณีอุปราชขึ้นเป็นเจ้าผู้ครองเมืองทุ่งศรีภูมิ (องค์ที่ 3) เจ้าเชียงและเจ้าสูนโอรสเจ้ามืดดำโดนเจ้าผู้ครองเมืององค์ก่อนไม่พอใจ จึงสมคบกับขุนนางส่วนหนึ่งหนีไปพึ่งขุนหลวงเอกทัศน์แห่งกรุงศรีอยุธยา\n",
            "\n",
            "ดำรงตำแหน่งเป็น:('ร.ต.ท.พวงศรีบุญลือ', 'นายอําเภอยะโสธร')\n",
            "ต่อมาระหว่าง พ.ศ. 2500–2513 ร.ต.ท.พวง ศรีบุญลือ ซึ่งดำรงตำแหน่งเป็นนายอำเภอยะโสธร เห็นว่าคำว่า \"ยะโสธร\" อันมีความหมายว่า \"ทรงไว้ซึ่งยศ\" แต่การเขียนหรือการเรียกสั้นๆ ว่า เมืองยะโส พูดแล้วฟังดูไม่เป็นที่ไพเราะหูและไม่เป็นมงคลนาม จึงได้มีหนังสือขอให้เขียนชื่ออำเภอเสียใหม่เป็น \"ยโสธร\" และได้รับอนุญาตจากกระทรวงมหาดไทย โดยความเห็นชอบของราชบัณฑิตยสถานให้เปลี่ยนได้ และใช้มาจนบัดนี้\n",
            "\n",
            "ดำรงตำแหน่งเป็น:('ประภัสร์', 'ผู้ว่าราชการกรุงเทพมหานคร')\n",
            "พ.ศ. 2551 ประภัสร์ที่ดำรงตำแหน่งเป็นผู้ว่าการฯ รฟม.อยู่ ได้รับการทาบทามจากพรรคพลังประชาชน ให้ลงสมัครในการเลือกตั้งผู้ว่าราชการกรุงเทพมหานคร พ.ศ. 2551 ในนามของตัวแทนจากพรรคพลังประชาชน ซึ่งทำให้เขาต้องลาออกจากการเป็นผู้ว่าการฯรฟม. ในการเลือกตั้งครั้งนั้น ประภัสร์ได้รับเลือกด้วยคะแนนเสียง 543,488 คะแนน มากเป็นลำดับสองรองจากอภิรักษ์ โกษะโยธิน จากพรรคประชาธิปัตย์\n",
            "\n",
            "ทำงานเป็น:('ไอลีน', 'ผู้ช่วยศาสตราจารย์สาขาคณิตศาสตร์')\n",
            "เมื่อ ค.ศ. 1979 ไอลีนจบการฝึกอบรมการบินระดับปริญญาตรี จากกองทัพอากาศสหรัฐ จากนั้นมาได้ทำงานเป็นนักบินผู้สอน T-38 กระทั่งปี 1982 ต่อมาในระหว่าง ค.ศ. 1983-1985 ได้เป็นครูฝึกบินและผู้บังคับการอากาศยาน เครื่องบิน C-141 สตาร์ลิฟเตอร์ ครั้นปี 1986 – 1989 ก็ได้เป็นผู้ช่วยศาสตราจารย์ สาขาคณิตศาสตร์ และเป็นครูฝึกบิน เครื่องบิน T-41 ที่โรงเรียนนายร้อยทหารอากาศ สหรัฐอเมริกา \n",
            "\n",
            "ทำงานเป็น:('ยูลียา', 'ประธานบริษัทกิจการพลังงาน')\n",
            "ยูลียาเริ่มทำงานเป็นนักเศรษฐศาสตร์ในโรงงานวิศวกรรมเครื่องกลดนีปรอแปตร็อวสก์ จากนั้นเมื่อ พ.ศ. 2532 ได้ตั้งเครือข่ายร้านเช่าวิดีโอ ซึ่งเติบโตจนประสบความสำเร็จอย่างดี หลังจากการล่มสลายของสหภาพโซเวียต เธอได้บริหารบริษัทด้านพลังงาน และประสบความสำเร็จอย่างสูงเช่นกัน ในระหว่าง พ.ศ. 2533 – 2541 โดยในช่วง พ.ศ. 2538 - 2540 นั้น ได้เป็นประธานบริษัทกิจการพลังงาน และได้เป็นผู้สนับสนุนหลักของก๊าซธรรมชาติในรัสเซียเมื่อปี พ.ศ. 2539 ในช่วงเวลาดังกล่าว เธอได้รับสมญาว่า เจ้าหญิงแห่งแก๊ส \n",
            "\n",
            "ทำงานเป็น:('สนธิ', 'บรรณาธิการบริหารหนังสือพิมพ์\"ประชาธิปไตย')\n",
            "สนธิได้รับฉายาจากสื่อต่างประเทศว่า \"โมกุลสื่อ\" (Media Mogul) หรือ\"ไทคูนสื่อ\" (Media Tycoon) ของเอเชีย เนื่องจากเป็นบุคคลที่ประสบความความสำเร็จและมีทรงอิทธิพลในวงการสื่อ สนธิทำงานเป็นบรรณาธิการบริหารหนังสือพิมพ์ \"ประชาธิปไตย\" เมื่ออายุ 27 ปี จากนั้นได้ร่วมกับพร (หรือ พอล) สิทธิอำนวย ตั้งบริษัท \"Advance Media\" ในเครือพีเอสเอกรุ๊ป ออกหนังสือ\"ดิฉัน\" แต่ประสบปัญหาขาดทุน จึงได้ขายกิจการให้กับปีย์ มาลากุล ณ อยุธยา สนธิกลับมาโดดเด่นอีกครั้งด้วยการตั้งบริษัท ตะวันออกแมกกาซีน ทำหนังสือพิมพ์ \"ผู้จัดการรายเดือน\" เมื่อปี พ.ศ. 2526 และหนังสือพิมพ์ \"ผู้จัดการรายสัปดาห์\" จากความสำเร็จในการเป็นหนังสือแนวธุรกิจของ \"ผู้จัดการรายสัปดาห์\" และ \"รายเดือน\" ทำให้สนธิ นำบริษัทเข้าจดทะเบียนในตลาดหลักทรัพย์แห่งประเทศไทย เมื่อปี พ.ศ. 2533 ต่อมาหุ้น MGR ถูกตลาดหลักทรัพย์แขวนป้ายระงับการซื้อขาย เนื่องจากปัญหาสภาพคล่องทางการเงินของบริษัท ในเดือนตุลาคม พ.ศ. 2546 สนธิได้ส่งมอบการบริหารธุรกิจในเครือผู้จัดการให้กับจิตตนาถ ลิ้มทองกุล บุตรชาย สนธิยังเคยเป็นผู้สื่อข่าวสำนักข่าว \"Associate Press\" ประจำเมืองโลแกน รัฐยูทาห์ ที่ปรึกษากลุ่มหนังสือพิมพ์ผู้จัดการ และอาจารย์พิเศษคณะวารสารศาสตร์และสื่อสารมวลชน มหาวิทยาลัยธรรมศาสตร์ \n",
            "\n",
            "ทำงานเป็น:('ชิซุรุ', 'รูมเมท')\n",
            "นาบะ ชิซุรุ (; ) เป็นตัวละครที่มีนิสัยอ่อนโยน ทำงานเป็นอาสาสมัครศูนย์เลี้ยงเด็กกลางวันเมืองมาโฮระและเป็นสมาชิกของชมรมดาราศาสตร์แต่บางครั้งเธอก็เป็นคนที่น่ากลัวเอามากๆจนไม่มีใครกล้าหือด้วย ชิซุรุเป็นรูมเมทกับ ยูกิฮิโระ อายากะ และ มุราคามิ นัตซึมิและเธอยังเคยช่วยโคทาโร่ตอนที่โคทาโร่มาหาเนกิอีกด้วย (เธอได้ช่วยโคทาโร่ไว้ตอนที่โคทาโร่สลบกลางฝน) เธอมีหน้าอกที่ใหญ่เป็นอันดับที่หนึ่งในชั้นเรียน\n",
            "\n",
            "ทำงานเป็น:('โจนินที', 'หัวหน้าหน่วยลับ(อันบุ')\n",
            "โฮคาเงะรุ่นที่ 6 () ฮาตาเกะ คาคาชิ (はたけ カカシ) โจนินทีเคยทำงานเป็นอดีตหัวหน้าหน่วยลับ (อันบุ) ช่วงหนึ่ง มีความสามารถมาก และต่อสู้เก่ง มีเนตรวงแหวนข้างซ้ายเพราะโอบิโตะให้ก่อนเสียชีวิต คาคาชิเป็นสมาชิกของทีมมินาโตะ ที่มี คาคาชิ ริน และโอบิโตะ คาคาชิเป็นอาจารย์ประจำหน่วย 7 ประกอบด้วย นารูโตะ ซาสึเกะ และซากุระ หลังสิ้นสุดสงครามโลกนินจาครั้งที่ 4 เขาได้ถูกแต่งตั้งให้เป็นโฮคาเงะรุ่นที่ 6 กับทำหน้าที่แม้เจ้าตัวจะไม่อยากเป็นก็ตาม แต่เป็นเรื่องที่ช่วยไม่ได้จึงมาเป็น จากนั้นพอเห็นว่าถึงวาระสมควรแล้วจึงได้ยกตำแหน่งให้ อุซึมากิ นารุโตะ\n",
            "\n",
            "ทำงานเป็น:('มาริก้า', 'บาทหลวง')\n",
            "เทสลาเป็นลูกคนที่สี่ในทั้งห้าคน เขามีพี่น้องผู้หญิงสามคน ได้แก่ มิลก้า แองเจลิน่า และมาริก้า และพี่ชายชื่อเดน ผู้ซึ่งเสียชีวิตในอุบัติเหตุขี่ม้าเมื่อเทสลาอายุได้ห้าปี ในปี พ.ศ. 2404(ค.ศ.1861) เทสลาเข้าเรียนชั้นประถมศึกษาในสมิลยาน ที่ซึ่งเขาศึกษาภาษาเยอรมัน คณิตศาสตร์และเรื่องศาสนา ในปี พ.ศ. 2405 (ค.ศ. 1862) ครอบครัวของเทสลาย้ายไปอยู่ที่กอสปิช (Gospić) เมืองที่ใกล้กันที่พ่อของเทสลาไปทำงานเป็นบาทหลวงประจำเขตพื้นที่นั้น นิโคลาเรียนจบชั้นประถมศึกษา โรงเรียนโป๊ต่อด้วยจบการศึกษาชั้นมัธยมศึกษาตอนต้น ในปีพ.ศ. 2413 (ค.ศ.1870) เทสลาย้ายไปคาร์โลวัตส์เพื่อศึกษาต่อในชั้นมัธยมศึกษาตอนปลายที่โรงเรียนมัธยมไฮเออร์เรียลจิมแนสเซียม (Higher Real Gymnasium) ซึ่งจัดรูปแบบการเรียนการสอนเป็นภาษาเยอรมัน เป็นสากลในทุกโรงเรียนภายในเขตพรมแดนทหารออสเตรีย-ฮังการี \n",
            "\n",
            "ทำงานเป็น:('บ็อลท์ซาโน', 'หัวหน้าภาควิชาปรัชญา')\n",
            "บ็อลท์ซาโนเข้าศึกษาในมหาวิทยาลัยปรากเมื่อ ค.ศ. 1796 โดยได้ศึกษาคณิตศาสตร์ ปรัชญา และฟิสิกส์ และนับแต่ ค.ศ. 1800 เขาได้เริ่มต้นศึกษาเทววิทยา และได้รับตำแหน่งในทางศาสนา เมื่อ ค.ศ. 1805 เขาทำงานเป็นครู และมีชื่อเสียงรู้จักกันดีไม่เฉพาะแต่วิชาศาสนาเท่านั้น แต่ยังมีชื่อเสียงในด้านปรัชญาด้วย และได้รับเลือกเป็นหัวหน้าภาควิชาปรัชญาเมื่อ ค.ศ. 1818\n",
            "\n",
            "ทำงานเป็น:('จุงโกะอิวาโอะ', 'อดีตสมาชิกวง\"<unk>')\n",
            "จุงโกะ อิวาโอะ () เป็นนักพากย์และนักร้องหญิงชาวญี่ปุ่น ในอดีตเคยเป็นสมาชิกวงนักร้องหญิง \"เซนต์โฟร์\" มาก่อน พอมาทำงานเป็นนักพากย์ก็มีผลงานมากมาย ส่งผลให้เธอมีชื่อเสียงในวงการพากย์ขึ้นมาอย่างรวดเร็วไม่แพ้สมัยที่เป็นนักร้อง ส่วนงานเพลงก็ได้รับการตอบรับจากแฟนๆเป็นอย่างดีเช่นกัน ปัจจุบันอิวาโอะแต่งงานแล้ว กับ ฮารุคิจิ ยามาโมโตะ โปรดิวเซอร์เพลง อดีตสมาชิกวง \"LOOK\"\n",
            "\n",
            "ทำงานเป็น:('สุริยะใส', 'นักวิชาการวุฒิสภา')\n",
            "หลังจบการศึกษาปริญญาตรี สุริยะใสทำงานเป็นนักวิชาการวุฒิสภา เป็นผู้ชำนาญการประจำคณะกรรมาธิการการมีส่วนร่วม วุฒิสภา และเป็นอนุกรรมการการแปลงสินทรัพย์เป็นทุน ประจำคณะกรรมาธิการพัฒนาสังคมและความมั่นคงของมนุษย์ ในขณะเดียวกันก็ได้เริ่มทำงานภาคประชาชนในปี พ.ศ. 2545 โดยดำรงตำแหน่งเลขาธิการคณะกรรมการรณรงค์เพื่อประชาธิปไตย(ครป.)ในช่วงที่นายพิภพ ธงไชยเป็นประธาน\n",
            "\n",
            "ทำงานเป็น:('แทตเชอร์', 'สมาชิกสภาผู้แทนราษฎร')\n",
            "แทตเชอร์จบการศึกษาสาขาเคมีที่วิทยาลัยซอเมอร์วิลล์ เมืองออกซ์ฟอร์ด และทำงานเป็นนักเคมีวิจัยช่วงสั้น ๆ ก่อนที่จะเป็นเนติบัณฑิต เธอได้รับเลือกเป็นสมาชิกสภาผู้แทนราษฎรของฟินช์ลีย์ในปี ค.ศ. 1959 เอ็ดเวิร์ด ฮีธ แต่งตั้งเธอเป็นรัฐมนตรีว่าการกระทรวงศึกษาธิการและวิทยาศาสตร์ในรัฐบาลปี ค.ศ. 1970 - 1974 ในปี ค.ศ. 1975 เธอเอาชนะฮีธในการเลือกตั้งผู้นำพรรคอนุรักษ์นิยมเพื่อเป็นผู้นำฝ่ายค้านโดยเป็นผู้หญิงคนแรกที่เป็นผู้นำพรรคการเมืองสำคัญในสหราชอาณาจักร\n",
            "\n",
            "มีอาชีพเป็น:('อัลเฟรดเลนนอน', 'นายกรัฐมนตรีสหราชอาณาจักร')\n",
            "เลนนอนเกิดในช่วงสงครามที่ประเทศอังกฤษ เมื่อวันที่ 9 ตุลาคม 1940 ที่โรงพยาบาลลิเวอร์พูลมาเทอร์นิตี ให้กำเนิดโดย จูเลีย เลนนอน (นามสกุลเดิม สแตนลีย์) และอัลเฟรด เลนนอน เชื้อสายไอริช มีอาชีพเป็นพ่อค้าเดินเรือ และไม่ได้อยู่ด้วยกันขณะเขาเกิด พวกเขาชื่อบุตรว่าจอห์นตามชื่อปู่ว่า จอห์น \"แจ็ก\" แลนนอน ส่วนชื่อกลาง วินสตัน มาจากวินสตัน เชอร์ชิล นายกรัฐมนตรีสหราชอาณาจักรในขณะนั้น พ่อของเขามักจากบ้านไปทำงานบ่อย ๆ แต่ก็ยังส่งเช็คเงินสดมาเป็นประจำที่บ้านเลขที่ 9 ถนนนิวคาสเซิล ลิเวอร์พูล ที่จอห์นอาศัยอยู่กับแม่ เช็คหยุดส่งมาหาพวกเขาในกุมภาพันธ์ 1944 เนื่องจากพ่อปลดประจำการโดยไม่ได้รับอนุญาต ในที่สุด หกเดือนต่อมา พ่อของจอห์นกลับมาบ้าน เสนอว่าจะดูแลครอบครัว แต่จูเลีย ตั้งครรภ์กับชายคนอื่นแล้ว จึงปฏิเสธข้อเสนอดังกล่าว หลังจากพี่สาวของจูเลีย มีมี สมิธ ร้องทุกข์กับบริการสังคมของลิเวอร์พูลถึงสองครั้ง จูเลียจึงส่งเลนนอนให้เธอดูแล ในเดือนกรกฎาคม 1946 พ่อของเลนนอนมาเยี่ยมสมิธ และพาเลนนอนไปเที่ยวในเมืองแบล็กพูล โดยตั้งใจลับ ๆ ว่าจะพาย้ายออกไปอยู่กับเขาที่ประเทศนิวซีแลนด์ แต่จูเลียและสามีคนใหม่ของเธอ บ็อบบี ไดกินส์ ตามไปจนพบ และหลังจากการทะเลาะวิวาทรุนแรง ผู้เป็นพ่อบังคับให้เลนนอนอายุ 5 ขวบเลือกว่าจะอยู่กับใคร เลนนอนเลือกพ่อของเขาถึงสองครั้ง แต่ขณะที่แม่ของเขาเดินจากไป เขาเริ่มร้องไห้และเลือกตามแม่ของเขาไป เขาได้ติดต่อกับพ่อของเขาอีกครั้งหลังผ่านไป 20 ปี\n",
            "\n",
            "มีอาชีพเป็น:('โมเชดายัน', 'ผู้สื่อข่าวสงคราม')\n",
            "ขณะนั้น เลวี เอชโคล ดำรงตำแหน่งเป็นนายกรัฐมนตรีอิสราเอล และโมเช ดายันมีอาชีพเป็นผู้สื่อข่าวสงคราม เมื่อเขาทราบข่าวก็คาดว่าอิสราเอลอาจจะไปไม่รอด เขาจึงขอเข้าพบเลวี เอชโคล และเสนอตัวเองออกรบกับบรรดาชาติอาหรับ อิสราเอลในขณะนั้นยังไม่มีรัฐมนตรีว่าการกระทรวงกลาโหม เลวี เอชโคล จึงแต่งตั้งให้เขาเป็นรัฐมนตรีว่าการกระทรวงกลาโหมทันที\n",
            "\n",
            "มีอาชีพเป็น:('ตาทอง', 'ครูนายโรงละครหลวง')\n",
            "ตาทองอยู่ คนขับเสภาที่รู้ภาษาลาวและขับเสภาเก่งอีกคนหนึ่ง และยังมีอาชีพเป็นครูละคร โดยเล่นละครหลวงซึ่งเป็นตัวพระของ “เจ้าฟ้ากรมหลวงเทพหริรักษ์” ในสมัยรัชกาลที่ ๑ พอสมัยรัชกาลที่ ๒ ได้เป็นครูนายโรงละครหลวงรุ่นใหญ่ และได้เป็นที่ปรึกษาหรือกำหนดท่ารำถวายแด่ “เจ้าฟ้ากรมหลวงพิทักษ์มนตรี” อันเป็นการกำหนดท่ารำของละครเรื่องอิเหนาและรามเกียรติ์ พระราชนิพนธ์ในรัชกาลที่ ๒ ซึ่งปัจจุบันนี้ก็ยังใช้ท่ารำนี้กันอยู่ อีกทั้งวงการละครนาฏศิลป์ก็ยังไหว้ครูทองอยู่ ในฐานะครูละครของโขนและละครอีกด้วย\n",
            "\n",
            "มีอาชีพเป็น:('คลินตัน', 'ประธานาธิบดี')\n",
            "หลังจากที่บิล คลินตัน สามีของเธอได้รับเลือกเป็นประธานาธิบดีสหรัฐอเมริกา และเข้ารับตำแหน่งในวันที่ 20 มกราคม ค.ศ. 1993 คลินตันจึงเป็นสุภาพสตรีหมายเลขหนึ่งของสหรัฐอเมริกา เธอนับเป็นสุภาพสตรีหมายเลขหนึ่งคนแรกที่มีวุฒิการศึกษาระดับปริญญาบัณฑิต และมีอาชีพเป็นทางการก่อนได้รับตำแหน่ง เธอยังเป็นสุภาพสตรีหมายเลขหนึ่งคนแรกที่มีสำนักงานของตัวเองอยู่ในปีกฝั่งตะวันตกของทำเนียบขาว ซึ่งก่อนหน้าที่ สุภาพสตรีหมายเลขหนึ่งจะดูแลปีกฝั่งตะวันออกเท่านั้น โดยเธอยังเป็นที่ยอมรับกันว่า เป็นหนึ่งในสุภาพสตรีหมายเลขหนึ่งที่มีอิทธิพลมากที่สุดเคียงคู่กันกับ เอลินอร์ รูสเวลท์ อดีตสุภาพสตรีหมายเลขหนึ่งในสมัยประธานาธิบดีแฟรงกลิน ดี. โรสเวลต์\n",
            "\n",
            "มีอาชีพเป็น:('<unk>rancesco<unk>iamberti', 'สถาปนิก')\n",
            "จูลิอาโน ดา ซานกาลโล เกิดที่เมืองฟลอเรนซ์ เป็นลูกของฟรานเชสโก จิแอมเบอร์ติ (Francesco Giamberti) ผู้มีอาชีพเป็นช่างแกะไม้และสถาปนิกที่ทำงานกับโคสิโม เดอ เมดิชิ น้องชายของจูลิอาโนชื่ออันโตนิโอ ดา ซานกาโล ผู้พ่อ(Antonio da Sangallo the Elder) และ หลาน อันโตนิโอ ดา ซานกาลโล ผู้ลูก (Antonio da Sangallo the Younger) ต่างก็เป็นสถาปนิก ลูกชายของจูลิอาโน ฟรานซิสโก ดา ซานกาโล (Francesco da Sangallo) เป็นประติมากร จูลิอาโนเองเป็นสถาปนิกคนโปรดของลอเร็นโซ เดอ เมดิชิ งานหลายชิ้นจึงเป็นงานที่ตระกูลเมดิชิจ้าง\n",
            "\n",
            "มีอาชีพเป็น:('นางกาญจนาสุบุญฝั่ง', 'แพทย์ทหารเวชปฏิบัติทั่วไป')\n",
            "เป็นบุตรของพลตรีวิเชียร และนางกาญจนา สุบุญ ฝั่งมารดามีเชื้อสายไทพวน ศึกษาระดับมัธยมศึกษาตอนต้นที่โรงเรียนสาธิตมหาวิทยาลัยราชภัฏเทพสตรี จังหวัดลพบุรี ระดับมัธยมศึกษาตอนปลายที่โรงเรียนเตรียมอุดมศึกษา กรุงเทพมหานคร ด้วยเกรดเฉลี่ย 3.90 และจบการศึกษาแพทยศาสตรบัณฑิตจากวิทยาลัยแพทยศาสตร์พระมงกุฎเกล้า ได้คะแนนเฉลี่ยสะสม 3.51 เกียรตินิยมอันดับ 1 หลังจากสำเร็จการศึกษาได้เป็นแพทย์ใช้ทุนอยู่ที่โรงพยาบาลค่ายจักรพงษ์ จ.ปราจีนบุรี เป็นระยะเวลา 1 ปีแล้วย้ายเข้ามาประจำอยู่ที่ บ.ก. สูงสุด ทุ่งสีกัน เขตดอนเมือง กรุงเทพฯมีอาชีพเป็นแพทย์ทหารเวชปฏิบัติทั่วไป (General Practitioner) สังกัดกองตรวจโรค หน่วยบัญชาการทหารพัฒนา กองบัญชาการกองทัพไทย ปัจจุบันย้ายมาสังกัดสำนักงานปลัดกระทรวงกลาโหม \n",
            "\n",
            "มีอาชีพเป็น:('นายศิริชัย', 'รองเลขาธิการปฏิบัติการสมาพันธ์แรงงานรัฐวิสาหกิจสัมพันธ์')\n",
            "นายศิริชัย เรียนจบวิทยาลัยเทคนิคฉะเชิงเทรา จบการศึกษาปริญญาตรีรัฐประศาสนศาสตร์ มหาวิทยาลัยราชภัฏสวนดุสิต ระดับปริญญาโท รัฐประศาสนศาสตร์ มหาวิทยาลัยธรรมศาสตร์ มีอาชีพเป็นพนักงานรัฐวิสาหกิจ เริ่มการทำงานที่โรงไฟฟ้าพระนครใต้ และมาปฏิบัติงานต่อที่โรงไฟฟ้าบางปะกง เป็นรองเลขาธิการสมาพันธ์แรงงานการไฟฟ้าฝ่ายผลิตแห่งประเทศไทย (สฟท.) และรองเลขาธิการปฏิบัติการสมาพันธ์แรงงาน รัฐวิสาหกิจสัมพันธ์ (สรส.) รวมทั้งกรรมการแรงงานรัฐวิสาหกิจสัมพันธ์ ผู้แทนฝ่ายลูกจ้าง จึงมีความสนิทสนมกับ สมศักดิ์ โกศัยสุข เลขาธิการ สรส. แกนนำพันธมิตรฯ เป็นอย่างดี\n",
            "\n",
            "มีอาชีพเป็น:('ฟิลิปซีมัวร์ฮอฟฟ์แมน', 'ผู้บริหารฝ่ายการเงิน')\n",
            "เรื่องเล่าถึงสองพี่น้องตะกูลแฮนสันที่กำลังมีปัญหาทางการเงินทั้งคู่ โดยแอนดี แฮนสัน (ฟิลิป ซีมัวร์ ฮอฟฟ์แมน) ผู้ที่มีอาชีพเป็นผู้บริหารฝ่ายการเงินของบริษัทแห่งหนึ่ง ต้องการเงินอย่างเร่งด่วนเพื่อมาปกปิดเงินทุนที่เขาได้ยักยอกไปจากหัวหน้างานของเขา ก่อนที่เขาจะถูกตรวจสอบ และแฮงก์ แฮนสัน (อีธาน ฮอว์ก) น้องชายของแอนดี ก็ต้องการเงินเพื่อใช้เลี้ยงดูลูกสาวและปลดหนี้สินที่มีต่ออดีตภรรยา\n",
            "\n",
            "มีอาชีพเป็น:('ภีมประการพันธ์', 'คณบดี')\n",
            "พุดกรอง วิบูลย์สิน แอบรักกับภีม ประการพันธ์ มาตั้งแต่เรียนมหาวิทยาลัย แต่พุดกรองเลือกที่จะแต่งงานกับพร้อม วิบูลย์สิน จนทั้งคู่มีบุตรชายด้วยกันชื่อ จ้าน ทางฝั่งภีมแต่งงานกับวรรณนรี มีอาชีพเป็นครู มีลูกชายหญิงสองคน ลูกสาวชื่อ ภัทรียา และลูกชายชื่อ ภุมวาร ต่อมาพร้อม สามีของพุดกรองเสียชีวิต จนหลังจากนั้น 1 ปี พุดกรอง ได้ไปร่วมงานสังคมกับวรรณนรี ภีม และพงษ์สนิทจิตรกรรม ซึ่งจัดขึ้นโดยคุณหญิงพรรณราย ซึ่งได้แนะนำให้รู้จักกับพิมุข สามีของคุณหญิงพรรณราย ที่เป็นคู่แข่งในการแย่งชิงตำแหน่งคณบดีกับวรรณนรี\n",
            "\n",
            "มีอาชีพเป็น:('วิลเฮ็ล์มไวเออร์ชตราส', 'เจ้าหน้าที่ศุลกากร')\n",
            "ไวเออร์ชตราสเป็นบุตรคนโตของวิลเฮ็ล์ม ไวเออร์ชตราส (Wilhelm Weierstrass) ซึ่งมีอาชีพเป็นเจ้าหน้าที่ศุลกากร กับเทโอโดรา ฟ็อนเดอร์ฟอสท์ (Theodora Vonderforst) หลังจากไวเออร์ชตราสเกิดไม่นานครอบครัวได้ย้ายไปเว็สเทิร์นค็อทเทิน (Westernkotten) ที่ซึ่งพี่น้องอีกสามคนของไวเออร์ชตราสเกิด ซึ่งได้แก่ เพเทอร์ (Peter) คลารา (Klara) และเอลีเซอ (Elise) แต่หลังจากเอลีเซอเกิดได้ไม่นาน มารดาก็เสียชีวิตและบิดาก็แต่งงานใหม่\n",
            "\n"
          ]
        }
      ],
      "source": [
        "with open('th_wiki.txt') as text:\n",
        " for sent in text:\n",
        "   if re.search(pat_role1,sent) and len(pat_role1_set) < 20:\n",
        "    ner_list = get_ner(sent)\n",
        "    if ner_list is not None:\n",
        "     tuples = find_tuples(ner_list,'ทํางาน','person','role')\n",
        "     if tuples is not None and tuples[0] != tuples[1] and tuples[0] != '<unk>' and tuples[1] != '<unk>':\n",
        "       pat_role1_set.add(tuples)\n",
        "       print('{relation}:{tuples}'.format(relation=pat_role1, tuples=tuples))\n",
        "       print(sent)\n",
        "\n",
        "   if re.search(pat_role2,sent) and len(pat_role2_set) < 20:\n",
        "    ner_list = get_ner(sent)\n",
        "    if ner_list is not None:\n",
        "     tuples = find_tuples(ner_list,'ตําแหน่ง','person','role')\n",
        "     if tuples is not None and tuples[0] != tuples[1] and tuples[0] != '<unk>' and tuples[1] != '<unk>':\n",
        "       pat_role2_set.add(tuples)\n",
        "       print('{relation}:{tuples}'.format(relation=pat_role2, tuples=tuples))\n",
        "       print(sent)\n",
        "\n",
        "   if re.search(pat_role3,sent) and len(pat_role3_set) < 20:\n",
        "    ner_list = get_ner(sent)   \n",
        "    if ner_list is not None:\n",
        "     tuples = find_tuples(ner_list,'อาชีพ','person','role')\n",
        "     if tuples is not None and tuples[0] != tuples[1] and tuples[0] != '<unk>' and tuples[1] != '<unk>':\n",
        "       pat_role3_set.add(tuples)\n",
        "       print('{relation}:{tuples}'.format(relation=pat_role3, tuples=tuples))\n",
        "       print(sent)"
      ]
    },
    {
      "cell_type": "markdown",
      "metadata": {
        "id": "iifHXPCpmlAX"
      },
      "source": [
        "# Manage"
      ]
    },
    {
      "cell_type": "code",
      "execution_count": null,
      "metadata": {
        "colab": {
          "base_uri": "https://localhost:8080/"
        },
        "id": "l4YSj4TQltF8",
        "outputId": "1c5b1fc2-ec2e-4f9b-c07e-d8c52e690780"
      },
      "outputs": [
        {
          "output_type": "stream",
          "name": "stdout",
          "text": [
            "เป็นเจ้าของ:('ซิลวีโอแบร์ลุสโกนี', 'มีเดียเซต')\n",
            "ซิลวีโอ แบร์ลุสโกนี (, เกิด 29 กันยายน ค.ศ. 1936 ที่นครมิลาน) เป็นนักการเมืองและนักธุรกิจชาวอิตาลี ซึ่งดำรงตำแหน่งนายกรัฐมนตรีอิตาลีสามสมัย ตั้งแต่ ค.ศ. 1994-1995, 2001-2006 และ 2008-2011 เขายังเป็นเจ้าของมีเดียเซตและประธานสโมสรฟุตบอลเอซี มิลาน \n",
            "\n",
            "เป็นเจ้าของ:('ฟอร์ซาอิตาเลีย', 'บริษัทฟินอินเวสต์จักรวรรดิสื่อสารมวลชน')\n",
            "ซิลวีโอ แบร์ลุสโกนีเป็นหัวหน้าพรรคการเมืองชื่อว่า ฟอร์ซา อิตาเลีย (ที่เขาได้จัดตั้งขึ้นเป็นการพิเศษ เพื่อเป็นการปูทางเข้าสู่ถนนทางการเมืองของตนเอง ที่เขาอ้างว่าเป็นการกระทำ\"โดยชอบธรรม\") และยังเป็นเจ้าของบริษัทฟินอินเวสต์ จักรวรรดิสื่อสารมวลชนในประเทศอิตาลี (ที่ควบคุมกิจการของมีเดียเซ็ตอีกต่อหนึ่ง) ในฐานะผู้ประกอบการ เขามีความสนใจในธุรกิจหลากหลายประเภท และสามารถควบคุมสื่อส่วนใหญ่ในประเทศอิตาลีได้ โดยไม่ทางตรงก็ทางอ้อม (โดยเฉพาะอย่างยิ่งสถานีโทรทัศน์หกช่องในประเทศ ที่ สามช่องเป็นของเอกชน และสามช่องเป็นของรัฐ โดยที่เขาสามารถควบคุมสามช่องหลังได้ในฐานะหัวหน้ารัฐบาล) ในการจัดอันดับมหาเศรษฐีโลกของนิตยสารฟอร์บ ได้ระบุว่าเขาเป็นบุคคลที่ร่ำรวยที่สุดในประเทศอิตาลี โดยมีทรัพย์สินรวมเป็นมูลค่าทั้งสิ้นราว 12,000 ล้านดอลลาร์สหรัฐ ในปีค.ศ. 2004)\n",
            "\n",
            "เป็นเจ้าของ:('สํานักพิมพ์มอนดาโรี', 'บริษัทเมดีโอลานุม')\n",
            "ในปีค.ศ. 1989 เขายังได้ซื้อกิจการของสำนักพิมพ์มอนดาโรี และทำให้สำนักพิมพ์นี้กลายเป็นสำนักพิมพ์หนังสือและนิตยสารยักษ์ใหญ่แห่งหนึ่งของประเทศ จากนั้น การร่วมทุนกับกลุ่มเมดูซา และซีเนมา ชิงเก ทำให้กลุ่มธุรกิจนี้กลายเป็นผู้ผลิตและจัดจำหน่ายภาพยนตร์ที่ใหญ่ที่สุดในอิตาลี ในปีค.ศ. 1986 เขาได้ซื้อทีมฟุตบอลเอซี มิลาน นอกจากนั้น ในส่วนของธุรกิจประกันภัยและไฟแนนซ์ เขาเป็นเจ้าของบริษัทเมดีโอลานุม และโปรกรามมา อิตาเลีย \n",
            "\n",
            "เป็นเจ้าของ:('เจเนรัลมอเตอร์ฟอร์ดมอเตอร์', 'ฟอร์ด')\n",
            "ฟอร์ด มอเตอร์ () หรือเรียกย่อว่า ฟอร์ด บริษัทผลิตรถยนต์รายใหญ่ของโลกตั้งอยู่ที่รัฐมิชิแกน ก่อตั้งโดยเฮนรี ฟอร์ด ปัจจุบันเป็นผู้ผลิตรถยนต์อันดับ 2 ของโลก รองจาก เจเนรัลมอเตอร์ ฟอร์ดมอเตอร์เป็นเจ้าของยี่ห้อรถยนต์ต่างๆ ได้แก่ ฟอร์ด, ลิงคอล์น (Lincoln), เมอร์คิวรี (Mercury) และวอลโว่ (เฉพาะในส่วนของรถยนต์เท่านั้น สำหรับยี่ห้อวอลโว่ในส่วนของรถเพื่อการพานิชย์ (รถบรรทุก รถโดยสาร และเครื่องจักรกลหนัก) ยังคงเป็นกิจการของทางวอลโว่เอง) แต่ฟอร์ดมอเตอร์ได้ขายวอลโว่ให้กับบริษัท Geely Automobile แล้วในปี 2010 นอกจากนี้ยังเข้าไปถือหุ้นในกิจการของบริษัทรถยนต์ของญี่ปุ่นอย่างมาสด้า\n",
            "\n",
            "เป็นเจ้าของ:('ลิซาเน็กซ์', 'เน็กซ์')\n",
            "หลังจากออกจากแอปเปิล จอบส์ได้ก่อตั้งบริษัทคอมพิวเตอร์ขึ้นมาใหม่ ชื่อว่า เน็กซ์ NeXT เช่นเดียวกับเครื่องคอมพิวเตอร์ลิซา เน็กซ์มีเทคโนโลยีล้ำยุค แต่มันไม่เคยเข้าสู่กระแสความนิยมหลักได้เนื่องจากราคาที่สูงลิ่ว สำหรับผู้ที่มีเงินพอจะซื้อหามาเป็นเจ้าของได้นั้น เทคโนโลยีของเน็กซ์ทำให้มีกลุ่มผู้ติดตามจำนวนมากเนื่องจากความแข็งแกร่งทางเทคโนโลยีของมัน หนึ่งในผลิตภัณฑ์นั้นได้แก่ระบบพัฒนาซอฟต์แวร์เชิงวัตถุ จอบส์ได้ทำตลาดผลิตภัณฑ์ของเน็กซ์โดยเน้นไปที่สาขาวิทยาศาสตร์และสถาบันการศึกษา เนื่องจากมันได้ผนวกเอาเทคโนโลยีสมัยใหม่ในเชิงนวัตกรรม และทดลองค้นคว้ารวมอยู่ด้วย (เป็นต้นว่า เคอร์เนลมัค (Mach kernel) และแผงวงจรดีเอสพี)\n",
            "\n",
            "เป็นเจ้าของ:('ลอร์ดทอมสัน', 'ตลาดหลักทรัพย์แห่งประเทศไทย')\n",
            "จากนั้น จึงขายกิจการแก่นักลงทุนชาวเยอรมัน ต่อมา ลอร์ดทอมสัน ซึ่งเป็นเจ้าของกิจการหนังสือพิมพ์ลอนดอนไทม์ และหัวอื่นๆ อีกกว่า 150 ฉบับทั่วโลก ได้เข้าซื้อหุ้นของบริษัทฯ เกือบทั้งหมด พร้อมเข้าบริหาร จนกระทั่งเดือนธันวาคม พ.ศ. 2527 คณะผู้บริหารมีมติให้นำบริษัทฯ เข้าจดทะเบียนในตลาดหลักทรัพย์แห่งประเทศไทย\n",
            "\n",
            "เป็นเจ้าของ:('ปตท.สผ.', 'เอส1')\n",
            "ในเดือนตุลาคม พ.ศ. 2528 บริษัท ปตท.สำรวจและผลิตปิโตรเลียม จำกัด (มหาชน) หรือ ปตท.สผ. ได้เข้ามาเป็นผู้ร่วมทุนในการสำรวจและผลิตปิโตรเลียมในพื้นที่สัมปทานเอส 1 โดยที่บริษัท ปตท.สผ. ถือหุ้นร้อยละ 25 และบริษัทไทยเชลล์ถือหุ้นร้อยละ 75 ต่อมาในเดือนมกราคม พ.ศ. 2547 บริษัท ปตท.สผ. ได้ซื้อหุ้นทั้งหมดของบริษัทไทยเชลล์ ทำให้บริษัท ปตท.สผ. เป็นเจ้าของสัมปทานเอส 1 ทั้งหมด และกลายเป็นผู้ดำเนินการแหล่งน้ำมันสิริกิติ์ แหล่งน้ำมันอันทรงคุณค่าของประเทศไทย \n",
            "\n",
            "เป็นเจ้าของ:('เจ้าหลินเฉิง', '<unk>hao<unk>ao<unk>i')\n",
            "เจ้า หลินเฉิง (ญี่ปุ่น: チャオリンシェン, \"Chao Rinshen\", ; , ) เธอเรียนเก่งเป็นอันดับหนึ่งในชั้นปี เธอเป็นนักเรียนย้ายเข้ามา(โดยแจ้งว่า)มาจากประเทศจีน มีฐานะร่ำรวย และเป็นเจ้าของกิจการบริษัทขายซาลาเปาไส้เนื้อ \"เจ้าเปาฉี\" (Chao Bao Zi) ร่วมกับเพื่อนสนิทซัตสึกิและซาโตมิ ฮาคาเซะ ซาโตมิผู้สร้าง ชาช่ามารุ\n",
            "\n",
            "เป็นเจ้าของ:('ไบเออร์เอจี', 'แอสไพริน')\n",
            "ไบเออร์ เอจี (; ออกเสียง \"ไบเออร์\" แต่ตามต้นฉบับภาษาเยอรมัน และชาวต่างชาตินิยมออกเสียงเป็น \"เบเยอร์\") (, ) เป็นบริษัทที่ทำธุรกิจเกี่ยวกับอุตสาหกรรมเคมีและยา บริษัทก่อตั้งในปี ค.ศ. 1863 สำนักงานใหญ่ตั้งอยู่ที่เมืองเลเวอร์คูเซิน ประเทศเยอรมนี บริษัทเป็นที่รู้จักดีว่าเป็นเจ้าของชื่อทางค้าว่า แอสไพริน\n",
            "\n",
            "เป็นเจ้าของ:('<unk>eutsche<unk><unk>rse', 'บริษัทเคลียริ่ง<unk>learstream')\n",
            "ตลาดหลักทรัพย์แฟรงค์เฟิร์ต (เยอรมัน: FWB® Frankfurter Wertpapierbörse ; อังกฤษ: Frankfurt Stock Exchange) เป็นตลาดหลักทรัพย์ในเมืองแฟรงค์เฟิร์ต ประเทศเยอรมนี มี Deutsche Börse เป็นเจ้าของและดำเนินการ โดยบริษัทนี้เป็นเจ้าของบริษัทเคลียริ่ง Clearstream ด้วย \n",
            "\n",
            "เป็นเจ้าของ:('ดิสนีย์', 'เอฟเอ็กซ์')\n",
            "นับตั้งแต่ทศวรรษ 1980 ดิสนีย์ได้ก่อตั้งและเข้าซื้อกิจการแผนกต่าง ๆ เพื่อทำการตลาดเนื้อหาสำหรับผู้ใหญ่มากกว่าปกติที่เกี่ยวข้องกับแบรนด์ระดับเรือธงของครอบครัว บริษัทเป็นที่รู้จักจากแผนกสร้างภาพยนตร์ ก็คือ เดอะวอลต์ดิสนีย์สตูดิโอส์ ซึ่งประกอบด้วย วอลต์ดิสนีย์พิกเชอส์, วอลต์ดิสนีย์แอนิเมชันสตูดิโอส์, พิกซาร์, มาร์เวลสตูดิโอส์, ลูคัสฟิล์ม, ทเวนตีท์เซนจูรีสตูดิโอส์, ทเวนตีท์เซนจูรีแอนิเมชันและเซิร์ชไลท์พิกเชอส์ ธุรกิจหลักอื่น ๆ ของดิสนีย์ ได้แก่ แผนกในโทรทัศน์, การออกอากาศ, สื่อสตรีมมิง, รีสอร์ทสวนสนุก, สินค้าอุปโภคบริโภค, สิ่งพิมพ์และการดำเนินงานระหว่างประเทศ ดิสนีย์เป็นเจ้าของและดำเนินการ เครือข่ายออกอากาศเอบีซี ซึ่งประกอบด้วยเครือข่ายเคเบิลโทรทัศน์ เช่น ดิสนีย์แชนแนล, อีเอสพีเอ็น, ฟรีฟอร์ม, เอฟเอ็กซ์และเนชั่นแนลจีโอกราฟิก นอกจากนี้ยังมีแผนกสิ่งพิมพ์, การขายสินค้า, เพลงและโรงละคร บริการสตรีมมิงส่งตรงถึงลูกค้า เช่น ดิสนีย์+, อีเอสพีเอ็น+, ฮูลูและฮอตสตาร์ และ วอลต์ดิสนีย์พาร์กส์, อิกซ์เพียเรียนซ์แอนด์พอร์ดักส์ กลุ่มของสวนสนุก 14 แห่ง, โรงแรมรีสอร์ทและสายการเดินเรือทั่วโลก ตัวการ์ตูน มิกกี้ เมาส์ สร้างโดย วอลต์ ดิสนีย์และอับ ไอเวิร์กส์ ทำหน้าที่เป็นตัวนำโชคอย่างเป็นทางการของบริษัท\n",
            "\n",
            "เป็นเจ้าของ:('บริษัทจํากัด', 'บริษัทจํากัด(มหาชน')\n",
            "บริษัทมหาชน คือ บริษัทจำกัด ซึ่งตั้งขึ้นตาม พ.ร.บ. บริษัท มหาชน พ.ศ. 2535 โดยมีข้อกำหนดให้บริษัทซึ่งดำเนินธุรกิจอยู่แล้ว สามารถนำหุ้นจำนวนหนึ่งของบริษัทออกจำหน่ายให้ประชาชนทั่วไปได้ ประชาชนผู้ซื้อหุ้นจึงเป็นเจ้าของกิจการนั้นตามสัดส่วนของหุ้นที่ถืออยู่ และหุ้นนี้อาจขายให้ผู้อื่นได้ตามราคาหุ้นในแต่ละวัน ผู้ที่ดำเนินการขายและซื้อหุ้นของบริษัทจำกัด (มหาชน) คือ ตลาดหลักทรัพย์ โดยในภาษาอังกฤษใช้คำว่า Public Company Limited แล้วย่อได้เป็น Pcl หรือ PCL (Public Company Limited) เพื่อแสดงว่าเป็นบริษัทจำกัด ประเภทมหาชน\n",
            "\n",
            "เป็นเจ้าของ:('นัมบะ', 'บริษัทเคคเคคอร์เปอเรชัน')\n",
            "ปัจจุบันนอกจากเป็นนักพากย์แล้ว นัมบะยังเป็นเจ้าของบริษัท เคคเคคอร์เปอเรชัน ซึ่งเป็นบริษัทเอเจนซี่รับจัดหานักพากย์อีกด้วย โดยที่ มายูมิ โช ภรรยาของเขา ก็สังกัดอยู่ที่ค่ายนี้เช่นกัน \n",
            "\n",
            "เป็นเจ้าของ:('อุตสึมิ', 'เคนโปรดักชัน')\n",
            "นอกจากเป็นนักพากย์แล้ว อุตสึมิยังเป็นเจ้าของบริษัทเอเจนซี่รับจัดหานักพากย์ที่ชื่อว่า เคนโปรดักชัน อีกด้วย โดยมีภรรยาคือ มิจิโกะ โนมูระ อดีตเจ้าของเสียง ชิซุกะ ในเรื่องโดราเอมอน เป็น 1 ในคณะกรรมการบริหารของบริษัท \n",
            "\n",
            "เป็นเจ้าของ:('ผู้ช่วยศาสตราจารย์ดร.ไขศรีภักดิ์สุขเจริญ', 'บริษัทสถาปนิก<unk>’<unk><unk>imited')\n",
            "ผู้ช่วยศาสตราจารย์ ดร. ไขศรี ภักดิ์สุขเจริญ (9 เมษายน 2509 ) สถาปนิกหญิงชาวไทย รองคณบดี คณะสถาปัตยกรรมศาสตร์ จุฬาลงกรณ์มหาวิทยาลัย และเป็นเจ้าของบริษัทสถาปนิก AP’STRACT Limited ร่วมกับ อาจารย์อนุสรณ์ ภักดิ์สุขเจริญ กรรมการสภาสถาปนิกชุดที่ 4 (2553-2556) และชุดที่ 6 (2561-2564) ในตำแหน่งอุปนายกคนที่ 1 ปัจจุบันดำรงตำแหน่งนายก สมาคมสถาปนิกผังเมืองไทย (Thai Urban Designers Association) วาระ พ.ศ. 2562-2564 ด้วย\n",
            "\n",
            "เป็นเจ้าของ:('ปราจินเอี่ยมลําเนา', 'กรังค์ปรีซ์')\n",
            "ปราจิน เอี่ยมลำเนา เป็นเจ้าของบริษัทในเครือกรังค์ปรีซ์ ได้รับฉายาว่าเจ้าพ่อมอเตอร์โชว์\n",
            "\n",
            "เป็นเจ้าของ:('เบนแอนด์เจอร์รีส์', 'ยูนิลีเวอร์')\n",
            "ในปัจจุบัน เบนแอนด์เจอร์รีส์ เป็นเจ้าของโดย ยูนิลีเวอร์\n",
            "\n",
            "เป็นเจ้าของ:('<unk><unk>riedrichshafen', 'ไมบัค')\n",
            "ในปีพ.ศ. 2503 ไดม์เลอร์-เบนซ์ ได้ซื้อหุ้นส่วนใหญ่บริษัท และได้เปลี่ยนชื่อบริษัทเป็น Maybach Mercedes-Benz Motorenbau GmbH และในปี พ.ศ. 2512 ได้กลายมาเป็น MTU Friedrichshafen ปัจจุบันไดม์เลอร์เป็นเจ้าของเครื่องหมายการค้าของไมบัค โดยบริษัทตั้งอยู่ที่เมืองชตุทท์การ์ท\n",
            "\n",
            "เป็นเจ้าของ:('กมลสุโกศลแคลปป์', 'เลิฟอิส')\n",
            "เลิฟอีส () เป็นสังกัดค่ายเพลงที่พัฒนามาจากเบเกอรี่มิวสิค ก่อตั้งโดย บอย โกสิยพงษ์ และ กมล สุโกศล แคลปป์ ก่อตั้งในปี พ.ศ. 2548 ดำเนินธุรกิจเพลงในรูปแบบ \"สหกรณ์ดนตรี\" ที่ศิลปินเป็นเจ้าของลิขสิทธิ์ แต่มอบลิขสิทธิ์ให้เลิฟอิสดูแลเป็นเวลา 10 ปี และมีการแบ่งกำไรทุกช่องทางคนละครึ่ง มีผลงานแรก คือ อัลบั้ม \"Love Is Vol.1\" รวมผลงานอัลบั้มของศิลปินหน้าเก่าและใหม่ ต่อมาในปี พ.ศ. 2552 กมลได้ลาออกเนื่องจากถึงจุดอิ่มตัวในวงการดนตรี และเกิดการเปลี่ยนแปลงภายในบริษัทขึ้น\n",
            "\n",
            "เป็นเจ้าของ:('ดุลย์', '<unk><unk>pree')\n",
            "สามสมาชิกของฟรายเดย์ยังไปทำงานส่วนตัวหรือร่วมงานกับคนอื่นบ้าง อย่าง ดุลย์ ก็เป็นเจ้าของซิงเกิ้ลชื่อ หันมามอง (Please Turn Around) และ EP Spree ส่วน หนึ่ง เป็นเจ้าของสังกัดค่ายเพลงเล็กๆ ชื่อ โน มอร์ เบลท์ส (No More Belts) และผลิตผลงานของตัวเองในนาม สลีปเปอร์วัน ตั้งแต่ EP Pls. Listen (2002), Sleeping Letter (2003), EP Puppy love(2003), EP Post-Past (2004), Difference Part 1 (2005), Difference Part 2 (2006), EP Finale (2006), Complete Sleeping Letter (2008), Ordinary (2008), Ferry (2009) และ Self (2012)\n",
            "\n",
            "เป็นเจ้าของ:('เอเชียไทม์ออนไลน์', 'บริษัทผู้จัดการ360จํากัด')\n",
            "นิวส์วัน () เป็นสถานีข่าว 24 ชั่วโมงแห่งที่สองของประเทศไทย (แห่งแรกของประเทศไทยคือ เนชั่น แชนแนล) เดิมมีชื่อว่า 11NEWS1 ดำเนินการโดย บริษัท ไทยเดย์ดอตคอม จำกัด โดยเดิมออกอากาศทางยูบีซี 9 ปัจจุบันแพร่ภาพออกอากาศทางดาวเทียม เป็นสถานีโทรทัศน์ผ่านดาวเทียมที่มีบริษัท เอเชียไทม์ออนไลน์ จำกัด เขตปกครองพิเศษฮ่องกง เป็นเจ้าของ บริษัท ผู้จัดการ 360 จำกัด ประเทศไทย\n",
            "\n",
            "เป็นเจ้าของ:('ยันคีส', 'ออทโท')\n",
            "เดือนพฤษภาคม พ.ศ. 2483 เยอรมนีรุกรานเนเธอร์แลนด์ รัฐบาลผู้คุกคามเริ่มราวีชาวยิวโดยบังคับใช้กฎหมายเหยียดชนชาติอย่างไม่เป็นธรรม มีการขึ้นทะเบียนและแบ่งแยกชนชั้นอย่างชัดเจน มาร์กอทและอันเนอเป็นเด็กเรียนเก่งและมีเพื่อนมาก แต่ด้วยกฎหมายที่ไม่เป็นธรรมบังคับให้เด็กชาวยิวต้องเรียนในโรงเรียนยิวเท่านั้น ทั้งสองจึงต้องย้ายไปอยู่ศูนย์ศึกษาของชาวยิวเท่านั้น เดือนเมษายน พ.ศ. 2484 ออทโท ฟรังค์ พยายามปกป้องบริษัทเพคทาคอนจากการถูกยึดกิจการเนื่องจากเป็นธุรกิจของชาวยิว เขาโอนหุ้นของเขาในเพคทาคอนไปให้แก่โยฮันเนิส ไกลมัน แล้วลาออกจากตำแหน่งกรรมการ ทรัพย์สินของบริษัททั้งหมดถูกโอนไปยังบริษัทคีสและคณะ ซึ่งมียัน คีส เป็นเจ้าของ เดือนธันวาคม พ.ศ. 2484 ออทโททำอย่างเดียวกันกับบริษัทโอเพคทา ทำให้ธุรกิจสามารถดำเนินต่อไปได้โดยไม่ปรากฏพิรุธ ออทโท ฟรังค์สามารถมีรายได้บ้าง แม้จะน้อยลงกว่าเดิมแต่ก็เพียงพอจะช่วยยังชีพครอบครัวของเขาไว้ได้\n",
            "\n",
            "เป็นเจ้าของ:('กอร์เนลิสเซยก์', 'ออทโท')\n",
            "กอร์เนลิส เซยก์ อดีตผู้อำนวยการมูลนิธิอันเนอ ฟรังค์ และประธานศูนย์สหรัฐอเมริกาของมูลนิธิการศึกษาการฆ่าล้างเผ่าพันธุ์ ประกาศในปี พ.ศ. 2542 ว่า เขาเป็นเจ้าของกระดาษบันทึก 5 แผ่น ซึ่งออทโท ฟรังค์ ดึงออกจากสมุดบันทึกก่อนจะนำไปตีพิมพ์ เซยก์อ้างว่าออทโท ฟรังค์ มอบกระดาษบันทึกเหล่านั้นให้เขาเอง ไม่นานก่อนที่ออทโทจะเสียชีวิตในปี พ.ศ. 2523 เนื้อหาบันทึกส่วนที่หายไปเกี่ยวข้องกับการที่อันเนอ ฟรังค์ วิพากษ์วิจารณ์ชีวิตแต่งงานของพ่อแม่ของเธอ และยังพรรณนาความรู้สึกไม่พอใจต่อแม่ของเธอด้วย ในเวลาต่อมาเรื่องนี้ก็กลายเป็นที่ถกเถียงกัน เพราะเซยก์เรียกร้องสิทธิ์ในการตีพิมพ์บันทึก 5 แผ่นนี้ และคิดจะนำไปขายเพื่อระดมทุนให้แก่ศูนย์สหรัฐอเมริกาของเขา สถาบันเอกสารหลักฐานสงครามแห่งเนเธอร์แลนด์ซึ่งเป็นเจ้าของเดิมของต้นฉบับ เรียกร้องให้เขาคืนบันทึกทั้ง 5 แผ่นนี้ ในปี พ.ศ. 2543 กระทรวงศึกษาธิการ วัฒนธรรม และวิทยาศาสตร์แห่งเนเธอร์แลนด์ ยินยอมบริจาคเงินจำนวน 300,000 เหรียญสหรัฐให้แก่มูลนิธิของเซยก์ แล้วบันทึกทั้ง 5 แผ่นจึงได้ส่งคืนในปี พ.ศ. 2544 หลังจากนั้นจึงได้นำบันทึกทั้ง 5 แผ่นผนวกรวมเข้าไปในหนังสือบันทึกฉบับพิมพ์ครั้งใหม่ ๆ ด้วย\n",
            "\n",
            "เป็นเจ้าของ:('วอลต์ดิสนีย์สตูดิโอส์', 'บริษัทเดอะวอลต์ดิสนีย์')\n",
            "พิกซาร์แอนิเมชันสตูดิโอส์ () หรือเรียกกันทั่วไปว่า พิกซาร์ เป็นสตูดิโอคอมพิวเตอร์แอนิเมชันอเมริกัน เป็นที่รู้จักจากภาพยนตร์คอมพิวเตอร์แอนิเมชันที่ประสบความสำเร็จทั้งในด้านคำวิจารณ์และในเชิงพาณิชย์ ตั้งอยู่ที่เมือง เอเมอรีวิลล์, รัฐแคลิฟอร์เนีย และเป็นบริษัทย่อยของ วอลต์ดิสนีย์สตูดิโอส์ ที่เป็นเจ้าของโดย บริษัทเดอะวอลต์ดิสนีย์\n",
            "\n",
            "เป็นเจ้าของ:('เจริญสิริวัฒนภักดี', 'บริษัทไทยเบฟเวอเรจจํากัด(มหาชน')\n",
            "โรงงานเบียร์ช้าง เป็นโรงงานเบียร์ที่มีกำลังการผลิตสูงสุดในเอเชียตะวันออกเฉียงใต้ ตั้งอยู่บนถนนพหลโยธิน อำเภอวังน้อย จังหวัดพระนครศรีอยุธยา มีกำลังการผลิต 600 ล้านลิตรต่อปี โดยมีบุคคลสำคัญคือเจริญ สิริวัฒนภักดีเป็นเจ้าของในฐานะผู้ถือหุ้นใหญ่ บริษัท ไทยเบฟเวอเรจ จำกัด (มหาชน)ซึ่งปัจจุบัน เป็นบริษัทมหาชนที่จดทะเบียนอยู่ในตลาดหลักทรัพย์สิงคโปร์\n",
            "\n"
          ]
        }
      ],
      "source": [
        "with open('th_wiki.txt') as text: \n",
        " for sent in text:\n",
        "   ner_list = []\n",
        "   if re.search(pat_work_at1,sent) and len(pat_work_at1_set) < 40:\n",
        "    ner_list = get_ner(sent)\n",
        "    if ner_list is not None:\n",
        "     tuples = find_tuples(ner_list,'เจ้าของ',['person','orgcorp'],['org_political','orgcorp'])\n",
        "     if tuples is not None and tuples not in pat_work_at1_set and tuples[0] != tuples[1] and tuples[0] != '<unk>' and tuples[1] != '<unk>':\n",
        "       pat_work_at1_set.add(tuples)\n",
        "       print('{relation}:{tuples}'.format(relation=pat_work_at1, tuples=tuples))\n",
        "       print(sent)\n",
        "\n",
        "   if re.search(pat_work_at2,sent) and len(pat_work_at2_set) < 30:\n",
        "    ner_list = get_ner(sent)\n",
        "    if ner_list is not None:\n",
        "     tuples = find_tuples(ner_list,'พัฒนา',['org_political','orgcorp'],['person','orgcorp'])\n",
        "     if tuples is not None and tuples not in pat_work_at2_set and tuples[0] != tuples[1] and tuples[0] != '<unk>' and tuples[1] != '<unk>':\n",
        "       pat_work_at2_set.add(tuples)\n",
        "       print('{relation}:{tuples}'.format(relation=pat_work_at2, tuples=tuples))\n",
        "       print(sent)\n",
        "\n",
        "  #  if re.search(pat_work_at3,sent) and len(pat_work_at3_set) < 15:\n",
        "  #   ner_list = get_ner(sent)\n",
        "  #   if ner_list is not None:\n",
        "  #    tuples = find_tuples(ner_list,'ก่อตั้ง',['person','orgcorp'],['org_political','orgcorp'])\n",
        "  #    if tuples is not None and tuples[0] != tuples[1] and tuples[0] != '<unk>' and tuples[1] != '<unk>':\n",
        "  #      pat_work_at3_set.add(tuples)\n",
        "  #      print('{relation}:{tuples}'.format(relation=pat_work_at3, tuples=tuples))\n",
        "  #      print(sent)"
      ]
    },
    {
      "cell_type": "markdown",
      "metadata": {
        "id": "bkZ5f6xUmbiH"
      },
      "source": [
        "# Child of"
      ]
    },
    {
      "cell_type": "code",
      "execution_count": null,
      "metadata": {
        "colab": {
          "base_uri": "https://localhost:8080/"
        },
        "id": "6jOu_iExlSsm",
        "outputId": "696a9e3e-758b-4f27-c7d3-fd90cdac5464"
      },
      "outputs": [
        {
          "name": "stdout",
          "output_type": "stream",
          "text": [
            "มีบุตรธิดา.*คือ :('สกุลเดิมศกุนตาภัย', 'ปรางเวชชาชีวะ')\n",
            "อภิสิทธิ์ เวชชาชีวะ สมรสกับรองศาสตราจารย์ พิมพ์เพ็ญ เวชชาชีวะ (สกุลเดิม ศกุนตาภัย) อดีตทันตแพทย์ ผู้ช่วยศาสตราจารย์ประจำภาควิชาคณิตศาสตร์ คณะวิทยาศาสตร์ จุฬาลงกรณ์มหาวิทยาลัย มีบุตรธิดาด้วยกัน 2 คนคือ ปราง เวชชาชีวะ และ ปัณณสิทธิ์ เวชชาชีวะ ปัณณสิทธิ์นั้นเป็นโรคออทิซึมมาแต่กำเนิด ศาลเยาวชนและครอบครัวกลางจึงสั่งให้เป็นคนเสมือนไร้ความสามารถ และให้อยู่ในความพิทักษ์ของอภิสิทธิ์ผู้เป็นบิดาตั้งแต่วันที่ 3 กันยายน พ.ศ. 2555โดยบุตรชายของ อภิสิทธิ์ เวชชาชีวะ เรียนที่ โรงเรียนสาธิตแห่งมหาวิทยาลัยเกษตรศาสตร์ นาย อภิสิทธิ์ เวชชาชีวะ จึงได้เข้าร่วม เป็น สมาชิก ชมรมผู้ปกครองเพื่อเด็กพิเศษ โรงเรียนสาธิตแห่งมหาวิทยาลัยเกษตรศาสตร์ เช่นเดียวกับ ทนง พิทยะ\n",
            "\n",
            "เป็นบุตรชายของ:('โยฮันชเตราส์', 'โยฮันชเตราส์')\n",
            "โยฮัน ชเตราส์ ผู้บุตร เป็นบุตรชายของโยฮัน ชเตราส์ ผู้พ่อ ซึ่งเป็นคีตกวีเช่นกัน น้องชายของเขา 2 คน คือ โยเซฟ ชเตราส์ กับ เอด๊วด ชเตราส์ ก็เป็นนักประพันธ์เพลง แต่โยฮันที่สองเป็นคนที่โด่งดังที่สุดในตระกูล เขาเป็นที่รู้จักในนามของ \"ราชาเพลงวอลซ์\" ในช่วงที่เขายังมีชีวิตอยู่ และเป็นผู้สร้างให้เกิดกระแสความนิยมเพลงวอลซ์ในกรุงเวียนนา ตลอดช่วงคริสต์ศตวรรษที่ 19 ชเตราส์ได้กลายเป็น \"ราชาเพลงวอลซ์\" เนื่องจากได้ปฏิวัติรูปแบบวอลซ์ด้วยการยกระดับเพลงระบำชาวนาอันต่ำต้อย ขึ้นมาเป็นเพลงเพื่อให้ความบันเทิงแก่บุคคลชั้นสูงในราชสำนักฮับส์บวร์กได้ เขาไม่เพียงแค่ปฏิวัติเพลงวอลซ์เท่านั้น แต่งานของเขายังโดดเด่นกว่าคีตกวีในยุคเดียวกัน ไม่ว่าจะเป็น โยเซฟ แลนเนอร์ และ โยฮัน ชเตราส์ ผู้พ่อ รวมทั้งยังได้สุขสำราญกับชื่อเสียงที่มากกว่าอีกด้วย เพลงโพลก้า กับเพลงมาร์ชของเขายังเป็นที่รู้จักกันดี รวมถึงจุลอุปรากร ชื่อว่า \"Die Fledermaus\".\n",
            "\n",
            "เป็นทายาทของ:('ซึนาเดะ', 'เซนจูฮาชิรามะ')\n",
            "อุจิวะ มาดาระ เกลียดชังในตัวซึนาเดะซึ่งเป็นทายาทของเซนจู ฮาชิรามะอย่างมาก แต่ก็กล่าวชื่นชมความแข็งแกร่งของซึนาเดะว่าแม้จะมีความเร็วช้ากว่าไรคาเงะรุ่นที่4 แต่พละกำลัง\"แข็งแกร่ง\" กว่า ,และในด้านของความแข็งแรงของกล้ามเนื้อ ซึนาเดะมีเหนือกว่าไรคาเงะรุ่นที่4\n",
            "\n",
            "เป็นทายาทของ:('ซึซึกิโซโนะโกะ', 'มาโคโตะเคียวโคคุ')\n",
            "ซึซึกิ โซโนะโกะ เป็นทายาทของตระกูลมหาเศรษฐีที่มั่งคั่ง ในภายหลัง เธอมีมาโคโตะ เคียวโคคุ แฟนหนุ่มที่เป็นนักคาราเต้คอยปกป้องเธอในแต่ละครั้ง นอกจากนี้ซึซึกิ โซโนโกะยังมีเพื่อนสนิทคนสำคัญคือโมริ รันซึ่งเป็นเพื่อนร่วมชั้นของเธอ\n",
            "\n",
            "เป็นทายาทของ:('ฮิวงะฮินาตะ', 'นารูโตะ')\n",
            "ฮิวงะ ฮินาตะ () ฉายา เจ้าหญิงแห่งเนตรสีขาว มีเนตรสีขาวและมวยอ่อนเป็นทายาทของตระกูลฮิวงะตระกูลหลัก เป็นผู้หญิงที่ค่อนข้างขี้อายและ แอบชอบและชื่นชมในความเป็นนินจาของ นารูโตะมาก เวลาเจอหน้านารูโตะเมื่อไร เธอจะเงียบและหน้าแดง จนบางครั้งเป็นลมทันที มีบทบาทมากขึ้นในภาคตำนานวายุสลาตัน ทั้งตอนตามหาซาสึเกะ เพนบุกหมู่บ้าน และสงครามนินจา \n",
            "\n",
            "เป็นบุตรชายของ:('อิหม่ามอะลี', 'มุฮัมมัดอิบน์ฮะนะฟียะฮ์')\n",
            "มุฮัมมัด อิบน์ อัลฮะนะฟียะฮ์ () เป็นบุตรชายของท่านอิมามอะลีกับนางเคาละฮ์ บินต์ ญะอฺฟัร แห่งเผ่าฮะนีฟะฮ์ นางจึงได้รับการเรียกขานว่า อัลฮะนะฟียะฮ์ (สตรีแห่งเผ่าฮะนีฟะฮ์) เมื่อครั้งที่ชาวยะมามะฮ์ ถูกกองทัพของอะบูบักร์โจมตี ฐานละเมิดกฎบัญญัติศาสนา ไม่จ่ายซะกาต พวกเขาถูกจับเป็นเชลยมาที่เมืองมะดีนะฮ์ ในนั้นมีนางเคาละฮ์ร่วมอยู่ด้วย ผู้คนในเผ่าฮะนีฟะฮ์จึงขอร้องอิหม่ามอะลีให้ช่วยเหลือนางไม่ให้ถูกขายเป็นทาส อิหม่ามอะลีจึงไถ่นางให้พ้นจากมือของพวกที่จับกุมนาง และสมรสกับนางในเวลาต่อมาจนกระทั่งนางได้บุตรกับอิมามอะลีนั่นคือมุฮัมมัด อิบน์ ฮะนะฟียะฮ์\n",
            "\n",
            "เป็นทายาทของ:('พล.อ.เฟื่องเฉลยอนิรุทธเทวา', 'อนิรุทธเทวา')\n",
            "บ้านพิษณุโลกมีกิตติศัพท์ร่ำลือกันว่าผีดุจนเป็นเหตุให้ พล.อ.เปรม ติณสูลานนท์ พักได้เพียง 2 วันเท่านั้น ก็ย้ายออกไปแต่เมื่อสื่อมวลชนไปสัมภาษณ์ พล.อ.เฟื่องเฉลย อนิรุทธเทวา ซึ่งเป็นทายาทของพระยาอนิรุทธเทวา ซึ่งเคยพักอาศัยอยู่ในบ้านหลังนี้เมื่อสมัยเด็กก็ได้รับการยืนยันว่าไม่เคยได้ยินเกี่ยวกับเรื่องผีดุแต่อย่างใดทั้ง ๆ ที่ตนอาศัยอยู่มาตั้งแต่เด็กจนหนุ่ม จนกระทั่งรัฐบาลจอมพล ป. พิบูลสงคราม ซื้อบ้านหลังนี้ไป แต่กิตติศัพท์เรื่องผีดุนี้ก็ได้รับการตอกย้ำ จนไม่มีนายกรัฐมนตรีคนใดย้ายเข้าไปพักอย่างเป็นทางการ แม้แต่ พล.อ.ชาติชาย ชุณหะวัณ ยังได้ใช้บ้านหลังนี้เป็นเพียงที่รับแขกเท่านั้น มีเพียงแต่นายกรัฐมนตรีคนสุดท้ายเพียงคนเดียวที่พำนักอยู่ในบ้านหลังนี้ได้นานที่สุดคือ นายชวน หลีกภัย เนื่องจากบ้านพักในซอยหมอเหล็งของนายชวนนั้นค่อนข้างเล็กและคับแคบ ขณะดำรงตำแหน่งนายกรัฐมนตรีจึงได้ย้ายเข้ามาพำนักในบ้านพิษณุโลก อย่างเป็นทางการทั้งสองสมัย โดยได้ใช้โซฟาในห้องทำงานซึ่งอยู่ด้านหน้าห้องนอนเป็นที่นอน และไม่ได้มีการใช้เตียงนอนภายในห้องนอนของบ้านแต่อย่างใดเนื่องจากเป็นให้เกียรติเจ้าของบ้าน จึงเป็นที่สงสัยกันว่าเหตุใด นายชวน หลีกภัย พำนักอยู่ในบ้านหลังนี้ได้นานกว่านายกรัฐมนตรีคนอื่น ๆ และหลังจาก นายชวน หลีกภัย แล้วก็ไม่มีนายกรัฐมนตรีคนใดใช้บ้านหลังนี้เป็นที่พำนักถึงปัจจุบัน มีเพียงแต่ใช้เป็นที่ประชุมและรับแขกเท่านั้น\n",
            "\n",
            "มีบุตรธิดา.*คือ :('หม่อมราชวงศ์พักตร์พริ้งทองใหญ่', 'หม่อมหลวงรองฤทธิ์ปราโมช')\n",
            "เขาสมรสกับ หม่อมราชวงศ์พักตร์พริ้ง ทองใหญ่ เมื่อ พ.ศ. 2479 มีบุตรธิดา 2 คน คือ หม่อมหลวงรองฤทธิ์ ปราโมช และ หม่อมหลวงวิสุมิตรา ปราโมช ต่อมาได้แยกกันอยู่กับหม่อมราชวงศ์พักตร์พริ้ง\n",
            "\n",
            "มีบุตรธิดา.*คือ :('ท่านผู้หญิงสิริสารสิน', 'พลตํารวจเอกเภาสารสิน')\n",
            "พจน์ สารสิน สมรสกับท่านผู้หญิงสิริ สารสิน (สกุลเดิม โชติกเสถียร) มีบุตรธิดาทั้งหมด 5 คน คือ เป็นนักธุรกิจและนักการเมืองที่มีชื่อเสียง พลตำรวจเอกเภา สารสิน เป็นอดีตอธิบดีกรมตำรวจ บัณฑิต บุณยะปาณะ เป็นอดีตปลัดกระทรวงการคลัง อาสา สารสิน เป็นอดีตราชเลขาธิการใน พระบาทสมเด็จพระมหาภูมิพลอดุลยเดชมหาราช บรมนาถบพิตร และเป็นอดีตรัฐมนตรีว่าการกระทรวงการต่างประเทศ\n",
            "\n",
            "เป็นทายาทของ:('ซาราด็อคแบรนดี้บั๊ก', 'เอสเมอรัลดาตุ๊ค')\n",
            "เมอเรียด็อค แบรนดี้บั๊ก หรือชื่อเล่นในหมู่เพื่อนว่า เมอร์รี่ เป็นตัวละครในจินตนิยายเรื่อง เดอะลอร์ดออฟเดอะริงส์ ซึ่งประพันธ์โดย เจ. อาร์. อาร์. โทลคีน เป็นชาวฮอบบิท ในตระกูลใหญ่แห่งบั๊กแลนด์ เขาเกิดในปีที่ 2982 ของยุคที่สาม เป็นลูกชายคนเดียวของซาราด็อค แบรนดี้บั๊ก ผู้นำแคว้นบั๊กแลนด์ เขาจึงเป็นทายาทของผู้ครองแคว้น แม่ของเขาคือเอสเมอรัลดา ตุ๊ค น้องสาวของเธนพาลาดิน ตุ๊ค เมอร์รี่จึงเป็นลูกพี่ลูกน้องกับปิ๊ปปิ้น ซึ่งเป็นเพื่อนสนิทของเขาด้วย\n",
            "\n",
            "มีบุตรธิดา.*คือ :('เอโอมุนด์', 'เอโอแมร์')\n",
            "เธโอเดนเป็นโอรสองค์เดียวของกษัตริย์เธงเกลแห่งอาณาจักรโรฮัน และได้สืบทอดเป็นกษัตริย์แห่งโรฮันต่อมา เธโอเดนมีพี่สาวสามคนและน้องสาวหนึ่งคนนามว่าเธโอดวีน น้องสาวผู้นี้แต่งงานกับเอโอมุนด์ แม่ทัพใหญ่แห่งริดเดอร์มาร์ค มีบุตรธิดาคือ เอโอแมร์ และเอโอวีน \n",
            "\n",
            "มีบุตรธิดา.*คือ :('นางงามเพ็ญ', 'นางเพ็ญธิดาอินทรสุขศรี')\n",
            "นายธีรศักดิ์ สมรสกับ นางงามเพ็ญ มีบุตรธิดา 3 คน คือ นางเพ็ญธิดา อินทรสุขศรี นางธรานุช กรรณสูต-วงศ์ไวศยวรรณ และนายเธียรธำรง กรรณสูต นายธีรศักดิ์ เสียชีวิตลงด้วยอาการหัวใจล้มเหลว ในเช้ามืดวันที่ 7 มกราคม พ.ศ. 2553 เวลาประมาณ 01.30 น. รวมอายุ 79 ปี 8 เดือน\n",
            "\n",
            "เป็นบุตรชายของ:('พระเจ้าบุเรงนอง', 'เมงเยสีหตู')\n",
            "พระเจ้าบุเรงนอง ในนิยายผู้ชนะสิบทิศ กำเนิดเป็นบุตรของสามัญชนที่มีอาชีพปาดตาล แต่ข้อเท็จจริงแล้ว พระองค์เองมีเชื้อกษัตริย์ในตัว โดยเป็นบุตรชายของเมงเยสีหตู (สำเนียงพม่าออกว่า มินแยตี่หะตู่) ขุนนางระดับสูงผู้หนึ่งของพระเจ้าเมงจีโย พระราชบิดาของพระเจ้าตะเบ็งชะเวตี้ เมงเยสีหตูผู้นี้ เชื่อว่าเป็นหนึ่งในผู้ร่วมสถาปนาอาณาจักรตองอูร่วมกับพระเจ้าเมงจีโย และได้รับการอวยยศเป็นถึง เจ้าเมืองตองอู เมืองหลวงอีกด้วย\n",
            "\n",
            "เป็นบุตรชายของ:('ฮิระงะโทะโมะมะซะ', 'มะซะโกะ')\n",
            "ตระกูลโฮโจยังคงดำเนินการกำจัดคู่แข่งต่อไป เช่น ฮะตะเกะยะมะ ชิเงะตะดะ () ในค.ศ. 1205 และตระกูลวะดะ () ในค.ศ. 1213 ในค.ศ. 1205 โทะกิมะซะได้สมคบคิดกับภรรยาคนใหม่ของตนคือนางมะกิ () วางแผนลอบสังหารโชกุนซะเนะโตะโมะเพื่อที่จะยกฮิระงะ โทะโมะมะซะ () ผู้เป็นบุตรเขยของตนขึ้นเป็นโชกุนแทน ทำให้มะซะโกะบุตรสาวและโฮโจ โยะชิโตะกิ () บุตรชายผู้สืบทอดตำแหน่งของตนไม่พอใจ จึงเข้าทำการรัฐประหารยึดอำนาจจากบิดาของตน บังคับให้โทะกิมะซะปลงผมบวชเป็นพระภิกษุแล้วเนรเทศไปยังแคว้นอิซุ โยะชิโตะกิจึงได้เป็น\"ชิกเก็ง\"ต่อจากบิดา เมื่อโชกุนซะเนะโตะโมะไม่มีทายาท นางมะซะโกะจึงเดินทางไปยังเมืองเกียวโตเข้าเฝ้าอดีตจักรพรรดิโกะ-โทะบะในค.ศ. 1219 เพื่อทูลขอเจ้าชายมาดำรงตำแหน่งเป็นโชกุน แต่กลับได้คุโจ โยะริสึเนะ () บุตรชายของคัมปะกุอายุเพียงหนึ่งปีมาเป็นทายาทโชกุน ในปีเดียวกันนั้นเองโชกุนซะเนะโตะโมะถูกลอบสังหารโดยภิกษุคุเงียว () ซึ่งเป็นบุตรชายของอดีตโชกุนโยะริอิเอะ ทำให้ตระกูลเซวะเง็นจิที่ดำรงตำแหน่งโชกุนต้องสิ้นสุดลง\n",
            "\n",
            "เป็นบุตรชายของ:('นางกุลยาเผ่าจินดา', 'นายยุทธพงษ์เผ่าจินดา')\n",
            "อนุพงษ์ เผ่าจินดา เกิดเมื่อวันที่ 10 ตุลาคม พ.ศ. 2492 เป็นบุตรชายของ พันเอก (พิเศษ) ประเชาวน์ กับนางบุญเรือน เผ่าจินดา มีชื่อเล่นว่า ป็อก ต่อมาได้สมรสกับนางกุลยา เผ่าจินดา มีบุตร-ธิดา 2 คน ชื่อ นายยุทธพงษ์ เผ่าจินดา และนางสาววิมลิน เผ่าจินดา วงดนตรีที่ชอบคือ เดอะบีทเทิลส์ ส่วนเครื่องดนตรีที่ชอบคือกลอง\n",
            "\n"
          ]
        }
      ],
      "source": [
        "with open('th_wiki.txt') as text:\n",
        " for sent in text:\n",
        "   if re.search(pat_child_of1,sent) and len(pat_child_of1_set) < 10:\n",
        "    ner_list = get_ner(sent)\n",
        "    if ner_list is not None:\n",
        "     tuples = find_tuples(ner_list,'บุตร','person','person')\n",
        "     if tuples is not None and tuples[0] != tuples[1] and tuples[0] != '<unk>' and tuples[1] != '<unk>':\n",
        "      #  tuples = (tuples[1],tuples[0])      \n",
        "       pat_child_of1_set.add(tuples)\n",
        "       print('{relation}:{tuples}'.format(relation=pat_child_of1, tuples=tuples))\n",
        "       print(sent)\n",
        "\n",
        "   if re.search(pat_child_of2,sent) and len(pat_child_of2_set) < 10:\n",
        "    ner_list = get_ner(sent)\n",
        "    if ner_list is not None:\n",
        "     tuples = find_tuples(ner_list,'บุตร','person','person')\n",
        "     if tuples is not None and tuples[0] != tuples[1] and tuples[0] != '<unk>' and tuples[1] != '<unk>':\n",
        "       pat_child_of2_set.add(tuples)\n",
        "       print('{relation}:{tuples}'.format(relation=pat_child_of2, tuples=tuples))\n",
        "       print(sent)\n",
        "\n",
        "   if re.search(pat_child_of3,sent) and len(pat_child_of3_set) < 10:\n",
        "    ner_list = get_ner(sent)\n",
        "    if ner_list is not None:\n",
        "     tuples = find_tuples(ner_list,'ทายาท','person','person')\n",
        "     if tuples is not None and tuples[0] != tuples[1] and tuples[0] != '<unk>' and tuples[1] != '<unk>':\n",
        "       pat_child_of3_set.add(tuples)\n",
        "       print('{relation}:{tuples}'.format(relation=pat_child_of3, tuples=tuples))\n",
        "       print(sent)"
      ]
    },
    {
      "cell_type": "code",
      "execution_count": null,
      "metadata": {
        "colab": {
          "base_uri": "https://localhost:8080/"
        },
        "id": "kjwqn38TiBpB",
        "outputId": "a465247f-b8db-463f-c047-2124211d9120"
      },
      "outputs": [
        {
          "name": "stdout",
          "output_type": "stream",
          "text": [
            "<s>||ดํารง|ตําแหน่ง||เป็น||ศ|าสตราจารย์||พิเศษ|||ภาควิชา||ภาษา||ตะวันออก|||จุฬาลงกรณ์||มหาวิทยาลั|ย||และ||ดํารง|ตําแหน่ง||เป็น||ภาคี||สมาชิก|||สาขา||ศาสน|ศาสตร์|||สํานัก||ธรรมศาสตร์|และ||การเมือง|||ราช|บัณฑิต|ย|สถาน||</s> \n",
            "\n",
            "[12, 18]       org_edu        ภาควิชาภาษาตะวันออก\n",
            "[19, 24]       org_edu        จุฬาลงกรณ์มหาวิทยาลัย\n",
            "[19, 24]       org_edu        จุฬาลงกรณ์มหาวิทยาลัย\n",
            "[36, 55]       org_edu        สาขาศาสนศาสตร์สํานักธรรมศาสตร์และการเมืองราชบัณฑิตยสถาน\n",
            "[42, 46]       org_edu        สํานักธรรมศาสตร์\n",
            "[44, 46]       org_edu        ธรรมศาสตร์\n",
            "<s>||ทํางาน||เป็น|อาจารย์||ประจํา||ภาควิชา||ฟิสิกส์|||คณะวิทยา|ศาสตร์|||จุฬาลงกรณ์||มหาวิทยาลั|ย|||ปี|||พ|.|ศ|.|||25|13||หัวหน้า||ภาควิชา||ค|อมพิวเตอร์||ธุรกิจ|||วิทยาลัย||อัสสัมชัญ||บริหาร|ธุรกิจ|||ใน||ปี|||พ|.|ศ|.|||2521|||เป็น||กรรมการ||วิชาการ|||จุฬาลงกรณ์||มหาวิทยาลั|ย|||ใน||ปี|||พ|.|ศ|.|||2526|||ทํางาน||เป็น||กรรมการ|และ||เป็นหนึ่ง||ใน||ผู้ก่อตั้ง|ศูนย์||เทคโนโลยี||อิเล็กทรอน|ิกส์|และ||ค|อมพิวเตอร์||แห่งชาติ|||หรือ|||เน|ค|เทค|||ขึ้น||ใน||ปี|||พ|.|ศ|.|||2529|||เป็น||กรรมการ|และ||เลขานุการ|||โครงการ||สารานุกรม||ไทย|สําหรับ||เยาวชน||โดย||พระราช|ประสงค์||ใน||พระ||บาท||สมเด็จ|พระเจ้า|อยู่|หัว|||เป็น||ที่ปรึกษา||รัฐมนตรี||ว่าการ||กระทรวง||วิทยา|ศาสตร์|และ||เทคโนโลยี|||ใน||ปี|||พ|.|ศ|.|||2521|||เป็น||ผู้ก่อตั้ง|และ|ประธาน|ศูนย์||ฝึก|เด็ก||ที่||มีปัญหา||ทาง||สมอง||“|||ประ|ภาค|า|ร||ปัญญา|||”|||มูลนิธิ|ช่วย|คน|ปัญญาอ่อน||แห่ง||ประเทศ||ไทย|||ใน||พระ||บรม||ร|า|ชิ|นู|ป|ถั|ม|ภ|์|||เป็น||ผู้ก่อตั้ง|และ||กรรมการ||เลขาธิการ|||มูลนิธิ||สถาบัน||ราชพฤกษ์|||ใน||ปี|||พ|.|ศ|.|||2524||ต่อมา|เมื่อ|||25|||กรกฎาคม|||พ|.|ศ|.|||2540|||ก็ได้||เป็น||นายก||สมาคม||โรงเรียน|เตรียม|อุดมศึกษา||(||เป็น||นายก||สมาคม||หญิง|คน||แรก||)||และ|ตั้งแต่||ปี|||พ|.|ศ|.|||2529|||จนถึง|ปัจจุบัน|||เป็น||กรรมการ||สํานักงาน||พัฒนา||วิทยา|ศาสตร์||เทคโนโลยี||แห่งชาติ|||เป็น||นายก||สภา||มหาวิทยาลั|ย||ราชภัฏ||สวน||ดุสิต|และ||คณะกรรมการ||สมาคม||แห่ง||สถาบัน||พระ||ปก|เกล้า||</s> \n",
            "\n",
            "[13, 22]       org_edu        คณะวิทยาศาสตร์จุฬาลงกรณ์มหาวิทยาลัย\n",
            "[17, 19]       org_edu        จุฬาลงกรณ์\n",
            "[23, 35]       year           ปีพ.ศ.2513\n",
            "[45, 52]       org_edu        วิทยาลัยอัสสัมชัญบริหารธุรกิจ\n",
            "[55, 66]       year           ปีพ.ศ.2521\n",
            "[64, 66]       cardinal       2521\n",
            "[74, 79]       org_edu        จุฬาลงกรณ์มหาวิทยาลัย\n",
            "[82, 93]       year           ปีพ.ศ.2526\n",
            "[91, 93]       cardinal       2526\n",
            "[132, 143]     year           ปีพ.ศ.2529\n",
            "[141, 143]     cardinal       2529\n",
            "[168, 177]     person         พระบาทสมเด็จพระเจ้าอยู่หัว\n",
            "[182, 194]     role           รัฐมนตรีว่าการกระทรวงวิทยาศาสตร์และเทคโนโลยี\n",
            "[197, 208]     year           ปีพ.ศ.2521\n",
            "[206, 208]     cardinal       2521\n",
            "[248, 252]     country        ประเทศไทย\n",
            "[250, 252]     country        ไทย\n",
            "[255, 269]     facility_other พระบรมราชินูปถัมภ์\n",
            "[280, 286]     fund           มูลนิธิสถาบันราชพฤกษ์\n",
            "[289, 300]     year           ปีพ.ศ.2524\n",
            "[298, 300]     cardinal       2524\n",
            "[304, 306]     day            25\n",
            "[307, 309]     month          กรกฎาคม\n",
            "[316, 318]     cardinal       2540\n",
            "[327, 331]     org_edu        โรงเรียนเตรียมอุดมศึกษา\n",
            "[335, 337]     role           นายก\n",
            "[349, 360]     year           ปีพ.ศ.2529\n",
            "[358, 360]     cardinal       2529\n",
            "[392, 396]     org_edu        สวนดุสิต\n",
            "<s>||เกิด||ใน||เมือง||ทั|ส||ค|า|นี่|||ได้รับ||เลือก||เป็น||พระ||สันตะปาปา||วันที่|||22|||เมษายน|||ค|.|ศ|.||10|73|||มรณะ|วันที่|||25|||พฤษภาคม|||ค|.|ศ|.||10|85|||</s> \n",
            "\n",
            "[5, 14]        city           เมืองทัสคานี่\n",
            "[7, 14]        city           ทัสคานี่\n",
            "[21, 25]       role           พระสันตะปาปา\n",
            "[26, 30]       day            วันที่22\n",
            "[26, 42]       date           วันที่22เมษายนค.ศ.1073\n",
            "[28, 30]       cardinal       22\n",
            "[31, 33]       month          เมษายน\n",
            "[34, 42]       year           ค.ศ.1073\n",
            "[39, 42]       cardinal       1073\n",
            "[45, 49]       day            วันที่25\n",
            "[47, 49]       cardinal       25\n",
            "[50, 52]       month          พฤษภาคม\n",
            "[53, 61]       year           ค.ศ.1085\n",
            "[58, 61]       cardinal       1085\n",
            "<s>||เป็น||บุตรชาย||ของ||นักแสดง||อาวุโส|||เสนอ|||โก||มาร||ชุน||(||พี่ชาย||ของ|||เสน่ห์|||โก||มาร||ชุน||)||และ|||จุ|รี||โอ||ศิ||ริ||มี||พี่ชาย||หนึ่ง|คน|คือ||นาย||จาม|ร|||โก||มาร||ชุน||(||ถึงแก่กรรม||)|||แสดง||ภาพยนตร์|โดย||เป็น||ตัวเอก||ใน||หลาย|เรื่อง||แต่||ที่||สร้าง|ชื่อเสียง||โด่งดัง||เป็นที่|กล่าวถึง||อย่าง||แท้จริง||ด้วยกัน||สาม||บทบาท||คือ||การ||รับบท|||อินทร|||ชายหนุ่ม|ผู้||เย็นชา||ทน|ง||ตัว|แต่||แฝง||ด้วย||ความอบอุ่น||อ่อนโยน|และ||แอบ|รัก|||ละ|เวง|||ม|ัณฑ|น|า|กร|สาว||นางเอก||ของ|เรื่อง|||ใน||ละคร|||เก้าอี้||ขาว||ใน||ห้อง||แดง|||ทาง||ช่อง|||3||(||พ|.|ศ|.|||2527||)|||ประกบ||คู่||กับ|||ม|ยุ|ร|า|||เศวต||ศิลา|||ซู||หลิน||หนุ่ม||จีน||แผ่นดิน|ใหญ่|ผู้||แสน||ดี|และ|มี||อุดมการณ์|||ใน||ละคร|||ก|น||กลาย||โบ|ต|ั๋น|||ทาง||ช่อง|||7||(||พ|.|ศ|.|||2533||)|||คู่||กับ|||ปรี|ย|า||นุช|||ปาน||ประดับ||และ||เกิด||เป็น||ความรัก|จน||กลายเป็น||คู่|ชีวิต||กัน||ใน|เวลา|ต่อมา||</s> \n",
            "\n",
            "[15, 21]       person         โกมารชุน\n",
            "[28, 30]       firstname      เสน่ห์\n",
            "[28, 37]       person         เสน่ห์โกมารชุน\n",
            "[31, 37]       last           โกมารชุน\n",
            "[42, 45]       firstname      จุรี\n",
            "[42, 51]       person         จุรีโอศิริ\n",
            "[46, 51]       last           โอศิริ\n",
            "[55, 58]       quantity       หนึ่งคน\n",
            "[60, 61]       title          นาย\n",
            "[60, 71]       person         นายจามรโกมารชุน\n",
            "[61, 64]       firstname      จามร\n",
            "[65, 71]       last           โกมารชุน\n",
            "[110, 112]     cardinal       สาม\n",
            "[110, 114]     quantity       สามบทบาท\n",
            "[112, 114]     unit           บทบาท\n",
            "[121, 123]     person         อินทร\n",
            "[183, 188]     media          ช่อง3\n",
            "[186, 188]     cardinal       3\n",
            "[190, 198]     year           พ.ศ.2527\n",
            "[196, 198]     cardinal       2527\n",
            "[208, 213]     firstname      มยุรา\n",
            "[208, 218]     person         มยุราเศวตศิลา\n",
            "[214, 218]     last           เศวตศิลา\n",
            "[219, 223]     person         ซูหลิน\n",
            "[242, 254]     tv_show        ละครกนกลายโบตั๋น\n",
            "[257, 262]     media          ช่อง7\n",
            "[260, 262]     cardinal       7\n",
            "[264, 272]     year           พ.ศ.2533\n",
            "[270, 272]     cardinal       2533\n",
            "[280, 286]     firstname      ปรียานุช\n",
            "[280, 291]     person         ปรียานุชปานประดับ\n",
            "[287, 291]     last           ปานประดับ\n",
            "<s>||เป็น||บุตรชาย||ของ|พล|โท|||ยุทธ||ศิลป์|||เก||ษ|ร||ศุกร์||อดีต||ผู้บังคับ|การ||กรม|||สังกัด||กองพล||เสือดํา|||ใน|ช่วง||สงคราม||เวียดนาม|||กับ||นาง||มาลี|||เก||ษ|ร||ศุกร์||</s> \n",
            "\n",
            "[7, 9]         title          พลโท\n",
            "[7, 22]        person         พลโทยุทธศิลป์เกษรศุกร์\n",
            "[10, 14]       firstname      ยุทธศิลป์\n",
            "[15, 22]       last           เกษรศุกร์\n",
            "[23, 36]       role           อดีตผู้บังคับการกรมสังกัดกองพลเสือดํา\n",
            "[32, 36]       army           กองพลเสือดํา\n",
            "[42, 44]       country        เวียดนาม\n",
            "[42, 44]       country        เวียดนาม\n",
            "[48, 49]       title          นาง\n",
            "[48, 59]       person         นางมาลีเกษรศุกร์\n",
            "[49, 51]       firstname      มาลี\n",
            "[52, 59]       last           เกษรศุกร์\n",
            "<s>|มี||บุตร|ธิดา||รวม|||6||คน||คือ|||</s> \n",
            "\n",
            "[8, 10]        cardinal       6\n",
            "[8, 12]        quantity       6คน\n",
            "[11, 12]       unit           คน\n",
            "<s>||เป็น||บุตรชาย||ของ||โอ||ลิ||เวอร์|||ค||รอม||เวล||ล์||เจ้า||ผู้พิทักษ์|||แห่ง|||เครือ|จักร|ภพ||แห่ง||อังกฤษ||ต่อมา|เมื่อ||บิดา||ถึง|แก่|อส|ัญ|กรรม||ใน||ปี|||ค|.|ศ|.|||16|58||เขา|จึง||</s> \n",
            "\n",
            "[7, 22]        person         โอลิเวอร์ครอมเวลล์\n",
            "[8, 13]        firstname      โอลิเวอร์\n",
            "[23, 38]       role           เจ้าผู้พิทักษ์แห่งเครือจักรภพแห่งอังกฤษ\n",
            "[36, 38]       country        อังกฤษ\n",
            "[51, 63]       year           ปีค.ศ.1658\n",
            "<s>||เกิด||ใน||เมือง||เซ็ต||สึ|||จังหวัด|โอ||ซา||กะ|||ฮ|น||ดะ||เริ่มต้น||เล่น||ฟุตบอล||ให้||กับ||สโมสร||ท้องถิ่น|ชื่อ||สโมสร||ฟุตบอล||เซ็ต||สึ||ตั้งแต่||อยู่|ชั้น||ประถมศึกษา||ปี||ที่|||2||หลังจาก|นั้น|ก็||ได้มา||เล่น||ให้||กับ|ทีม||เยาวชน||รุ่น||เล็ก||ของ|ทีม||กัม|บะ|โอ||ซา||กะ||แต่|ก็|ไม่||ได้รับ||เลือก||ไป||เล่น||ให้||กับ|ทีม||เยาวชน|ชุด||ใหญ่||หลังจาก|นั้น||ก็ได้||ไป||เรียน||มัธยม||ที่||โรงเรียน||เซ||เรียว||(|)|||ใน||จังหวัด|อิ||ชิ||ก|า||วะ||และ||ได้||เริ่ม||เล่น||ฟุตบอล||ให้||กับ||โรงเรียน||นี้||จนได้||เป็น|ผู้||เล่น||ตัวหลัก||ที่||พ|า||โรงเรียน||เซ||เรียว|||ผ่าน||เข้ารอบ||รองชนะเลิศ||การแข่งขัน||ฟุตบอล||มัธยม||ระดับ||ประเทศ||โดย||เป็นตัวแทน||จาก|อิ||ชิ||ก|า||วะ|ทีม||แรก||ที่||ได้||ผ่าน||เข้ารอบ||และ||ได้||เป็นหนึ่ง||ใน|ผู้||เล่น||ที่||ถูก||คัดเลือก||เข้า||แค|มพ์||พัฒนา||นักเตะ||ของ|||<unk>||.|||<unk>|ea|gu|e||และ|||<unk>|||ใน||ปี|||2004||</s> \n",
            "\n",
            "[7, 11]        city           เซ็ตสึ\n",
            "[12, 25]       province       จังหวัดโอซากะฮนดะ\n",
            "[14, 19]       province       โอซากะ\n",
            "[60, 62]       cardinal       2\n",
            "[127, 133]     org_edu        โรงเรียนเซเรียว\n",
            "[139, 149]     province       จังหวัดอิชิกาวะ\n",
            "[141, 149]     province       อิชิกาวะ\n",
            "[181, 187]     org_edu        โรงเรียนเซเรียว\n",
            "[276, 281]     year           ปี2004\n",
            "[279, 281]     cardinal       2004\n",
            "<s>||ทํางาน||เป็น||ผู้บริหาร||ของ||หลาย|บริษัท|||ก่อน|จะ||เข้าสู่||วงการ||บันเทิง||ด้วย|การ||เป็น||นักแสดง||ประกอบ||ใน||ละคร|โทรทัศน์||หลาย|เรื่อง|||เช่น||\"||ก|ษัตร|ิยา|\"|||ทาง||ช่อง|||5|||ใน||ปี|||พ|.|ศ|.|||2546|-||พ|.|ศ|.|||2547||และ||\"||ลอด||ลาย||มังกร|\"|||ทาง||ช่อง||เดียวกัน|||ใน||ปี|||พ|.|ศ|.|||2549||รวมทั้ง|งาน||พิธีกร||ใน||รายการ|โทรทัศน์||ต่าง||ๆ|||ก่อน|จะ||มา|รับ||บท|นํา||อย่าง||เต็มตัว||ใน|เรื่อง||\"||โลก||คู่||ของ||ใหม่|\"|||ทาง||ช่อง|||9|||คู่||กับ|||พิ|จิต||ร|า|||สิริ||เวช||ชะ||พันธ์|||</s> \n",
            "\n",
            "[52, 57]       media          ช่อง5\n",
            "[55, 57]       cardinal       5\n",
            "[60, 71]       year           ปีพ.ศ.2546\n",
            "[69, 71]       cardinal       2546\n",
            "[69, 71]       cardinal       2546\n",
            "[72, 80]       year           พ.ศ.2547\n",
            "[78, 80]       cardinal       2547\n",
            "[78, 80]       cardinal       2547\n",
            "[84, 90]       tv_show        ลอดลายมังกร\n",
            "[101, 112]     year           ปีพ.ศ.2549\n",
            "[110, 112]     cardinal       2549\n",
            "[110, 112]     cardinal       2549\n",
            "[157, 162]     media          ช่อง9\n",
            "[160, 162]     cardinal       9\n",
            "[168, 174]     firstname      พิจิตรา\n",
            "[168, 183]     person         พิจิตราสิริเวชชะพันธ์\n",
            "[175, 183]     last           สิริเวชชะพันธ์\n",
            "<s>||เป็น||บุตรชาย||ของ|นาย||โก|มล|||กับ|นาง||บรรลุ|||พุ่ม|สุ|โข||มี||พี่น้อง|||4||คน|และ||เป็น||น้องชาย||ของ|||ไกร||วิทย์|||พุ่ม|สุ|โข|||นักร้อง|และ||นักแสดง||เช่นกัน|||เริ่ม||เข้า||วงการ||ครั้งแรก|เมื่อ||ปี|||พ|.|ศ|.|||2531||โดย||จิต||นาถ|||วัชร||เสถียร||นัก||แต่ง||แพ|ลง||ชื่อดัง||เป็น|คน||ชักชวน||ให้|ทํา||ผลงาน|เพลง||ตาม||พี่ชาย|||ไกร||วิทย์|||พุ่ม|สุ|โข|||แล้วจึง||ออก||อัลบั้ม||กับ||ค่าย|เพลง|||เอส||พี|||ศุภ||มิตร|||ใน||ปี|||พ|.|ศ|.|||2531||ชื่อ||'|ยก||มา||ทั้ง||ใจ|'||มี|เพลง||ดัง||หลาย|เพลง|||เช่น|||ยก||มา||ทั้ง||ใจ||,|||โยน||หัวใจ||,|||มากเกินไป|||แล้วจึง||มา||เป็น|นัก||แสดงละคร||สังกัด||ช่อง|||3||โดย||เล่น||ละคร|เรื่อง||\"||นิยาย|รัก||นักศึกษา|\"||ซึ่ง||กํากับ|โดย|||ศุ||ภ|ักษ||ร|||เป็นเรื่อง||แรก||ต่อมา||ใน||ปี|||พ|.|ศ|.|||2538|||ได้||ออก||อัลบั้ม|ชุด||ที่|||2||คือ||'||ทาง|ม้าลาย|'||มี|เพลง||ที่||โดดเด่น|||เช่น|||ทาง|ม้าลาย||,||คน||ใกล้||ตัว||,||พอ||เสียที||,||ไม่||ต่างกัน||ต่อมา|เมื่อ||หมดสัญญา||กับ||เอส||พี|||ศุภ||มิตร||ก็||หันมา||เป็น||นักแสดง||อิสระ||เช่น||ละคร||ให้||กับ||ค่าย||กัน|ตน|า||และ||มีเดีย||ออฟ||มีเดีย||ส์||และ||เล่น||ละคร|เรื่อง|สุดท้าย||คือ||\"||หลังคา||แดง|\"||ซึ่ง||กํากับ|โดย|||ศ|รัณ|ยู|||วงศ์||กระจ่าง|||ทาง||ช่อง|||7|||ก่อน|จะ||ออกจาก||วงการ||บันเทิง||ไป|ทํา||ธุรกิจ|ส่วนตัว|||ทั้ง|เปิด|บริษัท||ออ||ป|แก||ไน||เซอร์||และ||เขียน||พ|็อก|เก็ต||บุ๊ค||ปัจจุบัน|เปิด||สถาบัน||การสอน||วิชาชีพ|ช่าง|ผม|||<unk>|ara|||<unk>|ca|de|my||(||นารา|||อะคาเดมี||)|||</s> \n",
            "\n",
            "[7, 8]         title          นาย\n",
            "[7, 11]        person         นายโกมล\n",
            "[8, 11]        firstname      โกมล\n",
            "[14, 15]       title          นาง\n",
            "[14, 22]       person         นางบรรลุพุ่มสุโข\n",
            "[15, 17]       firstname      บรรลุ\n",
            "[18, 22]       last           พุ่มสุโข\n",
            "[27, 29]       cardinal       4\n",
            "[27, 31]       quantity       4คน\n",
            "[30, 31]       unit           คน\n",
            "[39, 43]       firstname      ไกรวิทย์\n",
            "[39, 48]       person         ไกรวิทย์พุ่มสุโข\n",
            "[44, 48]       last           พุ่มสุโข\n",
            "[66, 77]       year           ปีพ.ศ.2531\n",
            "[75, 77]       cardinal       2531\n",
            "[79, 83]       firstname      จิตนาถ\n",
            "[79, 88]       person         จิตนาถวัชรเสถียร\n",
            "[84, 88]       last           วัชรเสถียร\n",
            "[113, 117]     firstname      ไกรวิทย์\n",
            "[113, 122]     person         ไกรวิทย์พุ่มสุโข\n",
            "[118, 122]     last           พุ่มสุโข\n",
            "[147, 158]     year           ปีพ.ศ.2531\n",
            "[156, 158]     cardinal       2531\n",
            "[217, 219]     cardinal       3\n",
            "[228, 233]     tv_show        นิยายรักนักศึกษา\n",
            "[240, 247]     person         ศุภักษร\n",
            "[256, 267]     year           ปีพ.ศ.2538\n",
            "[265, 267]     cardinal       2538\n",
            "[278, 280]     cardinal       2\n",
            "[356, 362]     orgcorp        ค่ายกันตนา\n",
            "[364, 372]     orgcorp        มีเดียออฟมีเดียส์\n",
            "[453, 454]     rel            ปัจจุบัน\n",
            "<s>||ทํางาน||เป็น|เจ้าหน้า|ที่||กฎหมาย||ที่|||สภา||สหภาพ||แห่งชาติ||สหภาพ||การค้า||และ||เป็น||ผู้อํานวย|การ||แผนก||บริการ||ทางกฎหมาย||ใน||ได้รับ|การ||แต่งตั้ง||ให้||เป็น||ผู้อํานวย|การ||สถาบัน||แรงงาน||แห่ง||ประเทศ||สิงคโปร์||(|ปัจจุบัน||เป็น|ที่ตั้ง|||ของ||สถาบัน||แรงงาน||ศึกษา|||ท|ง|จง|||)||</s> \n",
            "\n",
            "[12, 18]       org_other      สภาสหภาพแห่งชาติ\n",
            "[55, 59]       country        ประเทศสิงคโปร์\n",
            "[57, 59]       country        สิงคโปร์\n",
            "[61, 62]       rel            ปัจจุบัน\n",
            "[68, 79]       org_edu        สถาบันแรงงานศึกษาทงจง\n",
            "<s>||เกิด||ใน||เมือง||โม||เร||โน|||รัฐ||บัว||โน||ส|ไอ||เร||ส||ซึ่ง|มี||เชื้อสาย||อิตาเลียน||จาก||ฝั่ง|พ่อ||ของ|เขา|||เป|รอ||ต||ติ||เข้าร่วม||สโมสร||ฟุตบอล||เซ||บิ||ย|า||ใน|ช่วง||ฤดูร้อน||ปี|||2007|||จาก||เด||ปอ||ร์||ตี||โบ|||โม||รอน|||ใน|ตอนแรก|เขา||ได้|รับ|มอบหมาย||ให้||ลง||เล่น||ใน|ทีม|||<unk>|||ที่|เพิ่ง||เลื่อนชั้น||ขึ้น||มา||ใน||ดิ||วิ||ชั่น|||2||และ|เขา||ได้||พิสูจน์||ว่า|เขา||มีประโยชน์|ช่วย||ให้|ทีม|ยัง||คงอยู่||ที่||ดิ||วิ||ชั่น||นี้||</s> \n",
            "\n",
            "[5, 13]        city           เมืองโมเรโน\n",
            "[7, 13]        city           โมเรโน\n",
            "[16, 27]       state          บัวโนสไอเรส\n",
            "[32, 34]       nationality    อิตาเลียน\n",
            "[68, 73]       year           ปี2007\n",
            "[71, 73]       cardinal       2007\n",
            "[110, 112]     org_other      <unk>\n",
            "[131, 133]     cardinal       2\n",
            "<s>||เกิด||ใน||เมือง||นิ||ส|||กัว||ร์|ตา||ร|า||โร||เริ่มต้น||อาชีพ||ของ|เขา||ใน||ฝรั่งเศส|ตั้งแต่|อายุ|||4|||ปี||ต่อมา|เขา||ย้าย||ไป||สเปน|เพื่อ||เข้าร่วม||การแข่งขัน|||<unk>|ro|move|lo|c|id|ad|||<unk>|up|||การแข่งขัน|สําหรับ|นัก||แข่ง||เยาวชน||ที่||ได้||จัด||ขึ้น|โดย|||the||(||<unk>||)|.||เขา||ชนะ||การแข่งขัน||ใน||รุ่น|||50||cc|||ใน||ปี|||2008||,|||รุ่น|||70||cc|||ใน||ปี|||2009||และ|||รุ่น|||80||cc|||ใน||ปี|||2011|||ก่อนที่จะ||ขยับ||ขึ้นไป||แข่ง||ใน||รุ่น|||<unk>|o|to||3|||ใน||สเปน|||กัว||ร์|ตา||ร|า||โร||ชนะ||การแข่งขัน||รุ่น|||<unk>|ed|i|ter|ran|e|an|||pre|-|<unk>|o|to||3|||ใน||ปี|||2012||ซึ่ง||หมายความว่|า||เป็น||แชมป์||ของ||ประเทศ||สเปน||อีกด้วย||</s> \n",
            "\n",
            "[5, 22]        city           เมืองนิสกัวร์ตาราโร\n",
            "[7, 22]        city           นิสกัวร์ตาราโร\n",
            "[31, 33]       country        ฝรั่งเศส\n",
            "[36, 38]       cardinal       4\n",
            "[36, 41]       duration       4ปี\n",
            "[39, 41]       unit           ปี\n",
            "[48, 50]       country        สเปน\n",
            "[91, 93]       media          <unk>\n",
            "[107, 109]     cardinal       50\n",
            "[114, 119]     year           ปี2008\n",
            "[117, 119]     cardinal       2008\n",
            "[125, 127]     cardinal       70\n",
            "[125, 127]     cardinal       70\n",
            "[132, 137]     year           ปี2009\n",
            "[135, 137]     cardinal       2009\n",
            "[143, 145]     cardinal       80\n",
            "[145, 147]     unit           cc\n",
            "[150, 155]     year           ปี2011\n",
            "[153, 155]     cardinal       2011\n",
            "[173, 175]     cardinal       3\n",
            "[178, 180]     country        สเปน\n",
            "[181, 191]     city           กัวร์ตาราโร\n",
            "[213, 215]     cardinal       3\n",
            "[213, 215]     cardinal       3\n",
            "[218, 223]     year           ปี2012\n",
            "[221, 223]     cardinal       2012\n",
            "[234, 238]     country        ประเทศสเปน\n",
            "[236, 238]     country        สเปน\n",
            "<s>||เป็น||ชาวเมือง||เก็|ง||เตียว||ฮู้||(|<unk>|||;||ปัจจุบัน|คือ||เมือง||ซี|อาน|||มณฑล||ส่|า|น||ซี||)||เคย||รับราชการ||เป็น||เลขานุการ|ศาล||ที่|มี|ความ|ซื่อสัตย์|และ||ยุติธรรม||แต่|โดน||เจ้าเมือง||ใส่|ความ|จน|ต้อง||ถูก||โทษ||เนรเทศ|||โชคดี||ที่|เขา||ได้|เ|ติ้ง||เฟ|ย|และ|เ|มิ่ง||คัง||มา|ช่วย||ไว้|||ทั้งสอง|คน|จึง||พ|า|เขา||ขึ้นไป||เป็น||หัว||ใหญ่||ที่||ริมน้ํา|อิ|๋น||หม่า||(|<unk>|||ท|.|อิม|เบ||ชวน||)||เขา||เข้า||ร่วมกับ||เหลียง||ซาน||หลังจากที่||ได้รับ|คํา|เชิญชวน||จาก||ไต้|จง|และ||หยาง||หลิน||และ||ได้||เป็น|หัวหน้า||ผู้พิพากษา||ซึ่ง|เขา|มี||หน้าที่||ใน|การ|ตัดสินใจ||เกี่ยวกับ|การ||ให้|รางวัล|คน||ที่||ทําดี|และ|การ||ลงโทษ|คน||ที่||ทําผิด||</s> \n",
            "\n",
            "[5, 12]        person         เก็งเตียวฮู้\n",
            "[19, 20]       rel            ปัจจุบัน\n",
            "[21, 26]       city           เมืองซีอาน\n",
            "[23, 26]       city           ซีอาน\n",
            "[27, 35]       city           มณฑลส่านซี\n",
            "[29, 35]       city           ส่านซี\n",
            "[78, 83]       person         เติ้งเฟย\n",
            "[80, 83]       firstname      เฟย\n",
            "[84, 88]       person         เมิ่งคัง\n",
            "[86, 88]       firstname      คัง\n",
            "[114, 118]     person         อิ๋นหม่า\n",
            "[121, 129]     person         ท.อิมเบชวน\n",
            "[137, 141]     person         เหลียงซาน\n",
            "[149, 152]     person         ไต้จง\n",
            "[153, 157]     person         หยางหลิน\n",
            "[163, 166]     role           หัวหน้าผู้พิพากษา\n",
            "<s>||ทํางาน||เป็น||ที||ม|.||</s> \n",
            "\n"
          ]
        }
      ],
      "source": [
        "with open('th_wiki.txt') as text:\n",
        " for sent in text:\n",
        "   if re.match(pat_role1,sent) or re.match(pat_role2,sent) or re.match(pat_role3,sent) or re.match(pat_city_of_birth1,sent) or re.match(pat_city_of_birth2,sent) or re.match(pat_city_of_birth3,sent) or re.match(pat_child_of1,sent) or re.match(pat_child_of2,sent) or re.match(pat_child_of3,sent):\n",
        "    try:\n",
        "      ner_list = nner.get_tag(sent, show_result = True)\n",
        "    except:\n",
        "      continue"
      ]
    },
    {
      "cell_type": "markdown",
      "metadata": {
        "id": "X4jbR64boLzi"
      },
      "source": [
        "# **Find more pattern #1**"
      ]
    },
    {
      "cell_type": "code",
      "execution_count": null,
      "metadata": {
        "colab": {
          "base_uri": "https://localhost:8080/"
        },
        "id": "jtDifS_-3woy",
        "outputId": "720aa834-424c-482a-a22e-a89f2e10a575"
      },
      "outputs": [
        {
          "name": "stdout",
          "output_type": "stream",
          "text": [
            "ทำงานเป็น: {('สนธิ', 'บรรณาธิการบริหารหนังสือพิมพ์\"ประชาธิปไตย'), ('ยูลียา', 'ประธานบริษัทกิจการพลังงาน'), ('แทตเชอร์', 'สมาชิกสภาผู้แทนราษฎร'), ('บ็อลท์ซาโน', 'หัวหน้าภาควิชาปรัชญา'), ('โจนินที', 'หัวหน้าหน่วยลับ(อันบุ'), ('ชิซุรุ', 'รูมเมท'), ('จุงโกะอิวาโอะ', 'อดีตสมาชิกวง\"<unk>'), ('สุริยะใส', 'นักวิชาการวุฒิสภา'), ('ไอลีน', 'ผู้ช่วยศาสตราจารย์สาขาคณิตศาสตร์'), ('มาริก้า', 'บาทหลวง')}\n",
            "ดำรงตำแหน่งเป็น: {('ประภัสร์', 'ผู้ว่าราชการกรุงเทพมหานคร'), ('พระเจ้าวิลเฮล์ม', 'จักรพรรดิเยอรมัน'), ('อภิสิทธิ์', 'รัฐมนตรีประจําสํานักนายกรัฐมนตรี'), ('<unk>arrister<unk>uhammad<unk>amiruddin<unk>ircar', 'รักษาการประธานาธิบดี'), ('เจ้าธรรมเทโว', 'ตากะจะเจ้าเมืองขุขันธ์'), ('บรรหาร', 'นายกรัฐมนตรี'), ('ร.ต.ท.พวงศรีบุญลือ', 'นายอําเภอยะโสธร'), ('โจไบเดิน', 'ประธานาธิบดีสหรัฐ'), ('พลเอกสุรยุทธ์จุลานนท์', 'นายกรัฐมนตรี'), ('ฯพณฯพลเอกเปรมติณสูลานนท์', 'นายกรัฐมนตรี')}\n",
            "มีอาชีพเป็น: {('คลินตัน', 'ประธานาธิบดี'), ('อัลเฟรดเลนนอน', 'นายกรัฐมนตรีสหราชอาณาจักร'), ('<unk>rancesco<unk>iamberti', 'สถาปนิก'), ('ภีมประการพันธ์', 'คณบดี'), ('วิลเฮ็ล์มไวเออร์ชตราส', 'เจ้าหน้าที่ศุลกากร'), ('ฟิลิปซีมัวร์ฮอฟฟ์แมน', 'ผู้บริหารฝ่ายการเงิน'), ('นางกาญจนาสุบุญฝั่ง', 'แพทย์ทหารเวชปฏิบัติทั่วไป'), ('ตาทอง', 'ครูนายโรงละครหลวง'), ('นายศิริชัย', 'รองเลขาธิการปฏิบัติการสมาพันธ์แรงงานรัฐวิสาหกิจสัมพันธ์'), ('โมเชดายัน', 'ผู้สื่อข่าวสงคราม')}\n"
          ]
        }
      ],
      "source": [
        "print('{a}: {b}'.format(a = pat_role1, b = pat_role1_set))\n",
        "print('{a}: {b}'.format(a = pat_role2, b = pat_role2_set))\n",
        "print('{a}: {b}'.format(a = pat_role3, b = pat_role3_set))"
      ]
    },
    {
      "cell_type": "code",
      "execution_count": null,
      "metadata": {
        "colab": {
          "base_uri": "https://localhost:8080/"
        },
        "id": "eEFJZXsnpEjl",
        "outputId": "df9a6f5a-03d3-4bb6-fb45-7ee47e4ebee1"
      },
      "outputs": [
        {
          "name": "stdout",
          "output_type": "stream",
          "text": [
            "บริหารโดย: {('แอลวีเอ็มเอช', 'อาแล็กซ็องดร์อาร์โน'), ('จิฟฟี่', 'บริษัทปตท.บริหารธุรกิจค้าปลีกจํากัด'), ('ไอบีซีแคมโบเดีย', 'พรรคประชาชนกัมพูชา'), ('เซ็นทรัลแฟมิลี่มาร์ท', 'เซ็นทรัลเรสเทอรองค์กรุ๊ป'), ('ไฟร์ฟอกซ์', 'บริษัทมอซิลลา'), ('วัน-ทู-โกแอร์ไลน์', 'โอเรียนท์ไทยแอร์ไลน์'), ('กัดดาฟี', \"<unk>eneral<unk>eople's<unk>ongress\"), ('แมริออทอินเตอร์เนชั่นแนล', 'แมริออท'), ('เบลล์เฮลิคอปเตอส์', 'บริษัทเคเอชไอเมเนจเมนต์จํากัด'), ('อีจีวี', 'ซีนีเพล็กซ์')}\n",
            "เป็นประธานของ: {('คาร์ลเทโอดอร์ฟอนดัลแบร์ก', 'คณะพระมหากษัตริย์'), ('สแควร์เอนิกซ์', 'บริษัทสแควร์'), ('เจฟฟรีย์แคตเซนเบิร์ก', 'บริษัทวอลต์ดิสนีย์'), ('นักธุรกิจฌอนพาร์กเกอร์', 'เฟซบุ๊ก'), ('สมเด็จกรมพระนโรดมรณฤทธิ์', 'พรรคฟุนซินเปก'), ('บิลเกตส์', 'พอร์ตแลนด์เทรลเบลเซอร์ส'), ('เดวิดแบร์รี่ชาร์ลส์ดีน', 'บริษัทธุรกิจเรดแอนด์ไวท์'), ('ซู', 'พรรคสมัชชาแห่งชาติแอฟริกา'), ('อัลเบิร์ตอาร์โนลด์\"อัล\"กอร์จูเนียร์', 'บริษัทเจเนอเรชั่นอินเวสท์เมนท์แมเนจเมนท์'), ('โอกูโบะโทชิมิจิ', '<unk>ssemblyof<unk>refectural<unk>overnors')}\n",
            "เป็นผู้บริหารบริษัท: {('ค่ายอาร์สยาม', 'บริษัทมีดีเรคคอร์ด'), ('เอ็กแซ็กท์', 'บริษัทไอที'), ('คาซูยะมิชิมะ', 'มิชิมะ'), ('บุรินทร์บุญวิสุทธิ์', 'บริษัทเมโทรออโต้เฮาส์จํากัด'), ('<unk>ric<unk>merson<unk>chmidt', 'บริษัทกูเกิล'), ('ดร.ประกอบจิรกิติ', 'ยูคอม'), ('จีเอ็มเอ็มแกรมมี่', 'บริษัทเกเรจํากัด'), ('นาจิบ', 'ภูมิบุตราคอมเมิร์ช'), ('ชาตรีคงสุวรรณ', 'มิสเตอร์มิวสิค'), ('อวัสดาปกมนตรี', 'บริษัททีวีอาลาคาร์ตจํากัด')}\n"
          ]
        }
      ],
      "source": [
        "print('{a}: {b}'.format(a = pat_work_at1, b = pat_work_at1_set))\n",
        "print('{a}: {b}'.format(a = pat_work_at2, b = pat_work_at2_set))\n",
        "print('{a}: {b}'.format(a = pat_work_at3, b = pat_work_at3_set))"
      ]
    },
    {
      "cell_type": "code",
      "execution_count": null,
      "metadata": {
        "colab": {
          "base_uri": "https://localhost:8080/"
        },
        "id": "YtYtCxCFtes5",
        "outputId": "a3d7d0a5-d3b8-474a-f213-665dba218946"
      },
      "outputs": [
        {
          "name": "stdout",
          "output_type": "stream",
          "text": [
            "ทำงานเป็น: {('ชิซุรุ', 'รูมเมท'), ('สนธิ', 'บรรณาธิการบริหารหนังสือพิมพ์\"ประชาธิปไตย'), ('ไอลีน', 'ผู้ช่วยศาสตราจารย์สาขาคณิตศาสตร์'), ('ยูลียา', 'ประธานบริษัทกิจการพลังงาน'), ('โจนินที', 'หัวหน้าหน่วยลับ(อันบุ')}\n",
            "ดำรงตำแหน่งเป็น: {('พลเอกสุรยุทธ์จุลานนท์', 'นายกรัฐมนตรี'), ('พระเจ้าวิลเฮล์ม', 'จักรพรรดิเยอรมัน'), ('<unk>arrister<unk>uhammad<unk>amiruddin<unk>ircar', 'รักษาการประธานาธิบดี'), ('อภิสิทธิ์', 'รัฐมนตรีประจําสํานักนายกรัฐมนตรี'), ('โจไบเดิน', 'ประธานาธิบดีสหรัฐ')}\n",
            "มีอาชีพเป็น: {('ตาทอง', 'ครูนายโรงละครหลวง'), ('โมเชดายัน', 'ผู้สื่อข่าวสงคราม'), ('<unk>rancesco<unk>iamberti', 'สถาปนิก'), ('อัลเฟรดเลนนอน', 'นายกรัฐมนตรีสหราชอาณาจักร'), ('คลินตัน', 'ประธานาธิบดี')}\n",
            "เกิดในเมือง: {('หลินซินหรู', 'เมืองไทเป'), ('บิลคลินตัน', 'โฮป'), ('เลนิน', 'เมืองซิมบิร์สค์'), ('<unk>eorge<unk>astman', 'เมืองวอเทอร์วิลล์'), ('โอมาร์คัยยาม', 'เมืองเนชาปูร')}\n",
            "เป็นชาวเมือง: {('โจวเอินไหล', 'มณฑลเจ้อเจียง'), ('จ้งหนี', 'หลู่'), ('สตีเวนแพดด็อก', 'เมสกีต'), ('สมเด็จกรมพระยาดํารงราชานุภาพ', 'เมืองลับแล'), ('เจียงเจ๋อหมิน', 'หยางโจว')}\n",
            "บ้านเกิดอยู่ที่เมือง: {('ไช่เหวินจิ้ง', 'เมืองอี้ซาง'), ('เผิงกวนอิง', 'เมืองฉางชุน'), ('โหวเฉียงจง', 'เมืองเซี่ยงคิว'), ('<unk>an<unk>aejoon', 'เมืองกงจู')}\n",
            "มีบุตรธิดา.*คือ : {('เอโอมุนด์', 'เอโอแมร์'), ('ท่านผู้หญิงสิริสารสิน', 'พลตํารวจเอกเภาสารสิน'), ('สกุลเดิมศกุนตาภัย', 'ปรางเวชชาชีวะ'), ('นางงามเพ็ญ', 'นางเพ็ญธิดาอินทรสุขศรี'), ('หม่อมราชวงศ์พักตร์พริ้งทองใหญ่', 'หม่อมหลวงรองฤทธิ์ปราโมช')}\n",
            "เป็นบุตรชายของ: {('อิหม่ามอะลี', 'มุฮัมมัดอิบน์ฮะนะฟียะฮ์'), ('โยฮันชเตราส์', 'โยฮันชเตราส์'), ('ฮิระงะโทะโมะมะซะ', 'มะซะโกะ'), ('นางกุลยาเผ่าจินดา', 'นายยุทธพงษ์เผ่าจินดา'), ('พระเจ้าบุเรงนอง', 'เมงเยสีหตู')}\n",
            "เป็นทายาทของ: {('ซึซึกิโซโนะโกะ', 'มาโคโตะเคียวโคคุ'), ('ฮิวงะฮินาตะ', 'นารูโตะ'), ('พล.อ.เฟื่องเฉลยอนิรุทธเทวา', 'อนิรุทธเทวา'), ('ซาราด็อคแบรนดี้บั๊ก', 'เอสเมอรัลดาตุ๊ค'), ('ซึนาเดะ', 'เซนจูฮาชิรามะ')}\n"
          ]
        }
      ],
      "source": [
        "print('{a}: {b}'.format(a = pat_child_of1, b = pat_child_of1_set))\n",
        "print('{a}: {b}'.format(a = pat_child_of2, b = pat_child_of2_set))\n",
        "print('{a}: {b}'.format(a = pat_child_of3, b = pat_child_of3_set))"
      ]
    },
    {
      "cell_type": "code",
      "execution_count": null,
      "metadata": {
        "id": "wYCL3-8VttFP"
      },
      "outputs": [],
      "source": [
        "new_pat_role = {'ทำงานเป็น','ดำรงตำแหน่งเป็น','มีอาชีพเป็น'}\n",
        "new_pat_work_at = {'บริหารโดย','เป็นประธานของ','เป็นผู้บริหารบริษัท'}\n",
        "new_pat_child_of = {'เป็นบุตรชายของ','เป็นทายาทของ'}"
      ]
    },
    {
      "cell_type": "code",
      "execution_count": null,
      "metadata": {
        "id": "lqnJC_ZwuuxN"
      },
      "outputs": [],
      "source": [
        "seed_tuples_role1 = ('โจไบเดิน','ประธานาธิบดี')\n",
        "seed_tuples_role2 = ('อภิสิทธิ์','นายก')\n",
        "seed_tuples_role3 = ('อิเอยาซุ','โชกุน')\n",
        "seed_tuples_work_at1 = ('บิลเกตส์','ไมโครซอฟท์')\n",
        "seed_tuples_work_at2 = ('คุณหญิงสุดารัตน์','พรรคเพื่อไทย')\n",
        "seed_tuples_work_at3 = ('ธรัชศุภโชคไพศาล','ไอยรา')\n",
        "seed_tuples_child_of1 = ('ณรงค์กิตติขจร','ถนอมกิตติขจร')\n",
        "seed_tuples_child_of2 = ('อภิสิทธิ์','ปัณณสิทธิ์')\n",
        "seed_tuples_child_of3 = ('','')"
      ]
    },
    {
      "cell_type": "markdown",
      "metadata": {
        "id": "BVy_YC1OIxXh"
      },
      "source": [
        "# new pattern of ROLE relation"
      ]
    },
    {
      "cell_type": "code",
      "execution_count": null,
      "metadata": {
        "colab": {
          "base_uri": "https://localhost:8080/"
        },
        "id": "DVWsiDm7oOz9",
        "outputId": "c4c1e0d3-fea9-4b23-8464-87feaa0d842b"
      },
      "outputs": [
        {
          "name": "stdout",
          "output_type": "stream",
          "text": [
            "new pattern: จากพรรคเดโมแครตผู้ชนะการเลือกตั้ง\n",
            "context: โจ ไบเดินจากพรรคเดโมแครต ผู้ชนะการเลือกตั้งประธานาธิบดีปี 2020 ปัจจุบันดำรงตำแหน่งเป็นประธานาธิบดีสหรัฐคนที่ 46 ผู้นำปัจจุบันในวุฒิสภา ได้แก่ รองประธานาธิบดีกมลา แฮร์ริสจากพรรคเดโมแครต ประธานชั่วคราวแพทริก ลีฮี (Patrick Leahy) จากพรรคเดโมแครต หัวหน้าฝ่ายข้างมาก ชัก ชูเมอร์ (Chuck Schumer) และหัวหน้าฝ่ายข้างน้อย มิตช์ แม็กคอนเนล (Mitch McConnell) ผู้นำในสภาผู้แทนราษฎร ได้แก่ ประธานสภาผู้แทนราษฎรแนนซี เพโลซี หัวหน้าฝ่ายข้างมาก สเตนี ฮอยเยอร์ (Steny Hoyer) และหัวหน้าฝ่ายข้างน้อย เควิน แม็กคาธี (Kevin McCarthy)\n",
            "\n",
            "new pattern: เป็นนักการเมืองชาวอเมริกันและเป็น\n",
            "context: โจเซฟ โรบิเนตต์ ไบเดิน จูเนียร์ (; เกิด 20 พฤศจิกายน พ.ศ. 2485) หรือ โจ ไบเดิน เป็นนักการเมืองชาวอเมริกัน และเป็นประธานาธิบดีสหรัฐคนปัจจุบัน หลังการชนะการเลือกตั้งประธานาธิบดี พ.ศ. 2563 ในอดีตไบเดินเคยดำรงตำแหน่งเป็นรองประธานาธิบดีสหรัฐคนที่ 47 ระหว่าง พ.ศ. 2552 ถึง 2560 เป็นสมาชิกวุฒิสภาจากรัฐเดลาแวร์เจ็ดสมัยติดต่อกัน ระหว่าง พ.ศ. 2515 ถึง 2552 สังกัดพรรคเดโมแครต\n",
            "\n",
            "new pattern: ได้สาบานตนเข้ารับตําแหน่ง\n",
            "context: นายโจ ไบเดิน ได้สาบานตนเข้ารับตำแหน่งประธานาธิบดีคนที่ 46 อย่างเป็นทางการเมื่อวันที่ 20 มกราคม 2564 โดยในขณะเข้ารับตำแหน่ง เขามีอายุถึง 78 ปี ซึ่งถือเป็นผู้รับตำแหน่งประธานาธิบดีที่มีอายุมากที่สุดในประวัติศาสตร์สหรัฐอเมริกา อีกทั้งยังเป็นประธานาธิบดีคนที่ 2 ที่นับถือศาสนาคริสต์นิกายโรมันคาทอลิก ต่อจากจอห์น เอฟ. เคนเนดี โดยเป็นประธานาธิบดีคนแรกจากรัฐเดลาแวร์ \n",
            "\n",
            "new pattern: เข้ารับตําแหน่ง\n",
            "context: ผู้อำนวยการฯ ได้รับการยกฐานะขึ้นเสมอรัฐมนตรี ตั้งแต่เดือนกุมภาพันธ์ พ.ศ. 2560 จนกระทั่งโจ ไบเดิน เข้ารับตำแหน่งประธานาธิบดีใน พ.ศ. 2564\n",
            "\n",
            "new pattern: ซึ่งโจเคยดํารงตําแหน่งรอง\n",
            "context: ในเดือนพฤษภาคม พ.ศ. 2563 ดอนัลด์ ทรัมป์ ประธานาธิบดีสหรัฐ ได้แชร์วิดีโอกลุ่มนักเต้นแบกโลงฉบับที่ตัดต่อลงบนสื่อสังคมของเขาเพื่อตอบโต้การให้สัมภาษณ์ของโจ ไบเดิน ซึ่งโจเคยดำรงตำแหน่งรองประธานาธิบดีในสมัยบารัก โอบามาเป็นประธานาธิบดี และกำลังเป็นตัวแทนพรรคเดโมแครตที่เข้าชิงตำแหน่งประธานาธิบดีในการเลือกตั้งประธานาธิบดีสหรัฐ พ.ศ. 2563 โดยในวิดีโอดังกล่าว สัญลักษณ์การรณรงค์การเลือกโจถูกแปะติดกับโลงศพในคลิปนั้น\n",
            "\n",
            "new pattern: ในการเลือกตั้ง\n",
            "context: กมลา แฮร์ริส ภรรยาของเอ็มฮัฟฟ์ เป็นผู้สมัครชิงตำแหน่งประธานาธิบดีจากพรรคเดโมแครต พ.ศ. 2563 ก่อนจะถอนตัวในเดือนธันวาคม พ.ศ. 2562 ในเดือนสิงหาคม พ.ศ. 2563 แฮร์ริสประกาศว่าเธอจะเป็นคู่สมัครรับเลือกตั้งของ โจ ไบเดิน ในการเลือกตั้งประธานาธิบดีสหรัฐ ทำให้เอ็มฮัฟฟ์เป็นชายคนที่สามในประวัติศาสตร์ของสหรัฐที่เป็นคู่สมรสของผู้สมัครชิงตำแหน่งรองประธานาธิบดีของพรรคใหญ่ต่อจากจอห์น ซัคคาโร (คู่สมรสของเจอรัลดีน เฟอร์ราโร) และ ท็อดด์ พาลิน (คู่สมรสของซาราห์ พาลิน) หลังจากแฮร์ริสเข้ารับตำแหน่ง เอ็มฮัฟ์กลายเป็นสุภาพบุรุษหมายเลขสอง คนแรกของสหรัฐ และเขายังเป็นคู่สมรสชาวยิวคนแรกของรองประธานาธิบดีอีกด้วย\n",
            "\n"
          ]
        }
      ],
      "source": [
        "with open('th_wiki.txt') as text:\n",
        " limit = 0\n",
        " for sent in text:\n",
        "   if re.search(seed_tuples_role1[0],sent.replace(' ','')) and re.search(seed_tuples_role1[1],sent.replace(' ','')) and limit <= 50:\n",
        "    ner_list = get_ner(sent)\n",
        "    new_pattern = find_pattern(ner_list,seed_tuples_role1,'person','role')\n",
        "    if new_pattern is not None and new_pattern != '' and new_pattern not in new_pat_role and len(new_pattern) <= 100:\n",
        "      print('new pattern: ' + new_pattern)\n",
        "      print('context: ' + sent)\n",
        "      new_pat_role.add(new_pattern)"
      ]
    },
    {
      "cell_type": "code",
      "execution_count": null,
      "metadata": {
        "colab": {
          "base_uri": "https://localhost:8080/"
        },
        "id": "ik1KhFuyNNrg",
        "outputId": "5334725b-be68-4b4d-8794-f7c829c53a9f"
      },
      "outputs": [
        {
          "name": "stdout",
          "output_type": "stream",
          "text": [
            "new pattern: เป็น\n",
            "context: กลางปี 2540 เกิด \"วิกฤตต้มยำกุ้ง\" ซึ่งโค่นรัฐบาลบรรหารและชวลิต ในปีเดียวกันยังมีการประกาศใช้รัฐธรรมนูญปี 2540 ซึ่งมีสมาชิกสภาร่างรัฐธรรมนูญมาจากการเลือกตั้ง หลังจากนั้นปี 2544 ทักษิณ ชินวัตรนำพรรคไทยรักไทยชนะการเลือกตั้งถล่มทลายในปี 2544 และปี 2548 แนวนโยบายประชานิยมของเขาทำให้ได้รับเสียงสนับสนุนจำนวนมากในชนบท แต่อภิชน ข้าราชการและชนชั้นกลางในเมืองคัดค้านเขา การประท้วงนำโดยกลุ่มพันธมิตรประชาชนเพื่อประชาธิปไตยในปี 2549 ตามมาด้วยรัฐประหารในปีเดียวกัน นับแต่นั้นการเมืองไทยอยู่ในวิกฤตการเมืองระหว่างผู้สนับสนุนและผู้คัดค้านทักษิณ ชินวัตร หลังมีการประกาศใช้รัฐธรรมนูญปี 2550 ก็มีการจัดการเลือกตั้งทั่วไป ผลปรากฏว่า สมัคร สุนทรเวชนำพรรคพลังประชาชนซึ่งเป็นพันธมิตรของทักษิณชนะการเลือกตั้งอีก ในปี 2551 พันธมิตรประชาชนเพื่อประชาธิปไตยชุมนุมตั้งแต่เดือนพฤษภาคมถึงธันวาคม จนเมื่อศาลรัฐธรรมนูญวินิจฉัยยุบพรรคพลังประชาชน ทำให้มีการรวบรวมเสียงในสภาเพื่อเลือกอภิสิทธิ์ เวชชาชีวะเป็นนายกรัฐมนตรี ในครั้งนั้นพลเอกเปรมและพลเอก อนุพงษ์ เผ่าจินดา ผู้บัญชาการทหารบก อำนวยความสะดวกหรือสั่งการโดยตรงให้มีการซื้อตัวกลุ่มเพื่อนเนวิน ระหว่างอภิสิทธิ์ดำรงตำแหน่งนายกรัฐมนตรี แนวร่วมประชาธิปไตยต่อต้านเผด็จการแห่งชาติประท้วงรัฐบาลโดยขัดขวางการประชุมสุดยอดผู้นำเอเชียตะวันออกในปี 2552 และชุมนุมในกรุงเทพมหานครในปี 2553 เพื่อเรียกร้องให้จัดการเลือกตั้งใหม่\n",
            "\n",
            "new pattern: หัวหน้าพรรคดํารงตําแหน่ง\n",
            "context: ต่อมามีการเปลี่ยนแปลงทางการเมืองหลัง พรรคพลังประชาชน ถูกพิพากษายุบพรรคจาก คดียุบพรรคการเมือง พ.ศ. 2551 ทำให้ นายสมชาย วงศ์สวัสดิ์ พ้นจากตำแหน่งนายกรัฐมนตรี เกิดการเปลี่ยนขั้วทางการเมืองทำให้พรรคประชาธิปัตย์ได้เป็นพรรคแกนนำในการจัดตั้งรัฐบาล โดยมีนายอภิสิทธิ์ เวชชาชีวะ หัวหน้าพรรค ดำรงตำแหน่ง นายกรัฐมนตรี คนที่ 27 ของประเทศไทย จากการลงมติเลือกนายกรัฐมนตรีของสภาผู้แทนราษฎร เมื่อวันที่ 15 ธันวาคม พ.ศ. 2551\n",
            "\n",
            "new pattern: เป็น\n",
            "context: ภายหลังจากศาลรัฐธรรมนูญ มีคำวินิจฉัยให้ยุบพรรคการเมืองซึ่งเป็นพรรคร่วมรัฐบาล (พรรคพลังประชาชน พรรคชาติไทย และพรรคมัชฌิมาธิปไตย) และเพิกถอนสิทธิการเลือกตั้งกรรมการบริหารพรรคเป็นเวลา 5 ปี ซึ่งส่งผลให้ สมชาย วงศ์สวัสดิ์ นายกรัฐมนตรีในขณะนั้น ต้องพ้นจากตำแหน่ง พรรคประชาธิปัตย์ได้จัดตั้งรัฐบาลผสมโดยร่วมกับพรรคการเมืองอื่น ๆ คือ พรรคเพื่อแผ่นดิน พรรคชาติไทยพัฒนา พรรครวมใจไทยชาติพัฒนา พรรคภูมิใจไทย และพรรคกิจสังคม (ภายหลังพรรคมาตุภูมิได้เข้ามาเป็นพรรคร่วมรัฐบาลแทนพรรคเพื่อแผ่นดิน) พร้อมกับสนับสนุนให้ อภิสิทธิ์ เวชชาชีวะ เป็นนายกรัฐมนตรีคนที่ 27 ชนะพลตำรวจเอกประชา พรหมนอก จากพรรคเพื่อแผ่นดิน ด้วยคะแนน 235 ต่อ 198 เสียง ในการลงมติ เมื่อวันที่ 15 ธันวาคม พ.ศ. 2551 และได้จัดตั้งรัฐบาลผสม เป็นคณะรัฐมนตรี คณะที่ 59 ของไทย\n",
            "\n",
            "new pattern: ย้ําว่าจะไม่สนับสนุนพลเอกประยุทธ์จันทร์โอชาเป็น\n",
            "context: ในการเลือกตั้งสมาชิกสภาผู้แทนราษฎรไทยเป็นการทั่วไป พ.ศ. 2562 อภิสิทธิ์ย้ำว่าจะไม่สนับสนุนพลเอก ประยุทธ์ จันทร์โอชา เป็นนายกรัฐมนตรีอีกสมัย แต่มีผู้ตั้งข้อสังเกตว่าเขาไม่ได้ปฏิเสธว่าจะไม่ร่วมรัฐบาลกับพรรคพลังประชารัฐ ผลการเลือกตั้งปรากฏว่าพรรคประชาธิปัตย์ได้คะแนนมหาชน 3.9 ล้านเสียง ส.ส. 52 ที่นั่ง ซึ่งน้อยกว่าพรรคเกิดใหม่อย่างพรรคพลังประชารัฐและพรรคอนาคตใหม่ ในคืนเลือกตั้ง อภิสิทธิ์ประกาศลาออกจากตำแหน่งหัวหน้าพรรค หลังค่อนข้างแน่ชัดว่าพรรคประชาธิปัตย์จะได้ ส.ส. ไม่ถึง 100 ที่นั่ง หลายคนคาดว่าพรรคประชาธิปัตย์จะเปลี่ยนไปร่วมรัฐบาลกับพรรคพลังประชารัฐ\n",
            "\n",
            "new pattern: เป็น\n",
            "context: อภิสิทธิ์เป็นนายกรัฐมนตรีในห้วงวิกฤตการณ์การเงินโลก และความตึงเครียดทางการเมืองในประเทศที่เพิ่มสูงขึ้น ขณะดำรงตำแหน่ง เขาเสนอ \"วาระประชาชน\" ซึ่งมุ่งสนใจนโยบายซึ่งมีผลต่อสภาพความเป็นอยู่ของพลเมืองชนบทและผู้ใช้แรงงานของไทยเป็นหลัก เขาออกมาตรการกระตุ้นเศรษฐกิจสองประการสำคัญ คือ โครงการพัฒนาโครงสร้างพื้นฐานสามปีมูลค่า 4 หมื่นล้านดอลลาร์สหรัฐ และโครงการให้เงินอุดหนุนและแจกเงินมูลค่า 3 พันล้านดอลลาร์สหรัฐ ยุคอภิสิทธิ์มีการปิดเว็บไซต์และสถานีวิทยุเป็นจำนวนมาก ตลอดจนจับกุมและปิดปากบุคลากรสื่อ ผู้ต่อต้านและหัวหน้าแรงงานจำนวนมาก โดยอ้างความผิดต่อองค์พระมหากษัตริย์ไทย จากรายงาน พ.ศ. 2553 ฮิวแมนไรตส์วอตช์เรียกยุคอภิสิทธิ์ว่า \"มีเซ็นเซอร์มากที่สุดในประวัติศาสตร์ไทยล่าสุด\" และ ฟรีดอมเฮาส์ ลดระดับอันดับเสรีภาพสื่อของไทยลงเหลือ \"ไม่เสรี\"\n",
            "\n",
            "new pattern: ได้รับปริญญานิติศาสตร์ดุษฎีบัณฑิตกิตติมศักดิ์จากมหาวิทยาลัยรามคําแหงจากการใช้ความรู้ความสามารถด้านกฎหมายปฏิบัติหน้าที่ในฐานะสมาชิกสภาผู้แทนราษฎรรัฐมนตรีและผู้นําฝ่ายค้านในสภาผู้แทนราษฎรและต้นปีพ.ศ.2554ได้รับปริญญาปรัชญาดุษฎีกิตติมศักดิ์สาขาภาษาอังกฤษจากมหาวิทยาลัยรามคําแหงในปีพ.ศ.2552ระหว่างเกิดความไม่สงบทางการเมืองในประเทศไทยเมษายนพ.ศ.2552เขาเป็น\n",
            "context: ต้นปี พ.ศ. 2549 อภิสิทธิ์ได้รับปริญญานิติศาสตร์ดุษฎีบัณฑิตกิตติมศักดิ์จากมหาวิทยาลัยรามคำแหง จากการใช้ความรู้ความสามารถด้านกฎหมายปฏิบัติหน้าที่ในฐานะสมาชิกสภาผู้แทนราษฎร รัฐมนตรี และผู้นำฝ่ายค้านในสภาผู้แทนราษฎร และต้นปี พ.ศ. 2554 ได้รับปริญญาปรัชญาดุษฎีกิตติมศักดิ์ สาขาภาษาอังกฤษ จากมหาวิทยาลัยรามคำแหง ในปี พ.ศ. 2552 ระหว่างเกิดความไม่สงบทางการเมืองในประเทศไทย เมษายน พ.ศ. 2552 เขาเป็นนายกรัฐมนตรีที่กลุ่มผู้ชุมนุมพยายามสังหาร ในวันที่ 7 เมษายน พ.ศ. 2552 เหตุการณ์ครั้งนั้นเป็นที่ยอมรับว่าเป็นความพยายามฆ่านายกรัฐมนตรีและรองนายกรัฐมนตรีซึ่งมีผู้ต้องหาจำนวน 20 ราย\n",
            "\n",
            "new pattern: เป็นลูกพี่ลูกน้องกับสุรนันทน์เวชชาชีวะ\n",
            "context: อภิสิทธิ์เป็นลูกพี่ลูกน้องกับสุรนันทน์ เวชชาชีวะ อดีตรัฐมนตรีประจำสำนักนายกรัฐมนตรี ในรัฐบาลทักษิณ ชินวัตร โดยสุรนันทน์เป็นบุตรของนิสสัย เวชชาชีวะ อดีตอธิบดีกรมสารนิเทศ ซึ่งเป็นพี่ชายของอรรถสิทธิ์\n",
            "\n",
            "new pattern: ไม่ได้เข้ารับการตรวจเลือกการเกณฑ์ทหารเกิดขึ้นอีกครั้งประมาณปลายปีพ.ศ.2551หลังพรรคพลังประชาชนถูกศาลวินิจฉัยให้ยุบพรรคและอภิสิทธิ์เป็นผู้หนึ่งที่มีโอกาสจะได้ดํารงตําแหน่ง\n",
            "context: การโจมตีเรื่องอภิสิทธิ์ไม่ได้เข้ารับการตรวจเลือกการเกณฑ์ทหาร เกิดขึ้นอีกครั้งประมาณปลายปี พ.ศ. 2551 หลังพรรคพลังประชาชนถูกศาลวินิจฉัยให้ยุบพรรค และอภิสิทธิ์เป็นผู้หนึ่งที่มีโอกาสจะได้ดำรงตำแหน่งนายกรัฐมนตรี โดยประเด็นเกี่ยวกับการรับราชการทหารของอภิสิทธิ์ได้เป็นหัวข้อหนึ่งที่ฝ่ายค้านใช้อภิปรายไม่ไว้วางใจนายกรัฐมนตรี เมื่ออภิสิทธิ์ขึ้นดำรงตำแหน่งนายกรัฐมนตรีได้ไม่ถึง 3 เดือน\n",
            "\n",
            "new pattern: มีผลงานทางการเมืองที่สําคัญคือการจัดทําพระราชบัญญัติการศึกษาแห่งชาติพ.ศ.2542ซึ่งเป็นพระราชบัญญัติการศึกษาแห่งชาติฉบับแรกของไทยที่ดําเนินการจัดทําจนสําเร็จในช่วงเวลาที่อภิสิทธิ์ดํารงตําแหน่งเป็น\n",
            "context: อภิสิทธิ์ เวชชาชีวะ มีผลงานทางการเมืองที่สำคัญ คือการจัดทำพระราชบัญญัติการศึกษาแห่งชาติ พ.ศ. 2542 ซึ่งเป็นพระราชบัญญัติการศึกษาแห่งชาติฉบับแรกของไทย ที่ดำเนินการจัดทำจนสำเร็จในช่วงเวลาที่อภิสิทธิ์ดำรงตำแหน่งเป็นรัฐมนตรีประจำสำนักนายกรัฐมนตรี ที่กำกับดูแลสำนักงานคณะกรรมการการศึกษาแห่งชาติ เพื่อมอบสิทธิแก่เยาวชนไทยในการได้รับการศึกษาขั้นพื้นฐานไม่น้อยกว่าสิบสองปี ที่รัฐจะต้องจัดให้ทั่วถึงและมีคุณภาพโดยไม่เก็บค่าใช้จ่าย ตามบทบัญญัติแห่งรัฐธรรมนูญ พ.ศ. 2540 มาตรา 43 โดยอภิสิทธิ์มีบทบาทดูแลทั้งด้านนโยบาย หลักการและรายละเอียด รวมทั้งผลักดันให้ผ่านคณะรัฐมนตรีและรัฐสภา เป็นประธานกรรมาธิการวิสามัญ พิจารณาร่างพระราชบัญญัติการศึกษา ของสภาผู้แทนราษฎร ตลอดจนได้จัดตั้งคณะกรรมการบริหารสำนักงานปฏิรูปการศึกษา และได้ดูแลจนกระทั่งพระราชกฤษฎีกาจัดตั้งสำนักงานรับรองและประเมินคุณภาพการศึกษาประกาศใช้\n",
            "\n",
            "new pattern: ในฐานะหัวหน้าพรรคประชาธิปัตย์ได้เสนอแนะให้พ.ต.ท.ทักษิณชินวัตร\n",
            "context: ปลายเดือนมีนาคม พ.ศ. 2549 อภิสิทธิ์ในฐานะหัวหน้าพรรคประชาธิปัตย์ ได้เสนอแนะให้ พ.ต.ท.ทักษิณ ชินวัตร รักษาการนายกรัฐมนตรี นำคณะรัฐมนตรีลาออกทั้งคณะ และให้ พ.ต.ท.ทักษิณ กราบบังคมทูลขอนายกรัฐมนตรีพระราชทาน โดยอาศัยความตามมาตรา 7 ในรัฐธรรมนูญแห่งราชอาณาจักรไทย พุทธศักราช 2540 เพื่อรักษาการชั่วคราวในการแก้ไขปัญหาวิกฤติการณ์ทางการเมือง สืบเนื่องจากนักวิชาการ นักการเมือง และประชาชน ที่มีความเคลื่อนไหวเกี่ยวข้องกับพันธมิตรประชาชนเพื่อประชาธิปไตย ได้ร่วมกันลงนามทูลเกล้าฯ ถวายฎีกาขอนายกรัฐมนตรีพระราชทาน เมื่อวันที่ 5 มีนาคม พ.ศ. 2549 โดยอ้างอิงความตามมาตรา 7 ซึ่งอภิสิทธิ์ไม่ใช่ผู้ร่วมลงนามในฎีกาดังกล่าวตามหลักฐานรายชื่อในฎีกาขอนายกรัฐมนตรีพระราชทาน\n",
            "\n",
            "new pattern: ก็ยังพ่ายแพ้ให้กับสมชายวงศ์สวัสดิ์\n",
            "context: หลังจากที่ศาลรัฐธรรมนูญตัดสินให้สมัคร สุนทรเวชพ้นสภาพจากตำแหน่งนายกรัฐมนตรีใน พ.ศ. 2551 อภิสิทธิ์ก็ยังพ่ายแพ้ให้กับสมชาย วงศ์สวัสดิ์ รองนายกรัฐมนตรีในขณะนั้น ในระหว่างการชุมนุมของพันธมิตรประชาชนเพื่อประชาธิปไตย (พธม.) สมาชิกประชาธิปัตย์บางคนกลายเป็นแกนนำของ (พธม.) ซึ่งยึดทำเนียบรัฐบาล, ท่าอากาศยานดอนเมือง และท่าอากาศยานสุวรรณภูมิ ขณะที่มีการปะทะกันระหว่าง พธม. กับตำรวจและกลุ่มต่อต้านอย่างรุนแรง เมื่อวันที่ 2 ธันวาคม พ.ศ. 2551 ศาลรัฐธรรมนูญตัดสินให้ยุบ 3 พรรคการเมือง ซึ่งพรรคพลังประชาชนเป็นหนึ่งในนั้นด้วย ซึ่งทำให้การบริหารราชการแผ่นดินเป็นอันต้องยุติลง และศาลยังตัดสินให้สมชาย วงศ์สวัสดิ์ พ้นจากตำแหน่งนายกรัฐมนตรีอีกด้วย\n",
            "\n",
            "new pattern: น่าจะแพ้เลือกตั้งเพราะไม่เลือกข้างใดข้างหนึ่ง24มีนาคม2562เขาลาออกจากตําแหน่งหัวหน้าพรรคประชาธิปัตย์เพราะได้ที่นั่งต่ํากว่า100ที่นั่งในวันที่5มิถุนายนพ.ศ.2562อภิสิทธิ์ลาออกจากตําแหน่งส.ส.หลังจากพรรคประชาธิปัตย์มีมติร่วมรัฐบาลและสนับสนุนพลเอกประยุทธ์เป็น\n",
            "context: ระหว่างการเลือกตั้งสมาชิกสภาผู้แทนราษฎรไทยเป็นการทั่วไป พ.ศ. 2562 เขาประกาศจะไม่สนับสนุนพลเอก ประยุทธ์ จันทร์โอชา หัวหน้าคณะรักษาความสงบแห่งชาติ เป็นนายกรัฐมนตรีต่อ ฝ่ายธนาธร จึงรุ่งเรืองกิจ หัวหน้าพรรคอนาคตใหม่ จึงตอบโต้ว่า ไม่ใช่แค่ไม่เอาพลเอกประยุทธ์ แต่ต้องไม่เอาพรรคพลังประชารัฐด้วย เชื่อว่ามีบางพรรคที่บอกว่าไม่เอาพลเอกประยุทธ์ แต่อยากจับมือพลังประชารัฐเพื่อชูตัวเองขึ้นเป็นนายกฯ สุเทพ เทือกสุบรรณ แกนนำ กปปส. ระบุว่า อภิสิทธิ์น่าจะแพ้เลือกตั้ง เพราะไม่เลือกข้างใดข้างหนึ่ง 24 มีนาคม 2562 เขาลาออกจากตำแหน่งหัวหน้าพรรคประชาธิปัตย์ เพราะได้ที่นั่งต่ำกว่า 100 ที่นั่ง ในวันที่ 5 มิถุนายน พ.ศ. 2562 อภิสิทธิ์ลาออกจากตำแหน่ง ส.ส. หลังจากพรรคประชาธิปัตย์มีมติร่วมรัฐบาลและสนับสนุนพลเอกประยุทธ์เป็นนายกรัฐมนตรีต่อ\n",
            "\n",
            "new pattern: หัวหน้าพรรคประชาธิปัตย์ซึ่งเป็นพรรคใหญ่อันดับสองในสภาเป็น\n",
            "context: ความพยายามทั้งหลายนี้ไม่อาจกำจัดเสียงสนับสนุนทักษิณในชนบทได้ หลังมีการรื้อฟื้นการปกครองแบบรัฐสภาในเดือนธันวาคม 2550 พรรคไทยรักไทยที่ถูกสั่งยุบพรรคในปี 2549 ได้กลับมาเป็นรัฐบาลอีกในชื่อพรรคพลังประชาชนโดยมีสมัคร สุนทรเวชเป็นหัวหน้า พรรคพลังประชาชนครองอำนาจอยู่พักหนึ่งก็เกิดการประท้วงของ พธม. ด้านกลุ่มแนวร่วมประชาธิปไตยต่อต้านเผด็จการแห่งชาติ (นปช.) ซึ่งถือกำเนิดในเดือนกรกฎาคม 2550 ชุมนุมต่อต้าน พธม. ฝ่าย พธม. อ้างว่าตนกำลังพิทักษ์สถาบันพระมหากษัตริย์ และ นปช. อ้างว่าตนกำลังพิทักษ์ระบอบประชาธิปไตย หลังการชุมนุมดำเนินมาจนสิ้นปี ศาลรัฐธรรมนูญวินิจฉัยยุบพรรคพลังประชาชน หลังจากนั้น สมาชิกสภาผู้แทนราษฎรลงมติเลือกอภิสิทธิ์ เวชชาชีวะ หัวหน้าพรรคประชาธิปัตย์ซึ่งเป็นพรรคใหญ่อันดับสองในสภา เป็นนายกรัฐมนตรี ในครั้งนั้นพลเอกเปรมและพลเอก อนุพงษ์ เผ่าจินดา ผู้บัญชาการทหารบก อำนวยความสะดวกหรือสั่งการโดยตรงให้มีการซื้อตัวกลุ่มเพื่อนเนวิน นปช. ชุมนุมในสมัยรัฐบาลอภิสิทธิ์ โดยเข้าขัดขวางการประชุมสุดยอดผู้นำอาเซียนในปี 2552 และในปีต่อมา มีการชุมนุมยืดเยื้อในกรุงเทพมหานครตั้งแต่เดือนมีนาคมถึงพฤษภาคม 2553 และปิดฉากลงด้วยเหตุการณ์เผาย่านธุรกิจในเขตราชประสงค์ และเผาอาคารราชการ 4 แห่งในต่างจังหวัด\n",
            "\n",
            "new pattern: เป็น\n",
            "context: ในวันที่ 30 พฤศจิกายน พ.ศ. 2551 มีผู้พบระเบิดที่ที่ทำการพรรคชาติไทยเพื่อเป็นการข่มขู่ที่มีข่าวว่าสมาชิกสภาผู้แทนราษฎรพรรคชาติไทยพัฒนาจะสนับสนุนอภิสิทธิ์ เวชชาชีวะเป็นนายกรัฐมนตรี ในการลงมติเลือกนายกรัฐมนตรีไทย ธันวาคม พ.ศ. 2551ต่อมาในวันที่ 20 ธันวาคม พ.ศ. 2551 พรรคชาติไทยพัฒนา ร่วมรัฐบาลกับพรรคประชาธิปัตย์ โดยชุมพล ศิลปอาชาได้เป็นรัฐมนตรีว่าการกระทรวงท่องเที่ยวและกีฬาและ\n",
            "\n",
            "new pattern: และยิ่งลักษณ์ชินวัตรต่างประกาศพระราชกําหนดในสถานการณ์ฉุกเฉินพ.ศ.2548เพื่อใช้กับนักการเมืองฝ่ายตรงข้ามส่งผลให้เกิดคดีนักการเมืองจากทั้งสองพรรคถูกศาลออกหมายจับในข้อหาทําผิดกฎหมายดังกล่าวจํานวนมากในขณะที่พรรคชาติไทยพัฒนาได้ผลประโยชน์จากการร่วมงานกับทั้งสองพรรคกล่าวคือชุมพลศิลปอาชาได้เป็นรัฐมนตรีว่าการกระทรวงการท่องเที่ยวและกีฬาในรัฐบาลอภิสิทธิ์เวชชาชีวะและในรัฐบาลยิ่งลักษณ์ชินวัตรได้เป็น\n",
            "context: ใน พ.ศ. 2554 พรรคชาติไทยพัฒนา ร่วมรัฐบาลกับพรรคเพื่อไทย ทำให้ถูกวิพากษ์วิจารณ์อย่างมากเนื่องจากทั้งสองพรรคมีความเป็นศัตรูกันอย่างชัดเจนโดยอภิสิทธิ์ เวชชาชีวะ และยิ่งลักษณ์ ชินวัตร ต่างประกาศพระราชกำหนดในสถานการณ์ฉุกเฉิน พ.ศ. 2548 เพื่อใช้กับนักการเมืองฝ่ายตรงข้ามส่งผลให้เกิดคดี นักการเมืองจากทั้งสองพรรค ถูกศาลออกหมายจับ ในข้อหาทำผิดกฎหมายดังกล่าวจำนวนมาก ในขณะที่พรรคชาติไทยพัฒนาได้ผลประโยชน์จากการร่วมงานกับทั้งสองพรรคกล่าวคือ ชุมพล ศิลปอาชาได้เป็นรัฐมนตรีว่าการกระทรวงการท่องเที่ยวและกีฬาในรัฐบาลอภิสิทธิ์ เวชชาชีวะ และในรัฐบาลยิ่งลักษณ์ ชินวัตร ได้เป็นรองนายกรัฐมนตรีควบตำแหน่งรัฐมนตรีว่าการกระทรวงท่องเที่ยวและกีฬาและธีระ วงศ์สมุทรเป็นรัฐมนตรีว่าการกระทรวงเกษตรและสหกรณ์ทั้งรัฐบาลอภิสิทธิ์ เวชชาชีวะและยิ่งลักษณ์ ชินวัตร \n",
            "\n",
            "new pattern: ประธานคณะกรรมาธิการมีหนังสือแจ้งให้พระสุเมธาธิบดี\n",
            "context:   ในวันที่ ๒๘ กุมภาพันธ์ พ.ศ. ๒๕๓๙ คณะกรรมาธิการการศึกษา สภาผู้แทนราษฎรมีมติสนับสนุนร่างพระราชบัญญัติมหาวิทยาลัยสงฆ์ และนายอภิสิทธิ์ เวชชาชีวะ ประธานคณะกรรมาธิการมีหนังสือแจ้งให้พระสุเมธาธิบดี นายกสภามหาวิทยาลัยมหาจุฬาลงกรณราชวิทยาลัยทราบในวันที่ ๕ มีนาคม พ.ศ. ๒๕๓๙\n",
            "\n",
            "new pattern: ได้รับแต่งตั้งเป็น\n",
            "context: เดิมเขาเคยเป็นผู้สนับสนุนอดีตนายกรัฐมนตรี ทักษิณ ชินวัตร อย่างแข็งขัน แต่ต่อมาเป็นผู้นำขบวนการต่อต้านทักษิณ ช่วงต้น พ.ศ. 2549 สนธิเป็นหนึ่งในแกนนำพันธมิตรประชาชนเพื่อประชาธิปไตยที่นำการชุมนุมขับทักษิณ ชินวัตรจากตำแหน่งนายกรัฐมนตรี ก่อนยุติบทบาทหลังรัฐประหารในประเทศไทย พ.ศ. 2549 ซึ่งโค่นรัฐบาลทักษิณ ในเดือนกุมภาพันธ์ พ.ศ. 2551 สนธิออกนำพันธมิตรประชาชนเพื่อประชาธิปไตยอีกครั้งในการประท้วงขับทักษิณ ชินวัตรออกจากตำแหน่ง หลังรัฐบาลสมัคร สุนทรเวช ซึ่งเข้าฝ่ายทักษิณชนะการเลือกตั้งเป็นการทั่วไป โดยนำกลุ่มพันธมิตรฯ ปะทะกับกำลังความมั่นคง ตลอดจนยึดทำเนียบรัฐบาล ท่าอากาศยานดอนเมืองและสุวรรณภูมิ สนธิเป็นผู้สนับสนุนพรรคประชาธิปัตย์อยู่บ้าง และยุติการประท้วงของกลุ่มหลังอภิสิทธิ์ เวชชาชีวะได้รับแต่งตั้งเป็นนายกรัฐมนตรี\n",
            "\n",
            "new pattern: ได้ดํารงตําแหน่ง\n",
            "context: เนวิน ชิดชอบ () ปัจจุบันเป็นประธานบริหารสโมสรฟุตบอลบุรีรัมย์ ยูไนเต็ด อดีตเคยเป็นสมาชิกสภาผู้แทนราษฎรและรัฐมนตรีหลายสมัย และเคยเป็นหนึ่งในบุคคลใกล้ชิดคนสำคัญของอดีตนายกรัฐมนตรี ทักษิณ ชินวัตร และเป็นบุคคลสำคัญ ที่ทำให้นายอภิสิทธิ์ เวชชาชีวะ ได้ดำรงตำแหน่งนายกรัฐมนตรี ในปี พ.ศ. 2551\n",
            "\n",
            "new pattern: เข้าดํารงตําแหน่ง\n",
            "context: นายเนวินถูกตัดสิทธิทางการเมืองเป็นเวลา 5 ปี จากคดียุบพรรคการเมือง พ.ศ. 2549 แต่ยังคงเป็นผู้นำกลุ่มเพื่อนเนวินที่มี ส.ส.ในกลุ่มอยู่ราว 30 คน มีบทบาทอย่างสูงในการจัดตั้งรัฐบาลของพรรคประชาธิปัตย์ เพื่อให้นายอภิสิทธิ์ เวชชาชีวะ เข้าดำรงตำแหน่งนายกรัฐมนตรี และเป็นแกนนำคนสำคัญของพรรคภูมิใจไทย ที่จัดตั้งขึ้นเพื่อให้ ส.ส. เดิมของพรรคมัชฌิมาธิปไตย และกลุ่มเพื่อนเนวิน พรรคพลังประชาชน ซึ่งถูกตัดสินยุบพรรค เข้าสังกัด และร่วมรัฐบาลกับพรรคประชาธิปัตย์\n",
            "\n",
            "new pattern: เป็น\n",
            "context: ในช่วงที่นายอภิสิทธิ์ เวชชาชีวะ เป็นนายกรัฐมนตรี องคมนตรีสิทธิมองว่าอภิสิทธิ์ใช้เวลาอยู่บนโพเดียมมากเกินไป จนไม่มีเวลาที่จะสร้างทีมงานที่มีประสิทธิภาพ นอกจากนี้องคมนตรีสิทธิยังพยายามแทรกแซงให้กองทัพปลดพลตรีขัตติยะ สวัสดิผล ซึ่งเขามองเป็น \"ทหารนอกแถว\" ออกจากราชการ องคมนตรีสิทธิมองว่าพลเอกอนุพงษ์ไร้ความสามารถในการควบคุมพลตรีขัตติยะ องคมนตรีสิทธิมองว่าพลเอกประยุทธ์ จันทร์โอชา รองผู้บัญชาการทหารบก น่าจะสามารถจัดการเรื่องต่างๆได้ดีกว่าพลเอกอนุพงษ์\n",
            "\n",
            "new pattern: ดํารงตําแหน่ง\n",
            "context: พันธมิตรประชาชนเพื่อประชาธิปไตย () หรือเรียกว่า กลุ่มพันธมิตรกู้ชาติ หรือ กลุ่มคนเสื้อเหลือง เป็นกลุ่มการเคลื่อนไหวทางการเมืองในประเทศไทยที่มีบทบาทสำคัญในช่วง พ.ศ. 2548-2552 โดยเป็นการรวมตัวจากหลายองค์กรทั่วประเทศ และได้รับการสนับสนุนจากหลายฝ่าย ภายใต้จุดประสงค์ในการขับ พ.ต.ท. ทักษิณ ชินวัตรออกจากตำแหน่งนายกรัฐมนตรี และแสดงความต้องการให้อภิสิทธิ์ เวชชาชีวะดำรงตำแหน่งนายกรัฐมนตรีแทนอย่างเปิดเผย กลุ่มพันธมิตรประชาชนเพื่อประชาธิปไตยมีแกนนำคนสำคัญ ได้แก่ สนธิ ลิ้มทองกุล และพลตรีจำลอง ศรีเมือง\n",
            "\n",
            "new pattern: ผู้นําฝ่ายค้านพรรคประชาธิปัตย์ได้ประกาศจัดตั้งคณะรัฐมนตรีเงาเพื่อติดตามการทํางานของรัฐบาลผสมที่มีพรรคพลังประชาชนเป็นแกนนําและมีนายสมัครสุนทรเวชเป็น\n",
            "context: สำหรับประเทศไทย เริ่มมีการจัดตั้งคณะรัฐมนตรีเงาเป็นครั้งแรกในเดือนกุมภาพันธ์ พ.ศ. 2551 เมื่อ นายอภิสิทธิ์ เวชชาชีวะ ผู้นำฝ่ายค้าน พรรคประชาธิปัตย์ ได้ประกาศจัดตั้งคณะรัฐมนตรีเงา เพื่อติดตามการทำงานของรัฐบาลผสมที่มีพรรคพลังประชาชนเป็นแกนนำ และมีนายสมัคร สุนทรเวชเป็นนายกรัฐมนตรี\n",
            "\n",
            "new pattern: รัฐบาลขณะนั้นมีนโยบายปฏิรูปสถานีโทรทัศน์แห่งประเทศไทยโดยจัดประกวดตราสัญลักษณ์ใหม่ซึ่งกําหนดแนวคิดตราสัญลักษณ์ให้สื่อถึงความเป็นโทรทัศน์แห่งชาติมีความทันสมัยผสมผสานกับความเป็นไทยและเริ่มใช้ในวันที่1เมษายนพ.ศ.2552ซึ่งเป็นวันครบรอบ1ปีการใช้ชื่อเอ็นบีทีโดยสาทิตย์วงศ์หนองเตย\n",
            "context: ในเดือนธันวาคม พ.ศ. 2551 มีการเปลี่ยนตัวนายกรัฐมนตรี จากสมชาย วงศ์สวัสดิ์ เป็นอภิสิทธิ์ เวชชาชีวะ รัฐบาลขณะนั้นมีนโยบายปฏิรูปสถานีโทรทัศน์แห่งประเทศไทย โดยจัดประกวดตราสัญลักษณ์ใหม่ ซึ่งกำหนดแนวคิดตราสัญลักษณ์ ให้สื่อถึงความเป็นโทรทัศน์แห่งชาติ มีความทันสมัยผสมผสานกับความเป็นไทย และเริ่มใช้ในวันที่ 1 เมษายน พ.ศ. 2552 ซึ่งเป็นวันครบรอบ 1 ปี การใช้ชื่อเอ็นบีที โดยสาทิตย์ วงศ์หนองเตย รัฐมนตรีประจำสำนักนายกรัฐมนตรีขณะนั้น เป็นผู้เปิดตราสัญลักษณ์ใหม่ และเปิดตัวสถานีฯ ในฐานะสถานีโทรทัศน์แห่งชาติ จากนั้นจึงมีการเลิกสัญญาบริษัทผลิตข่าว ซึ่งเดิมเป็นของ บริษัท ดิจิทัลมีเดียโฮลดิ้ง จำกัด มาประมูลใหม่ ซึ่งหน่วยงานที่ได้รับการคัดเลือก จากการประกวดราคานี้ได้แก่บริษัท โพสต์พับลิชชิง จำกัด (มหาชน) เจ้าของหนังสือพิมพ์บางกอกโพสต์ กระทั่งต่อมาเอ็นบีทีก็ได้เรียกเวลารายการข่าวคืนมาผลิตเองทั้งหมด\n",
            "\n",
            "new pattern: หัวหน้าพรรคประชาธิปัตย์และ\n",
            "context: งามพรรณ เวชชาชีวะ (ชื่อเล่น: เจน; เกิด 27 มกราคม พ.ศ. 2505) เป็นนักเขียน นักแปลผู้มีชื่อเสียง และนักธุรกิจเกี่ยวกับลิขสิทธิ์วรรณกรรม เจ้าของ รางวัลซีไรต์ ประจำปี พ.ศ. 2549 ประเภทนวนิยาย จากงานเขียน \"ความสุขของกะทิ\" เป็นบุตรีของ ศาสตราจารย์นายแพทย์ อรรถสิทธิ์ เวชชาชีวะ กับ ศาสตราจารย์แพทย์หญิงสดใส เวชชาชีวะ มีชื่อเล่นว่า เจน เป็นบุตรีคนกลาง มีพี่สาว คือ ศาสตราจารย์แพทย์หญิงอลิสา วัชรสินธุ ผู้เชี่ยวชาญด้านจิตเวชเด็ก และมีน้องชายคือ นายอภิสิทธิ์ เวชชาชีวะ หัวหน้า พรรคประชาธิปัตย์และอดีตนายกรัฐมนตรี คนที่ 27 ของไทย\n",
            "\n",
            "new pattern: นายกรณ์จาติกวาณิชรัฐมนตรีว่าการกระทรวงการคลังและนายสุเทพเทือกสุบรรณ\n",
            "context: นายกษิต ภิรมย์ รัฐมนตรีว่าการกระทรวงการต่างประเทศ อ้างว่า พ.ต.ท.ทักษิณ อยู่เบื้องหลังเหตุการณ์ดังกล่าว และอ้างต่อไปว่าเขา นายอภิสิทธิ์ นายกรณ์ จาติกวาณิช รัฐมนตรีว่าการกระทรวงการคลัง และนายสุเทพ เทือกสุบรรณ รองนายกรัฐมนตรี ตกเป็นเป้าหมายของแผนการลอบสังหารด้วยเช่นกัน\n",
            "\n",
            "new pattern: เป็น\n",
            "context: ต่อมา นายประพันธ์เป็นที่ปรึกษาของคุณหญิง ดร.กัลยา โสภณพนิช รัฐมนตรีว่าการกระทรวงวิทยาศาสตร์ในรัฐบาลที่มีนายอภิสิทธิ์ เวชชาชีวะ เป็นนายกรัฐมนตรี แต่ได้ลาออกเพื่อเข้าเป็นกรรมการบริหารพรรคการเมืองใหม่ ในปลายปี พ.ศ. 2552 ซึ่งเมื่อหลังการลาออกแล้ว มีผู้วิจารณ์ว่านายประพันธ์ได้โจมตีรัฐบาลที่มีนายอภิสิทธิ์ เป็นนายกรัฐมนตรีค่อนข้างมาก\n",
            "\n",
            "new pattern: ดํารงตําแหน่ง\n",
            "context: หลังจากเกิดการเปลี่ยนขั้วทางการเมืองปลายปี พ.ศ. 2551 ทำให้พรรคประชาธิปัตย์ได้เป็นแกนนำจัดตั้งรัฐบาล และนายอภิสิทธิ์ เวชชาชีวะ ดำรงตำแหน่งนายกรัฐมนตรี นายอิสราได้รับแต่งตั้งให้ดำรงตำแหน่ง รองเลขาธิการนายกรัฐมนตรี และต่อมาโยกย้ายไปดำรงตำแหน่งกรรมการผู้ช่วยรัฐมนตรีว่าการกระทรวงการต่างประเทศ นายกษิต ภิรมย์ เพื่อเปิดทางให้ พล.ต.อ.ธานี สมบูรณ์ทรัพย์ อดีตรองผู้บัญชาการตำรวจแห่งชาติ เข้ามาช่วยงานด้านความมั่นคงให้กับนายกรัฐมนตรี\n",
            "\n",
            "new pattern: โดยร้อยตํารวจเอกเฉลิมเป็นผู้ขึ้นเปิดอภิปรายเป็นคนแรกโดยอภิปรายไม่ไว้วางใจอภิสิทธิ์เวชชาชีวะ\n",
            "context: ร้อยตำรวจเอก เฉลิมเป็นผู้นำสมาชิกสภาผู้แทนราษฎรพรรคเพื่อไทย อภิปรายไม่ไว้วางใจรัฐบาลอภิสิทธิ์ เวชชาชีวะ โดย ร้อยตำรวจเอก เฉลิมเป็นผู้ขึ้นเปิดอภิปรายเป็นคนแรก โดยอภิปรายไม่ไว้วางใจอภิสิทธิ์ เวชชาชีวะ นายกรัฐมนตรี และประดิษฐ์ ภัทรประสิทธิ์ รัฐมนตรีช่วยว่าการกระทรวงการคลัง ในกรณีการปกปิด ซ่อนเร้น ไม่เปิดเผยการรับเงินสนับสนุนพรรคการเมือง ในการรายงานงบดุลต่อคณะกรรมการการเลือกตั้ง (กกต.) ซึ่งเส้นทางของเงินดังกล่าวเป็นเงินที่รับจากบริษัท ทีพีไอ โพลีน จำกัด (มหาชน) แล้วทำนิติกรรมอำพรางผ่านบริษัท เมซไซอะ ซึ่งถือเป็นความผิดตาม พ.ร.บ.พรรคการเมือง\n",
            "\n",
            "new pattern: เป็น\n",
            "context: พรรคกิจสังคม ได้ถูกรื้อฟื้นอีกครั้ง ในปลายปี พ.ศ. 2551 ภายหลังคดียุบพรรคใหญ่หลายพรรค นายสุวิทย์ คุณกิตติ อดีตหัวหน้าพรรคได้นำ สมาชิกสภาผู้แทนราษฎร กลับมาฟื้นฟูพรรคอีกครั้ง โดยนายสุวิทย์ดำรงตำแหน่งประธานที่ปรึกษาพรรค และเข้าร่วมฝ่ายรัฐบาลซึ่งสนับสนุน นายอภิสิทธิ์ เวชชาชีวะ เป็นนายกรัฐมนตรี ซึ่งสมาชิกสภาผู้แทนราษฎรที่ย้ายมาสังกัด จำนวน 5 คน คือ \n",
            "\n",
            "new pattern: ดํารงตําแหน่ง\n",
            "context: ต่อมาเมื่ออภิสิทธิ์ เวชชาชีวะ ดำรงตำแหน่งนายกรัฐมนตรี ก็ได้สั่งให้ยุติการสอบสวน และยกเลิกคำสั่งให้เสรีพิศุทธ์ออกจากราชการไว้ก่อน เมื่อวันที่ 24 ธันวาคม พ.ศ. 2553 รวมระยะเวลาการดำรงตำแหน่ง 364 วัน\n",
            "\n",
            "new pattern: จะได้เป็นนายก,พล.อ.สพรั่งกัลยาณมิตรจะได้เป็นผู้บัญชาการทหารบกต่อจากพล.อ.สนธิบุญยรัตกลิน,ในเดือนกุมภาพันธ์พ.ศ.2551จะมีคนกลางที่มีอักษรย่อ\"พ\"ขึ้นเป็นนายกรัฐมนตรี,หลังนายสมชายวงศ์สวัสดิ์พ้นตําแหน่ง\n",
            "context: ทั้งนี้ การทำนายของหมอนิดก็มีส่วนที่ผิดพลาดมากเช่นกัน เช่น ทำนายว่าจะมีการรัฐประหารซ้ำในรัฐบาลพลเอกสุรยุทธ์ จุลานนท์, จะไม่มีการเลือกตั้งในเดือนธันวาคม ปี พ.ศ. 2550 อย่างแน่นอน, พรรคพลังประชาชนจะชนะการเลือกตั้ง แต่นายอภิสิทธิ์ เวชชาชีวะ จะได้เป็นนายก, พล.อ.สพรั่ง กัลยาณมิตรจะได้เป็นผู้บัญชาการทหารบกต่อจาก พล.อ.สนธิ บุญยรัตกลิน, ในเดือนกุมภาพันธ์ พ.ศ. 2551 จะมีคนกลางที่มีอักษรย่อ \"พ\" ขึ้นเป็นนายกรัฐมนตรี, หลังนายสมชาย วงศ์สวัสดิ์พ้นตำแหน่งนายกไปแล้ว แต่นายอภิสิทธิ์จะไม่ได้เป็นนายก เป็นต้น\n",
            "\n",
            "new pattern: กู้ยืมเงินมาเพื่อทุจริตคดโกงและกล่าวหาว่าอภิสิทธิ์หน่วงเหนี่ยวคําร้องฎีกาขอพระราชทานอภัยโทษแก่พันตํารวจโททักษิณชินวัตร\n",
            "context: เมื่อวันที่ 11 และวันที่ 17 ตุลาคม พ.ศ. 2552 อริสมันต์ปราศรัยที่อนุสาวรีย์ประชาธิปไตย และหน้าทำเนียบรัฐบาล ถ่ายทอดสดผ่านสถานีประชาชน กล่าวหาทำนองว่า การบริหารงานของรัฐบาลอภิสิทธิ์ กู้ยืมเงินมาเพื่อทุจริตคดโกง และกล่าวหาว่าอภิสิทธิ์ หน่วงเหนี่ยวคำร้องฎีกา ขอพระราชทานอภัยโทษแก่ พันตำรวจโท ทักษิณ ชินวัตร อดีตนายกรัฐมนตรี ทำให้ล่าช้า รวมถึงสั่งทหารให้มาฆ่าประชาชน และศาลอุทธรณ์มีความเห็นพ้อง ที่จะพิพากษายืน จำคุกอริสมันต์ 12 เดือน โดยไม่รอลงอาญา รวมทั้งให้ลงโฆษณาคำพิพากษา ในหนังสือพิมพ์สองฉบับ ติดต่อกัน 7 วัน และในวันที่ 21 เมษายน พ.ศ. 2560 ศาลฎีกาลงโทษจำคุก 12 เดือน ไม่รอลงอาญา และให้นายอริสมันต์ ลงโฆษณาคำพิพากษาในหนังสือพิมพ์มติชน และเดลินิวส์ ติดต่อกัน 7 วัน โดยให้นายอริสมันต์เป็นผู้ชำระค่าโฆษณา\n",
            "\n",
            "new pattern: ผู้นําฝ่ายค้านในสภาผู้แทนราษฎรหัวหน้าพรรคประชาธิปัตย์ได้ทําหนังสือถึงสมัครสุนทรเวช\n",
            "context: นอกจากนี้ อภิสิทธิ์ เวชชาชีวะ ผู้นำฝ่ายค้านในสภาผู้แทนราษฎร หัวหน้าพรรคประชาธิปัตย์ ได้ทำหนังสือถึงสมัคร สุนทรเวช นายกรัฐมนตรี เพื่อขอให้พิจารณาเนื้อหาของคำกล่าวทั้งสองครั้ง โดยเห็นว่าเป็นทัศนคติที่เป็นอันตรายต่อระบบการปกครอง พร้อมกับเรียกร้องให้สมัครพิจารณาปลดนายจักรภพออกจากตำแหน่งรัฐมนตรีประจำสำนักนายกรัฐมนตรี\n",
            "\n",
            "new pattern: ขึ้นมาดํารงตําแหน่ง\n",
            "context: ภายหลังที่ นายอภิสิทธิ์ เวชชาชีวะ ขึ้นมาดำรงตำแหน่งนายกรัฐมนตรีเป็นคนที่ 27 นายศิริโชคได้ทำหน้าที่เป็นเลขานุการส่วนตัวนายกรัฐมนตรี และมีบทบาทตอบโต้กับฝ่ายค้านและฝ่ายตรงข้าม จนได้รับฉายาจากฝ่ายค้านว่า วอลล์เปเปอร์\n",
            "\n",
            "new pattern: ปีพ.ศ.2551ซึ่งสุเทพเป็นผู้ที่มีบทบาทในการประสานงานจัดตั้งรัฐบาลในครั้งนั้นจนได้รับการขนานนามว่า\"ผู้จัดการรัฐบาล\"และได้รับตําแหน่ง\n",
            "context: ในการจัดตั้งรัฐบาลอภิสิทธิ์ เวชชาชีวะ ปี พ.ศ. 2551 ซึ่งสุเทพเป็นผู้ที่มีบทบาทในการประสานงานจัดตั้งรัฐบาลในครั้งนั้น จนได้รับการขนานนามว่า \"ผู้จัดการรัฐบาล\" และได้รับตำแหน่งรองนายกรัฐมนตรี ด้านความมั่นคง ต่อมาในปี พ.ศ. 2552 สุเทพ ลาออกจากการเป็นสมาชิกสภาผู้แทนราษฎร หลังจากคณะกรรมการการเลือกตั้ง วินิจฉัยการถือครองหุ้นของเขาผิดรัฐธรรมนูญ แต่ยังคงดำรงตำแหน่งรองนายกรัฐมนตรีเช่นเดิม\n",
            "\n",
            "new pattern: เป็น\n",
            "context: เรื่องนี้เกิดขึ้นในสมัยรัฐบาลประชาธิปัตย์ มีอภิสิทธิ์ เวชชาชีวะ เป็นนายกรัฐมนตรี มีสุเทพ เทือกสุบรรณเป็นรองนายกรัฐมนตรี ดูแลสำนักงานตำรวจแห่งชาติ ซึ่งธาริต เพ็งดิษฐ์ อธิบดีกรมสอบสวนคดีพิเศษ (ดีเอสไอ) ระบุการอนุมัติโครงการดังกล่าวอยู่ในความรับผิดชอบของ สุเทพ เทือกสุบรรณ ทำหน้าที่แทนนายกรัฐมนตรี ให้ความเห็นชอบไปเมื่อวันที่ 9 มิถุนายน พ.ศ. 2552 ต่อมา สุเทพยกเลิกแนวทางการจัดจ้างเป็นรายภาค ให้จัดจ้างรวมกันทั้งหมดแทน เมื่อ 11 ตุลาคม พ.ศ. 2553 เลยทำให้มีบริษัทเดียวที่ชนะการประมูลการก่อสร้างในครั้งนี้ไป\n",
            "\n",
            "new pattern: และรองหัวหน้าพรรคประชาธิปัตย์เกิดวันที่28มีนาคมพ.ศ.2492เป็นบุตรของนายประมวลสภาวสุ\n",
            "context: กอร์ปศักดิ์ สภาวสุ อดีตเลขาธิการนายกรัฐมนตรี อดีตรองนายกรัฐมนตรีฝ่ายเศรษฐกิจในรัฐบาลของนายอภิสิทธิ์ เวชชาชีวะ และรองหัวหน้าพรรคประชาธิปัตย์ เกิดวันที่ 28 มีนาคม พ.ศ. 2492 เป็นบุตรของ นายประมวล สภาวสุ อดีตรองนายกรัฐมนตรี รัฐมนตรีว่าการกระทรวงการคลัง รัฐมนตรีว่าการกระทรวงอุตสาหกรรม และคุณหญิงศรีประพาฬ สภาวสุ นายกอร์ปศักดิ์เป็นบุตรคนโต มีพี่น้องอีก 4 คนคือ นางศิริณี สภาวสุ , นายกุมพล สภาวสุ , นางจารุวรรณ กัลยางกูร และนายประโภชณ์ สภาวสุ\n",
            "\n",
            "new pattern: เป็น\n",
            "context: พ.อ.เฟื่องวิชชุ์ มีตำแหน่งเป็นเลขานุการ นายพีระพันธุ์ สาลีรัฐวิภาค รัฐมนตรีว่าการกระทรวงยุติธรรม ในสมัยรัฐบาลที่มีนายอภิสิทธิ์ เวชชาชีวะ เป็นนายกรัฐมนตรี\n",
            "\n",
            "new pattern: )ในสมัยรัฐบาลชวน2(พ.ศ.2540-พ.ศ.2543)ต่อมาในปลายปีพ.ศ.2551พรรคประชาธิปัตย์สามารถเป็นแกนนําจัดตั้งรัฐบาลนายสาทิตย์วงศ์หนองเตยได้รับการแต่งตั้งให้ดํารงตําแหน่ง\n",
            "context: นายสาทิตย์ เคยดำรงตำแหน่ง เลขานุการรัฐมนตรีประจำสำนักนายกรัฐมนตรี (นายอภิสิทธิ์ เวชชาชีวะ) ในสมัยรัฐบาลชวน 2 (พ.ศ. 2540 - พ.ศ. 2543) ต่อมาในปลายปี พ.ศ. 2551 พรรคประชาธิปัตย์สามารถเป็นแกนนำจัดตั้งรัฐบาล นายสาทิตย์ วงศ์หนองเตย ได้รับการแต่งตั้งให้ดำรงตำแหน่ง รัฐมนตรีประจำสำนักนายกรัฐมนตรี รับผิดชอบดูแลสำนักงานปลัดสำนักนายกรัฐมนตรี กรมประชาสัมพันธ์ สำนักงานคณะกรรมการกฤษฎีกา และบริษัท อสมท. จำกัด (มหาชน)\n",
            "\n",
            "new pattern: ได้รับพระบรมราชโองการโปรดเกล้าฯให้ดํารงตําแหน่ง\n",
            "context: ในวันที่ 9 ธันวาคม พ.ศ. 2551 ภายหลังพรรคชาติไทยและพรรคพลังประชาชนถูกศาลพิพากษายุบพรรค จากคดีทุจริตการเลือกตั้ง นายสุวิทย์ได้นำ สส. จากอดีตพรรคชาติไทยและอดีตพรรคพลังประชาชน รวม 5 คน สมัครเข้าเป็นสมาชิกพรรคกิจสังคม ประกอบด้วย นายเทวฤทธิ์ นิกรเทศ ส.ส.สัดส่วน พรรคพลังประชาชน นายสมเจตน์ ลิมประพันธ์ ส.ส.สุโขทัย พรรคชาติไทย นายมนต์ชัย วิวัฒน์ธนาฒย์ นายชยุต ภุมมะกาญจน ส.ส.ปราจีนบุรี และนายวารุจ ศิริวัฒน์ ส.ส.อุตรดิตถ์ พรรคพลังประชาชน และขึ้นดำรงตำแหน่งประธานที่ปรึกษาพรรคกิจสังคม มีอำนาจให้คำปรึกษาและพิจารณาตัดสินใจในการจัดตั้งรัฐบาลและเสนอชื่อบุคคลที่เห็นสมควรดำรงตำแหน่งรัฐมนตรีและตำแหน่งทางการเมือง เมื่อวันที่ 17 ธันวาคม พ.ศ. 2551 ซึ่งเป็นวันเดียวกับที่ นายอภิสิทธิ์ เวชชาชีวะ ได้รับพระบรมราชโองการโปรดเกล้าฯ ให้ดำรงตำแหน่ง นายกรัฐมนตรี\n",
            "\n",
            "new pattern: เป็น\n",
            "context: วันที่ 20 ธันวาคม พ.ศ. 2551 ได้รับการโปรดเกล้าฯ ให้ดำรงตำแหน่งรัฐมนตรีว่าการกระทรวงยุติธรรม ในรัฐบาลที่มีนายอภิสิทธิ์ เวชชาชีวะ เป็นนายกรัฐมนตรี ต่อมาในการเลือกตั้ง พ.ศ. 2554 ได้ลงสมัครรับเลือกตั้งในระบบบัญชีรายชื่อ และได้รับเลือกตั้งเป็น ส.ส.อีกสมัย\n",
            "\n",
            "new pattern: ผู้นําฝ่ายค้านได้ประกาศติดตามการทํางานของรัฐบาลผสมที่มีพรรคพลังประชาชนเป็นแกนนําในสมัยที่นายสมัครสุนทรเวชและนายสมชายวงศ์สวัสดิ์ดํารงตําแหน่ง\n",
            "context: คณะรัฐมนตรีเงา มีการจัดตั้งในประเทศไทยมาแล้ว 2 ครั้งโดยฝ่ายค้านที่มาจากพรรคประชาธิปัตย์ เพื่อตรวจสอบการทำงานของรัฐบาลที่มีพรรคการเมืองตระกูลชินวัตรเป็นแกนนำ โดยครั้งแรกเกิดขึ้นเมื่อนายอภิสิทธิ์ เวชชาชีวะ ผู้นำฝ่ายค้าน ได้ประกาศติดตามการทำงานของรัฐบาลผสมที่มีพรรคพลังประชาชนเป็นแกนนำ ในสมัยที่นายสมัคร สุนทรเวช และนายสมชาย วงศ์สวัสดิ์ ดำรงตำแหน่งนายกรัฐมนตรีไทย และได้มีการจัดตั้งคณะรัฐมนตรีเงาเป็นคณะที่ 2 ในช่วงรัฐบาลของนางสาวยิ่งลักษณ์ ชินวัตร ซึ่งมีพรรคเพื่อไทยเป็นแกนนำ\n",
            "\n",
            "new pattern: ส.ส.สัดส่วนกลุ่มจังหวัดที่6หัวหน้าพรรคประชาธิปัตย์และนายเสนาะเทียนทองส.ส.สัดส่วนกลุ่มจังหวัดที่5และหัวหน้าพรรคประชาราชเสนอชื่อพลตํารวจเอกประชาพรหมนอกส.ส.สัดส่วนกลุ่มจังหวัดที่3ว่าที่หัวหน้าพรรคเพื่อแผ่นดินเป็น\n",
            "context: การประชุมสภาผู้แทนราษฎรเพื่อลงมติเลือกนายกรัฐมนตรี ทั้งนี้ที่ประชุมได้เสนอรายชื่อบุคคลที่เหมาะสม เพื่อให้สมาชิกลงมติเลือก จำนวน 2 คน โดย นายบัญญัติ บรรทัดฐาน ส.ส.สัดส่วน พรรคประชาธิปัตย์ เสนอชื่อ นายอภิสิทธิ์ เวชชาชีวะ ส.ส.สัดส่วน กลุ่มจังหวัดที่ 6 หัวหน้าพรรคประชาธิปัตย์ และ นายเสนาะ เทียนทอง ส.ส.สัดส่วน กลุ่มจังหวัดที่ 5 และหัวหน้าพรรคประชาราช เสนอชื่อ พลตำรวจเอก ประชา พรหมนอก ส.ส.สัดส่วน กลุ่มจังหวัดที่ 3 ว่าที่หัวหน้าพรรคเพื่อแผ่นดิน เป็นนายกรัฐมนตรี โดยนายอภิสิทธิ์ได้รับเลือกด้วยคะแนนเสียง 235 เสียง ขณะที่ พล.ต.อ.ประชา ได้รับคะแนน 198 เสียง และ งดออกเสียง 3 เสียง โดย พล.ต.อ.ประชา ลงมติสนับสนุนตัวเองเป็นนายกรัฐมนตรี เช่นเดียวกับ พล.อ.เชษฐา ฐานะจาโร หัวหน้าพรรครวมใจไทยชาติพัฒนา ลงมติสวนมติพรรคสนับสนุน พล.ต.อ.ประชา ขณะที่ นายอภิสิทธิ์ งดออกเสียง ภายหลังการลงมติ พล.ต.อ.ประชา เดินเข้ามาจับมือนายอภิสิทธิ์แสดงความยินดีด้วย\n",
            "\n",
            "new pattern: )โดยมีพระบรมราชโองการโปรดเกล้าโปรดกระหม่อมแต่งตั้งนายสมชายเป็น\n",
            "context: ต่อมาในวันที่ 17 กันยายน พ.ศ. 2551 มีการลงมติเลือกนายกรัฐมนตรี นายสมชาย วงศ์สวัสดิ์ ได้รับเลือกด้วยคะแนน 298 ต่อ 163 (นายอภิสิทธิ์ เวชชาชีวะ) โดยมีพระบรมราชโองการโปรดเกล้าโปรดกระหม่อมแต่งตั้งนายสมชาย เป็นนายกรัฐมนตรีในวันที่ 18 กันยายน ต่อมาในวันที่ 24 กันยายน มีพระบรมราชโองการโปรดเกล้าโปรดกระหม่อมแต่งตั้ง คณะรัฐมนตรีคณะที่ 58 ของประเทศไทย โดยนายสมศักดิ์ได้รับตำแหน่งเป็นรัฐมนตรีว่าการกระทรวงยุติธรรม ต่อมาในวันที่ 2 ธันวาคม พ.ศ. 2551 ศาลรัฐธรรมนูญมีมติให้ยุบพรรคพลังประชาชน และตัดสิทธิ์ทางการเมืองของคณะกรรมการบริหารพรรคคนละ 5 ปี ทำให้นายสมชาย วงศ์สวัสดิ์ นายกรัฐมนตรีและรัฐมนตรีว่าการกระทรวงกลาโหม ซึ่งดำรงตำแหน่งรองหัวหน้าพรรคพลังประชาชน รักษาการหัวหน้าพรรคพลังประชาชน ต้องพ้นจากตำแหน่ง จึงส่งผลให้คณะรัฐมนตรีทั้งคณะสิ้นสุดลง\n",
            "\n",
            "new pattern: เป็น\n",
            "context: ในรัฐบาลที่มีนายอภิสิทธิ์ เวชชาชีวะ เป็นนายกรัฐมนตรี ได้รับการแต่งตั้งให้เป็นที่ปรึกษารัฐมนตรีว่าการกระทรวงสาธารณสุข นายวิทยา แก้วภราดัย แต่ต่อมาได้ลาออกหลังจากที่นายวิทยาได้ขอลาออกเนื่องจากปัญหาการทุจริตในปลายปี พ.ศ. 2552\n",
            "\n",
            "new pattern: เป็น\n",
            "context: งานครอบครัวความจริงวันนี้สัญจร ครั้งที่ 5 ภายใต้หัวข้อ \"\"แดงทั้งแผ่นดิน\" จัดขึ้นที่ท้องสนามหลวง ในวันเสาร์ที่ 31 มกราคม พ.ศ. 2552 โดยเริ่มเปิดเวทีตั้งแต่เวลา 16.00 น.เป็นต้นไป มีจุดหมายหลักเพื่อปราศรัยโจมตีความไม่ชอบธรรมของการจัดตั้งรัฐบาลของพรรคประชาธิปัตย์ ที่มีนายอภิสิทธิ์ เวชชาชีวะ เป็นนายกรัฐมนตรี และเคลื่อนพลออกจากท้องสนามหลวงไปยังทำเนียบรัฐบาล\n",
            "\n",
            "new pattern: เป็น\n",
            "context: ต่อมาวันที่ 26 กุมภาพันธ์ เมื่อเวลา 21.00 น. นายวีระ มุสิกพงศ์ แกนนำ นปช. ประกาศแถลงการณ์ฉบับที่ 2 โดยระบุว่าเพื่อยกระดับการต่อสู่ในการขับไล่รัฐบาล ภายใต้การนำของพรรคประชาธิปัตย์ โดยมีนายอภิสิทธิ์ เวชชาชีวะ เป็นนายกรัฐมนตรี ที่ได้มาโดยความไม่ชอบธรรม ที่เกิดจากการแทรกแซงสถาบัน องค์กรอิสระ ทั้งตุลาการ ทหาร และกลุ่มพันธมิตรประชาชนเพื่อประชาธิปไตย (พธม.) ดังนั้นการจัดตั้งรัฐบาลในครั้งนี้ขาดความชอบธรรม\n",
            "\n",
            "new pattern: หัวหน้าพรรคประชาธิปัตย์เป็น\n",
            "context: ภายหลังการจัดตั้งพรรคภูมิใจไทย และการสนับสนุนนายอภิสิทธิ์ เวชชาชีวะ หัวหน้าพรรคประชาธิปัตย์ เป็นนายกรัฐมนตรี พรรคภูมิใจไทย ได้มีส่วนร่วมเป็นหนึ่งในพรรคร่วมรัฐบาล และได้รับมอบหมายให้กำกับดูแลกระทรวงสำคัญในฐานะรัฐมนตรีว่าการ ได้แก่ กระทรวงมหาดไทย กระทรวงพาณิชย์ กระทรวงคมนาคม\n",
            "\n",
            "new pattern: เป็น\n",
            "context: คณะรัฐมนตรีไทย คณะที่ 59 (20 ธันวาคม พ.ศ. 2551 – 9 สิงหาคม พ.ศ. 2554) มีนายอภิสิทธิ์ เวชชาชีวะ เป็นนายกรัฐมนตรี ตามประกาศพระบรมราชโองการ เมื่อวันที่ 17 ธันวาคม พ.ศ. 2551 พระบาทสมเด็จพระปรมินทรมหาภูมิพลอดุลยเดช ทรงลงพระปรมาภิไธยในประกาศ โดยมีนายชัย ชิดชอบ ประธานสภาผู้แทนราษฎร เป็นผู้ลงนามรับสนองพระบรมราชโองการ และในวันที่ 20 ธันวาคม พ.ศ. 2551 ได้มีพระบรมราชโองการโปรดเกล้าโปรดกระหม่อม แต่งตั้งคณะรัฐมนตรี โดยมี นายอภิสิทธิ์ เวชชาชีวะ นายกรัฐมนตรี เป็นผู้รับสนองพระบรมราชโองการ คณะรัฐมนตรีไทย คณะนี้ เป็นคณะที่ ประกาศใช้ พระราชกำหนดบริหารราชการแผ่นดินในสถานการณ์ฉุกเฉิน พ.ศ. 2548 เป็นระยะเวลายาวนานรองจากคณะรัฐมนตรีไทย คณะที่ 62\n",
            "\n",
            "new pattern: และหมายเลข27ซึ่งหมายถึง\n",
            "context: พร้อมแสดงความเห็นด้วยกับนายกรัฐมนตรี ว่า รัฐบาลชุดนี้มีภารกิจใหญ่ 4 ประการคือการฟื้นความมั่นใจของนานาชาติในประเทศไทย สร้างความสมานฉันท์ เพื่อไม่ให้เกิดความขัดแย้งอีกครั้ง โดยยึดหลักนิติธรรม รักษาความปลอดภัยของสนามบิน ซึ่งถือเป็นประตูในการท่องเที่ยวของไทย สร้างความมั่นใจแก่นักธุรกิจทั้งชาวไทยและต่างประเทศ เพื่อส่งเสริมเศรษฐกิจแบบเสรีนิยม ซึ่งจะดึงให้มีการลงทุนในประเทศไทยมากขึ้น ในการเข้าพบครั้งนี้ ในฐานะที่นายกรัฐมนตรีเป็นแฟนฟุตบอลอังกฤษ จึงได้มอบของขวัญเป็นเสื้อยืดนิวคาสเซิล ยูไนเต็ด โดยด้านหลังมีชื่อ นายอภิสิทธิ์ และหมายเลข 27 ซึ่งหมายถึงนายกรัฐมนตรี คนที่ 27 ของประเทศไทย\n",
            "\n",
            "new pattern: ที่สามารถควบคุมสถานการณ์ในการชุมชนของกลุ่มคนเสื้อแดงได้โดยสูญเสียน้อยที่สุดนอกจากนี้สํานักข่าวรอยเตอร์ยังได้นําเสนอบทวิเคราะห์สถานการณ์ว่าการจลาจลของกลุ่มผู้ชุมนุมครั้งนี้อาจเป็นความพยายามเฮือกสุดท้ายของพันตํารวจโททักษิณชินวัตร\n",
            "context: เมื่อวันที่ 14 เมษายน พ.ศ. 2552 หนังสือพิมพ์กรุงเทพธุรกิจ ได้นำเสนอคำชื่นชมของสื่อต่างประเทศ ได้แก่ สำนักข่าวซีเอ็นเอ็น สำนักข่าวเอ็นเอชเค และสำนักข่าวอื่นๆ ว่าได้นำเสนอข่าวชื่นชมนายอภิสิทธิ์ เวชชาชีวะ ที่สามารถควบคุมสถานการณ์ในการชุมชนของกลุ่มคนเสื้อแดงได้โดยสูญเสียน้อยที่สุด นอกจากนี้สำนักข่าวรอยเตอร์ ยังได้นำเสนอบทวิเคราะห์สถานการณ์ว่า การจลาจลของกลุ่มผู้ชุมนุมครั้งนี้อาจเป็นความพยายามเฮือกสุดท้ายของพันตำรวจโททักษิณ ชินวัตร อดีตนายกรัฐมนตรี เพื่อกลับคืนสู่อำนาจ ส่วนนายอภิสิทธิ์ เวชชาชีวะ นายกรัฐมนตรี ยังสามารถฟื้นฟูความน่าเชื่อถือที่สูญเสียไปกลับคืนมาได้ \n",
            "\n",
            "new pattern: เป็น\n",
            "context: ต่อมาได้นำสมาชิกพรรคให้การสนับสนุนพรรคประชาธิปัตย์ ในการจัดตั้งรัฐบาล และเสนอชื่ออภิสิทธิ์ เวชชาชีวะ เป็นนายกรัฐมนตรี ทำให้ชุมพล ศิลปอาชา หัวหน้าพรรคชาติไทยพัฒนา ได้รับตำแหน่งรัฐมนตรีว่าการกระทรวงการท่องเที่ยวและกีฬา\n",
            "\n",
            "new pattern: หัวหน้าพรรคประชาธิปัตย์เป็น\n",
            "context: โดยนายบัญญัติ บรรทัดฐาน ส.ส. พรรคประชาธิปัตย์ ได้เสนอชื่อนายอภิสิทธิ์ เวชชาชีวะ หัวหน้าพรรคประชาธิปัตย์เป็นนายกรัฐมนตรี จากนั้นนายสมพงษ์ อมรวิวัฒน์ รักษาการรัฐมนตรีว่าการกระทรวงยุติธรรม และส.ส. สัดส่วน พรรคพลังประชาชน ได้เสนอชื่อ นายสมชาย วงศ์สวัสดิ์ รักษาการนายกรัฐมนตรีและรักษาการรัฐมนตรีว่าการกระทรวงศึกษาธิการ เป็นนายกรัฐมนตรี\n",
            "\n",
            "new pattern: หัวหน้าพรรคประชาธิปัตย์เป็น\n",
            "context: โดยนายแพทย์สุรพงษ์ สืบวงศ์ลี ส.ส. สัดส่วน พรรคพลังประชาชน ได้เสนอชื่อ นายสมัคร สุนทรเวช หัวหน้าพรรคพลังประชาชน เป็นนายกรัฐมนตรี จากนั้นนายชำนิ ศักดิเศรษฐ์ ส.ส. สัดส่วน พรรคประชาธิปัตย์ ได้เสนอชื่อนายอภิสิทธิ์ เวชชาชีวะ หัวหน้าพรรคประชาธิปัตย์เป็นนายกรัฐมนตรี\n",
            "\n",
            "new pattern: ผู้นําฝ่ายค้านในสภาผู้แทนราษฎรไทย\n",
            "context: กลุ่มสมาชิกสภาผู้แทนราษฎร นาย อภิสิทธิ์ เวชชาชีวะ ผู้นำฝ่ายค้านในสภาผู้แทนราษฎรไทย อดีตรัฐมนตรีประจำสำนักนายกรัฐมนตรี นาย กรณ์ จาติกวณิช สมาชิกสภาผู้แทนราษฎรไทย ชุดที่ 23 ผู้ช่วยศาสตราจารย์ สมเกียรติ พงษ์ไพบูลย์ สมาชิกสภาผู้แทนราษฎรไทย ชุดที่ 23 นาย ศิริโชค โสภา สมาชิกสภาผู้แทนราษฎรไทย ชุดที่ 23 นาย บุญยอด สุขถิ่นไทย สมาชิกสภาผู้แทนราษฎรไทย ชุดที่ 23\n",
            "\n",
            "new pattern: เป็น\n",
            "context: ในปี 2552 ในยุคนายอภิสิทธิ์ เป็นนายกรัฐมนตรี NBTถูกเปลี่ยนกลับมาเป็นสถานีวิทยุโทรทัศน์แห่งประเทศไทย (สทท.) ในสมัยนายสาทิตย์ วงศ์หนองเตย เป็นรัฐมนตรีประจำสำนักนายกรัฐมนตรี โดยใช้สัญลักษณ์ ใหม่เป็นรูปแบบปัจจุบันซึ่งมีชื่อเรียกติดปากว่า \"หอยสีม่วง\" นายจิรายุถูกปลดออกตั้งแต่วันที่ 1 มีนาคม พ.ศ. 2552 พร้อมกับ นางปนัดดา วงศ์ผู้ดี นางสาวตวงพร อัศววิไล และนายจอม เพชรประดับ ด้วยเหตุที่พวกเขาประกาศข่าว อยู่ในช่วงเวลาที่พันธมิตรประชาชนเพื่อประชาธิปไตยบุกยึดสถานีวิทยุโทรทัศน์แห่งประเทศไทย นายจิรายุจึงตัดสินใจลงเล่นการเมืองโดยเข้าร่วมเป็นคณะทำงานโฆษกพรรคเพื่อไทย\n",
            "\n",
            "new pattern: ประจําวันที่23สิงหาคมจะออกอากาศในเวลา11.00น.ซึ่งเจ้าหน้าที่แจ้งว่าสัญญาณถ่ายทอดสดขัดข้องต้องบันทึกเทปแล้วนํามาออกอากาศอีกครั้งในเวลา11.00น.ทั้งนี้เมื่อสัญญาณถ่ายทอดสดขัดข้องนายอภิสิทธิ์ได้บันทึกเทปรายการไว้เพื่อนํามาออกอากาศในเวลา11.00น.หลังจากเหตุการณ์นี้นายสาทิตย์วงศ์หนองเตย\n",
            "context: ครั้งที่สอง เกิดเมื่อวันที่ 23 สิงหาคม พ.ศ. 2552 โดยทางสถานีได้นำรายการอื่นของสถานีมาออกอากาศแทนไปก่อน จากนั้นนำรายการของวันที่ 16 สิงหาคมกลับมาฉายซ้ำในเวลา 10.00 น. พร้อมขึ้นข้อความหน้าจอโทรทัศน์ระบุ รายการเชื่อมั่นประเทศไทยกับนายกฯ อภิสิทธิ์ ประจำวันที่ 23 สิงหาคม จะออกอากาศในเวลา 11.00 น. ซึ่งเจ้าหน้าที่แจ้งว่าสัญญาณถ่ายทอดสดขัดข้อง ต้องบันทึกเทปแล้วนำมาออกอากาศอีกครั้ง ในเวลา 11.00 น. ทั้งนี้ เมื่อสัญญาณถ่ายทอดสดขัดข้อง นายอภิสิทธิ์ได้บันทึกเทปรายการไว้ เพื่อนำมาออกอากาศในเวลา 11.00 น. หลังจากเหตุการณ์นี้ นายสาทิตย์ วงศ์หนองเตย รัฐมนตรีประจำสำนักนายกรัฐมนตรี ได้มีคำสั่งด่วนปลดนายสุริยงค์ หุณฑสาร ผู้อำนวยการสถานีวิทยุโทรทัศน์แห่งประเทศไทย และให้ดำรงตำแหน่งผู้อำนวยการสำนักประชาสัมพันธ์เขต 5 สุราษฎร์ธานี \n",
            "\n",
            "new pattern: หัวหน้าพรรคประชาธิปัตย์ได้รับแต่งตั้งเป็นนายกรัฐมนตรีหลังศาลรัฐธรรมนูญตัดสิทธิ์ทางการเมืองสมชายวงศ์สวัสดิ์\n",
            "context: วันที่ 17 ธันวาคม พ.ศ. 2551 อภิสิทธิ์ เวชชาชีวะ หัวหน้าพรรคประชาธิปัตย์ ได้รับแต่งตั้งเป็นนายกรัฐมนตรี หลังศาลรัฐธรรมนูญตัดสิทธิ์ทางการเมือง สมชาย วงศ์สวัสดิ์ นายกรัฐมนตรีขณะนั้น เป็นเวลาห้าปี เดือนมีนาคม พ.ศ. 2552 พันตำรวจโท ทักษิณ ชินวัตร อ้างผ่านการแพร่ภาพวิดีโอว่า ประธานองคมนตรี พลเอก เปรม ติณสูลานนท์ อยู่เบื้องหลังรัฐประหารในประเทศไทย พ.ศ. 2549 และว่า พล.อ. เปรม และองคมนตรี พลเอก สุรยุทธ์ จุลานนท์ และ ชาญชัย ลิขิตจิตถะ สมคบกับกองทัพเพื่อประกันให้อภิสิทธิ์ได้เป็นนายกรัฐมนตรี แม้อภิสิทธิ์จะปฏิเสธการกล่าวหาดังกล่าว ก็มีผู้ประท้วงหลายพันคนในกรุงเทพมหานครเมื่อต้นเดือนเมษายน เรียกร้องให้อภิสิทธิ์ลาออกจากตำแหน่งนายกรัฐมนตรี และ พล.อ. เปรม พล.อ. สุรยุทธ์ และ ชาญชัย ลิขิตจิตถะ ลาออกจากการเป็นองคมนตรี พ.ต.ท. ทักษิณเรียกร้อง \"การปฏิวัติของประชาชน\" เพื่อเอาชนะอิทธิพลอำมาตยาธิปไตยของรัฐบาลอภิสิทธิ์ตามคำอ้าง การประท้วง นำโดย แนวร่วมประชาธิปไตยต่อต้านเผด็จการแห่งชาติ (นปช.) หรือกลุ่มคนเสื้อแดง ขยายไปยังพัทยา ที่ประชุมการประชุมสุดยอดผู้นำเอเชียตะวันออกครั้งที่สี่ การปะทะกันรุนแรงเกิดขึ้นระหว่าง นปช. กับผู้สนับสนุนรัฐบาลกลุ่มคนเสื้อน้ำเงินที่ภักดีต่อเนวิน ชิดชอบ การประท้วงเป็นเหตุให้การประชุมสุดยอดถูกยกเลิก ทำให้อภิสิทธิ์ประกาศสถานการณ์ฉุกเฉินที่มีความร้ายแรงในจังหวัดชลบุรี ณ วันที่ 11 เมษายน พ.ศ. 2552\n",
            "\n",
            "new pattern: เป็น\n",
            "context: ต่อมาได้เกิดการเปลี่ยนขั้วทางการเมืองของพรรคร่วมรัฐบาลเดิม และกลุ่มเพื่อนเนวินซึ่งเดิมสังกัดพรรคพลังประชาชน ทำให้พรรคประชาธิปัตย์ได้เป็นแกนนำในการจัดตั้งรัฐบาล มีนายอภิสิทธิ์ เวชชาชีวะ เป็นนายกรัฐมนตรี และพรรคเพื่อไทยเป็นฝ่ายค้าน ทำให้วิทยาดำรงตำแหน่งเป็นประธานวิปฝ่ายค้าน\n",
            "\n",
            "new pattern: ส.ส.สัดส่วนกลุ่มจังหวัดที่6หัวหน้าพรรคประชาธิปัตย์และพลตํารวจเอกประชาพรหมนอกส.ส.สัดส่วนกลุ่มจังหวัดที่3ว่าที่หัวหน้าพรรคเพื่อแผ่นดินผลการลงมติในครั้งนี้สมาชิกสภาผู้แทนราษฎรของพรรคมาตุภูมิทั้ง3คนลงมติสนับสนุนพลตํารวจเอกประชาพรหมนอกเป็น\n",
            "context: การลงมติเลือกนายกรัฐมนตรีในประเทศไทย ในเดือนธันวาคม พ.ศ. 2551 ของสภาผู้แทนราษฎร เมื่อวันที่ 15 ธันวาคม พ.ศ. 2551 เพื่อเลือกนายกรัฐมนตรีแทนตำแหน่งที่ว่างลง เนื่องจากวันที่ 2 ธันวาคม พ.ศ. 2551 นายสมชาย วงศ์สวัสดิ์ ต้องพ้นจากตำแหน่งนายกรัฐมนตรีจากการที่ศาลรัฐธรรมนูญวินิจฉัยให้ยุบพรรคพลังประชาชน และเพิกถอนสิทธิทางการเมืองของคณะกรรมการบริหารพรรค 5 ปี ที่ประชุมได้เสนอชื่อบุคคลที่เหมาะสมเพื่อให้สมาชิกลงมติเลือก จำนวน 2 คน คือ อภิสิทธิ์ เวชชาชีวะ ส.ส.สัดส่วน กลุ่มจังหวัดที่ 6 หัวหน้าพรรคประชาธิปัตย์ และพลตำรวจเอกประชา พรหมนอก ส.ส.สัดส่วน กลุ่มจังหวัดที่ 3 ว่าที่หัวหน้าพรรคเพื่อแผ่นดิน ผลการลงมติในครั้งนี้ สมาชิกสภาผู้แทนราษฎรของพรรคมาตุภูมิ ทั้ง 3 คน ลงมติสนับสนุนพลตำรวจเอก ประชา พรหมนอก เป็นนายกรัฐมนตรี\n",
            "\n",
            "new pattern: เป็น\n",
            "context: นายศุภชัย เป็นแกนนำกลุ่มเพื่อนเนวิน ที่ให้การสนับสนุนให้พรรคประชาธิปัตย์เป็นแกนนำในการจัดตั้งรัฐบาล โดยสนับสนุนให้นายอภิสิทธิ์ เวชชาชีวะ เป็นนายกรัฐมนตรี หลังจากที่คณะรัฐมนตรีภายใต้การนำของนายสมชาย วงศ์สวัสดิ์ ต้องพ้นสภาพไปเนื่องจากศาลรัฐธรรมนูญมีมติยุบพรรคพลังประชาชน เมื่อปลายปี พ.ศ. 2551\n",
            "\n",
            "new pattern: แต่ไม่มีหลักฐานสนับสนุนในเรื่องนี้ในกลุ่มแนวร่วมประชาธิปไตยต่อต้านเผด็จการแห่งชาติก็ยังเป็นเพียงความเชื่อว่าเป็นเช่นนั้นโดยส.ส.เหล่านั้นเป็นสมาชิกพรรคชาติไทยพัฒนาที่นําโดยพลตรีสนั่นขจรประศาสน์,พรรคภูมิใจไทยและกลุ่มเพื่อนเนวินซึ่งเป็นอดีตสมาชิกพรรคพลังประชาชนบางส่วนสนับสนุนให้นายอภิสิทธิ์ขึ้นดํารงตําแหน่ง\n",
            "context: มีการรายงานจากสื่อมวลชนบางแห่งว่า พล.อ. อนุพงษ์ เผ่าจินดา ผู้บัญชาการทหารบก เป็นผู้สนับสนุน หรือบีบบังคับ ให้ ส.ส.จำนวนหนึ่ง มาสนับสนุนนายอภิสิทธิ์แต่ไม่มีหลักฐานสนับสนุนในเรื่องนี้ ในกลุ่มแนวร่วมประชาธิปไตยต่อต้านเผด็จการแห่งชาติก็ยังเป็นเพียงความเชื่อว่าเป็นเช่นนั้น โดย ส.ส.เหล่านั้น เป็นสมาชิกพรรคชาติไทยพัฒนา ที่นำโดย พลตรี สนั่น ขจรประศาสน์, พรรคภูมิใจไทย และกลุ่มเพื่อนเนวิน ซึ่งเป็นอดีตสมาชิกพรรคพลังประชาชนบางส่วน สนับสนุนให้นายอภิสิทธิ์ขึ้นดำรงตำแหน่งนายกรัฐมนตรี และชนะการลงมติให้เป็นนายกรัฐมนตรี ในวันที่ 15 ธันวาคม พ.ศ. 2551 โดยมี พล.ต.อ. ประชา พรหมนอก เป็นคู่แข่ง จึงทำให้พรรคเพื่อไทย ซึ่งเป็นพรรคการเมืองที่มีเสียงข้างมากในสภา ต้องกลายเป็นฝ่ายค้าน\n",
            "\n",
            "new pattern: จึงกลายเป็น\n",
            "context: ในระหว่างการชุมนุม เกิดการเข้าใช้กำลังอาวุธกับผู้ชุมนุมโดยกองทัพสามครั้ง จนมีผู้เสียชีวิตนับร้อยคน บาดเจ็บนับพันคน ดังนั้น นายอภิสิทธิ์ เวชชาชีวะ จึงกลายเป็นนายกรัฐมนตรี ผู้ประกาศสถานการณ์ฉุกเฉิน จนส่งผลให้ทหารตำรวจ ใช้กำลังอาวุธสงคราม เข้าสลายการชุมนุมทางการเมือง จนส่งผลให้มีผู้เสียชีวิตมากที่สุด ในประวัติศาสตร์ไทย นับตั้งแต่หลัง พ.ศ. 2475 เป็นต้นมาด้านจำนวนผู้สูญหายมีจำนวน 3 ราย อย่างไรก็ตามมีข้อเท็จจริงปรากฏว่าผู้ชุมนุมมีอาวุธและไม่ได้ชุมนุมอย่างสงบอีกทั้งมีความพยายามใช้ศพของผู้ชุมนุมเป็นเครื่องมือต่อรองทางการเมืองให้รัฐบาลขณะนั้นรับผิดชอบด้วยการยุบสภาผู้แทนราษฎรไทย รวมทั้งมีการสนับสนุนทางการเงินจากพรรคเพื่อไทยตามคำพิพากษาศาลแพ่ง ในคดีหมายเลขดำที่ 1433/2553 โดยมีข้อมูลปรากฏดังนี้\n",
            "\n",
            "new pattern: เป็น\n",
            "context: กลุ่มประชาชนเพื่อพิทักษ์ชาติ ศาสน์ กษัตริย์ หรือ เครือข่ายพลเมืองอาสาปกป้องแผ่นดิน หรือที่นิยมเรียกกันว่า กลุ่มคนเสื้อหลากสี เป็นการรวมตัวของประชาชนเพื่อแสดงความไม่เห็นด้วยกับการชุมนุมของแนวร่วมประชาธิปไตยต่อต้านเผด็จการแห่งชาติ แดงทั้งแผ่นดิน พ.ศ. 2553 จากการชุมนุมบริเวณแยกราชประสงค์ และให้กำลังใจรัฐบาลที่มีนายอภิสิทธิ์ เวชชาชีวะ เป็นนายกรัฐมนตรี และทหาร โดยการชุมนุมเป็นไปในลักษณะไม่มีสีเสื้อเป็นสัญลักษณ์อย่างพันธมิตรประชาชนเพื่อประชาธิปไตย (พธม.) และแนวร่วมประชาธิปไตยต่อต้านเผด็จการแห่งชาติ แดงทั้งแผ่นดิน (นปช.) มี ผศ.นพ.ตุลย์ สิทธิสมวงศ์ เป็นผู้นำการชุมนุม\n",
            "\n",
            "new pattern: เป็น\n",
            "context: ในการจัดตั้งของรัฐบาลซึ่งนำโดยพรรคประชาธิปัตย์ ในช่วงปลายปี พ.ศ. 2551 นายพินิจ จารุสมบัติ เป็นบุคคลหนึ่งที่มีบทบาทสำคัญในการนำสมาชิกในกลุ่มวังพญานาค พรรคเพื่อแผ่นดิน ให้การสนับสนุนนายอภิสิทธิ์ เวชชาชีวะ เป็นนายกรัฐมนตรี และเป็นหนึ่งในสามบุคคลที่มีบทบาทสำคัญ ในนาม \"3พี\" (ไพโรจน์ สุวรรณฉวี พินิจ จารุสมบัติ และปรีชา เลาหพงศ์ชนะ) กระทั่งในปี พ.ศ. 2554 จึงได้เข้าร่วมกับสุวัจน์ ลิปตพัลลภ ในการสนับสนุนพรรคชาติพัฒนาเพื่อแผ่นดิน\n",
            "\n",
            "new pattern: ในฐานะ\n",
            "context: อัยการได้สั่งฟ้องนาย อภิสิทธิ์ เวชชาชีวะ ในฐานะนายกรัฐมนตรี และนาย สุเทพ เทือกสุบรรณ ในฐานะผู้อำนวยการศูนย์อำนวยการแก้ไขสถานการณ์ฉุกเฉิน (ศอฉ.) ในข้อหาร่วมกันก่อหรือใช้ให้ผู้อื่นกระทำหรือฐานฆ่าผู้อื่นโดยเจตนา และพยายามฆ่าผู้อื่นโดยเจตนา ซึ่งในการสลายการชุมนุมของคนเสื้อแดง ได้มีการระดมกำลังทหารถึง 67,000 นาย ใช้กระสุนจริงไปกว่า 110,000 นัด และกระสุนสไนเปอร์อีกกว่า 2,000 นัด และผู้นำเหล่าทัพไม่เคยปฏิเสธ\n",
            "\n",
            "new pattern: และในปีพ.ศ.2540ต่อมาในปีพ.ศ.2544ได้รับเลือกตั้งเป็นสมาชิกสภาผู้แทนราษฎรแบบบัญชีรายชื่อพรรคประชาธิปัตย์ต่อมาในการเลือกตั้งพ.ศ.2548ได้ย้ายมาร่วมงานกับพรรคมหาชนและได้รับมอบหมายให้ทําหน้าที่รองหัวหน้าพรรคและผู้อํานวยการเลือกตั้งภาคกทม.ของพรรคด้วยและปีพ.ศ.2551ได้รับแต่งตั้งเป็น\n",
            "context: นายอรรคพร สรสุชาติ เป็นสมาชิกสภาผู้แทนราษฎร กรุงเทพมหานคร สังกัดพรรคประชาธิปัตย์ ครั้งแรกในการเลือกตั้งเดือนกันยายน พ.ศ. 2535 เคยดำรงตำแหน่ง โฆษกประจำสำนักนายกรัฐมนตรี ในรัฐบาลของนายชวน หลีกภัย 2 สมัย โดยสมัยแรกได้ดำรงตำแหน่งสืบต่อจากนายอภิสิทธิ์ เวชชาชีวะ และในปี พ.ศ. 2540 ต่อมาในปี พ.ศ. 2544 ได้รับเลือกตั้งเป็นสมาชิกสภาผู้แทนราษฎร แบบบัญชีรายชื่อ พรรคประชาธิปัตย์ ต่อมาในการเลือกตั้ง พ.ศ. 2548 ได้ย้ายมาร่วมงานกับพรรคมหาชน และได้รับมอบหมายให้ทำหน้าที่รองหัวหน้าพรรค และผู้อำนวยการเลือกตั้ง ภาค กทม.ของพรรคด้วย และปี พ.ศ. 2551 ได้รับแต่งตั้งเป็นรองเลขาธิการนายกรัฐมนตรีฝ่ายการเมือง (รองนายกรัฐมนตรี พลตรีสนั่น ขจรประศาสน์) \n",
            "\n",
            "new pattern: เป็น\n",
            "context: ในการจัดตั้งของรัฐบาลซึ่งนำโดยพรรคประชาธิปัตย์ ในช่วงปลายปี พ.ศ. 2551 นายปรีชา เลาหพงศ์ชนะ เป็นบุคคลหนึ่งที่มีบทบาทสำคัญในการนำสมาชิกในกลุ่มให้การสนับสนุนนายอภิสิทธิ์ เวชชาชีวะ เป็นนายกรัฐมนตรี และเป็นหนึ่งในสามบุคคลที่มีบทบาทสำคัญ ในนาม \"3พี\" (ไพโรจน์ สุวรรณฉวี พินิจ จารุสมบัติ และปรีชา เลาหพงศ์ชนะ) ต่อมาในปี พ.ศ. 2554 ได้เข้าร่วมงานการเมืองกับกลุ่มของนายสุวัจน์ ลิปตพัลลภ ในนามพรรคชาติพัฒนาเพื่อแผ่นดิน\n",
            "\n",
            "new pattern: เป็น\n",
            "context: ในการจัดตั้งของรัฐบาลซึ่งนำโดยพรรคประชาธิปัตย์ ในช่วงปลายปี พ.ศ. 2551 ไพโรจน์ สุวรรณฉวี เป็นบุคคลหนึ่งที่มีบทบาทสำคัญในการนำสมาชิกในกลุ่มให้การสนับสนุนนายอภิสิทธิ์ เวชชาชีวะ เป็นนายกรัฐมนตรี และเป็นหนึ่งในสามบุคคลที่มีบทบาทสำคัญ ในนาม \"3พี\" (ไพโรจน์ สุวรรณฉวี พินิจ จารุสมบัติ และปรีชา เลาหพงศ์ชนะ)\n",
            "\n",
            "new pattern: สมัยดํารงตําแหน่ง\n",
            "context: รวมถึง เธอยังมีผลงานร่วมกับนักแปลที่มีชื่อว่า กานต์ ยืนยง ในหนังสือ วิถีแมนเดลา ซึ่งเล่าถึงเรื่องราวการฟันฝ่าอุปสรรค และวิถีชีวิตของเนลสัน มันเดลา ผู้เป็นอดีตประธานาธิบดีของประเทศแอฟริกาใต้ โดยหนังสือดังกล่าว ได้รับคำนิยมจากอภิสิทธิ์ เวชชาชีวะ สมัยดำรงตำแหน่งนายกรัฐมนตรี ด้วยเช่นกัน\n",
            "\n",
            "new pattern: ]]แถลงว่านี่เป็น\"มาตรการตอบโต้ทางทูตอย่างแรก\"ต่อการแต่งตั้งนี้เขายังแถลงอีกว่ากัมพูชากําลังแทรกแซงกิจการภายในและส่งผลให้มีการทบทวนความตกลงความร่วมมือสองฝ่ายอีกครั้งฝ่ายรัฐบาลกัมพูชาแถลงว่ารัฐบาลกัมพูชาปฏิเสธคําขอส่งตัวทักษิณข้ามแดนจากไทยด้วยเหตุผลว่ารัฐบาลกัมพูชามองว่าทักษิณเป็นเหยื่อของการกลั่นแกล้งทางการเมืองหลายเดือนก่อนการตัดสินใจของกัมพูชากําลังทหารทั้งสองประเทศปะทะกับเหนืออาณาเขตที่ทั้งสองฝ่ายอ้างสิทธิ์ติดกับ[[ปราสาทพระวิหาร]]จนทําให้ความสัมพันธ์ระหว่างทั้งสองเสื่อมลงวันที่5พฤศจิกายนเวลา20.30น.ตามเวลาท้องถิ่นกัมพูชากัมพูชาได้ประกาศว่าได้เรียกเอกอัครราชทูตของตนกลับจากประเทศไทยเป็นมาตรการตอบโต้ซกอานสมาชิกคณะรัฐมนตรีและ\n",
            "context: พรมแดนไทยที่ติดต่อกับกัมพูชาบางส่วนยังไม่ได้ปักปัน และเขตแดนทางทะเลกับกัมพูชายังไม่มีการกำหนดชัดเจน วันที่ 5 พฤศจิกายน พ.ศ. 2552 ประเทศไทยเรียกเอกอัครราชทูตกลับจากกัมพูชา เป็นการประท้วงที่รัฐบาลกัมพูชาแต่งตั้งพันตำรวจโท [[ทักษิณ ชินวัตร]] นายกรัฐมนตรีที่ถูกรัฐประหาร เป็นที่ปรึกษาทางเศรษฐกิจ นายกรัฐมนตรี [[อภิสิทธิ์ เวชชาชีวะ]] แถลงว่านี่เป็น \"มาตรการตอบโต้ทางทูตอย่างแรก\" ต่อการแต่งตั้งนี้ เขายังแถลงอีกว่า กัมพูชากำลังแทรกแซงกิจการภายในและส่งผลให้มีการทบทวนความตกลงความร่วมมือสองฝ่ายอีกครั้ง ฝ่ายรัฐบาลกัมพูชาแถลงว่า รัฐบาลกัมพูชาปฏิเสธคำขอส่งตัวทักษิณข้ามแดนจากไทย ด้วยเหตุผลว่ารัฐบาลกัมพูชามองว่าทักษิณเป็นเหยื่อของการกลั่นแกล้งทางการเมือง หลายเดือนก่อนการตัดสินใจของกัมพูชา กำลังทหารทั้งสองประเทศปะทะกับเหนืออาณาเขตที่ทั้งสองฝ่ายอ้างสิทธิ์ติดกับ[[ปราสาทพระวิหาร]] จนทำให้ความสัมพันธ์ระหว่างทั้งสองเสื่อมลง วันที่ 5 พฤศจิกายน เวลา 20.30 น. ตามเวลาท้องถิ่นกัมพูชา กัมพูชาได้ประกาศว่า ได้เรียกเอกอัครราชทูตของตนกลับจากประเทศไทยเป็นมาตรการตอบโต้ ซก อาน สมาชิกคณะรัฐมนตรีและรองนายกรัฐมนตรีกัมพูชา แถลงว่า การแต่งตั้งทักษิณเป็นการตัดสินใจภายในของกัมพูชา และการแต่งตั้งนี้ \"สอดคล้องกับการปฏิบัติระหว่างประเทศ\" การเรียกตัวเอกอัครราชทูตกลับประเทศของทั้งสองเป็นการดำเนินการทางทูตที่รุนแรงที่สุดเท่าที่เคยมีมาระหว่างทั้งสองประเทศ\n",
            "\n",
            "new pattern: เป็น\n",
            "context: เมื่อวันพุธที่ 17 ธันวาคม พ.ศ. 2551 พระบาทสมเด็จพระปรมินทรมหาภูมิพลอดุลยเดช ทรงพระกรุณาโปรดเกล้าโปรดกระหม่อมให้ชัย ชิดชอบ ประธานสภาผู้แทนราษฎร นำร่างพระบรมราชโองการแต่งตั้งนายอภิสิทธิ์ เวชชาชีวะเป็นนายกรัฐมนตรีขึ้นทูลเกล้าทูลกระหม่อมเพื่อทรงลงพระปรมาภิไธย\n",
            "\n",
            "new pattern: ให้สัญญาว่าจะดําเนินการสอบสวนผู้นําทางทหารอย่างเต็มที่แต่ออกมาปฏิเสธข้อกล่าวหาที่หาว่าปกปิดการใช้อํานาจกองทัพไปในทางที่ผิดการสอบสวนถูกนําโดยกองอํานวยการรักษาความมั่นคงภายในเป็นหน่วยงานที่ก่อตั้งขึ้นเพื่อต่อต้านคอมมิวนิสต์จากนั้นได้ทบทวนเพื่อดําเนินการกับกลุ่มคนที่โฆษณาชวนเชื่อให้ต่อต้านพ.ต.ท.ดร.ทักษิณชินวัตรนายสุเทพเทือกสุบรรณ\n",
            "context: นอกจากนี้สื่อยังได้รายงานผลการสอบสวนว่า ผู้ลี้ภัยเหล่านี้ได้หายตัวไปจากการกักขังที่ส่วนกลางและยังไม่พบว่าอยู่ที่ไหน ทางเจ้าหน้าที่ราชนาวีไทยให้สัมภาษณ์กับสื่อมวลชนว่า \"พวกเราอาจหยุดเดินเรือหรือพวกเขาจะกลับมา ทิศทางลมจะพาพวกเขาไปยังอินเดียหรือไม่ก็ที่อื่น\" จากนั้นอภิสิทธิ์ให้สัญญาว่าจะดำเนินการสอบสวนผู้นำทางทหารอย่างเต็มที่ แต่ออกมาปฏิเสธข้อกล่าวหาที่หาว่าปกปิดการใช้อำนาจกองทัพไปในทางที่ผิด การสอบสวนถูกนำโดยกองอำนวยการรักษาความมั่นคงภายใน เป็นหน่วยงานที่ก่อตั้งขึ้นเพื่อต่อต้านคอมมิวนิสต์ จากนั้นได้ทบทวนเพื่อดำเนินการกับกลุ่มคนที่โฆษณาชวนเชื่อให้ต่อต้าน พ.ต.ท.ดร.ทักษิณ ชินวัตร นายสุเทพ เทือกสุบรรณ รองนายกรัฐมนตรีด้านความมั่นคง เสนอแนะว่าสถานการณ์ทั้งหมดเป็นเรื่องที่ปั้นน้ำเป็นตัวขึ้นมาทั้งนั้น เพื่อทำลายภาพลักษณ์และชื่อเสียงของประเทศไทย นายกษิต ภิรมย์ รัฐมนตรีว่าการกระทรวงการต่างประเทศ กล่าวหาซีเอ็นเอ็นว่า รายงานข่าวไม่เป็นความจริงและยังเรียกร้องให้ประชาชนอย่าไปหลงเชื่อ\n",
            "\n",
            "new pattern: ชี้แจงข้อกล่าวหาว่า“สิ่งที่กล่าวหาว่าบกพร่องต่อหน้าที่นั้นอาจเริ่มมาจากโครงการอุตสาหกรรมขนาดเล็กกลางและใหญ่(<unk>)...โครงการเอสเอ็มแอลนี้กําเนิดมาจากรัฐบาลทักษิณชินวัตร”กอร์ปศักดิ์สภาวสุ\n",
            "context: รัฐบาลอภิสิทธิ์เข้ามาบริหารประเทศภายใต้ข้อกล่าวหาที่ว่า โครงการชุมชนพอเพียงมูลค่า 26 พันล้านบาทเป็นโครงการที่ปนเปื้อนไปด้วยการทุจริต โครงการนี้เป็นนโยบายประชานิยมต่อต้านโครงการยุคทักษิณที่ทำในชนบทของเมืองไทย อภิสิทธิ์ชี้แจงข้อกล่าวหาว่า “สิ่งที่กล่าวหาว่าบกพร่องต่อหน้าที่นั้นอาจเริ่มมาจากโครงการอุตสาหกรรมขนาดเล็ก กลาง และใหญ่ (SML)... โครงการเอสเอ็มแอลนี้กำเนิดมาจากรัฐบาลทักษิณ ชินวัตร” กอร์ปศักดิ์ สภาวสุ รองนายกรัฐมนตรี ซึ่งเป็นผู้อำนวยการสำนักงานเศรษฐกิจพอเพียงเพื่อยกระดับชุมชน และน้องชายของเขา ประพจน์ สภาวสุ เป็นรองผู้อำนวยการ เรื่องอื้อฉาวนี้ขยายออกไปเป็นวงกว้าง เป็นสาเหตุให้กอร์ปศักดิ์ลาออกจากตำแหน่ง แต่ยังคงเป็นรองนายกรัฐมนตรีอยู่ พรรคประชาธิปัตย์ได้จัดตั้งคณะกรรมการสอบสวนเรื่องนี้ขึ้นมา คณะกรรมการพบว่าทั้งกอร์ปศักดิ์และน้องชายของเขาไม่มีส่วนเกี่ยวข้องในการทุจริต ต่อมากอร์ปศักดิ์ถูกเลื่อนตำแหน่งเป็นเลขาของอภิสิทธิ์\n",
            "\n",
            "new pattern: เดินทางไปเยือนประเทศกาตาร์นับเป็นการเยือนครั้งแรกในระดับ\n",
            "context: นายอภิสิทธิ์ เวชชาชีวะ เดินทางไปเยือนประเทศกาตาร์ นับเป็นการเยือนครั้งแรกในระดับนายกรัฐมนตรี นับตั้งแต่ทั้งสองประเทศได้มีการสถาปนาความสัมพันธ์ทางการทูตเมื่อปี 2523 และได้ลงนามในบันทึกความเข้าใจว่าด้วยการจัดตั้งคณะกรรมาธิการร่วมระดับสูงไทย-กาตาร์ และ บันทึกความเข้าใจระหว่างสภาหอการค้าไทยและสภาหอการค้าและอุตสาหกรรมกาตาร์\n",
            "\n",
            "new pattern: เดินทางไปเยือนกรุงนิวเดลีสาธารณรัฐอินเดียเมื่อวันที่4-6เมษายนพ.ศ.2554เพื่อหารือทวิภาคีกับประธานาธิบดีสาธารณรัฐอินเดียรองประธานาธิบดีสาธารณรัฐอินเดียและ\n",
            "context: นายอภิสิทธิ์ เวชชาชีวะเดินทางไปเยือน กรุงนิวเดลี สาธารณรัฐอินเดีย เมื่อวันที่ 4-6 เมษายน พ.ศ. 2554เพื่อหารือทวิภาคีกับประธานาธิบดีสาธารณรัฐอินเดีย รองประธานาธิบดีสาธารณรัฐอินเดีย และ นายกรัฐมนตรีสาธารณรัฐอินเดีย \n",
            "\n",
            "new pattern: เดินทางไปพบ[[เหงียนเติ๊นสุง]][[\n",
            "context: อภิสิทธิ์เดินทางไปพบ[[เหงียน เติ๊น สุง]] [[นายกรัฐมนตรีเวียดนาม]] เมื่อวันที่ 10 กรกฎาคม พ.ศ. 2553 เพื่อพิจารณาถึงหนทางแก้ปัญหาวิกฤตการณ์การเงินโลก อภิสิทธิ์ไปถึงฮานอยใช้เวลาหนึ่งวันไปเยียมเยียน เหงียน เติ๊น สุงกล่าวว่า \"การมาเยี่ยมเยียนของคุณจะช่วยให้มิตรภาพขยายกว้างและลึกซึ้งมากขึ้นและความร่วมมือระหว่างเวียดนามกับไทยซึ่งมีหลายแง่มุม\"&lt;br&gt;ดร.[[อารีพงศ์ ภู่ชอุ่ม]] ปลัดกระทรวง​การคลัง ​ได้​เป็นหัวหน้าคณะ​ผู้​แทน​ไทย​เข้าร่วม​การประชุมรัฐมนตรีว่า​การกระทรวง​การคลังอา​เซียน+3 ครั้งที่ 14 วันที่ 4 พฤษภาคม 2554 ณ ฮานอย สาธารณรัฐสังคมนิยม​เวียดนาม &lt;br&gt;\n",
            "\n",
            "new pattern: เผชิญหน้ากับจํานวนผู้ที่ไม่พอใจต่อการบริหารงานของรัฐบาลของเขาเองและท่ามกลางข่าวลือที่ว่าจะมีการยึดอํานาจเกิดขึ้นในเดือนธันวาคม2552รองศาสตราจารย์[[เจิมศักดิ์ปิ่นทอง]]อดีตส.ว.อ่างทองเขียนบทความในหนังสือพิมพ์แนวหน้าโดยบอกว่าประเทศอยู่ในภาวะสงครามกลางเมืองแล้วแม้ว่ายังไม่มีการสังหารหมู่แต่อย่างใดอภิสิทธิ์ประกาศใช้พระราชบัญญัติความมั่นคงภายในราชอาณาจักรพ.ศ.2551และแต่งตั้งศูนย์อํานวยการรักษาความสงบเรียบร้อยขึ้นอีกครั้งภายหลังจากที่ยกเลิกพระราชกําหนดในสถานการณ์ฉุกเฉินพ.ศ.2548และศูนย์อํานวยการแก้ไขสถานการณ์แฉุกเฉินโดยให้ผู้บัญชาการตํารวจแห่งชาติพล.ต.อ.วิเชียรพจน์โพธิ์ศรีเป็นผู้อํานวยการศูนย์อํานวยการรักษาความสงบเรียบร้อยโดยก่อนหน้านี้ศูนย์อํานวยการรักษาความสงบเรียบร้อยได้เคยถูกจัดขึ้นมาแล้วก่อนประกาศพระราชกําหนดในสถานการณ์ฉุกเฉินพ.ศ.2548โดยมีนายสุเทพเทือกสุพรรณ\n",
            "context: อภิสิทธิ์เผชิญหน้ากับจำนวนผู้ที่ไม่พอใจต่อการบริหารงานของรัฐบาลของเขาเอง และท่ามกลางข่าวลือที่ว่าจะมีการยึดอำนาจเกิดขึ้น ในเดือนธันวาคม 2552 รองศาสตราจารย์[[เจิมศักดิ์ ปิ่นทอง]] อดีต ส.ว.อ่างทอง เขียนบทความในหนังสือพิมพ์แนวหน้าโดยบอกว่า ประเทศอยู่ในภาวะสงครามกลางเมืองแล้ว แม้ว่ายังไม่มีการสังหารหมู่แต่อย่างใด อภิสิทธิ์ประกาศใช้พระราชบัญญัติความมั่นคงภายในราชอาณาจักร พ.ศ. 2551 และแต่งตั้ง ศูนย์อำนวยการรักษาความสงบเรียบร้อยขึ้นอีกครั้งภายหลังจากที่ยกเลิกพระราชกำหนดในสถานการณ์ฉุกเฉิน พ.ศ. 2548 และศูนย์อำนวยการแก้ไขสถานการณ์แฉุกเฉิน โดยให้ผู้บัญชาการตำรวจแห่งชาติ พล.ต.อ.วิเชียร พจน์โพธิ์ศรี เป็นผู้อำนวยการศูนย์อำนวยการรักษาความสงบเรียบร้อย โดยก่อนหน้านี้ศูนย์อำนวยการรักษาความสงบเรียบร้อย ได้เคยถูกจัดขึ้นมาแล้วก่อนประกาศพระราชกำหนดในสถานการณ์ฉุกเฉิน พ.ศ. 2548 โดยมีนายสุเทพ เทือกสุพรรณ รองนายกรัฐมนตรีเป็นผู้อำนวยการศูนย์อำนวยการรักษาความสงบเรียบร้อย อีกทั้งกระทรวงเทคโนโลยีสารสนเทศและการสื่อสารมีอำนาจ ตาม ประกาศพระราชกำหนดในสถานการณ์ฉุกเฉิน พ.ศ. 2548 และ พระราชบัญญัติว่าด้วยการกระทำความผิดเกี่ยวกับคอมพิวเตอร์ พ.ศ. 2550 ในการปิดเว็บไซต์ ดำเนินการต่อศาลเพื่ออกหมายจับกุม หมายเรียก กับผู้กระทำ[[ความผิดต่อองค์พระมหากษัตริย์ไทย]]และ พระราชบัญญัติกฎอัยการศึก พ.ศ. 2547 ในพื้นที่ 3 จังหวัดชายแดนภาคใต้บางช่วงระยะเวลา\n",
            "\n",
            "new pattern: สูงสุดที่ระดับ1,145.82จุดในวันที่1สิงหาคมพ.ศ.2554ซึ่งเป็นการทําลายสถิติดัชนีสูงสุด15ปี3เดือนเมื่อวันที่22กรกฎาคมพ.ศ.2554ซึ่งปิดที่1,121.04จุดภายหลังดัชนีเศรษฐกิจไทยได้ขึ้นไปสู่ระดับ1,107.36ในวันที่20เมษายนพ.ศ.2554สูงสุดในรอบ15ปีในขณะที่นายอภิสิทธิ์เวชชาชีวะเป็น\n",
            "context: ดัชนีเศรษฐกิจไทยในรัฐบาลอภิสิทธิ์ เวชชาชีวะ สูงสุดที่ระดับ 1,145.82 จุดในวันที่ 1 สิงหาคม พ.ศ. 2554ซึ่งเป็นการทำลายสถิติดัชนีสูงสุด 15 ปี 3 เดือนเมื่อวันที่ 22กรกฎาคมพ.ศ. 2554 ซึ่งปิดที่ 1,121.04 จุดภายหลังดัชนีเศรษฐกิจไทยได้ขึ้นไปสู่ระดับ 1,107.36 ในวันที่ 20 เมษายน พ.ศ. 2554 สูงสุดในรอบ 15 ปีในขณะที่นายอภิสิทธิ์ เวชชาชีวะเป็นนายกรัฐมนตรี ท่ามกลางวิกฤตการณ์เศรษฐกิจโลกใน พ.ศ. 2551ทำให้ดัชนีหุ้นไทยล่วงลงต่ำสุดในวันที่ 27 ตุลาคม พ.ศ. 2551 ที่ ระดับ 387.43 จุด ต่ำสุดในรอบ 5 ปี 5 เดือนโดยวันที่ 21 พฤษภาคม พ.ศ. 2546 ดัชนีหุ้นไทยปิดที่ 387.37 จุด ในสมัย [[ทักษิณ ชินวัตร]] เป็นนายกรัฐมนตรีโดยดัชนีเศรษฐกิจไทยจุดต่ำสุดของรัฐบาลนายอภิสิทธิ์ เวชชาชีวะสูงกว่ารัฐบาล[[ทักษิณ ชินวัตร]] 0.06 จุด หรือ 0.015 เปอร์เซ็นต์ภายหลังที่นายกรัฐมนตรีประกาศยุบสภาอย่างไม่เป็นทางการในวันที่ 6 พฤษภาคม พ.ศ. 2554 ดัชนีเศรษฐกิจไทย ปิดตลาดที่ 1050.85 ต่ำสุดในรอบ 1 เดือน ลดลงถึง -23.02 จุด หรือ 2.14% ภายในวันเดียว ซึ่งเป็นการลดลงที่มากที่สุดภายในภูมิ[[เอเชีย]]และภูมิภาค[[โอเชียเนีย]]\n",
            "\n",
            "new pattern: ก็ยังคงดํารงตําแหน่ง\n",
            "context: หลังจากลาออกจากตำแหน่งหัวหน้าพรรคประชาธิปัตย์ นายอภิสิทธิ์ เวชชาชีวะ ก็ยังคงดำรงตำแหน่งรักษาการนายกรัฐมนตรีต่อไปจนกว่าจะมีการเปิดประชุมสภา และตลอดระยะเวลาที่ทำหน้าที่นายกรัฐมนตรี เขาก็ไม่เหน็ดเหนื่อย และได้จัดการพัฒนาเศรษฐกิจต่าง ๆ เพื่อให้รัฐบาลชุดใหม่สามารถนำไปพัฒนาให้ดียิ่งขึ้น และนายอภิสิทธิ์ ได้ดำรงตำแหน่งนายกรัฐมนตรีจนถึงวันที่ [[5 สิงหาคม]] [[พ.ศ. 2554]] เมื่อสภาผู้แทนราษฎรลงมติเลือก [[ยิ่งลักษณ์ ชินวัตร]] เป็นนายกรัฐมนตรีคนใหม่ นายอภิสิทธิ์ ก็ได้แถลงการณ์อำลาตำแหน่งและอำลาสถานที่และขอบคุณประชาชนและนักการเมืองที่ได้ช่วยสนับสนุนเขาตลอดระยะเวลา 2 ปีกว่า ๆ\n",
            "\n",
            "new pattern: ตอบมิ่งขวัญแสงสุวรรณโดยระบุว่ารัฐบาลชุดนี้มีตัวเลขการส่งออกและท่องเที่ยวสูงที่สุดในประวัติศาสตร์และรัฐบาลต้องกู้เงินเพราะผลกระทบจากวิกฤตเศรษฐกิจที่เกิดขึ้นในสมัยพรรคเพื่อไทยเป็นรัฐบาลรัฐบาลบริหารหนี้สาธารณะได้ดีกว่าสมัย\n",
            "context: ด้านอภิสิทธิ์ เวชชาชีวะตอบมิ่งขวัญ แสงสุวรรณ โดยระบุว่ารัฐบาลชุดนี้มีตัวเลขการส่งออกและท่องเที่ยวสูงที่สุดในประวัติศาสตร์ และรัฐบาลต้องกู้เงินเพราะผลกระทบจากวิกฤตเศรษฐกิจที่เกิดขึ้นในสมัยพรรคเพื่อไทยเป็นรัฐบาล รัฐบาลบริหารหนี้สาธารณะได้ดีกว่าสมัยอดีตนายกรัฐมนตรี พ.ต.ท.ทักษิณ ชินวัตร สำหรับประเด็นปัญหาราคาข้าว อภิสิทธิ์ย้อนถามมิ่งขวัญว่า บริหารข้าวอย่างไรจนถูกปรับออกจากตำแหน่งรัฐมนตรีว่าการกระทรวงพาณิชย์ ส่วนประเด็นกองทุนน้ำมันนั้น อภิสิทธิ์ระบุว่า กองทุนเคยเป็นหนี้ถึง 9 หมื่นล้านบาทสมัยอดีตนายกรัฐมนตรีทักษิณ ชินวัตรเช่นกัน และด้านปัญหาน้ำมันปาล์ม ชี้ว่า สมัยรัฐบาลพรรคเพื่อไทยขายน้ำมันปาล์มขวดละ 47.50 บาท แพงกว่าปัจจุบัน จึงเห็นว่า ข้อมูลที่มิ่งขวัญนำมาเสนอนี้เป็นการตัดต่อ\n",
            "\n",
            "new pattern: ได้รับเลือกเป็น\n",
            "context: ผลการเลือกตั้งสมาชิกสภาผู้แทนราษฎรไทยเป็นการทั่วไป พ.ศ. 2550 ปรากฏว่าพรรคพลังประชาชนได้รับคะแนนเสียงมากที่สุด ได้เป็นแกนนำจัดตั้งรัฐบาล แต่ได้มีการชุมนุมของกลุ่มพันธมิตรประชาชนเพื่อประชาธิปไตย ซึ่งทำให้มีการเปลี่ยนตัวนายกรัฐมนตรีถึง 2 คน คือ สมัคร สุนทรเวชและสมชาย วงศ์สวัสดิ์ หลังจากคดียุบพรรคการเมือง ซึ่งส่งผลให้พรรครัฐบาลหลักสามพรรคถูกยุบ ได้มีการลงมติเลือกนายกรัฐมนตรีใหม่ ซึ่งผลปรากฏว่าอภิสิทธิ์ เวชชาชีวะได้รับเลือกเป็นนายกรัฐมนตรี โดยอาศัยเสียงสนับสนุนสำคัญจากพรรคภูมิใจไทย โดยหลังจากนั้นได้มีการชุมนุมของแนวร่วมประชาธิปไตยต่อต้านเผด็จการแห่งชาติมาอย่างต่อเนื่องเกิดความไม่สงบทางการเมืองในประเทศไทย เมษายน พ.ศ. 2552 ในขณะที่คดีการบุกยึดท่าอากาศยานในประเทศไทย พ.ศ. 2551 อัยการยังไม่สั่งฟ้องในคดีอาญา\n",
            "\n",
            "new pattern: เป็น\n",
            "context: สหพันธ์ฟุตบอลนานาชาติ (ฟีฟ่า) ลงมติให้ประเทศไทย เป็นเจ้าภาพการแข่งขันฟุตซอลชิงแชมป์โลกครั้งที่ 7 จึงเริ่มดำเนินโครงการก่อสร้างสนามฟุตซอลเพื่อใช้เป็นสนามหลักในการแข่งขันพร้อมทั้งการจัดพิธีเปิดและพิธีปิดการแข่งขัน ในปี พ.ศ. 2553 คณะรัฐมนตรีซึ่งมีอภิสิทธิ์ เวชชาชีวะ เป็นนายกรัฐมนตรี มีมติให้กรุงเทพมหานครที่มีหม่อมราชวงศ์สุขุมพันธุ์ บริพัตรเป็นผู้ว่าราชการ รับผิดชอบโครงการด้วยวงเงินประมาณ 1,300 ล้านบาท โดยลงนามในสัญญาจ้างบริษัท อีเอ็มซี จำกัด (มหาชน) เพื่อเริ่มการก่อสร้าง เมื่อวันที่ 13 มกราคม พ.ศ. 2555 และมีพิธีวางศิลาฤกษ์ โดยหม่อมราชวงศ์สุขุมพันธุ์เป็นประธานในพิธี เมื่อวันที่ 24 มกราคม พ.ศ. 2555\n",
            "\n",
            "new pattern: หัวหน้าพรรคประชาธิปัตย์และได้เลือกนายชวนหลีกภัยประธานสภาที่ปรึกษาพรรคประชาธิปัตย์พร้อมกันทีเดียวทั้ง2คนที่สําคัญยังสนับสนุนให้นายอภิสิทธิ์ได้กลับมาเป็น\n",
            "context: สาทิตย์ วงศ์หนองเตย ผู้สมัครสมาชิกสภาผู้แทนราษฎรหาเสียงด้วยวิธีการนั่งสองแถวโบราณหาเสียง พร้อมกับนางสุพร วงศ์หนองเตย ภรรยา  ด.ช.สุขิตกุล หรือน้องต่อ อายุ 11 ปี ลูกชายคนเล็ก  นายสาธร วงศ์หนองเตย น้องชาย ทั้งนี้ นายสาทิตย์ พร้อมทีมงานได้จอดรถแวะลงหาเสียงกับประชาชนตามพื้นที่ต่างๆ  พร้อมชูนโยบายการเรียนฟรี 15 ปี  การเพิ่มเงินผู้สูงอายุให้มีสวัสดิการดีขึ้น  การส่งเสริมสุขภาพผู้สูงอายุ  และการประกันราคาผลทางการเกษตร โดยเฉพาะยางพารา และปาล์มน้ำมัน  ซึ่งเป็นพืชเศรษฐกิจหลักสำคัญที่สร้างรายได้ให้กับ จ.ตรัง  พร้อมกับอ้อนขอคะแนนเสียงจากประชาชนว่า  หากตัดสินใจเลือกตนเอง ก็เท่ากับได้เลือก นายอภิสิทธิ์ เวชชาชีวะ หัวหน้าพรรคประชาธิปัตย์  และได้เลือก นายชวน หลีกภัย ประธานสภาที่ปรึกษาพรรคประชาธิปัตย์ พร้อมกันทีเดียวทั้ง 2 คน  ที่สำคัญยังสนับสนุนให้ นายอภิสิทธิ์ ได้กลับมาเป็นนายกรัฐมนตรีอีกครั้ง  และหากพรรคประชาธิปัตย์ได้กลับมาเป็นรัฐบาลอีกครั้ง  ตนก็จะเดินหน้าสานต่อนโยบายที่ยังทำคั่งค้างในอดีตต่อไป\n",
            "\n",
            "new pattern: เป็น\n",
            "context: ทางหลวงแผ่นดินหมายเลข 1356 (ทางเข้าสะพานข้ามแม่น้ำโขงแห่งที่ 4 (เชียงของ-ห้วยทราย)) เป็นทางหลวงขนาด 8 ช่องการจราจรที่แยกมาจากทางหลวงแผ่นดินหมายเลข 1020 สร้างขึ้นตามพระราชกฤษฎีกากำหนดเขตที่ดินในบริเวณที่ที่จะเวนคืน เพื่อสร้างทางหลวงแผ่นดินหมายเลข 1356 สายทางแยกเข้าสะพานข้ามแม่น้ำโขงที่อำเภอเชียงของ พ.ศ. 2553 ในสมัยที่ นายอภิสิทธิ์ เวชชาชีวะ เป็นนายกรัฐมนตรี โดยมีการออกประกาศสำนักนายกรัฐมนตรี เรื่อง กำหนดให้การเวนคืนอสังหาริมทรัพย์เพื่อสร้างทางหลวงสายนี้เป็นกรณีที่มีความจำเป็นโดยเร่งด่วน ทางหลวงสายนี้เป็นส่วนหนึ่งของทางหลวงเอเชียสาย 3 (AH3)\n",
            "\n",
            "new pattern: เป็น\n",
            "context: ปี 2551-2553 ได้รับการแต่งตั้งเป็นผู้ชำนาญการประจำคณะกรรมาธิการศึกษา สภาผู้แทนราษฎร และได้เข้าร่วมกับ แนวร่วมประชาธิปไตยต่อต้านเผด็จการแห่งชาติ (นปช.) เคลื่อนไหวทางการเมืองร่วมกับคนเสื้อแดง (Red Shirt) เป็นผู้ประสานงาน 17 จังหวัดภาคเหนือ นำคนเสื้อแดงภาคเหนือเดินทางเข้าร่วม การชุมนุมของแนวร่วมประชาธิปไตยต่อต้านเผด็จการแห่งชาติ พ.ศ. 2553 ณ ถนนราชดำเนิน และสี่แยกราชประสงค์ แต่ต้องยุติการชุมนุมในวันที่ 19 พ.ค.2553 เมื่อรัฐบาลที่มีนายอภิสิทธิ์ เวชชาชีวะเป็นนายกรัฐมนตรี ใช้กำลังทหารพร้อมอาวุธสงครามเข้าปราบปราม จนมีผู้เสียชีวิตไปกว่า 99 คน หลังจากวันนั้น นายประแสงได้ทำหน้าที่ รักษาการเลขาธิการ นปช. ปี 2553-2554 แทนนาย ณัฐวุฒิ ใสเกื้อ เลขาธิการ นปช. ซึ่งถูกคุมขังและดำเนินคดีข้อหาก่อการร้าย\n",
            "\n",
            "new pattern: เป็น\n",
            "context: คณะรัฐมนตรีโดยนายอภิสิทธิ์ เวชชาชีวะ เป็นนายกรัฐมนตรีขณะนั้นได้จัดประชุมวาระพิเศษเพื่อพิจารณา เรื่อง การจัดงานพระราชพิธีพระราชทานเพลิงพระศพสมเด็จพระเจ้าภคินีเธอ เจ้าฟ้าเพชรรัตนราชสุดา สิริโสภาพัณณวดี เมื่อวันที่ 1 สิงหาคม พ.ศ. 2554 มีมติให้จัดงานพระราชพิธีโดยสมพระเกียรติสูงสุดตามโบราณราชประเพณี ของเจ้าฟ้าพระราชธิดาในพระมหากษัตริย์ โดยเทียบเคียงกับงานพระราชพิธีพระราชทานเพลิงพระศพสมเด็จพระเจ้าพี่นางเธอฯ กรมหลวงนราธิวาสราชนครินทร์ โดยในเบื้องต้นได้ดำเนินการ ดังนี้ \n",
            "\n",
            "new pattern: โดยการชักชวนของนิพนธ์พร้อมพันธุ์\n",
            "context: จิตภัสร์ เข้าร่วมทำงานกับรัฐบาลอภิสิทธิ์ เวชชาชีวะ โดยการชักชวนของ นิพนธ์ พร้อมพันธุ์ เลขาธิการนายกรัฐมนตรี ที่มีความสนิทสนมกับครอบครัว และเห็นว่ามีความสนใจทางการเมือง โดยมีหน้าที่เป็นผู้ช่วยและเลขานุการของ ดร.ปณิธาน วัฒนายากร รองเลขาธิการนายกรัฐมนตรี ปฏิบัติหน้าที่โฆษกประจำสำนักนายกรัฐมนตรี ต่อมาในปี พ.ศ. 2554 ได้ลงสมัครสมาชิกผู้แทนราษฎร พรรคประชาธิปัตย์ เขต 5 แต่ไม่ได้รับเลือกตั้ง ในอีกสองปีต่อมาเธอได้เข้าร่วมกับชุมนุมกับกลุ่ม กปปส. โดยรับหน้าที่เป็นโฆษกภาคภาษาอังกฤษ และต่อมาในปี พ.ศ. 2561 ได้รับตำแหน่งรองเลขาธิการพรรคประชาธิปัตย์ และลงสมัคร ส.ส. ระบบบัญชีรายชื่อ ลำดับที่ 20 ในการเลือกตั้งปีถัดมา และได้รับการเลือกตั้งหลังจากการคำนวณคะแนนบัญชีรายชื่อใหม่ อันเนื่องมาจากการเลือกตั้งซ่อมที่จังหวัดเชียงใหม่ในช่วงปลายเดือนพฤษภาคมปีเดียวกัน เนื่องจากผู้สมัครของพรรคประชาธิปัตย์ในเขต 8 เชียงใหม่ ได้คะแนน 1,738 คะแนน แต่สามารถดันจิตภัสร์ให้เป็น สส. จนเป็นที่มาของฉายา \"ตั้นพันเจ็ด\"\n",
            "\n",
            "new pattern: เป็น\n",
            "context: และมีพระบรมราชโองการ โปรดเกล้าฯ ให้แต่งตั้งอภิสิทธิ์ เวชชาชีวะ เป็นนายกรัฐมนตรี ประกาศลง ณ วันที่ 17 ธันวาคม พ.ศ. 2551 \n",
            "\n",
            "new pattern: ดํารงตําแหน่งเป็น\n",
            "context: โครงการรถไฟความเร็วสูงสายอีสาน เป็นหนึ่งในสี่เส้นทางระบบรถไฟความเร็วสูงในประเทศไทย มีจุดหมายเพื่อทดแทนระบบรถไฟชานเมืองและรถไฟสายต่าง ๆ ในประเทศไทย เชื่อมต่อภาคธุรกิจเข้ากับตัวเมืองอย่างรวดเร็ว โครงการเริ่มศึกษาตั้งแต่ พ.ศ. 2553 ในสมัยที่ อภิสิทธิ์ เวชชาชีวะ ดำรงตำแหน่งเป็นนายกรัฐมนตรี​ โดยคณะรัฐมนตรีในสมัยนั้นได้มีการลงนามในบันทึกความเข้าใจระหว่างหน่วยงาน (MoU) กับรัฐบาลจีน เพื่อศึกษาความเป็นไปได้ของโครงการร่วมกัน ซึ่งทางรัฐบาลจีนเองก็มุ่งหวังที่จะเข้ามาพัฒนาโครงการระบบรถไฟความเร็วสูงในประเทศไทยให้เชื่อมต่อเข้ากับเส้นทางรถไฟความเร็วสูง จีน - ลาว (คุนหมิง - เวียงจันทน์) อันจะก่อให้เกิดเป็นเส้นทางสายไหมเส้นใหม่ () ที่จะเชื่อมต่อประเทศกลุ่มซีเอ็มแอลวี อันได้แก่ จีน ลาว มาเลเซีย และเวียดนาม เข้ากับประเทศไทยให้เป็นผืนแผ่นเดียวกัน โดยมีกรอบวงเงินลงทุนที่ 180,000 ล้านบาท ซึ่งรัฐบาลไทยจะลงทุนในสัดส่วน 51% และรัฐบาลจีนจะร่วมลงทุนในสัดส่วน 49% แต่สัญญากลับไม่คืบหน้าเนื่องจากรัฐบาลประกาศยุบสภาเสียก่อน\n",
            "\n",
            "new pattern: ตั้งรัฐบาลแต่เผชิญกับการประท้วงโดยขบวนการเสื้อแดงโดยกลุ่มแนวร่วมประชาธิปไตยต่อต้านเผด็จการแห่งชาติ(นปช.)จนนําไปสู่การปราบปรามของกองทัพอย่างรุนแรงในปี2553พรรคการเมืองพันธมิตรของทักษิณชนะการเลือกตั้งอีกครั้งในปี2554ทําให้ยิ่งลักษณ์ชินวัตรน้องสาวของทักษิณเป็น\n",
            "context: ทักษิณเป็นนายกรัฐมนตรีระหว่างปี 2544 ถึง 2549 เขารัฐประหารโค่นจากตำแหน่งให้หลังการประท้วงโดยกลุ่มพันธมิตรประชาชนเพื่อประชาธิปไตย (พธม.) อย่างไรก็ดี พันธมิตรของทักษิณหวนคืนสู่อำนาจหลังการเลือกตั้งหลังการประกาศใช้รัฐธรรมนูญปี 2550 พธม. ประท้วงต่อรัฐบาลในครึ่งหลังของปี 2551 และศาลรัฐธรรมนูญวินิจฉัยยุบพรรครัฐบาล พรรคประชาธิปัตย์ซึ่งเป็นพรรคฝ่ายค้าน ที่มีอภิสิทธิ์ เวชชาชีวะ ตั้งรัฐบาล แต่เผชิญกับการประท้วงโดยขบวนการเสื้อแดงโดยกลุ่มแนวร่วมประชาธิปไตยต่อต้านเผด็จการแห่งชาติ (นปช.) จนนำไปสู่การปราบปรามของกองทัพอย่างรุนแรงในปี 2553 พรรคการเมืองพันธมิตรของทักษิณชนะการเลือกตั้งอีกครั้งในปี 2554 ทำให้ยิ่งลักษณ์ ชินวัตร น้องสาวของทักษิณ เป็นนายกรัฐมนตรี การประท้วงต่อต้านรัฐบาลยิ่งลักษณ์เริ่มต้นในเดือนพฤศจิกายน 2556 และดำเนินไปจนเกิดรัฐประหารในเดือนพฤษภาคม 2557 หัวหน้าคณะรัฐประหาร พลเอก ประยุทธ์ จันทร์โอชา ได้เป็นนายกรัฐมนตรีและดำเนินการปราบปรามเสรีภาพพลเมืองและเสรีภาพการเมืองจนสุดท้ายอนุญาตให้จัดการเลือกตั้งในปี 2562 รัฐธรรมนูญปี 2560 ซึ่งเป็นฉบับปัจจุบันได้รับเสียงสนับสนุนจากการลงประชามติในปี 2559 เปิดทางให้มีการแทรกแซงการเมืองของกองทัพและอภิชนในอนาคต หลังจากนั้น รัฐสภามีมติเลือกพลเอกประยุทธ์กลับมาเป็นนายกรัฐมนตรีอีกสมัย \n",
            "\n",
            "new pattern: เป็น\n",
            "context: พธม. ยกระดับการประท้วงอีกในเดือนพฤศจิกายน โดยบังคับปิดท่าอากาศยานนานาชาติของประเทศสองแห่ง ไม่นานจากนั้น วันที่ 2 ธันวาคม ศาลรัฐธรรมนูญยุบพรรคพลังประชาชนและพรรคร่วมรัฐบาลอีกสองพรรคฐานโกงการเลือกตั้ง ทำให้สมชายพ้นจากตำแหน่งนายกรัฐมนตรี จากนั้นพรรคประชาธิปัตย์ฝ่ายค้านจัดตั้งรัฐบาลผสมใหม่โดยมีอภิสิทธิ์ เวชชาชีวะ เป็นนายกรัฐมนตรี โดยเชื่อว่าพลเอก เปรม ติณสูลานนท์ ประธานองคมนตรี และพลเอก อนุพงษ์ เผ่าจินดา ผู้บัญชาการทหารบก อำนวยความสะดวกหรือสั่งการโดยตรงให้มีการรวบรวมเสียงให้แก่อภิสิทธิ์\n",
            "\n",
            "new pattern: เป็น\n",
            "context: อภิสิทธิ์เป็นนายกรัฐมนตรีโดยมีพรรคร่วมรัฐบาลหกพรรค เขาได้รับการสนับสนุนจากเนวิน ชิดชอบ และกลุ่มเพื่อนเนวิน ซึ่งแตกออกจากพรรคร่วมรัฐบาลพลังประชาชนก่อนหน้านี้ ขณะนั้น เศรษฐกิจไทยกำลังได้รับผลกระทบของวิกฤตการณ์การเงิน พ.ศ. 2550–2551 และภาวะเศรษฐกิจถดถอยครั้งใหญ่ที่เกิดขึ้นต่อมา อภิสิทธิ์ออกโครงการกระตุ้นเศรษฐกิจหลายอย่าง ขณะเดียวกันยังขยายนโยบายประชานิยมบางอย่างที่ทักษิณริเริ่ม \n",
            "\n",
            "new pattern: ยุบสภาผู้แทนราษฎรในปีต่อมาและมีการจัดการเลือกตั้งทั่วไปเมื่อวันที่3กรกฎาคม2554ซึ่งพรรคเพื่อไทยที่เป็นพันธมิตรของทักษิณชนะการเลือกตั้งและยิ่งลักษณ์ชินวัตรน้องสาวของทักษิณเป็น\n",
            "context: อภิสิทธิ์ยุบสภาผู้แทนราษฎรในปีต่อมา และมีการจัดการเลือกตั้งทั่วไป เมื่อวันที่ 3 กรกฎาคม 2554 ซึ่งพรรคเพื่อไทยที่เป็นพันธมิตรของทักษิณ ชนะการเลือกตั้ง และยิ่งลักษณ์ ชินวัตร น้องสาวของทักษิณ เป็นนายกรัฐมนตรี แม้ทีแรกรัฐบาลต้องใช้ความพยายามอย่างมากในการรับมือกับมหาอุทกภัยใหญ่ในปี 2554 แต่สถานการณ์ทางการเมืองยังค่อนข้างสงบตลอดทั้งปี 2555 และต้นปี 2556 \n",
            "\n",
            "new pattern: ),อดีตรัฐมนตรีช่วยว่าการกระทรวงการคลัง(ในรัฐบาลนายสมัครสุนทรเวชและรัฐบาลนายสมชายวงศ์สวัสดิ์)และ\n",
            "context: นายพลพีร์ สุวรรณฉวี เกิดเมื่อวันที่ 25 พฤศจิกายน พ.ศ. 2525 เป็นบุตรของว่าที่ร้อยตรี ไพโรจน์ สุวรรณฉวีรัฐมนตรีช่วยว่าการกระทรวงพาณิชย์ (ในรัฐบาลของบรรหาร ศิลปอาชา) และแกนนำกลุ่มโคราช พรรคเพื่อแผ่นดิน กับร้อยตรีหญิงระนองรักษ์ สุวรรณฉวี อดีตรัฐมนตรีว่าการกระทรวงเทคโนโลยีสารสนเทศและการสื่อสาร (ในนายอภิสิทธิ์ เวชชาชีวะ), อดีตรัฐมนตรีช่วยว่าการกระทรวงการคลัง (ในรัฐบาลนายสมัคร สุนทรเวช และรัฐบาลนายสมชาย วงศ์สวัสดิ์) และ อดีตนายกองค์การบริหารส่วนจังหวัดนครราชสีมา (พ.ศ. 2555-2563) \n",
            "\n",
            "new pattern: เคยเดินทางเยี่ยมอินเดียอย่างเป็นทางการเมื่อวันที่4-5เมษายน2011ตามคําเชิญของมันโมหันสิงห์\n",
            "context: อดีตนายกรัฐมนตรี อภิสิทธิ์ เวชชาชีวะ เคยเดินทางเยี่ยมอินเดียอย่างเป็นทางการเมื่อวันที่ 4-5 เมษายน 2011 ตามคำเชิญของมันโมหัน สิงห์ นายกรัฐมนตรีในขณะนั้น ซึ่งผู้นำของทั้งสองรัฐเห็นสมควรที่จะเพิ่มพูนความสัมพันธ์ทางวัฒนธรรมและฟื้นฟูการแลกเปลี่ยนสินค้าและบริการรวมถึงเศรษฐกิจในระดับทวิภาคีและระดับภูมิภาค ผ่าน อาเซียน-อินเดีย (ASEAN-India), BIMSTEC และ MGC นอกจากนี้ยังได้มีการตกลงในการเพิ่มการค้าระหว่างประเทศจากมูลค่าการค้าปี 2010 ที่ $6.7 พันล้าน เป็นสองเท่าในปี 2014\n",
            "\n",
            "new pattern: ดํารงตําแหน่ง\n",
            "context: เขาเป็นที่รู้จักในวงกว้างในสังคมไทยจากการมาฝึกงานที่สำนักนายกรัฐมนตรี เมื่อ พ.ศ. 2552 สมัยที่นายอภิสิทธิ์ดำรงตำแหน่งนายกรัฐมนตรี\n",
            "\n",
            "new pattern: เป็น\n",
            "context: สมชัย เข้าทำงานการเมืองโดยการลงสมัครรับเลือกตั้งเป็นสมาชิกสภาผู้แทนราษฎรจังหวัดนครราชสีมา ในการเลือกตั้งสมาชิกสภาผู้แทนราษฎรไทยเป็นการทั่วไป พ.ศ. 2544 สังกัดพรรคชาติพัฒนา ได้รับเลือกเป็น ส.ส.สมัยแรก ต่อมาย้ายมาสังกัดพรรคไทยรักไทย และลงสมัครรับเลือกตั้ง ส.ส.แบบบัญชีรายชื่อ ได้รับเลือกตั้งเป็น ส.ส.สมัยที่ 2 เมื่อพรรคไทยรักไทยถูกยุบ เขาจึงย้ายไปสังกัดพรรครวมใจไทยชาติพัฒนา และลงสมัครรับเลือกตั้ง ได้รับเลือกเป็น ส.ส.สมัยที่ 3 ในการเลือกตั้งสมาชิกสภาผู้แทนราษฎรไทยเป็นการทั่วไป พ.ศ. 2550 ซึ่งในปี 2551 เขาเป็น 1 ใน 3 ส.ส.ที่งดออกเสียงในการลงมติเลือกนายอภิสิทธิ์ เวชชาชีวะเป็นนายกรัฐมนตรี\n",
            "\n",
            "new pattern: เป็น\n",
            "context: ชยุต ลงสมัครรับเลือกตั้งสมาชิกสภาผู้แทนราษฎรจังหวัดปราจีนบุรีครั้งแรก ในการเลือกตั้งสมาชิกสภาผู้แทนราษฎรไทยเป็นการทั่วไป พ.ศ. 2544 สังกัดพรรคไทยรักไทย และได้รับเลือกตั้งเป็นสมัยแรก และได้รับเลือกตั้งต่อเนื่องตั้งแต่ครั้งนั้นเป็นต้นมา ทั้งการเลือกตั้งสมาชิกสภาผู้แทนราษฎรไทยเป็นการทั่วไป พ.ศ. 2548 ในนามพรรคไทยรักไทย การเลือกตั้งสมาชิกสภาผู้แทนราษฎรไทยเป็นการทั่วไป พ.ศ. 2550 ในนามพรรคพลังประชาชน หลังจากนั้นได้ย้ายมาสังกัดพรรคกิจสังคม ในปลายปี พ.ศ. 2551 ภายหลังคดียุบพรรคใหญ่หลายพรรค โดยมีนายสุวิทย์ คุณกิตติ อดีตหัวหน้าพรรคได้นำ สมาชิกสภาผู้แทนราษฎร กลับมาฟื้นฟูพรรคกิจสังคมอีกครั้ง โดยนายสุวิทย์ดำรงตำแหน่งประธานที่ปรึกษาพรรค และเข้าร่วมฝ่ายรัฐบาลซึ่งสนับสนุน นายอภิสิทธิ์ เวชชาชีวะ เป็นนายกรัฐมนตรี\n",
            "\n",
            "new pattern: เป็น\n",
            "context: สมเจตน์ ลงสมัครรับเลือกตั้งสมาชิกสภาผู้แทนราษฎรจังหวัดสุโขทัยครั้งแรก ในการเลือกตั้งสมาชิกสภาผู้แทนราษฎรไทยเป็นการทั่วไป พ.ศ. 2544 สังกัดพรรคชาติพัฒนา และได้รับเลือกตั้งเป็นสมัยแรก และได้รับเลือกตั้งต่อเนื่องตั้งแต่ครั้งนั้นเป็นต้นมา ทั้งการเลือกตั้งสมาชิกสภาผู้แทนราษฎรไทยเป็นการทั่วไป พ.ศ. 2548 ในนามพรรคไทยรักไทย การเลือกตั้งสมาชิกสภาผู้แทนราษฎรไทยเป็นการทั่วไป พ.ศ. 2550 ในนามพรรคชาติไทย หลังจากนั้นได้ย้ายมาสังกัดพรรคกิจสังคม ในปลายปี พ.ศ. 2551 ภายหลังคดียุบพรรคใหญ่หลายพรรค โดยมีนายสุวิทย์ คุณกิตติ อดีตหัวหน้าพรรคได้นำ สมาชิกสภาผู้แทนราษฎร กลับมาฟื้นฟูพรรคกิจสังคมอีกครั้ง โดยนายสุวิทย์ดำรงตำแหน่งประธานที่ปรึกษาพรรค และเข้าร่วมฝ่ายรัฐบาลซึ่งสนับสนุน นายอภิสิทธิ์ เวชชาชีวะ เป็นนายกรัฐมนตรี\n",
            "\n"
          ]
        }
      ],
      "source": [
        "with open('th_wiki.txt') as text:\n",
        " for sent in text:\n",
        "   limit = 0\n",
        "   if re.search(seed_tuples_role2[0],sent.replace(' ','')) and re.search(seed_tuples_role2[1],sent.replace(' ','')) and limit <= 50:\n",
        "    ner_list = get_ner(sent)\n",
        "    new_pattern = find_pattern(ner_list,seed_tuples_role2,'person','role')\n",
        "    if new_pattern is not None and new_pattern != '' and new_pattern not in new_pat_role and len(new_pattern) <= 100:\n",
        "      print('new pattern: ' + new_pattern)\n",
        "      print('context: ' + sent)\n",
        "      new_pat_role.add(new_pattern)\n",
        "      limit += 1"
      ]
    },
    {
      "cell_type": "code",
      "execution_count": null,
      "metadata": {
        "colab": {
          "base_uri": "https://localhost:8080/"
        },
        "id": "tMcu9QC0NTiA",
        "outputId": "cd12a22b-e124-4d46-832d-0477b79e26c7"
      },
      "outputs": [
        {
          "name": "stdout",
          "output_type": "stream",
          "text": [
            "new pattern: ประกาศสละตําแหน่ง\n",
            "context: ในปีค.ศ. 1867 โชกุนโทกูงาวะ โยชิโนบุ ประกาศสละตำแหน่งโชกุนและถวายอำนาจคืนแด่พระจักรพรรดิเมจิ เป็นการสิ้นสุดการปกครองของรัฐบาลโชกุนโทกูงาวะที่มีมาเป็นเวลาสองร้อยห้าสิบกว่าปี แต่ความขัดแย้งทางการเมืองและการทหาร ระหว่างฝ่ายตระกูลโทกูงาวะและฝ่ายซนโนโจอิยังคงดำเนินต่อไป จนนำไปสู่สงครามโบชิง (Boshin War)\n",
            "\n",
            "new pattern: ()เป็น\n",
            "context: โทกูงาวะ อิเอมิตสึ () เป็น โชกุน ลำดับที่ 3 ของ ตระกูลโทกูงาวะ เขาเป็นบุตรชายคนโตของ โทกูงาวะ ฮิเดตาดะ กับ โอเอโยะ และเป็นหลานปู่ของ โทกูงาวะ อิเอยาซุ ท่านหญิงคะซุงะ เป็นแม่นม ทำหน้าที่เป็นที่ปรึกษาทางการเมืองของเขาและอยู่ในระดับแนวหน้าของการเจรจาระหว่างรัฐบาลโชกุนกับ ราชสำนักเกียวโต อิเอมิตสึปกครองตั้งแต่ ปี ค.ศ. 1623 ถึง ปี ค.ศ. 1651 ในช่วงเวลานี้เขาตรึงกางเขนชาวคริสเตียนขับไล่ชาวยุโรปทั้งหมดออกจากญี่ปุ่นและปิดพรมแดนของประเทศ นโยบายการเมืองต่างประเทศดำเนินมายาวนานกว่า 200 ปี นับตั้งแต่ก่อตั้งรัฐบาล\n",
            "\n",
            "new pattern: ()\n",
            "context: เท็นโชอิง () หรือที่รู้จักกันในนามว่า \"อัตสึฮิเมะ\" () เป็นมิไดโดโกโระหรือภรรยาเอกของของโชกุนโทกูงาวะ อิเอซาดะ () โชกุนลำดับที่ 13 ของรัฐบาลโชกุนโทกูงาวะแห่งญี่ปุ่น\n",
            "\n",
            "new pattern: ได้ขึ้นเป็น\n",
            "context: หลังจากตระกูลโทโยโตมิพ่ายแพ้ในยุทธการที่เซกิงาฮาระ และโทกูงาวะ อิเอยาซุได้ขึ้นเป็นโชกุนเขาก็ได้ยกเซ็นฮิเมะหลานสาวให้แต่งงานกับฮิเดโยริ\n",
            "\n"
          ]
        }
      ],
      "source": [
        "with open('th_wiki.txt') as text:\n",
        " limit = 0\n",
        " for sent in text:\n",
        "   if re.search(seed_tuples_role3[0],sent.replace(' ','')) and re.search(seed_tuples_role3[1],sent.replace(' ','')) and limit <= 50:\n",
        "    ner_list = get_ner(sent)\n",
        "    new_pattern = find_pattern(ner_list,seed_tuples_role3,'person','role')\n",
        "    if new_pattern is not None and new_pattern != '' and new_pattern not in new_pat_role and len(new_pattern) <= 100:\n",
        "      print('new pattern: ' + new_pattern)\n",
        "      print('context: ' + sent)\n",
        "      new_pat_role.add(new_pattern)\n",
        "      limit += 1"
      ]
    },
    {
      "cell_type": "code",
      "execution_count": null,
      "metadata": {
        "colab": {
          "base_uri": "https://localhost:8080/"
        },
        "id": "LeLQmg2QoKRJ",
        "outputId": "494d7806-1fea-4bc2-8ca3-aa224fdfa348"
      },
      "outputs": [
        {
          "data": {
            "text/plain": [
              "{'',\n",
              " '()',\n",
              " '()เป็น',\n",
              " '),อดีตรัฐมนตรีช่วยว่าการกระทรวงการคลัง(ในรัฐบาลนายสมัครสุนทรเวชและรัฐบาลนายสมชายวงศ์สวัสดิ์)และ',\n",
              " ')โดยมีพระบรมราชโองการโปรดเกล้าโปรดกระหม่อมแต่งตั้งนายสมชายเป็น',\n",
              " ')ในสมัยรัฐบาลชวน2(พ.ศ.2540-พ.ศ.2543)ต่อมาในปลายปีพ.ศ.2551พรรคประชาธิปัตย์สามารถเป็นแกนนําจัดตั้งรัฐบาลนายสาทิตย์วงศ์หนองเตยได้รับการแต่งตั้งให้ดํารงตําแหน่ง',\n",
              " ']]แถลงว่านี่เป็น\"มาตรการตอบโต้ทางทูตอย่างแรก\"ต่อการแต่งตั้งนี้เขายังแถลงอีกว่ากัมพูชากําลังแทรกแซงกิจการภายในและส่งผลให้มีการทบทวนความตกลงความร่วมมือสองฝ่ายอีกครั้งฝ่ายรัฐบาลกัมพูชาแถลงว่ารัฐบาลกัมพูชาปฏิเสธคําขอส่งตัวทักษิณข้ามแดนจากไทยด้วยเหตุผลว่ารัฐบาลกัมพูชามองว่าทักษิณเป็นเหยื่อของการกลั่นแกล้งทางการเมืองหลายเดือนก่อนการตัดสินใจของกัมพูชากําลังทหารทั้งสองประเทศปะทะกับเหนืออาณาเขตที่ทั้งสองฝ่ายอ้างสิทธิ์ติดกับ[[ปราสาทพระวิหาร]]จนทําให้ความสัมพันธ์ระหว่างทั้งสองเสื่อมลงวันที่5พฤศจิกายนเวลา20.30น.ตามเวลาท้องถิ่นกัมพูชากัมพูชาได้ประกาศว่าได้เรียกเอกอัครราชทูตของตนกลับจากประเทศไทยเป็นมาตรการตอบโต้ซกอานสมาชิกคณะรัฐมนตรีและ',\n",
              " 'กู้ยืมเงินมาเพื่อทุจริตคดโกงและกล่าวหาว่าอภิสิทธิ์หน่วงเหนี่ยวคําร้องฎีกาขอพระราชทานอภัยโทษแก่พันตํารวจโททักษิณชินวัตร',\n",
              " 'ก็ยังคงดํารงตําแหน่ง',\n",
              " 'ก็ยังพ่ายแพ้ให้กับสมชายวงศ์สวัสดิ์',\n",
              " 'ขึ้นมาดํารงตําแหน่ง',\n",
              " 'จะได้เป็นนายก,พล.อ.สพรั่งกัลยาณมิตรจะได้เป็นผู้บัญชาการทหารบกต่อจากพล.อ.สนธิบุญยรัตกลิน,ในเดือนกุมภาพันธ์พ.ศ.2551จะมีคนกลางที่มีอักษรย่อ\"พ\"ขึ้นเป็นนายกรัฐมนตรี,หลังนายสมชายวงศ์สวัสดิ์พ้นตําแหน่ง',\n",
              " 'จากพรรคเดโมแครตผู้ชนะการเลือกตั้ง',\n",
              " 'จึงกลายเป็น',\n",
              " 'ชี้แจงข้อกล่าวหาว่า“สิ่งที่กล่าวหาว่าบกพร่องต่อหน้าที่นั้นอาจเริ่มมาจากโครงการอุตสาหกรรมขนาดเล็กกลางและใหญ่(<unk>)...โครงการเอสเอ็มแอลนี้กําเนิดมาจากรัฐบาลทักษิณชินวัตร”กอร์ปศักดิ์สภาวสุ',\n",
              " 'ซึ่งโจเคยดํารงตําแหน่งรอง',\n",
              " 'ดํารงตําแหน่ง',\n",
              " 'ดํารงตําแหน่งเป็น',\n",
              " 'ตอบมิ่งขวัญแสงสุวรรณโดยระบุว่ารัฐบาลชุดนี้มีตัวเลขการส่งออกและท่องเที่ยวสูงที่สุดในประวัติศาสตร์และรัฐบาลต้องกู้เงินเพราะผลกระทบจากวิกฤตเศรษฐกิจที่เกิดขึ้นในสมัยพรรคเพื่อไทยเป็นรัฐบาลรัฐบาลบริหารหนี้สาธารณะได้ดีกว่าสมัย',\n",
              " 'ตั้งรัฐบาลแต่เผชิญกับการประท้วงโดยขบวนการเสื้อแดงโดยกลุ่มแนวร่วมประชาธิปไตยต่อต้านเผด็จการแห่งชาติ(นปช.)จนนําไปสู่การปราบปรามของกองทัพอย่างรุนแรงในปี2553พรรคการเมืองพันธมิตรของทักษิณชนะการเลือกตั้งอีกครั้งในปี2554ทําให้ยิ่งลักษณ์ชินวัตรน้องสาวของทักษิณเป็น',\n",
              " 'ที่สามารถควบคุมสถานการณ์ในการชุมชนของกลุ่มคนเสื้อแดงได้โดยสูญเสียน้อยที่สุดนอกจากนี้สํานักข่าวรอยเตอร์ยังได้นําเสนอบทวิเคราะห์สถานการณ์ว่าการจลาจลของกลุ่มผู้ชุมนุมครั้งนี้อาจเป็นความพยายามเฮือกสุดท้ายของพันตํารวจโททักษิณชินวัตร',\n",
              " 'นายกรณ์จาติกวาณิชรัฐมนตรีว่าการกระทรวงการคลังและนายสุเทพเทือกสุบรรณ',\n",
              " 'น่าจะแพ้เลือกตั้งเพราะไม่เลือกข้างใดข้างหนึ่ง24มีนาคม2562เขาลาออกจากตําแหน่งหัวหน้าพรรคประชาธิปัตย์เพราะได้ที่นั่งต่ํากว่า100ที่นั่งในวันที่5มิถุนายนพ.ศ.2562อภิสิทธิ์ลาออกจากตําแหน่งส.ส.หลังจากพรรคประชาธิปัตย์มีมติร่วมรัฐบาลและสนับสนุนพลเอกประยุทธ์เป็น',\n",
              " 'ประกาศสละตําแหน่ง',\n",
              " 'ประจําวันที่23สิงหาคมจะออกอากาศในเวลา11.00น.ซึ่งเจ้าหน้าที่แจ้งว่าสัญญาณถ่ายทอดสดขัดข้องต้องบันทึกเทปแล้วนํามาออกอากาศอีกครั้งในเวลา11.00น.ทั้งนี้เมื่อสัญญาณถ่ายทอดสดขัดข้องนายอภิสิทธิ์ได้บันทึกเทปรายการไว้เพื่อนํามาออกอากาศในเวลา11.00น.หลังจากเหตุการณ์นี้นายสาทิตย์วงศ์หนองเตย',\n",
              " 'ประธานคณะกรรมาธิการมีหนังสือแจ้งให้พระสุเมธาธิบดี',\n",
              " 'ปีพ.ศ.2551ซึ่งสุเทพเป็นผู้ที่มีบทบาทในการประสานงานจัดตั้งรัฐบาลในครั้งนั้นจนได้รับการขนานนามว่า\"ผู้จัดการรัฐบาล\"และได้รับตําแหน่ง',\n",
              " 'ผู้นําฝ่ายค้านพรรคประชาธิปัตย์ได้ประกาศจัดตั้งคณะรัฐมนตรีเงาเพื่อติดตามการทํางานของรัฐบาลผสมที่มีพรรคพลังประชาชนเป็นแกนนําและมีนายสมัครสุนทรเวชเป็น',\n",
              " 'ผู้นําฝ่ายค้านในสภาผู้แทนราษฎรหัวหน้าพรรคประชาธิปัตย์ได้ทําหนังสือถึงสมัครสุนทรเวช',\n",
              " 'ผู้นําฝ่ายค้านในสภาผู้แทนราษฎรไทย',\n",
              " 'ผู้นําฝ่ายค้านได้ประกาศติดตามการทํางานของรัฐบาลผสมที่มีพรรคพลังประชาชนเป็นแกนนําในสมัยที่นายสมัครสุนทรเวชและนายสมชายวงศ์สวัสดิ์ดํารงตําแหน่ง',\n",
              " 'มีผลงานทางการเมืองที่สําคัญคือการจัดทําพระราชบัญญัติการศึกษาแห่งชาติพ.ศ.2542ซึ่งเป็นพระราชบัญญัติการศึกษาแห่งชาติฉบับแรกของไทยที่ดําเนินการจัดทําจนสําเร็จในช่วงเวลาที่อภิสิทธิ์ดํารงตําแหน่งเป็น',\n",
              " 'ยุบสภาผู้แทนราษฎรในปีต่อมาและมีการจัดการเลือกตั้งทั่วไปเมื่อวันที่3กรกฎาคม2554ซึ่งพรรคเพื่อไทยที่เป็นพันธมิตรของทักษิณชนะการเลือกตั้งและยิ่งลักษณ์ชินวัตรน้องสาวของทักษิณเป็น',\n",
              " 'ย้ําว่าจะไม่สนับสนุนพลเอกประยุทธ์จันทร์โอชาเป็น',\n",
              " 'รัฐบาลขณะนั้นมีนโยบายปฏิรูปสถานีโทรทัศน์แห่งประเทศไทยโดยจัดประกวดตราสัญลักษณ์ใหม่ซึ่งกําหนดแนวคิดตราสัญลักษณ์ให้สื่อถึงความเป็นโทรทัศน์แห่งชาติมีความทันสมัยผสมผสานกับความเป็นไทยและเริ่มใช้ในวันที่1เมษายนพ.ศ.2552ซึ่งเป็นวันครบรอบ1ปีการใช้ชื่อเอ็นบีทีโดยสาทิตย์วงศ์หนองเตย',\n",
              " 'ส.ส.สัดส่วนกลุ่มจังหวัดที่6หัวหน้าพรรคประชาธิปัตย์และนายเสนาะเทียนทองส.ส.สัดส่วนกลุ่มจังหวัดที่5และหัวหน้าพรรคประชาราชเสนอชื่อพลตํารวจเอกประชาพรหมนอกส.ส.สัดส่วนกลุ่มจังหวัดที่3ว่าที่หัวหน้าพรรคเพื่อแผ่นดินเป็น',\n",
              " 'ส.ส.สัดส่วนกลุ่มจังหวัดที่6หัวหน้าพรรคประชาธิปัตย์และพลตํารวจเอกประชาพรหมนอกส.ส.สัดส่วนกลุ่มจังหวัดที่3ว่าที่หัวหน้าพรรคเพื่อแผ่นดินผลการลงมติในครั้งนี้สมาชิกสภาผู้แทนราษฎรของพรรคมาตุภูมิทั้ง3คนลงมติสนับสนุนพลตํารวจเอกประชาพรหมนอกเป็น',\n",
              " 'สมัยดํารงตําแหน่ง',\n",
              " 'สูงสุดที่ระดับ1,145.82จุดในวันที่1สิงหาคมพ.ศ.2554ซึ่งเป็นการทําลายสถิติดัชนีสูงสุด15ปี3เดือนเมื่อวันที่22กรกฎาคมพ.ศ.2554ซึ่งปิดที่1,121.04จุดภายหลังดัชนีเศรษฐกิจไทยได้ขึ้นไปสู่ระดับ1,107.36ในวันที่20เมษายนพ.ศ.2554สูงสุดในรอบ15ปีในขณะที่นายอภิสิทธิ์เวชชาชีวะเป็น',\n",
              " 'หัวหน้าพรรคดํารงตําแหน่ง',\n",
              " 'หัวหน้าพรรคประชาธิปัตย์ซึ่งเป็นพรรคใหญ่อันดับสองในสภาเป็น',\n",
              " 'หัวหน้าพรรคประชาธิปัตย์เป็น',\n",
              " 'หัวหน้าพรรคประชาธิปัตย์และ',\n",
              " 'หัวหน้าพรรคประชาธิปัตย์และได้เลือกนายชวนหลีกภัยประธานสภาที่ปรึกษาพรรคประชาธิปัตย์พร้อมกันทีเดียวทั้ง2คนที่สําคัญยังสนับสนุนให้นายอภิสิทธิ์ได้กลับมาเป็น',\n",
              " 'หัวหน้าพรรคประชาธิปัตย์ได้รับแต่งตั้งเป็นนายกรัฐมนตรีหลังศาลรัฐธรรมนูญตัดสิทธิ์ทางการเมืองสมชายวงศ์สวัสดิ์',\n",
              " 'เข้าดํารงตําแหน่ง',\n",
              " 'เข้ารับตําแหน่ง',\n",
              " 'เคยเดินทางเยี่ยมอินเดียอย่างเป็นทางการเมื่อวันที่4-5เมษายน2011ตามคําเชิญของมันโมหันสิงห์',\n",
              " 'เดินทางไปพบ[[เหงียนเติ๊นสุง]][[',\n",
              " 'เดินทางไปเยือนกรุงนิวเดลีสาธารณรัฐอินเดียเมื่อวันที่4-6เมษายนพ.ศ.2554เพื่อหารือทวิภาคีกับประธานาธิบดีสาธารณรัฐอินเดียรองประธานาธิบดีสาธารณรัฐอินเดียและ',\n",
              " 'เดินทางไปเยือนประเทศกาตาร์นับเป็นการเยือนครั้งแรกในระดับ',\n",
              " 'เป็น',\n",
              " 'เป็นนักการเมืองชาวอเมริกันและเป็น',\n",
              " 'เป็นลูกพี่ลูกน้องกับสุรนันทน์เวชชาชีวะ',\n",
              " 'เผชิญหน้ากับจํานวนผู้ที่ไม่พอใจต่อการบริหารงานของรัฐบาลของเขาเองและท่ามกลางข่าวลือที่ว่าจะมีการยึดอํานาจเกิดขึ้นในเดือนธันวาคม2552รองศาสตราจารย์[[เจิมศักดิ์ปิ่นทอง]]อดีตส.ว.อ่างทองเขียนบทความในหนังสือพิมพ์แนวหน้าโดยบอกว่าประเทศอยู่ในภาวะสงครามกลางเมืองแล้วแม้ว่ายังไม่มีการสังหารหมู่แต่อย่างใดอภิสิทธิ์ประกาศใช้พระราชบัญญัติความมั่นคงภายในราชอาณาจักรพ.ศ.2551และแต่งตั้งศูนย์อํานวยการรักษาความสงบเรียบร้อยขึ้นอีกครั้งภายหลังจากที่ยกเลิกพระราชกําหนดในสถานการณ์ฉุกเฉินพ.ศ.2548และศูนย์อํานวยการแก้ไขสถานการณ์แฉุกเฉินโดยให้ผู้บัญชาการตํารวจแห่งชาติพล.ต.อ.วิเชียรพจน์โพธิ์ศรีเป็นผู้อํานวยการศูนย์อํานวยการรักษาความสงบเรียบร้อยโดยก่อนหน้านี้ศูนย์อํานวยการรักษาความสงบเรียบร้อยได้เคยถูกจัดขึ้นมาแล้วก่อนประกาศพระราชกําหนดในสถานการณ์ฉุกเฉินพ.ศ.2548โดยมีนายสุเทพเทือกสุพรรณ',\n",
              " 'แต่ไม่มีหลักฐานสนับสนุนในเรื่องนี้ในกลุ่มแนวร่วมประชาธิปไตยต่อต้านเผด็จการแห่งชาติก็ยังเป็นเพียงความเชื่อว่าเป็นเช่นนั้นโดยส.ส.เหล่านั้นเป็นสมาชิกพรรคชาติไทยพัฒนาที่นําโดยพลตรีสนั่นขจรประศาสน์,พรรคภูมิใจไทยและกลุ่มเพื่อนเนวินซึ่งเป็นอดีตสมาชิกพรรคพลังประชาชนบางส่วนสนับสนุนให้นายอภิสิทธิ์ขึ้นดํารงตําแหน่ง',\n",
              " 'และยิ่งลักษณ์ชินวัตรต่างประกาศพระราชกําหนดในสถานการณ์ฉุกเฉินพ.ศ.2548เพื่อใช้กับนักการเมืองฝ่ายตรงข้ามส่งผลให้เกิดคดีนักการเมืองจากทั้งสองพรรคถูกศาลออกหมายจับในข้อหาทําผิดกฎหมายดังกล่าวจํานวนมากในขณะที่พรรคชาติไทยพัฒนาได้ผลประโยชน์จากการร่วมงานกับทั้งสองพรรคกล่าวคือชุมพลศิลปอาชาได้เป็นรัฐมนตรีว่าการกระทรวงการท่องเที่ยวและกีฬาในรัฐบาลอภิสิทธิ์เวชชาชีวะและในรัฐบาลยิ่งลักษณ์ชินวัตรได้เป็น',\n",
              " 'และรองหัวหน้าพรรคประชาธิปัตย์เกิดวันที่28มีนาคมพ.ศ.2492เป็นบุตรของนายประมวลสภาวสุ',\n",
              " 'และหมายเลข27ซึ่งหมายถึง',\n",
              " 'และในปีพ.ศ.2540ต่อมาในปีพ.ศ.2544ได้รับเลือกตั้งเป็นสมาชิกสภาผู้แทนราษฎรแบบบัญชีรายชื่อพรรคประชาธิปัตย์ต่อมาในการเลือกตั้งพ.ศ.2548ได้ย้ายมาร่วมงานกับพรรคมหาชนและได้รับมอบหมายให้ทําหน้าที่รองหัวหน้าพรรคและผู้อํานวยการเลือกตั้งภาคกทม.ของพรรคด้วยและปีพ.ศ.2551ได้รับแต่งตั้งเป็น',\n",
              " 'โดยการชักชวนของนิพนธ์พร้อมพันธุ์',\n",
              " 'โดยร้อยตํารวจเอกเฉลิมเป็นผู้ขึ้นเปิดอภิปรายเป็นคนแรกโดยอภิปรายไม่ไว้วางใจอภิสิทธิ์เวชชาชีวะ',\n",
              " 'ในการเลือกตั้ง',\n",
              " 'ในฐานะ',\n",
              " 'ในฐานะหัวหน้าพรรคประชาธิปัตย์ได้เสนอแนะให้พ.ต.ท.ทักษิณชินวัตร',\n",
              " 'ให้สัญญาว่าจะดําเนินการสอบสวนผู้นําทางทหารอย่างเต็มที่แต่ออกมาปฏิเสธข้อกล่าวหาที่หาว่าปกปิดการใช้อํานาจกองทัพไปในทางที่ผิดการสอบสวนถูกนําโดยกองอํานวยการรักษาความมั่นคงภายในเป็นหน่วยงานที่ก่อตั้งขึ้นเพื่อต่อต้านคอมมิวนิสต์จากนั้นได้ทบทวนเพื่อดําเนินการกับกลุ่มคนที่โฆษณาชวนเชื่อให้ต่อต้านพ.ต.ท.ดร.ทักษิณชินวัตรนายสุเทพเทือกสุบรรณ',\n",
              " 'ได้ขึ้นเป็น',\n",
              " 'ได้ดํารงตําแหน่ง',\n",
              " 'ได้รับปริญญานิติศาสตร์ดุษฎีบัณฑิตกิตติมศักดิ์จากมหาวิทยาลัยรามคําแหงจากการใช้ความรู้ความสามารถด้านกฎหมายปฏิบัติหน้าที่ในฐานะสมาชิกสภาผู้แทนราษฎรรัฐมนตรีและผู้นําฝ่ายค้านในสภาผู้แทนราษฎรและต้นปีพ.ศ.2554ได้รับปริญญาปรัชญาดุษฎีกิตติมศักดิ์สาขาภาษาอังกฤษจากมหาวิทยาลัยรามคําแหงในปีพ.ศ.2552ระหว่างเกิดความไม่สงบทางการเมืองในประเทศไทยเมษายนพ.ศ.2552เขาเป็น',\n",
              " 'ได้รับพระบรมราชโองการโปรดเกล้าฯให้ดํารงตําแหน่ง',\n",
              " 'ได้รับเลือกเป็น',\n",
              " 'ได้รับแต่งตั้งเป็น',\n",
              " 'ได้สาบานตนเข้ารับตําแหน่ง',\n",
              " 'ไม่ได้เข้ารับการตรวจเลือกการเกณฑ์ทหารเกิดขึ้นอีกครั้งประมาณปลายปีพ.ศ.2551หลังพรรคพลังประชาชนถูกศาลวินิจฉัยให้ยุบพรรคและอภิสิทธิ์เป็นผู้หนึ่งที่มีโอกาสจะได้ดํารงตําแหน่ง'}"
            ]
          },
          "execution_count": 124,
          "metadata": {},
          "output_type": "execute_result"
        }
      ],
      "source": [
        "new_pat_role"
      ]
    },
    {
      "cell_type": "markdown",
      "metadata": {
        "id": "zdFv9Um8I3J6"
      },
      "source": [
        "# new pattern of WORK_AT relation"
      ]
    },
    {
      "cell_type": "code",
      "execution_count": null,
      "metadata": {
        "colab": {
          "base_uri": "https://localhost:8080/"
        },
        "id": "rXaqwKTlI4Rm",
        "outputId": "65bcd17b-f1bb-43b6-8ff6-d328b91acafa"
      },
      "outputs": [
        {
          "name": "stdout",
          "output_type": "stream",
          "text": [
            "new pattern: ออกประกาศภายในเรื่องคลื่นแห่งระบบอินเทอร์เน็ต,\n",
            "context: วันที่ 26 พฤษภาคม ค.ศ. 1995 บิล เกตส์ ออกประกาศภายในเรื่อง คลื่นแห่งระบบอินเทอร์เน็ต, ไมโครซอฟท์เริ่มต้นสายการผลิตสำหรับผลิตภัณฑ์สำหรับระบบเครือข่าย ในวันที่ 24 สิงหาคม ค.ศ. 1995 ก็ได้เปิดตัวบริการออนไลน์อย่างเอ็มเอสเอ็น ซึ่งเป็นคู่แข่งโดยตรงของเอโอแอล โดยเอ็มเอสเอ็นให้บริการเกี่ยวกับข้อมูลออนไลน์ของไมโครซอฟท์บริษัทยังคงสาขาไปตลาดใหม่ และในปี ค.ศ. 1996 เริ่มมีกิจการเคเบิลทีวีของตัวเองซึ่งใช้ชื่อว่า เอ็นบีซี โดยเป็นสถานีเคเบิลทีวีแบบ 24/7 ไมโครซอฟท์ได้เข้าสู่วงการพีดีเอ ด้วย วินโดวส์ ซีอี 1.0 ซึ่งเป็นระบบปฏิบัติการที่ออกแบบมาสำหรับเครื่องพีดีเอ ใช้หน่วยความจำและสมรรถนำต่ำ เช่น handhelds และคอมพิวเตอร์ขนาดเล็กอื่นๆ \n",
            "\n",
            "new pattern: เจ้าของ\n",
            "context: นอกจากนี้ยังมีมหาเศรษฐี บิล เกตส์ เจ้าของบริษัทคอมพิวเตอร์ไมโครซอฟท์ (ดรอปเรียนในช่วงปริญญาตรี ขณะอายุ 19 ปี เพื่อไปสานต่อความฝันทางธุรกิจ จนกระทั่งประสบความสำเร็จ และต่อมาทางมหาวิทยาลัยฮาร์วาร์ดได้ประสาทปริญญาดุษฎีบัณฑิตกิตติมศักดิ์(วุฒิปริญญาดุษฎีบัณฑิต จำกัดสาขาหรือผู้นำสาขานั้นๆ)ให้ในปี ค.ศ. 2007) และผู้ที่ได้รับรางวัลโนเบลอีก 15 คน\n",
            "\n",
            "new pattern: รวมถึงเป็นผู้ร่วมก่อตั้งและเป็นประธานร่วมของมูลนิธิบิลและเมลินดาเกตส์ตลอดจนเป็นอดีตผู้จัดการหน่วยในหลายแผนกผลิตภัณฑ์ของ\n",
            "context: เมลินดา แอนน์ เฟรนช์ () ภายหลังเป็นที่รู้จักกันในชื่อ เมลินดา เฟรนช์ เกตส์ () เป็นนักธุรกิจหญิงชาวอเมริกัน เธอเป็นภรรยาของ บิล เกตส์ รวมถึงเป็นผู้ร่วมก่อตั้งและเป็นประธานร่วมของมูลนิธิบิลและเมลินดา เกตส์ ตลอดจนเป็นอดีตผู้จัดการหน่วยในหลายแผนกผลิตภัณฑ์ของไมโครซอฟท์ อาทิ พับลิชเชอร์, ไมโครซอฟท์ บ็อบ, เอนคาร์ตา และ เอ็กซ์พีเดีย\n",
            "\n"
          ]
        }
      ],
      "source": [
        "with open('th_wiki.txt') as text:\n",
        " limit = 0\n",
        " for sent in text:\n",
        "   if re.search(seed_tuples_work_at1[0],sent.replace(' ','')) and re.search(seed_tuples_work_at1[1],sent.replace(' ','')) and limit <= 50:\n",
        "    ner_list = get_ner(sent)\n",
        "    if ner_list is not None:\n",
        "     new_pattern = find_pattern(ner_list,seed_tuples_work_at1,['person','orgcorp'],['org_political','orgcorp'])\n",
        "     if new_pattern is not None and new_pattern != '' and new_pattern not in new_pat_work_at and len(new_pattern) <= 150:\n",
        "      print('new pattern: ' + new_pattern)\n",
        "      print('context: ' + sent)\n",
        "      new_pat_work_at.add(new_pattern)\n",
        "      limit+=1"
      ]
    },
    {
      "cell_type": "code",
      "execution_count": null,
      "metadata": {
        "colab": {
          "base_uri": "https://localhost:8080/"
        },
        "id": "X1MmkFOeRRzP",
        "outputId": "cf240ba6-e17f-4e76-9ef6-721157341360"
      },
      "outputs": [
        {
          "name": "stdout",
          "output_type": "stream",
          "text": [
            "new pattern: (ชื่อเล่น:หน่อย;เกิด:1พฤษภาคมพ.ศ.2504)เป็นนักการเมืองสตรีชาวไทยอดีตสมาชิก\n",
            "context: คุณหญิงสุดารัตน์ เกยุราพันธุ์ (ชื่อเล่น: หน่อย; เกิด: 1 พฤษภาคม พ.ศ. 2504) เป็นนักการเมืองสตรีชาวไทย อดีตสมาชิกพรรคเพื่อไทย เคยร่วมประท้วงในเหตุการณ์พฤษภา 2535 อดีตรัฐมนตรีเคยดำรงตำแหน่งที่สำคัญทั้งในรัฐบาล ทักษิณ ชินวัตร และ ชวน หลีกภัย ปัจจุบันเป็นประธานมูลนิธิไทยพึ่งไทย และประธานกรรมการผู้ก่อตั้งพรรคไทยสร้างไทย อีกทั้ง ยังสนิทสนมกับ อภิรักษ์ โกษะโยธิน นักการเมืองหลายสมัย\n",
            "\n",
            "new pattern: แกนนํา\n",
            "context: เดือนกุมภาพันธ์ พ.ศ. 2562 พลเอก อภิรัชต์ คงสมพงษ์ ผู้บัญชาการทหารบก อ้างถึงเพลงนี้เมื่อคุณหญิงสุดารัตน์ เกยุราพันธุ์ แกนนำพรรคเพื่อไทย ประกาศนโยบายการลดงบประมาณการจัดซื้ออาวุธของกองทัพ และปฏิรูปทหารเกณฑ์ให้ใช้ระบบทหารอาชีพที่มีการคัดเลือกตามความรู้ความสามารถด้วยความสมัครใจ นอกจากนี้ ยังมีกระแสข่าวว่า พลเอกอภิรัชต์สั่งการให้สถานีวิทยุกระจายเสียงเครือข่ายกองทัพบก นำเพลงนี้ รวมถึงเพลงปลุกใจอื่น ๆ อาทิ มาร์ชกองทัพบก ความฝันอันสูงสุด ไปเปิดในช่วงเวลา 07.00 น. และ 12.00 น. #หนักแผ่นดิน ขึ้นอันดับ 1 ในทวิตเตอร์ในประเทศไทยในเดือนเดียวกัน\n",
            "\n",
            "new pattern: ,นายชวนหลีกภัยและนายอภิสิทธิ์เวชชาชีวะชีวิตส่วนตัวสมรสกับนายจุลพันธ์อมรวิวัฒน์ส.ส.จังหวัดเชียงใหม่\n",
            "context: ส่วนตัว นางวิสาระดีชื่นชอบการอภิปรายของเชาวริน ลัทธศักดิ์ศิริ, คุณหญิงสุดารัตน์ เกยุราพันธุ์, นายชวน หลีกภัย และนายอภิสิทธิ์ เวชชาชีวะ ชีวิตส่วนตัวสมรส กับนายจุลพันธ์ อมรวิวัฒน์ ส.ส.จังหวัดเชียงใหม่ พรรคเพื่อไทย บุตรชายของนายสมพงษ์ อมรวิวัฒน์ อดีตกรรมการบริหารพรรคพลังประชาชน ในวันที่ 9 กุมภาพันธ์ พ.ศ. 2553 และในวันที่ 27 กรกฎาคม พ.ศ. 2555 เธอได้ให้กำเนิดบุตรสาวคนแรก\n",
            "\n",
            "new pattern: แต่อีกหลายเดือนให้หลังก็ย้ายกลับเข้า\n",
            "context: ในปี 2564 เขาได้เข้าร่วมงานกับพรรคไทยสร้างไทย ซึ่งนำโดยคุณหญิงสุดารัตน์ เกยุราพันธุ์ แต่อีกหลายเดือนให้หลังก็ย้ายกลับเข้าพรรคเพื่อไทยในวันที่ 14 ธันวาคม\n",
            "\n",
            "new pattern: อดีตประธานยุทธศาสตร์การเลือกตั้งของ\n",
            "context: รองศาสตราจารย์ ดร.ชัชชาติ สิทธิพันธุ์ (ชื่อเล่น: ทริป) เป็นนักการเมืองและวิศวกรชาวไทย ผู้สมัครรับเลือกตั้งผู้ว่าราชการกรุงเทพมหานครในปี พ.ศ. 2565 เคยดำรงตำแหน่งรัฐมนตรีกระทรวงคมนาคมในรัฐบาลนางสาวยิ่งลักษณ์ ชินวัตร อดีตผู้ช่วยอธิการบดีจุฬาลงกรณ์มหาวิทยาลัย และอาจารย์ประจำภาควิชาวิศวกรรมโยธา คณะวิศวกรรมศาสตร์ จุฬาลงกรณ์มหาวิทยาลัย เขามีสมญาที่ประชาชนตั้งให้ว่า บุรุษที่แข็งแกร่งที่สุดในปฐพี​ รวมถึงเป็นคนที่สนิทสนมกับคุณหญิงสุดารัตน์ เกยุราพันธุ์ อดีตประธานยุทธศาสตร์การเลือกตั้งของพรรคเพื่อไทยที่เขาเคยเป็นสมาชิกด้วย \n",
            "\n",
            "new pattern: โดยเริ่มงานการเมืองด้วยการเป็นทีมนโยบายของ\n",
            "context: นายตรีรัตน์ เคยเข้าวงการเมือง ผ่านการชักชวนโดยคุณหญิงสุดารัตน์ เกยุราพันธุ์ โดยเริ่มงานการเมืองด้วยการเป็นทีมนโยบายของพรรคเพื่อไทย กรรมการสื่อสารการเมืองพรรคเพื่อไทย และได้ลงสมัครสมาชิกสภาผู้แทนราษฎรกรุงเทพมหานคร เขต 13 (เขตบางกะปิ) ซึ่งเป็นพื้นที่เดิมของคุณหญิงสุดารัตน์ \n",
            "\n",
            "new pattern: อดีตประธานยุทธศาสตร์\n",
            "context: พรรคไทยสร้างไทยเป็นพรรคการเมืองที่พัฒนามาจาก กลุ่มไทยสร้างไทย กลุ่มการเมืองที่มี คุณหญิง สุดารัตน์ เกยุราพันธุ์ อดีตประธานยุทธศาสตร์ พรรคเพื่อไทย เป็นแกนนำ ซึ่งในเวลาต่อมาทางพรรคได้ประกาศแต่งตั้ง คุณหญิงสุดารัตน์ เป็นประธานของพรรค\n",
            "\n"
          ]
        }
      ],
      "source": [
        "with open('th_wiki.txt') as text:\n",
        " limit = 0\n",
        " for sent in text:\n",
        "   if re.search(seed_tuples_work_at2[0],sent.replace(' ','')) and re.search(seed_tuples_work_at2[1],sent.replace(' ','')) and limit <= 50:\n",
        "    ner_list = get_ner(sent)\n",
        "    if ner_list is not None:\n",
        "     new_pattern = find_pattern(ner_list,seed_tuples_work_at2,['person','orgcorp'],['org_political','orgcorp'])\n",
        "     if new_pattern is not None and new_pattern != '' and new_pattern not in new_pat_work_at and len(new_pattern) <= 100:\n",
        "      print('new pattern: ' + new_pattern)\n",
        "      print('context: ' + sent)\n",
        "      new_pat_work_at.add(new_pattern)\n",
        "      limit+=1"
      ]
    },
    {
      "cell_type": "code",
      "execution_count": null,
      "metadata": {
        "id": "NOe6FtHeRQG2"
      },
      "outputs": [],
      "source": [
        "with open('th_wiki.txt') as text:\n",
        " limit=0\n",
        " for sent in text:\n",
        "   if re.search(seed_tuples_work_at3[0],sent.replace(' ','')) and re.search(seed_tuples_work_at3[1],sent.replace(' ','')) and limit <= 50:\n",
        "    ner_list = get_ner(sent)\n",
        "    if ner_list is not None:\n",
        "     new_pattern = find_pattern(ner_list,seed_tuples_work_at3,['person','orgcorp'],['org_political','orgcorp'])\n",
        "     if new_pattern is not None and new_pattern != '' and new_pattern not in new_pat_work_at and len(new_pattern) <= 150:\n",
        "      print('new pattern: ' + new_pattern)\n",
        "      print('context: ' + sent)\n",
        "      new_pat_work_at.add(new_pattern)\n",
        "      limit+=1"
      ]
    },
    {
      "cell_type": "code",
      "execution_count": null,
      "metadata": {
        "colab": {
          "base_uri": "https://localhost:8080/"
        },
        "id": "8YECMzltMPoM",
        "outputId": "ee18d754-ca9c-42fa-b9a8-be99c2a6edcf"
      },
      "outputs": [
        {
          "data": {
            "text/plain": [
              "{'(ชื่อเล่น:หน่อย;เกิด:1พฤษภาคมพ.ศ.2504)เป็นนักการเมืองสตรีชาวไทยอดีตสมาชิก',\n",
              " '(ชื่อเล่น:โจหรือโจไอยรา)เป็นผู้อํานวยการสร้างภาพยนตร์ผู้กํากับภาพยนตร์ชาวไทยและเป็นผู้บริหารบริษัท',\n",
              " ',นายชวนหลีกภัยและนายอภิสิทธิ์เวชชาชีวะชีวิตส่วนตัวสมรสกับนายจุลพันธ์อมรวิวัฒน์ส.ส.จังหวัดเชียงใหม่',\n",
              " 'บริหารโดย',\n",
              " 'ปัจจุบันเป็นผู้บริหาร',\n",
              " 'รวมถึงเป็นผู้ร่วมก่อตั้งและเป็นประธานร่วมของมูลนิธิบิลและเมลินดาเกตส์ตลอดจนเป็นอดีตผู้จัดการหน่วยในหลายแผนกผลิตภัณฑ์ของ',\n",
              " 'อดีตประธานยุทธศาสตร์',\n",
              " 'อดีตประธานยุทธศาสตร์การเลือกตั้งของ',\n",
              " 'ออกประกาศภายในเรื่องคลื่นแห่งระบบอินเทอร์เน็ต,',\n",
              " 'เจ้าของ',\n",
              " 'เปิดตัวในฐานะสมาชิกวงเกิร์ลกรุป<unk>e-<unk>ซึ่งประกอบด้วยสมาชิก8คนที่บริหารโดย',\n",
              " 'เป็นประธานของ',\n",
              " 'เป็นผู้บริหารบริษัท',\n",
              " 'แกนนํา',\n",
              " 'แต่อีกหลายเดือนให้หลังก็ย้ายกลับเข้า',\n",
              " 'โดยเริ่มงานการเมืองด้วยการเป็นทีมนโยบายของ'}"
            ]
          },
          "execution_count": 122,
          "metadata": {},
          "output_type": "execute_result"
        }
      ],
      "source": [
        "new_pat_work_at"
      ]
    },
    {
      "cell_type": "markdown",
      "metadata": {
        "id": "227V6w8nJNJM"
      },
      "source": [
        "# new pattern of CHILD_OF relation"
      ]
    },
    {
      "cell_type": "code",
      "execution_count": null,
      "metadata": {
        "colab": {
          "base_uri": "https://localhost:8080/"
        },
        "id": "qwk3I2btJQhG",
        "outputId": "010a3ba4-62fd-459a-c50f-ddda0fd73120"
      },
      "outputs": [
        {
          "name": "stdout",
          "output_type": "stream",
          "text": [
            "new pattern: ภายหลังเหตุการณ์\n",
            "context: จอมพล ถนอม กิตติขจร ( 11 สิงหาคม พ.ศ.2454 – 16 มิถุนายน พ.ศ.2547 ) เป็นนายกรัฐมนตรีไทยคนที่ 10 เคยดำรงตำแหน่งผู้บัญชาการทหารบก ผู้บัญชาการทหารสูงสุด รัฐมนตรีว่าการกระทรวงกลาโหม และรัฐมนตรีว่าการกระทรวงการต่างประเทศ ได้ชื่อว่าหนึ่งใน \" สามทรราช \" เป็นหัวหน้าคณะรัฐบาลในเหตุการณ์ 14 ตุลา พ.ศ.2516 ซึ่งเป็นเหตุการณ์การประท้วงของ นิสิต นักศึกษา และประชาชน โดยในเหตุการณ์ ทหารได้ใช้อาวุธสงครามเข้าปราบปรามนักศึกษาประชาชนที่ชุมนุมเรียกร้องรัฐธรรมนูญ จนทำให้มีผู้เสียชีวิตเป็นจำนวนมาก เป็นผลให้จอมพล ถนอม กิตติขจร ต้องประกาศลาออกจากตำแหน่ง และเดินทางออกจากประเทศ พร้อมกับ จอมพล ประภาส จารุเสถียร และ พ.อ.ณรงค์ กิตติขจร ภายหลังเหตุการณ์ จอมพล ถนอม กิตติขจร ก็ได้เดินทางกลับ แล้วบวชเป็นพระสามเณร เป็นชนวนไปสู่การขับไล่ ของนักศึกษาธรรมศาสตร์ จนโยงไปสู่เหตุการณ์ 6 ตุลา พ.ศ.2519 ทำให้มีผู้บาดเจ็บ เสียชีวิต และสูญหายจำนวนมาก\n",
            "\n",
            "new pattern: (21ตุลาคมพ.ศ.2476—)เป็นอดีตนักการเมืองและเป็นบุตรชายของอดีตนายกรัฐมนตรีไทยคนที่10\n",
            "context: พ.อ.ณรงค์ กิตติขจร (21 ตุลาคม พ.ศ. 2476 —) เป็นอดีตนักการเมือง และเป็นบุตรชายของอดีตนายกรัฐมนตรีไทยคนที่ 10 จอมพล ถนอม กิตติขจร อีกทั้งยังเป็นบุตรเขยของ จอมพลประภาส จารุเสถียร\n",
            "\n",
            "new pattern: ,\n",
            "context: เป็นหนึ่งใน 3 บุคคลของฝ่ายรัฐบาลที่ถูกกล่าวถึงมากที่สุดในเหตุการณ์ 14 ตุลา ปี 2516 ที่มีผู้เสียชีวิตถึง 77 ราย ส่งผลให้ พ.อ.ณรงค์ กิตติขจร, จอมพล ถนอม กิตติขจร และจอมพล ประภาส จารุเสถียร ต้องออกจากประเทศภายหลังเหตุการณ์สงบลง พ.อ.ณรงค์ กิตติขจร ก็ได้เดินทางกลับประเทศไทย และได้ลงเล่นการเมือง โดยเข้าร่วมงานกับพรรคเสรีนิยม และเขาได้รับเลือกเป็น ส.ส. ด้วยกัน 2 สมัย นอกจากนี้แล้ว พ.อ.ณรงค์ กิตติขจร ยังถูกสงสัยว่าอยู่เบื้องหลังการบงการสั่งฆาตกรรมนักธุรกิจและศัตรูทางการเมืองอีกมากมาย โดยอาศัยอำนาจที่มีอยู่ในสมัยที่รุ่งเรือง ปิดคดีความต่างๆ และไม่ถูกหยิบยกขึ้นมากล่าวถึงอีกเลย\n",
            "\n",
            "new pattern: เป็นที่คาดหมายว่าจะเป็นผู้สืบทอดอํานาจต่อจาก\n",
            "context: หลังจากเหตุการณ์รัฐประหารครั้งนี้แล้ว พ.อ.ณรงค์ กิตติขจร เป็นที่คาดหมายว่าจะเป็นผู้สืบทอดอำนาจต่อจากจอมพลถนอม กิตติขจร ผู้เป็นพ่อ เพราะด้วยสถานการณ์ในเวลานั้น ปรากฏข่าวการคอร์รัปชั่นกันอย่างกว้างขวางรวมทั้งการใช้อำนาจไปในทางที่มิชอบด้วย เช่น กรณีเฮลิคอปเตอร์ของทหารตกที่อำเภอบางเลน จังหวัดนครปฐม เมื่อวันที่ 29 เมษายน พ.ศ. 2516 เป็นต้น ทางรัฐบาลได้แก้ปัญหาด้วยการตั้งคณะกรรมการตรวจสอบและติดตามผลการปฏิบัติราชการ หรือ ก.ต.ป. ขึ้นมาเพื่อจัดการปัญหาการคอร์รัปชั่น แต่กลับมี พ.อ.ณรงค์ กิตติขจร ซึ่งเป็นลูกชายนายกรัฐมนตรีเป็นผู้ดูแล จึงไม่มีความเชื่อมั่นว่าจะสามารถจัดการปัญหาได้อย่างแท้จริง ดังนั้นเมื่อเกิดเหตุการณ์ 14 ตุลา ขึ้น ประชาชนส่วนหนึ่งที่โกรธแค้นจึงได้เผาทำลายอาคารของสำนักงานแห่งนี้ ที่ตั้งอยู่ ณ สี่แยกคอกวัว \n",
            "\n",
            "new pattern: บุตรชายของ\n",
            "context: หลัง การเลือกตั้ง 27 กรกฎาคม พ.ศ. 2529 ทางพรรคเสรีนิยมได้ทำการเปลี่ยนแปลงคณะกรรมการบริหารพรรคชุดใหม่โดยได้ พันเอก ณรงค์ กิตติขจร บุตรชายของ จอมพลถนอม กิตติขจร และบุตรเขยของ จอมพลประภาส จารุเสถียร ซึ่งเป็นอดีต ส.ส. อยุธยา จาก พรรคชาติไทย เข้ามาเป็นหัวหน้าพรรคคนใหม่ และมี ชลินทร์ เผ่าวิบูลย์ เป็นเลขาธิการพรรค\n",
            "\n"
          ]
        }
      ],
      "source": [
        "with open('th_wiki.txt') as text:\n",
        " limit =0 \n",
        " for sent in text:\n",
        "   if re.search(seed_tuples_child_of1[0],sent.replace(' ','')) and re.search(seed_tuples_child_of1[1],sent.replace(' ','')) and limit <=50:\n",
        "    ner_list = get_ner(sent)\n",
        "    if ner_list is not None:\n",
        "     new_pattern = find_pattern(ner_list,seed_tuples_child_of1,'person','person')\n",
        "     if new_pattern is not None and new_pattern != '' and new_pattern not in new_pat_child_of and len(new_pattern) <= 150:\n",
        "      print('new pattern: ' + new_pattern)\n",
        "      print('context: ' + sent)\n",
        "      new_pat_child_of.add(new_pattern)\n",
        "      limit+=1"
      ]
    },
    {
      "cell_type": "code",
      "execution_count": null,
      "metadata": {
        "id": "ZvcXno6VRKHz"
      },
      "outputs": [],
      "source": [
        "with open('th_wiki.txt') as text:\n",
        " limit =0\n",
        " for sent in text:   \n",
        "   if re.search(seed_tuples_child_of2[0],sent.replace(' ','')) and re.search(seed_tuples_child_of2[1],sent.replace(' ','')) and limit<=50:\n",
        "    ner_list = get_ner(sent)\n",
        "    if ner_list is not None:\n",
        "     new_pattern = find_pattern(ner_list,seed_tuples_child_of2,'person','person')\n",
        "     if new_pattern is not None and new_pattern != '' and new_pattern not in new_pat_child_of and len(new_pattern) <= 150:\n",
        "      print('new pattern: ' + new_pattern)\n",
        "      print('context: ' + sent)\n",
        "      new_pat_child_of.add(new_pattern)\n",
        "      limit+=1"
      ]
    },
    {
      "cell_type": "code",
      "execution_count": null,
      "metadata": {
        "id": "cSLJAQ3WRIXm"
      },
      "outputs": [],
      "source": [
        "with open('th_wiki.txt') as text:\n",
        " limit=0\n",
        " for sent in text:\n",
        "   if re.search(seed_tuples_child_of3[0],sent.replace(' ','')) and re.search(seed_tuples_child_of3[1],sent.replace(' ','')) and limit<=50:\n",
        "    ner_list = get_ner(sent)\n",
        "    if ner_list is not None:\n",
        "     new_pattern = find_pattern(ner_list,seed_tuples_child_of3,'person','person')\n",
        "     if new_pattern is not None and new_pattern != '' and new_pattern not in new_pat_child_of and len(new_pattern) <= 150:\n",
        "      print('new pattern: ' + new_pattern)\n",
        "      print('context: ' + sent)\n",
        "      new_pat_child_of.add(new_pattern)\n",
        "      limit+=1"
      ]
    },
    {
      "cell_type": "code",
      "execution_count": null,
      "metadata": {
        "colab": {
          "base_uri": "https://localhost:8080/"
        },
        "id": "GX870jOoMZrb",
        "outputId": "9ffc746a-0164-4840-fe2c-66ea69ba2c0b"
      },
      "outputs": [
        {
          "data": {
            "text/plain": [
              "{'(21ตุลาคมพ.ศ.2476—)เป็นอดีตนักการเมืองและเป็นบุตรชายของอดีตนายกรัฐมนตรีไทยคนที่10',\n",
              " ',',\n",
              " 'บุตรชายของ',\n",
              " 'ภายหลังเหตุการณ์',\n",
              " 'เป็นทายาทของ',\n",
              " 'เป็นที่คาดหมายว่าจะเป็นผู้สืบทอดอํานาจต่อจาก',\n",
              " 'เป็นบุตรชายของ'}"
            ]
          },
          "execution_count": 133,
          "metadata": {},
          "output_type": "execute_result"
        }
      ],
      "source": [
        "new_pat_child_of"
      ]
    },
    {
      "cell_type": "markdown",
      "metadata": {
        "id": "06ibVSw7SHUT"
      },
      "source": [
        "# **ML-based Bootstrapping**"
      ]
    },
    {
      "cell_type": "code",
      "execution_count": null,
      "metadata": {
        "id": "6Fk3tTnjnUdY"
      },
      "outputs": [],
      "source": [
        "def context_between(tokens):\n",
        "  return {}\n",
        "\n",
        "def between_role(tokens):\n",
        "  return {}\n",
        "\n",
        "def word_with_entity(tokens):\n",
        "  return {}"
      ]
    },
    {
      "cell_type": "code",
      "execution_count": null,
      "metadata": {
        "id": "LUAiSsziVhKg"
      },
      "outputs": [],
      "source": [
        "def featurize(tokens): \n",
        "    feature_dict = {}\n",
        "    for feature_fn in [context_between,between_role,word_with_entity]: \n",
        "       feature_dict.update(feature_fn(tokens))\n",
        "    return feature_dict"
      ]
    },
    {
      "cell_type": "code",
      "execution_count": null,
      "metadata": {
        "id": "HPBcTC71WCSt"
      },
      "outputs": [],
      "source": [
        "# lr_text_classifier1.predict(test_sent_features)"
      ]
    },
    {
      "cell_type": "code",
      "source": [
        "{'คณะกรรมการ': 1,\n",
        " 'ระดับ': 1,\n",
        " 'รัฐ': 1,\n",
        " 'ของ': 1,\n",
        " 'พรรค': 1,\n",
        " 'รีพับลิกัน': 1,\n",
        " 'หลาย': 1,\n",
        " 'คณะ': 1,\n",
        " 'มี': 1,\n",
        " 'รายงาน': 1,\n",
        " 'ว่า': 1,\n",
        " 'พิจารณา': 1,\n",
        " 'ยกเลิก': 1,\n",
        " 'การเลือกตั้ง': 1,\n",
        " 'ขั้นต้น': 1,\n",
        " 'และ': 1,\n",
        " 'การประชุม': 1,\n",
        " 'ลับ': 1,\n",
        " 'ปี': 1,\n",
        " ' ': 1,\n",
        " '2563': 1,\n",
        " 'ส่วน': 1,\n",
        " 'อีก': 1,\n",
        " 'ดำเนินการ': 1,\n",
        " 'ไป': 1,\n",
        " 'แล้ว': 1,\n",
        " 'โดย': 1,\n",
        " 'อ้าง': 1,\n",
        " 'ข้อเท็จจริง': 1,\n",
        " 'เคย': 1,\n",
        " 'เมื่อ': 1,\n",
        " 'จอร์จ': 1,\n",
        " 'เอช': 1,\n",
        " '.': 1,\n",
        " 'ดับเบิลยู': 1,\n",
        " 'บุช': 1,\n",
        " 'ลงสมัคร': 1,\n",
        " 'สมัย': 1,\n",
        " 'ที่สอง': 1,\n",
        " 'ใน': 1,\n",
        " '2535': 1,\n",
        " '2547': 1,\n",
        " 'ตามลำดับ': 1,\n",
        " 'เดโมแครต': 1,\n",
        " 'บิล': 1,\n",
        " 'คลินตัน': 1,\n",
        " 'บารัค': 1,\n",
        " 'โอบามา': 1,\n",
        " 'กำลัง': 1,\n",
        " 'รับ': 1,\n",
        " 'เลือกตั้ง': 1,\n",
        " '2539': 1,\n",
        " '2555': 1,\n",
        " '\\n': 1,\n",
        " 'has person': False,\n",
        " 'has role': False}"
      ],
      "metadata": {
        "id": "zDP6zNjlrtOq"
      },
      "execution_count": null,
      "outputs": []
    },
    {
      "cell_type": "code",
      "source": [
        "{'วันที่': 1,\n",
        " ' ': 1,\n",
        " '10': 1,\n",
        " 'มกราคม': 1,\n",
        " 'พ.ศ.': 1,\n",
        " '2545': 1,\n",
        " 'นิตยสาร': 1,\n",
        " '\"': 1,\n",
        " 'ฟา': 1,\n",
        " 'ร์': 1,\n",
        " 'อิสเทิร์น': 1,\n",
        " 'อี': 1,\n",
        " 'โค': 1,\n",
        " 'โน': 1,\n",
        " 'มิ': 1,\n",
        " 'กรี': 1,\n",
        " 'วิว': 1,\n",
        " 'ลง': 1,\n",
        " 'บทความ': 1,\n",
        " 'ว่า': 1,\n",
        " 'พระองค์': 1,\n",
        " 'ทรง': 1,\n",
        " 'มี': 1,\n",
        " 'ความสัมพันธ์': 1,\n",
        " 'แนบแน่น': 1,\n",
        " 'กับ': 1,\n",
        " 'พัน': 1,\n",
        " 'ตำรวจ': 1,\n",
        " 'โท': 1,\n",
        " 'ทักษิณ': 1,\n",
        " 'ชินวัตร': 1,\n",
        " 'อดีต': 1,\n",
        " 'นายกรัฐมนตรี': 1,\n",
        " 'ไทย': 1,\n",
        " 'อย่างไรก็ดี': 1,\n",
        " 'ใน': 1,\n",
        " '2553': 1,\n",
        " 'หลังจากที่': 1,\n",
        " 'พ้น': 1,\n",
        " 'จาก': 1,\n",
        " 'ตำแหน่ง': 1,\n",
        " 'ไป': 1,\n",
        " 'โดย': 1,\n",
        " 'การรัฐประหาร': 1,\n",
        " 'แล้ว': 1,\n",
        " 'พลเอก': 1,\n",
        " 'เปรม': 1,\n",
        " 'ติณ': 1,\n",
        " 'สู': 1,\n",
        " 'ลา': 1,\n",
        " 'นนท์': 1,\n",
        " 'องคมนตรี': 1,\n",
        " 'ยอมรับ': 1,\n",
        " 'แน่นอน': 1,\n",
        " 'เจ้าฟ้า': 1,\n",
        " 'ชาย': 1,\n",
        " 'ยัง': 1,\n",
        " 'รักษา': 1,\n",
        " 'สัมพันธภาพ': 1,\n",
        " 'บางอย่าง': 1,\n",
        " 'นายกฯ': 1,\n",
        " 'เอาไว้': 1,\n",
        " 'พบ': 1,\n",
        " 'เป็นช่วง': 1,\n",
        " 'ๆ\"': 1,\n",
        " '12': 1,\n",
        " 'ธันวาคม': 1,\n",
        " 'ปี': 1,\n",
        " 'เดียวกัน': 1,\n",
        " 'บิ': 1,\n",
        " 'ฮา': 1,\n",
        " 'รี': 1,\n",
        " 'เคา': 1,\n",
        " 'สิ': 1,\n",
        " 'กัน': 1,\n",
        " '(': 1,\n",
        " 'Bilahari': 1,\n",
        " 'Kausikan': 1,\n",
        " ')': 1,\n",
        " 'ข้าราชการ': 1,\n",
        " 'กระทรวงการต่างประเทศ': 1,\n",
        " 'สิงคโปร์': 1,\n",
        " 'แถลง': 1,\n",
        " 'ติด': 1,\n",
        " 'การพนัน': 1,\n",
        " 'และ': 1,\n",
        " 'ได้รับ': 1,\n",
        " 'การ': 1,\n",
        " 'สนับสนุน': 1,\n",
        " 'ทางการเงิน': 1,\n",
        " 'โอกาส': 1,\n",
        " 'เสริม': 1,\n",
        " 'เสี่ยง': 1,\n",
        " 'ทำลาย': 1,\n",
        " 'ตัวเอง': 1,\n",
        " 'เขา': 1,\n",
        " 'อาจ': 1,\n",
        " 'คิด': 1,\n",
        " 'จะ': 1,\n",
        " 'ปฏิบัติ': 1,\n",
        " 'เหมือน': 1,\n",
        " 'ดัง': 1,\n",
        " 'เป็น': 1,\n",
        " 'พระ': 1,\n",
        " 'สหาย': 1,\n",
        " 'หรือ': 1,\n",
        " 'ผู้สนับสนุน': 1,\n",
        " 'เพียง': 1,\n",
        " 'เพราะ': 1,\n",
        " 'ส่งเสริม': 1,\n",
        " 'การเงิน': 1,\n",
        " 'ให้': 1,\n",
        " 'แก่': 1,\n",
        " 'แต่': 1,\n",
        " 'ไม่': 1,\n",
        " 'ชอบ': 1,\n",
        " 'พระทัย': 1,\n",
        " 'แบบ': 1,\n",
        " 'นั้น': 1,\n",
        " 'สัก': 1,\n",
        " 'เท่าไร': 1,\n",
        " 'has person': True,\n",
        " 'has role': False}"
      ],
      "metadata": {
        "id": "F6-ZVuh1uDqH"
      },
      "execution_count": null,
      "outputs": []
    },
    {
      "cell_type": "code",
      "source": [
        "{'สุทธิ': 1,\n",
        " 'ชัย': 1,\n",
        " 'ยัง': 1,\n",
        " 'เป็น': 1,\n",
        " 'ผู้ก่อตั้ง': 1,\n",
        " ' ': 1,\n",
        " 'หนังสือพิมพ์': 1,\n",
        " 'ธุรกิจ': 1,\n",
        " 'รายวัน': 1,\n",
        " 'ฉบับ': 1,\n",
        " 'แรก': 1,\n",
        " 'ของ': 1,\n",
        " 'ประเทศ': 1,\n",
        " 'ไทย': 1,\n",
        " 'คือ': 1,\n",
        " '\"': 1,\n",
        " 'กรุงเทพ': 1,\n",
        " 'เมื่อ': 1,\n",
        " 'วันที่': 1,\n",
        " '6': 1,\n",
        " 'ตุลาคม': 1,\n",
        " 'พ.ศ.': 1,\n",
        " '2530': 1,\n",
        " 'นอกจากนี้': 1,\n",
        " 'ผู้ริเริ่ม': 1,\n",
        " 'วิทยุ': 1,\n",
        " 'เนชั่น': 1,\n",
        " 'และ': 1,\n",
        " 'เป็นหนึ่ง': 1,\n",
        " 'ใน': 1,\n",
        " 'คณะ': 1,\n",
        " 'ผู้': 1,\n",
        " 'ร่วม': 1,\n",
        " 'ดำเนินงาน': 1,\n",
        " 'สถานีโทรทัศน์': 1,\n",
        " 'ไอ': 1,\n",
        " 'ทีวี': 1,\n",
        " 'ปี': 1,\n",
        " '2538': 1,\n",
        " ',': 1,\n",
        " 'ต่อมา': 1,\n",
        " '2543': 1,\n",
        " 'จึง': 1,\n",
        " 'มา': 1,\n",
        " 'ก่อตั้ง': 1,\n",
        " 'แชนแนล': 1,\n",
        " 'ยุค': 1,\n",
        " 'เขา': 1,\n",
        " 'มีชื่อเสียง': 1,\n",
        " 'จาก': 1,\n",
        " 'การ': 1,\n",
        " 'คอลัมนิสต์': 1,\n",
        " 'ผู้ดำเนินรายการ': 1,\n",
        " 'สนทนา': 1,\n",
        " 'เชิง': 1,\n",
        " 'ข่าว': 1,\n",
        " 'รายการ': 1,\n",
        " 'ที่': 1,\n",
        " 'สร้าง': 1,\n",
        " 'ชื่อ': 1,\n",
        " 'รายงาน': 1,\n",
        " 'สงคราม': 1,\n",
        " 'อ่าว': 1,\n",
        " 'เปอร์เซีย': 1,\n",
        " 'ช่วง': 1,\n",
        " 'ต้นปี': 1,\n",
        " '2534': 1,\n",
        " 'ทาง': 1,\n",
        " 'ทีวีสี': 1,\n",
        " 'ช่อง': 1,\n",
        " '3': 1,\n",
        " '9': 1,\n",
        " 'อ.ส.ม.ท.': 1,\n",
        " 'เครือ': 1,\n",
        " 'เริ่ม': 1,\n",
        " 'ผลิต': 1,\n",
        " 'รายการโทรทัศน์': 1,\n",
        " 'ครั้งแรก': 1,\n",
        " 'นิวส์': 1,\n",
        " 'ทอล์ก': 1,\n",
        " '2545': 1,\n",
        " 'พ.ต.ท.': 1,\n",
        " 'ทักษิณ': 1,\n",
        " 'ชินวัตร': 1,\n",
        " 'นายกรัฐมนตรี': 1,\n",
        " 'ในขณะนั้น': 1,\n",
        " 'มอบหมาย': 1,\n",
        " 'ให้': 1,\n",
        " 'สำนักงาน': 1,\n",
        " 'คณะกรรมการ': 1,\n",
        " 'ป้องกัน': 1,\n",
        " 'ปราบปราม': 1,\n",
        " 'ฟอกเงิน': 1,\n",
        " '(': 1,\n",
        " 'ปปง.': 1,\n",
        " ')': 1,\n",
        " 'เข้า': 1,\n",
        " 'ตรวจสอบ': 1,\n",
        " 'บัญชี': 1,\n",
        " 'ธนาคาร': 1,\n",
        " 'ชำระ': 1,\n",
        " 'ภาษี': 1,\n",
        " 'ย้อนหลัง': 1,\n",
        " 'สื่อมวลชน': 1,\n",
        " 'จำนวน': 1,\n",
        " 'หนึ่ง': 1,\n",
        " 'ซึ่ง': 1,\n",
        " 'นั้น': 1,\n",
        " 'มี': 1,\n",
        " 'รวม': 1,\n",
        " 'อยู่': 1,\n",
        " 'ด้วย': 1,\n",
        " 'has person': True,\n",
        " 'has role': False}"
      ],
      "metadata": {
        "id": "rtYPd3ZwustK"
      },
      "execution_count": null,
      "outputs": []
    },
    {
      "cell_type": "code",
      "source": [
        "{'พล.ต.อ.': 1,\n",
        " 'ชิด': 1,\n",
        " 'ชัย': 1,\n",
        " ' ': 1,\n",
        " 'เข้า': 1,\n",
        " 'รับ': 1,\n",
        " 'ตำแหน่ง': 1,\n",
        " 'เมื่อ': 1,\n",
        " 'วันที่': 1,\n",
        " '11': 1,\n",
        " 'มีนาคม': 1,\n",
        " 'พ.ศ.': 1,\n",
        " '2548': 1,\n",
        " 'เป็น': 1,\n",
        " 'รองนายกรัฐมนตรี': 1,\n",
        " 'และ': 1,\n",
        " 'รัฐมนตรี': 1,\n",
        " 'ว่าการ': 1,\n",
        " 'กระทรวงมหาดไทย': 1,\n",
        " 'ต่อมา': 1,\n",
        " 'ใน': 1,\n",
        " '5': 1,\n",
        " 'เมษายน': 1,\n",
        " 'ได้': 1,\n",
        " 'รับมอบหมาย': 1,\n",
        " 'ให้': 1,\n",
        " 'ทำหน้าที่': 1,\n",
        " 'รักษาการ': 1,\n",
        " 'นายกรัฐมนตรี': 1,\n",
        " 'รัฐบาล': 1,\n",
        " 'พ.ต.ท.': 1,\n",
        " 'ทักษิณ': 1,\n",
        " 'ชินวัตร': 1,\n",
        " 'ได้รับแต่งตั้ง': 1,\n",
        " 'กระทรวงยุติธรรม': 1,\n",
        " '2': 1,\n",
        " 'สิงหาคม': 1,\n",
        " 'ปี': 1,\n",
        " '2550': 1,\n",
        " 'ถูก': 1,\n",
        " 'ตัด': 1,\n",
        " 'สิทธิ': 1,\n",
        " 'ทางการเมือง': 1,\n",
        " 'เป็นเวลา': 1,\n",
        " 'เนื่องจาก': 1,\n",
        " 'กรรม': 1,\n",
        " 'การบริหาร': 1,\n",
        " 'พรรค': 1,\n",
        " 'ไทย': 1,\n",
        " 'รัก': 1,\n",
        " 'ซึ่ง': 1,\n",
        " 'ยุบ': 1,\n",
        " 'คดี': 1,\n",
        " 'พรรคการเมือง': 1,\n",
        " '2549': 1,\n",
        " 'has person': False,\n",
        " 'has role': False}"
      ],
      "metadata": {
        "id": "TX5vOUgqwOXX"
      },
      "execution_count": null,
      "outputs": []
    },
    {
      "cell_type": "code",
      "source": [
        "{'เนวิน': 1,\n",
        " ' ': 1,\n",
        " 'ชิด': 1,\n",
        " 'ชอบ': 1,\n",
        " '()': 1,\n",
        " 'ปัจจุบัน': 1,\n",
        " 'เป็น': 1,\n",
        " 'ประธาน': 1,\n",
        " 'บริหาร': 1,\n",
        " 'สโมสร': 1,\n",
        " 'ฟุตบอล': 1,\n",
        " 'บุรีรัมย์': 1,\n",
        " 'ยูไนเต็ด': 1,\n",
        " 'อดีต': 1,\n",
        " 'เคย': 1,\n",
        " 'สมาชิกสภาผู้แทนราษฎร': 1,\n",
        " 'และ': 1,\n",
        " 'รัฐมนตรี': 1,\n",
        " 'หลาย': 1,\n",
        " 'สมัย': 1,\n",
        " 'เป็นหนึ่ง': 1,\n",
        " 'ใน': 1,\n",
        " 'บุคคล': 1,\n",
        " 'ใกล้ชิด': 1,\n",
        " 'คนสำคัญ': 1,\n",
        " 'ของ': 1,\n",
        " 'นายกรัฐมนตรี': 1,\n",
        " 'ทักษิณ': 1,\n",
        " 'ชินวัตร': 1,\n",
        " 'สำคัญ': 1,\n",
        " 'ที่': 1,\n",
        " 'ทำให้': 1,\n",
        " 'นาย': 1,\n",
        " 'อภิสิทธิ์': 1,\n",
        " 'เวช': 1,\n",
        " 'ชา': 1,\n",
        " 'ชีวะ': 1,\n",
        " 'ได้': 1,\n",
        " 'ดำรงตำแหน่ง': 1,\n",
        " 'ปี': 1,\n",
        " 'พ.ศ.': 1,\n",
        " '2551': 1,\n",
        " 'has person': False,\n",
        " 'has role': False}"
      ],
      "metadata": {
        "id": "xVWJVHhGwa0-"
      },
      "execution_count": null,
      "outputs": []
    },
    {
      "cell_type": "code",
      "source": [
        "test_sent_features"
      ],
      "metadata": {
        "colab": {
          "base_uri": "https://localhost:8080/"
        },
        "id": "u6SWpBf8wqYh",
        "outputId": "74d33988-c948-4345-eafa-299130ceddb3"
      },
      "execution_count": null,
      "outputs": [
        {
          "output_type": "execute_result",
          "data": {
            "text/plain": [
              "0     {'เดือน': 1, 'ธันวาคม': 1, ' ': 1, 'ค.ศ.': 1, ...\n",
              "1     {'แต่': 1, 'ต่อมา': 1, ' ': 1, 'คู่แข่ง': 1, '...\n",
              "2     {'ภาย': 1, 'หลังจาก': 1, '[[': 1, 'การ': 1, 'โ...\n",
              "3     {'[[': 1, 'ไฟล์': 1, ':': 1, 'President': 1, '...\n",
              "4     {'วันที่': 1, ' ': 1, '29': 1, 'มกราคม': 1, 'ค...\n",
              "5     {'วันที่': 1, ' ': 1, '30': 1, 'กันยายน': 1, '...\n",
              "6     {'[[': 1, 'ไฟล์': 1, ':': 1, 'Obama': 1, ' ': ...\n",
              "7     {'วันที่': 1, ' ': 1, '14': 1, 'กรกฎาคม': 1, '...\n",
              "8     {'โอบามา': 1, 'ได้': 1, 'แจ้ง': 1, 'ว่า': 1, '...\n",
              "9     {'[[': 1, 'ไฟล์': 1, ':': 1, 'ObamaSouthCaroli...\n",
              "10    {'ใน': 1, 'เดือน': 1, 'ธันวาคม': 1, ' ': 1, 'ค...\n",
              "11    {'[[': 1, 'ไฟล์': 1, ':': 1, 'BarackObama-Bask...\n",
              "12    {'โอบามา': 1, 'ชนะ': 1, '[[': 1, 'รางวัล': 1, ...\n",
              "13    {'สุภาพสตรี': 1, 'หมายเลข': 1, 'หนึ่ง': 1, 'คน...\n",
              "14    {'สุภาพสตรี': 1, 'หมายเลข': 1, 'หนึ่ง': 1, 'คน...\n",
              "15    {'ใน': 1, 'เดือน': 1, 'มกราคม': 1, ' ': 1, '20...\n",
              "16    {'ระหว่าง': 1, 'นี้': 1, ' ': 1, 'โอบามา': 1, ...\n",
              "17    {'นอกจากนี้': 1, ' ': 1, 'ยังมี': 1, 'เหล่า': ...\n",
              "18    {'ในประเทศ': 1, 'สหรัฐอเมริกา': 1, ' ': 1, 'พั...\n",
              "19    {'นับแต่': 1, 'เริ่ม': 1, 'นำ': 1, 'ไป': 1, 'ป...\n",
              "20    {'ระหว่าง': 1, 'รัฐบาล': 1, 'โร': 1, 'นัลด์': ...\n",
              "21    {'ธี': 1, 'โอด': 1, 'อร': 1, '์': 1, ' ': 1, '...\n",
              "22    {'คณะกรรมการ': 1, 'ระดับ': 1, 'รัฐ': 1, 'ของ':...\n",
              "23    {'ทักษิโณมิก': 1, 'ส์': 1, ' ': 1, '()': 1, 'เ...\n",
              "24    {'อีก': 1, 'ทั้ง': 1, 'เป็นสมาชิก': 1, 'กลุ่ม'...\n",
              "25    {'เมื่อ': 1, 'ปี': 1, ' ': 1, 'พ.ศ.': 1, '2549...\n",
              "26    {'พลเอก': 1, ' ': 1, 'สนธิ': 1, 'บุญ': 1, 'ย':...\n",
              "27    {'ใน': 1, 'ปี': 1, ' ': 1, 'พ.ศ.': 1, '2548': ...\n",
              "28    {'ประเทศ': 1, 'ไทย': 1, 'มี': 1, 'กฎหมาย': 1, ...\n",
              "29    {'การเลือกตั้ง': 1, 'สมาชิกสภาผู้แทนราษฎร': 1,...\n",
              "30    {'ใน': 1, 'วันที่': 1, ' ': 1, '6': 1, 'พฤศจิก...\n",
              "31    {'มี': 1, 'เหตุการณ์': 1, 'สำคัญ': 1, ' ': 1, ...\n",
              "32    {'ปลายเดือน': 1, 'มีนาคม': 1, ' ': 1, 'พ.ศ.': ...\n",
              "33    {'วันที่': 1, ' ': 1, '10': 1, 'มกราคม': 1, 'พ...\n",
              "34    {'วิษณุ': 1, 'เคย': 1, 'ทำงาน': 1, 'ด้าน': 1, ...\n",
              "35    {'สุทธิ': 1, 'ชัย': 1, 'ยัง': 1, 'เป็น': 1, 'ผ...\n",
              "36    {'นักวิจารณ์': 1, 'หลาย': 1, 'คน': 1, 'ให้การ'...\n",
              "37    {'ใน': 1, 'การเลือกตั้ง': 1, 'ครั้งต่อมา': 1, ...\n",
              "38    {'เมื่อ': 1, ' ': 1, 'สนธิ': 1, 'ลิ้ม': 1, 'ทอ...\n",
              "39    {'วิ': 1, 'สา': 1, ' ': 1, 'ปัจจุบัน': 1, 'ยัง...\n",
              "40    {'เนวิน': 1, ' ': 1, 'ชิด': 1, 'ชอบ': 1, '()':...\n",
              "41    {'นายพัน': 1, 'ศักดิ์': 1, 'ได้': 1, 'เดินทาง'...\n",
              "42    {'เอกลักษณ์': 1, 'ของ': 1, 'ไร้สาระ': 1, 'นุ':...\n",
              "43    {'พล.ต.อ.': 1, 'ชิด': 1, 'ชัย': 1, ' ': 1, 'เข...\n",
              "44    {'พล.ต.อ.': 1, ' ': 1, 'ดร.': 1, 'ชิด': 1, 'ชั...\n",
              "45    {'พันธมิตร': 1, 'ประชาชน': 1, 'เพื่อ': 1, 'ประ...\n",
              "46    {'ใน': 1, 'ปี': 1, ' ': 1, 'พ.ศ.': 1, '2548': ...\n",
              "47    {'ใน': 1, 'การ': 1, 'รณรงค์': 1, 'ขับ': 1, 'นี...\n",
              "48    {'ใน': 1, 'วัน': 1, 'เสาร์': 1, 'ที่': 1, ' ':...\n",
              "49    {'หลังจาก': 1, 'การเลือกตั้ง': 1, 'สมาชิกสภาผู...\n",
              "Name: text, dtype: object"
            ]
          },
          "metadata": {},
          "execution_count": 195
        }
      ]
    },
    {
      "cell_type": "code",
      "execution_count": null,
      "metadata": {
        "colab": {
          "base_uri": "https://localhost:8080/"
        },
        "id": "D4tuoKx5V25S",
        "outputId": "e4d225d3-5d36-40b8-aea2-5a430c968191"
      },
      "outputs": [
        {
          "output_type": "execute_result",
          "data": {
            "text/plain": [
              "{'พลเอก': 1,\n",
              " ' ': 1,\n",
              " 'สนธิ': 1,\n",
              " 'บุญ': 1,\n",
              " 'ย': 1,\n",
              " 'รัต': 1,\n",
              " 'ก': 1,\n",
              " 'ลิ': 1,\n",
              " 'น': 1,\n",
              " 'หัวหน้า': 1,\n",
              " 'คณะ': 1,\n",
              " 'ปฏิรูป': 1,\n",
              " 'การปกครอง': 1,\n",
              " 'ใน': 1,\n",
              " 'ระบอบประชาธิปไตย': 1,\n",
              " 'อัน': 1,\n",
              " 'มี': 1,\n",
              " 'พระมหากษัตริย์': 1,\n",
              " 'ทรง': 1,\n",
              " 'เป็น': 1,\n",
              " 'ประมุข': 1,\n",
              " 'ได้': 1,\n",
              " 'นำ': 1,\n",
              " 'ความ': 1,\n",
              " 'กราบบังคมทูลพระกรุณา': 1,\n",
              " 'ทราบฝ่าละอองธุลีพระบาท': 1,\n",
              " 'ว่า': 1,\n",
              " 'การบริหาร': 1,\n",
              " 'ราชการ': 1,\n",
              " 'แผ่นดิน': 1,\n",
              " 'ของ': 1,\n",
              " 'รัฐบาล': 1,\n",
              " 'พัน': 1,\n",
              " 'ตำรวจ': 1,\n",
              " 'โท': 1,\n",
              " 'ทักษิณ': 1,\n",
              " 'ชินวัตร': 1,\n",
              " 'นายกรัฐมนตรี': 1,\n",
              " 'ก่อให้เกิด': 1,\n",
              " 'ปัญหา': 1,\n",
              " 'ความขัดแย้ง': 1,\n",
              " 'แบ่ง': 1,\n",
              " 'ฝ่าย': 1,\n",
              " 'สลาย': 1,\n",
              " 'ความรู้สึก': 1,\n",
              " 'รู้': 1,\n",
              " 'รัก': 1,\n",
              " 'สามัคคี': 1,\n",
              " 'คนใน': 1,\n",
              " 'ชาติ': 1,\n",
              " 'อย่าง': 1,\n",
              " 'ที่': 1,\n",
              " 'ไม่': 1,\n",
              " 'เคย': 1,\n",
              " 'ปรากฏ': 1,\n",
              " 'มา': 1,\n",
              " 'ก่อน': 1,\n",
              " 'ประวัติศาสตร์': 1,\n",
              " 'ไทย': 1,\n",
              " 'ประชาชน': 1,\n",
              " 'ส่วนหนึ่ง': 1,\n",
              " 'เคลือบแคลง': 1,\n",
              " 'สงสัย': 1,\n",
              " 'ส่อ': 1,\n",
              " 'ไป': 1,\n",
              " 'ทาง': 1,\n",
              " 'ทุจริต': 1,\n",
              " 'ประพฤติมิชอบ': 1,\n",
              " 'กว้างขวาง': 1,\n",
              " 'หน่วยงาน': 1,\n",
              " 'อิสระ': 1,\n",
              " 'ถูก': 1,\n",
              " 'การเมือง': 1,\n",
              " 'ครอบงำ': 1,\n",
              " 'ทำ': 1,\n",
              " 'ให้การ': 1,\n",
              " 'ดำเนิน': 1,\n",
              " 'กิจกรรม': 1,\n",
              " 'ทางการเมือง': 1,\n",
              " 'เกิด': 1,\n",
              " 'และ': 1,\n",
              " 'อุปสรรค': 1,\n",
              " 'หลาย': 1,\n",
              " 'ประการ': 1,\n",
              " 'แม้': 1,\n",
              " 'ภาค': 1,\n",
              " 'ส่วน': 1,\n",
              " 'สังคม': 1,\n",
              " 'จะ': 1,\n",
              " 'พยายาม': 1,\n",
              " 'ประนีประนอม': 1,\n",
              " 'คลี่คลาย': 1,\n",
              " 'สถานการณ์': 1,\n",
              " 'โดย': 1,\n",
              " 'ต่อเนื่อง': 1,\n",
              " 'แล้ว': 1,\n",
              " 'ก็': 1,\n",
              " 'สามารถ': 1,\n",
              " 'รักษา': 1,\n",
              " 'ความสงบเรียบร้อย': 1,\n",
              " 'บ้านเมือง': 1,\n",
              " 'has person': False,\n",
              " 'has role': False}"
            ]
          },
          "metadata": {},
          "execution_count": 196
        }
      ],
      "source": [
        "test_sent_features[26]"
      ]
    }
  ],
  "metadata": {
    "colab": {
      "collapsed_sections": [
        "04_UNuegaRTV",
        "_KeB1c0uaUof",
        "5ulIJ-P-aZ2_",
        "-NEwn_vvqyEm",
        "bkZ5f6xUmbiH",
        "X4jbR64boLzi",
        "BVy_YC1OIxXh",
        "zdFv9Um8I3J6",
        "227V6w8nJNJM"
      ],
      "provenance": [],
      "include_colab_link": true
    },
    "kernelspec": {
      "display_name": "Python 3",
      "name": "python3"
    },
    "language_info": {
      "name": "python"
    }
  },
  "nbformat": 4,
  "nbformat_minor": 0
}